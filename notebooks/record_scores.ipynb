{
 "cells": [
  {
   "cell_type": "code",
   "execution_count": 1,
   "outputs": [],
   "source": [
    "# import modules\n",
    "\n",
    "import json\n",
    "import os\n",
    "import sys\n",
    "import torch\n",
    "import numpy as np\n",
    "import tqdm\n",
    "from scipy.special import softmax\n",
    "\n",
    "from deepvisualinsight.MMS import MMS"
   ],
   "metadata": {
    "collapsed": false,
    "pycharm": {
     "name": "#%%\n"
    }
   }
  },
  {
   "cell_type": "code",
   "execution_count": null,
   "outputs": [],
   "source": [
    "# record uncertainty score and diversity score"
   ],
   "metadata": {
    "collapsed": false,
    "pycharm": {
     "name": "#%%\n"
    }
   }
  },
  {
   "cell_type": "code",
   "execution_count": 2,
   "outputs": [
    {
     "name": "stderr",
     "output_type": "stream",
     "text": [
      "  0%|          | 0/10 [00:00<?, ?it/s]"
     ]
    },
    {
     "name": "stdout",
     "output_type": "stream",
     "text": [
      "Finish loading content!\n"
     ]
    },
    {
     "name": "stderr",
     "output_type": "stream",
     "text": [
      "100%|██████████| 10/10 [03:22<00:00, 20.22s/it]\n"
     ]
    }
   ],
   "source": [
    "# Least Confidence\n",
    "content_path = \"E:\\\\DVI_exp_data\\\\active_learning\\\\baseline\\\\LeastConfidence\\\\resnet18\\\\CIFAR10\"\n",
    "sys.path.append(content_path)\n",
    "from Model.model import *\n",
    "net = ResNet18()\n",
    "\n",
    "classes = (\"airplane\", \"car\", \"bird\", \"cat\", \"deer\", \"dog\", \"frog\", \"horse\", \"ship\", \"truck\")\n",
    "mms = MMS(content_path, net, 1, 10, 1, 512, 10, classes, cmap=\"tab10\", resolution=100, neurons=256, verbose=1, temporal=False, split=-1, advance_border_gen=True, attack_device=\"cuda:0\")\n",
    "\n",
    "for n_epoch in tqdm.tqdm(range(1,11,1)):\n",
    "    state_dict = torch.load(os.path.join(mms.model_path, \"Epoch_{}\".format(n_epoch),\"subject_model.pth\"))\n",
    "    mms.model.load_state_dict(state_dict)\n",
    "    mms.model.to(mms.device)\n",
    "    train_uncertainty = np.zeros(50000)\n",
    "    batch_size = 200\n",
    "    with torch.no_grad():\n",
    "        for i in range(250):\n",
    "            x = mms.training_data[i*batch_size:(i+1)*batch_size].to(mms.device)\n",
    "            out = mms.model(x).cpu().numpy()\n",
    "            out = softmax(out, axis=1)\n",
    "            out = np.amax(out, axis=1)\n",
    "            out = 1 - out\n",
    "            train_uncertainty[i*batch_size:(i+1)*batch_size] = out\n",
    "\n",
    "    f = open(os.path.join(mms.model_path, \"Epoch_{}\".format(n_epoch), \"train_uncertainty_score.json\"),\"w\")\n",
    "    json.dump(train_uncertainty.tolist(), f)\n",
    "    f = open(os.path.join(mms.model_path, \"Epoch_{}\".format(n_epoch), \"train_total_score.json\"),\"w\")\n",
    "    json.dump(train_uncertainty.tolist(), f)\n",
    "\n",
    "    test_uncertainty = np.zeros(10000)\n",
    "    with torch.no_grad():\n",
    "        for i in range(50):\n",
    "            x = mms.testing_data[i*batch_size:(i+1)*batch_size].to(mms.device)\n",
    "            out = mms.model(x).cpu().numpy()\n",
    "            out = softmax(out, axis=1)\n",
    "            out = np.amax(out, axis=1)\n",
    "            out = 1 - out\n",
    "            test_uncertainty[i*batch_size:(i+1)*batch_size] = out\n",
    "    f = open(os.path.join(mms.model_path, \"Epoch_{}\".format(n_epoch), \"test_uncertainty_score.json\"),\"w\")\n",
    "    json.dump(test_uncertainty.tolist(), f)\n",
    "    f = open(os.path.join(mms.model_path, \"Epoch_{}\".format(n_epoch), \"test_total_score.json\"), \"w\")\n",
    "    json.dump(test_uncertainty.tolist(), f)\n",
    "\n"
   ],
   "metadata": {
    "collapsed": false,
    "pycharm": {
     "name": "#%%\n"
    }
   }
  },
  {
   "cell_type": "code",
   "execution_count": 5,
   "outputs": [
    {
     "name": "stderr",
     "output_type": "stream",
     "text": [
      "  0%|          | 0/10 [00:00<?, ?it/s]"
     ]
    },
    {
     "name": "stdout",
     "output_type": "stream",
     "text": [
      "Finish loading content!\n"
     ]
    },
    {
     "name": "stderr",
     "output_type": "stream",
     "text": [
      "100%|██████████| 10/10 [03:22<00:00, 20.23s/it]\n"
     ]
    }
   ],
   "source": [
    "# LL4AL\n",
    "content_path = \"E:\\\\DVI_exp_data\\\\active_learning\\\\baseline\\\\LL4AL\\\\resnet18\\\\CIFAR10\"\n",
    "sys.path.append(content_path)\n",
    "from Model.model import *\n",
    "net = ResNet18()\n",
    "lossnet = LossNet()\n",
    "\n",
    "classes = (\"airplane\", \"car\", \"bird\", \"cat\", \"deer\", \"dog\", \"frog\", \"horse\", \"ship\", \"truck\")\n",
    "mms = MMS(content_path, net, 1, 10, 1, 512, 10, classes, cmap=\"tab10\", resolution=100, neurons=256, verbose=1, temporal=False, split=-1, advance_border_gen=True, attack_device=\"cuda:0\")\n",
    "\n",
    "for n_epoch in tqdm.tqdm(range(1,11,1)):\n",
    "    state_dict = torch.load(os.path.join(mms.model_path, \"Epoch_{}\".format(n_epoch),\"subject_model.pth\"))\n",
    "    mms.model.load_state_dict(state_dict)\n",
    "    mms.model.to(mms.device)\n",
    "    state_dict = torch.load(os.path.join(mms.model_path, \"Epoch_{}\".format(n_epoch),\"lossPredNet.pth\"))\n",
    "    lossnet.load_state_dict(state_dict)\n",
    "    lossnet.to(mms.device)\n",
    "    train_uncertainty = np.zeros(50000)\n",
    "    batch_size = 200\n",
    "    with torch.no_grad():\n",
    "        for i in range(250):\n",
    "            x = mms.training_data[i*batch_size:(i+1)*batch_size].to(mms.device)\n",
    "            _, features = mms.model.get_features(x)\n",
    "            losses = lossnet(features).cpu().numpy().squeeze()\n",
    "            train_uncertainty[i*batch_size:(i+1)*batch_size] = losses\n",
    "\n",
    "    f = open(os.path.join(mms.model_path, \"Epoch_{}\".format(n_epoch), \"train_uncertainty_score.json\"),\"w\")\n",
    "    json.dump(train_uncertainty.tolist(), f)\n",
    "    f = open(os.path.join(mms.model_path, \"Epoch_{}\".format(n_epoch), \"train_total_score.json\"),\"w\")\n",
    "    json.dump(train_uncertainty.tolist(), f)\n",
    "\n",
    "    test_uncertainty = np.zeros(10000)\n",
    "    with torch.no_grad():\n",
    "        for i in range(50):\n",
    "            x = mms.testing_data[i*batch_size:(i+1)*batch_size].to(mms.device)\n",
    "            _, features = mms.model.get_features(x)\n",
    "            losses = lossnet(features).cpu().numpy().squeeze()\n",
    "            test_uncertainty[i*batch_size:(i+1)*batch_size] = losses\n",
    "    f = open(os.path.join(mms.model_path, \"Epoch_{}\".format(n_epoch), \"test_uncertainty_score.json\"),\"w\")\n",
    "    json.dump(test_uncertainty.tolist(), f)\n",
    "    f = open(os.path.join(mms.model_path, \"Epoch_{}\".format(n_epoch), \"test_total_score.json\"), \"w\")\n",
    "    json.dump(test_uncertainty.tolist(), f)"
   ],
   "metadata": {
    "collapsed": false,
    "pycharm": {
     "name": "#%%\n"
    }
   }
  }
 ],
 "metadata": {
  "kernelspec": {
   "name": "dr2",
   "language": "python",
   "display_name": "Python xianglinDR2"
  },
  "language_info": {
   "codemirror_mode": {
    "name": "ipython",
    "version": 2
   },
   "file_extension": ".py",
   "mimetype": "text/x-python",
   "name": "python",
   "nbconvert_exporter": "python",
   "pygments_lexer": "ipython2",
   "version": "2.7.6"
  }
 },
 "nbformat": 4,
 "nbformat_minor": 0
}