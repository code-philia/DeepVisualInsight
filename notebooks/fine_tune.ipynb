{
 "cells": [
  {
   "cell_type": "markdown",
   "metadata": {
    "collapsed": true,
    "pycharm": {
     "name": "#%% md\n"
    }
   },
   "source": [
    "fine tune temperature"
   ]
  },
  {
   "cell_type": "code",
   "execution_count": 1,
   "outputs": [],
   "source": [
    "# import modules\n",
    "from deepvisualinsight.MMS import MMS\n",
    "from deepvisualinsight.backend import get_alpha\n",
    "import sys\n",
    "import os\n",
    "import time\n",
    "from scipy.special import softmax\n",
    "import torch\n",
    "import numpy as np"
   ],
   "metadata": {
    "collapsed": false,
    "pycharm": {
     "name": "#%%\n"
    }
   }
  },
  {
   "cell_type": "code",
   "execution_count": 18,
   "outputs": [
    {
     "name": "stdout",
     "output_type": "stream",
     "text": [
      "Finish loading content!\n"
     ]
    }
   ],
   "source": [
    "# content_path = \"E:\\\\DVI_exp_data\\\\resnet18_mnist\"\n",
    "# content_path = \"E:\\\\DVI_exp_data\\\\adv_training\\\\PGD.resnet18_cifar10\"\n",
    "content_path = \"E:\\\\DVI_exp_data\\\\inexpressive_model\"\n",
    "content_path = \"E:\\\\DVI_exp_data\\\\resnet50_cifar10\"\n",
    "sys.path.append(content_path)\n",
    "\n",
    "from Model.model import *\n",
    "net = resnet50()\n",
    "# net = CIFAR_17()\n",
    "classes = (\"airplane\", \"car\", \"bird\", \"cat\", \"deer\", \"dog\", \"frog\", \"horse\", \"ship\", \"truck\")\n",
    "\n",
    "mms = MMS(content_path, net, 15, 15, 1, 512, 10, classes, temperature=.02, cmap=\"tab10\", resolution=400, neurons=256,\n",
    "          verbose=1, temporal=False, split=-1, advance_border_gen=True, attack_device=\"cuda:0\")"
   ],
   "metadata": {
    "collapsed": false,
    "pycharm": {
     "name": "#%%\n"
    }
   }
  },
  {
   "cell_type": "code",
   "execution_count": 19,
   "outputs": [],
   "source": [
    "# hyperparameters\n",
    "EPOCH = 120"
   ],
   "metadata": {
    "collapsed": false,
    "pycharm": {
     "name": "#%%\n"
    }
   }
  },
  {
   "cell_type": "code",
   "execution_count": 22,
   "outputs": [],
   "source": [
    "model_location = os.path.join(mms.model_path, \"Epoch_{:d}\".format(EPOCH), \"subject_model.pth\")\n",
    "net.load_state_dict(torch.load(model_location, map_location=torch.device(\"cpu\")))\n",
    "net = net.to(mms.device)\n",
    "net.eval()\n",
    "\n",
    "repr_model = torch.nn.Sequential(*(list(net.children())[-1:]))\n",
    "repr_model = repr_model.to(mms.device)\n",
    "repr_model = repr_model.eval()"
   ],
   "metadata": {
    "collapsed": false,
    "pycharm": {
     "name": "#%%\n"
    }
   }
  },
  {
   "cell_type": "code",
   "execution_count": 23,
   "outputs": [],
   "source": [
    "for param in repr_model.parameters():\n",
    "    param.requires_grad = False"
   ],
   "metadata": {
    "collapsed": false,
    "pycharm": {
     "name": "#%%\n"
    }
   }
  },
  {
   "cell_type": "code",
   "execution_count": 24,
   "outputs": [],
   "source": [
    "train_data = mms.get_epoch_train_repr_data(EPOCH)\n",
    "border_points = mms.get_epoch_border_centers(EPOCH)\n",
    "fitting_data = np.concatenate((train_data, border_points), axis=0)"
   ],
   "metadata": {
    "collapsed": false,
    "pycharm": {
     "name": "#%%\n"
    }
   }
  },
  {
   "cell_type": "code",
   "execution_count": 28,
   "outputs": [
    {
     "name": "stdout",
     "output_type": "stream",
     "text": [
      "Gradients calculation: 58.00 seconds\tsoftmax with temperature: 2.00 seconds\n"
     ]
    }
   ],
   "source": [
    "alpha = get_alpha(repr_model, fitting_data, temperature=.3, device=torch.device(\"cuda:0\"), verbose=1)"
   ],
   "metadata": {
    "collapsed": false,
    "pycharm": {
     "name": "#%%\n"
    }
   }
  },
  {
   "cell_type": "code",
   "execution_count": 29,
   "outputs": [],
   "source": [
    "l = []\n",
    "for i in range(len(alpha)):\n",
    "    l.append(np.sum(alpha[i]>alpha[i].mean()))"
   ],
   "metadata": {
    "collapsed": false,
    "pycharm": {
     "name": "#%%\n"
    }
   }
  },
  {
   "cell_type": "code",
   "execution_count": 30,
   "outputs": [
    {
     "data": {
      "text/plain": "(663, 482, 577.9708)"
     },
     "execution_count": 30,
     "metadata": {},
     "output_type": "execute_result"
    }
   ],
   "source": [
    "max(l),min(l), np.mean(l)"
   ],
   "metadata": {
    "collapsed": false,
    "pycharm": {
     "name": "#%%\n"
    }
   }
  },
  {
   "cell_type": "code",
   "execution_count": 11,
   "outputs": [],
   "source": [
    "sys.path.remove(content_path)"
   ],
   "metadata": {
    "collapsed": false,
    "pycharm": {
     "name": "#%%\n"
    }
   }
  }
 ],
 "metadata": {
  "kernelspec": {
   "display_name": "Python 3",
   "language": "python",
   "name": "python3"
  },
  "language_info": {
   "codemirror_mode": {
    "name": "ipython",
    "version": 2
   },
   "file_extension": ".py",
   "mimetype": "text/x-python",
   "name": "python",
   "nbconvert_exporter": "python",
   "pygments_lexer": "ipython2",
   "version": "2.7.6"
  }
 },
 "nbformat": 4,
 "nbformat_minor": 0
}