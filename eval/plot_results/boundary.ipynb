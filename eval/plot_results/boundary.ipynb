{
 "cells": [
  {
   "cell_type": "markdown",
   "metadata": {
    "collapsed": true,
    "pycharm": {
     "name": "#%% md\n"
    }
   },
   "source": [
    "# plot boundary preserving property"
   ]
  },
  {
   "cell_type": "code",
   "execution_count": 77,
   "outputs": [],
   "source": [
    "# import modules\n",
    "import os\n",
    "import json\n",
    "\n",
    "import numpy as np\n",
    "import pandas as pd\n",
    "from tqdm.autonotebook import tqdm\n",
    "import matplotlib.pyplot as plt\n",
    "import matplotlib as mpl\n",
    "import seaborn as sns"
   ],
   "metadata": {
    "collapsed": false,
    "pycharm": {
     "name": "#%%\n"
    }
   }
  },
  {
   "cell_type": "code",
   "execution_count": 78,
   "outputs": [],
   "source": [
    "dataset = \"cifar10\"\n",
    "start = 40\n",
    "end = 240\n",
    "p = 40"
   ],
   "metadata": {
    "collapsed": false,
    "pycharm": {
     "name": "#%%\n"
    }
   }
  },
  {
   "cell_type": "code",
   "execution_count": 79,
   "outputs": [],
   "source": [
    "data = np.array([])\n",
    "# load data from evaluation.json\n",
    "content_path = \"E:\\\\DVI_exp_data\\\\resnet18_{}\".format(dataset)\n",
    "for epoch in range(start, end, p):\n",
    "    eval_path = os.path.join(content_path, \"Model\", \"Epoch_{}\".format(epoch), \"evaluation.json\")\n",
    "    with open(eval_path, \"r\") as f:\n",
    "        eval = json.load(f)\n",
    "    nn_train = round(eval[\"bound_train_15\"], 3)\n",
    "    nn_test = round(eval[\"bound_test_15\"], 3)\n",
    "\n",
    "    if len(data)==0:\n",
    "        data = np.array([[dataset, \"DVI\", \"Train\", \"{}\".format(str(epoch//p)), nn_train]])\n",
    "    else:\n",
    "        data = np.concatenate((data, np.array([[dataset, \"DVI\", \"Train\", \"{}\".format(str(epoch//p)), nn_train]])), axis=0)\n",
    "    data = np.concatenate((data, np.array([[dataset, \"DVI\", \"Test\", \"{}\".format(str(epoch//p)), nn_test]])), axis=0)"
   ],
   "metadata": {
    "collapsed": false,
    "pycharm": {
     "name": "#%%\n"
    }
   }
  },
  {
   "cell_type": "code",
   "execution_count": 80,
   "outputs": [],
   "source": [
    "content_path = \"E:\\\\xianglin\\\\git_space\\\\umap_exp\\\\results\"\n",
    "# pca\n",
    "curr_path = os.path.join(content_path, \"pca\")\n",
    "for epoch in range(start, end, p):\n",
    "    eval_path = os.path.join(curr_path, \"{}_{}\".format(dataset, epoch), \"exp_result.json\")\n",
    "    with open(eval_path, \"r\") as f:\n",
    "        eval = json.load(f)\n",
    "    nn_train = round(eval[11], 3)\n",
    "    nn_test = round(eval[14], 3)\n",
    "\n",
    "    data = np.concatenate((data, np.array([[dataset, \"PCA\", \"Train\", \"{}\".format(str(epoch//p)), nn_train]])), axis=0)\n",
    "    data = np.concatenate((data, np.array([[dataset, \"PCA\", \"Test\", \"{}\".format(str(epoch//p)), nn_test]])), axis=0)\n",
    "# tsne\n",
    "curr_path = os.path.join(content_path, \"tsne\")\n",
    "for epoch in range(start, end, p):\n",
    "    eval_path = os.path.join(curr_path, \"{}_{}\".format(dataset, epoch), \"exp_result.json\")\n",
    "    with open(eval_path, \"r\") as f:\n",
    "        eval = json.load(f)\n",
    "    nn_train = round(eval[4], 3)\n",
    "\n",
    "    data = np.concatenate((data, np.array([[dataset, \"TSNE\", \"Train\", \"{}\".format(str(epoch//p)), nn_train]])), axis=0)\n",
    "\n",
    "# umap\n",
    "curr_path = os.path.join(content_path, \"umap\")\n",
    "for epoch in range(start, end, p):\n",
    "    eval_path = os.path.join(curr_path, \"{}_{}\".format(dataset, epoch), \"exp_result.json\")\n",
    "    with open(eval_path, \"r\") as f:\n",
    "        eval = json.load(f)\n",
    "    nn_train = round(eval[11], 3)\n",
    "    nn_test = round(eval[14], 3)\n",
    "\n",
    "    data = np.concatenate((data, np.array([[dataset, \"UMAP\", \"Train\", \"{}\".format(str(epoch//p)), nn_train]])), axis=0)\n",
    "    data = np.concatenate((data, np.array([[dataset, \"UMAP\", \"Test\", \"{}\".format(str(epoch//p)), nn_test]])), axis=0)"
   ],
   "metadata": {
    "collapsed": false,
    "pycharm": {
     "name": "#%%\n"
    }
   }
  },
  {
   "cell_type": "code",
   "execution_count": 81,
   "outputs": [],
   "source": [
    "col = np.array([\"dataset\", \"method\", \"type\", \"period\", \"eval\"])\n",
    "df = pd.DataFrame(data, columns=col)"
   ],
   "metadata": {
    "collapsed": false,
    "pycharm": {
     "name": "#%%\n"
    }
   }
  },
  {
   "cell_type": "code",
   "execution_count": 82,
   "outputs": [
    {
     "data": {
      "text/plain": "    dataset method   type period   eval\n0   cifar10    DVI  Train      1  5.657\n1   cifar10    DVI   Test      1  5.655\n2   cifar10    DVI  Train      2  5.566\n3   cifar10    DVI   Test      2  5.559\n4   cifar10    DVI  Train      3  6.053\n5   cifar10    DVI   Test      3  6.028\n6   cifar10    DVI  Train      4  4.934\n7   cifar10    DVI   Test      4  4.913\n8   cifar10    DVI  Train      5  4.194\n9   cifar10    DVI   Test      5  4.168\n10  cifar10    PCA  Train      1  1.382\n11  cifar10    PCA   Test      1  1.408\n12  cifar10    PCA  Train      2  2.844\n13  cifar10    PCA   Test      2  2.857\n14  cifar10    PCA  Train      3  1.731\n15  cifar10    PCA   Test      3  1.749\n16  cifar10    PCA  Train      4  1.473\n17  cifar10    PCA   Test      4  1.563\n18  cifar10    PCA  Train      5  0.969\n19  cifar10    PCA   Test      5  1.162\n20  cifar10   TSNE  Train      1  3.769\n21  cifar10   TSNE  Train      2  3.229\n22  cifar10   TSNE  Train      3  3.282\n23  cifar10   TSNE  Train      4  1.424\n24  cifar10   TSNE  Train      5  0.774\n25  cifar10   UMAP  Train      1  4.172\n26  cifar10   UMAP   Test      1  4.116\n27  cifar10   UMAP  Train      2  4.144\n28  cifar10   UMAP   Test      2  4.146\n29  cifar10   UMAP  Train      3  3.035\n30  cifar10   UMAP   Test      3  3.006\n31  cifar10   UMAP  Train      4   1.52\n32  cifar10   UMAP   Test      4   1.68\n33  cifar10   UMAP  Train      5   1.23\n34  cifar10   UMAP   Test      5  1.512",
      "text/html": "<div>\n<style scoped>\n    .dataframe tbody tr th:only-of-type {\n        vertical-align: middle;\n    }\n\n    .dataframe tbody tr th {\n        vertical-align: top;\n    }\n\n    .dataframe thead th {\n        text-align: right;\n    }\n</style>\n<table border=\"1\" class=\"dataframe\">\n  <thead>\n    <tr style=\"text-align: right;\">\n      <th></th>\n      <th>dataset</th>\n      <th>method</th>\n      <th>type</th>\n      <th>period</th>\n      <th>eval</th>\n    </tr>\n  </thead>\n  <tbody>\n    <tr>\n      <th>0</th>\n      <td>cifar10</td>\n      <td>DVI</td>\n      <td>Train</td>\n      <td>1</td>\n      <td>5.657</td>\n    </tr>\n    <tr>\n      <th>1</th>\n      <td>cifar10</td>\n      <td>DVI</td>\n      <td>Test</td>\n      <td>1</td>\n      <td>5.655</td>\n    </tr>\n    <tr>\n      <th>2</th>\n      <td>cifar10</td>\n      <td>DVI</td>\n      <td>Train</td>\n      <td>2</td>\n      <td>5.566</td>\n    </tr>\n    <tr>\n      <th>3</th>\n      <td>cifar10</td>\n      <td>DVI</td>\n      <td>Test</td>\n      <td>2</td>\n      <td>5.559</td>\n    </tr>\n    <tr>\n      <th>4</th>\n      <td>cifar10</td>\n      <td>DVI</td>\n      <td>Train</td>\n      <td>3</td>\n      <td>6.053</td>\n    </tr>\n    <tr>\n      <th>5</th>\n      <td>cifar10</td>\n      <td>DVI</td>\n      <td>Test</td>\n      <td>3</td>\n      <td>6.028</td>\n    </tr>\n    <tr>\n      <th>6</th>\n      <td>cifar10</td>\n      <td>DVI</td>\n      <td>Train</td>\n      <td>4</td>\n      <td>4.934</td>\n    </tr>\n    <tr>\n      <th>7</th>\n      <td>cifar10</td>\n      <td>DVI</td>\n      <td>Test</td>\n      <td>4</td>\n      <td>4.913</td>\n    </tr>\n    <tr>\n      <th>8</th>\n      <td>cifar10</td>\n      <td>DVI</td>\n      <td>Train</td>\n      <td>5</td>\n      <td>4.194</td>\n    </tr>\n    <tr>\n      <th>9</th>\n      <td>cifar10</td>\n      <td>DVI</td>\n      <td>Test</td>\n      <td>5</td>\n      <td>4.168</td>\n    </tr>\n    <tr>\n      <th>10</th>\n      <td>cifar10</td>\n      <td>PCA</td>\n      <td>Train</td>\n      <td>1</td>\n      <td>1.382</td>\n    </tr>\n    <tr>\n      <th>11</th>\n      <td>cifar10</td>\n      <td>PCA</td>\n      <td>Test</td>\n      <td>1</td>\n      <td>1.408</td>\n    </tr>\n    <tr>\n      <th>12</th>\n      <td>cifar10</td>\n      <td>PCA</td>\n      <td>Train</td>\n      <td>2</td>\n      <td>2.844</td>\n    </tr>\n    <tr>\n      <th>13</th>\n      <td>cifar10</td>\n      <td>PCA</td>\n      <td>Test</td>\n      <td>2</td>\n      <td>2.857</td>\n    </tr>\n    <tr>\n      <th>14</th>\n      <td>cifar10</td>\n      <td>PCA</td>\n      <td>Train</td>\n      <td>3</td>\n      <td>1.731</td>\n    </tr>\n    <tr>\n      <th>15</th>\n      <td>cifar10</td>\n      <td>PCA</td>\n      <td>Test</td>\n      <td>3</td>\n      <td>1.749</td>\n    </tr>\n    <tr>\n      <th>16</th>\n      <td>cifar10</td>\n      <td>PCA</td>\n      <td>Train</td>\n      <td>4</td>\n      <td>1.473</td>\n    </tr>\n    <tr>\n      <th>17</th>\n      <td>cifar10</td>\n      <td>PCA</td>\n      <td>Test</td>\n      <td>4</td>\n      <td>1.563</td>\n    </tr>\n    <tr>\n      <th>18</th>\n      <td>cifar10</td>\n      <td>PCA</td>\n      <td>Train</td>\n      <td>5</td>\n      <td>0.969</td>\n    </tr>\n    <tr>\n      <th>19</th>\n      <td>cifar10</td>\n      <td>PCA</td>\n      <td>Test</td>\n      <td>5</td>\n      <td>1.162</td>\n    </tr>\n    <tr>\n      <th>20</th>\n      <td>cifar10</td>\n      <td>TSNE</td>\n      <td>Train</td>\n      <td>1</td>\n      <td>3.769</td>\n    </tr>\n    <tr>\n      <th>21</th>\n      <td>cifar10</td>\n      <td>TSNE</td>\n      <td>Train</td>\n      <td>2</td>\n      <td>3.229</td>\n    </tr>\n    <tr>\n      <th>22</th>\n      <td>cifar10</td>\n      <td>TSNE</td>\n      <td>Train</td>\n      <td>3</td>\n      <td>3.282</td>\n    </tr>\n    <tr>\n      <th>23</th>\n      <td>cifar10</td>\n      <td>TSNE</td>\n      <td>Train</td>\n      <td>4</td>\n      <td>1.424</td>\n    </tr>\n    <tr>\n      <th>24</th>\n      <td>cifar10</td>\n      <td>TSNE</td>\n      <td>Train</td>\n      <td>5</td>\n      <td>0.774</td>\n    </tr>\n    <tr>\n      <th>25</th>\n      <td>cifar10</td>\n      <td>UMAP</td>\n      <td>Train</td>\n      <td>1</td>\n      <td>4.172</td>\n    </tr>\n    <tr>\n      <th>26</th>\n      <td>cifar10</td>\n      <td>UMAP</td>\n      <td>Test</td>\n      <td>1</td>\n      <td>4.116</td>\n    </tr>\n    <tr>\n      <th>27</th>\n      <td>cifar10</td>\n      <td>UMAP</td>\n      <td>Train</td>\n      <td>2</td>\n      <td>4.144</td>\n    </tr>\n    <tr>\n      <th>28</th>\n      <td>cifar10</td>\n      <td>UMAP</td>\n      <td>Test</td>\n      <td>2</td>\n      <td>4.146</td>\n    </tr>\n    <tr>\n      <th>29</th>\n      <td>cifar10</td>\n      <td>UMAP</td>\n      <td>Train</td>\n      <td>3</td>\n      <td>3.035</td>\n    </tr>\n    <tr>\n      <th>30</th>\n      <td>cifar10</td>\n      <td>UMAP</td>\n      <td>Test</td>\n      <td>3</td>\n      <td>3.006</td>\n    </tr>\n    <tr>\n      <th>31</th>\n      <td>cifar10</td>\n      <td>UMAP</td>\n      <td>Train</td>\n      <td>4</td>\n      <td>1.52</td>\n    </tr>\n    <tr>\n      <th>32</th>\n      <td>cifar10</td>\n      <td>UMAP</td>\n      <td>Test</td>\n      <td>4</td>\n      <td>1.68</td>\n    </tr>\n    <tr>\n      <th>33</th>\n      <td>cifar10</td>\n      <td>UMAP</td>\n      <td>Train</td>\n      <td>5</td>\n      <td>1.23</td>\n    </tr>\n    <tr>\n      <th>34</th>\n      <td>cifar10</td>\n      <td>UMAP</td>\n      <td>Test</td>\n      <td>5</td>\n      <td>1.512</td>\n    </tr>\n  </tbody>\n</table>\n</div>"
     },
     "execution_count": 82,
     "metadata": {},
     "output_type": "execute_result"
    }
   ],
   "source": [
    "df"
   ],
   "metadata": {
    "collapsed": false,
    "pycharm": {
     "name": "#%%\n"
    }
   }
  },
  {
   "cell_type": "code",
   "execution_count": 83,
   "outputs": [],
   "source": [
    "df[[\"period\"]] = df[[\"period\"]].astype(int)\n",
    "df[[\"eval\"]] = df[[\"eval\"]].astype(float)"
   ],
   "metadata": {
    "collapsed": false,
    "pycharm": {
     "name": "#%%\n"
    }
   }
  },
  {
   "cell_type": "code",
   "execution_count": 84,
   "outputs": [
    {
     "data": {
      "text/plain": "<Figure size 1440x72 with 1 Axes>",
      "image/png": "[encoded data removed]"
     },
     "metadata": {
      "needs_background": "light"
     },
     "output_type": "display_data"
    },
    {
     "data": {
      "text/plain": "<Figure size 288x72 with 1 Axes>",
      "image/png": "[encoded data removed]"
     },
     "metadata": {
      "needs_background": "light"
     },
     "output_type": "display_data"
    }
   ],
   "source": [
    "pal20c = sns.color_palette('tab20c', 20)\n",
    "sns.palplot(pal20c)\n",
    "hue_dict = {\n",
    "    \"DVI\": pal20c[4],\n",
    "    \"UMAP\": pal20c[0],\n",
    "    \"TSNE\": pal20c[8],\n",
    "    \"PCA\": pal20c[12],\n",
    "\n",
    "}\n",
    "sns.palplot([hue_dict[i] for i in hue_dict.keys()])"
   ],
   "metadata": {
    "collapsed": false,
    "pycharm": {
     "name": "#%%\n"
    }
   }
  },
  {
   "cell_type": "code",
   "execution_count": 85,
   "outputs": [],
   "source": [
    "axes = {'labelsize': 14,\n",
    "        'titlesize': 14,}\n",
    "mpl.rc('axes', **axes)\n",
    "mpl.rcParams['xtick.labelsize'] = 14\n",
    "\n",
    "# hue_list = [\"TSNE\", \"parametric-tsne\", \"umap-learn\",  'direct', \"network\", \"autoencoder\", 'vae', 'ae_only', \"PCA\"]\n",
    "hue_list = [\"DVI\", \"UMAP\", \"TSNE\", \"PCA\"]"
   ],
   "metadata": {
    "collapsed": false,
    "pycharm": {
     "name": "#%%\n"
    }
   }
  },
  {
   "cell_type": "code",
   "execution_count": 86,
   "outputs": [
    {
     "data": {
      "text/plain": "Text(0.5, 0.98, 'cifar10')"
     },
     "execution_count": 86,
     "metadata": {},
     "output_type": "execute_result"
    },
    {
     "data": {
      "text/plain": "<Figure size 1144.88x216 with 2 Axes>",
      "image/png": "[encoded data removed]"
     },
     "metadata": {
      "needs_background": "light"
     },
     "output_type": "display_data"
    }
   ],
   "source": [
    "fg = sns.catplot(\n",
    "    x=\"period\",\n",
    "    y=\"eval\",\n",
    "    hue=\"method\",\n",
    "    hue_order=hue_list,\n",
    "    # order = [1, 2, 3, 4, 5],\n",
    "    # row=\"method\",\n",
    "    col=\"type\",\n",
    "    ci=0.001,\n",
    "    height=3, #2.65,\n",
    "    aspect=2.5,#3,\n",
    "    data=df,\n",
    "    kind=\"bar\",\n",
    "    palette=[hue_dict[i] for i in hue_list],\n",
    "    legend=True\n",
    ")\n",
    "\n",
    "axs = fg.axes[0]\n",
    "maxlimit = df[\"eval\"].max()\n",
    "minlimit = df[\"eval\"].min()\n",
    "axs[0].set_ylim(minlimit-0.3, maxlimit+0.3)\n",
    "axs[0].set_title(\"Train\")\n",
    "axs[1].set_title(\"Test\")\n",
    "\n",
    "(fg.despine(bottom=True)\n",
    " .set_xticklabels(['Begin', 'Early', 'Mid', 'Late', 'End'])\n",
    " .set_axis_labels(\"\", \"NN preserving property\")\n",
    " )\n",
    "fg.fig.suptitle(dataset)"
   ],
   "metadata": {
    "collapsed": false,
    "pycharm": {
     "name": "#%%\n"
    }
   }
  },
  {
   "cell_type": "code",
   "execution_count": 87,
   "outputs": [],
   "source": [
    "fg.savefig(\n",
    "    \"boundary_{}.png\".format(dataset),\n",
    "    dpi=300,\n",
    "    bbox_inches=\"tight\",\n",
    "    pad_inches=0.0,\n",
    "    transparent=True,\n",
    ")"
   ],
   "metadata": {
    "collapsed": false,
    "pycharm": {
     "name": "#%%\n"
    }
   }
  }
 ],
 "metadata": {
  "kernelspec": {
   "display_name": "Python 3",
   "language": "python",
   "name": "python3"
  },
  "language_info": {
   "codemirror_mode": {
    "name": "ipython",
    "version": 2
   },
   "file_extension": ".py",
   "mimetype": "text/x-python",
   "name": "python",
   "nbconvert_exporter": "python",
   "pygments_lexer": "ipython2",
   "version": "2.7.6"
  }
 },
 "nbformat": 4,
 "nbformat_minor": 0
}