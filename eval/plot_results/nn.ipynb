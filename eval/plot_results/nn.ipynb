{
 "cells": [
  {
   "cell_type": "markdown",
   "metadata": {
    "collapsed": true,
    "pycharm": {
     "name": "#%% md\n"
    }
   },
   "source": [
    "# plot mnist train nearest neighbor preserving property"
   ]
  },
  {
   "cell_type": "code",
   "execution_count": 1,
   "outputs": [
    {
     "name": "stderr",
     "output_type": "stream",
     "text": [
      "d:\\downloads\\anaconda\\envs\\dr2\\lib\\site-packages\\ipykernel_launcher.py:7: TqdmExperimentalWarning: Using `tqdm.autonotebook.tqdm` in notebook mode. Use `tqdm.tqdm` instead to force console mode (e.g. in jupyter console)\n",
      "  import sys\n"
     ]
    }
   ],
   "source": [
    "# import modules\n",
    "import os\n",
    "import json\n",
    "\n",
    "import numpy as np\n",
    "import pandas as pd\n",
    "from tqdm.autonotebook import tqdm\n",
    "import matplotlib.pyplot as plt\n",
    "import matplotlib as mpl\n",
    "import seaborn as sns"
   ],
   "metadata": {
    "collapsed": false,
    "pycharm": {
     "name": "#%%\n"
    }
   }
  },
  {
   "cell_type": "code",
   "execution_count": 2,
   "outputs": [],
   "source": [
    "dataset = \"fmnist\"\n",
    "start = 10\n",
    "end = 60\n",
    "p = 10"
   ],
   "metadata": {
    "collapsed": false,
    "pycharm": {
     "name": "#%%\n"
    }
   }
  },
  {
   "cell_type": "code",
   "execution_count": 3,
   "outputs": [],
   "source": [
    "data = np.array([])\n",
    "# load data from evaluation.json\n",
    "content_path = \"E:\\\\DVI_exp_data\\\\resnet18_{}\".format(dataset)\n",
    "for epoch in range(start, end, p):\n",
    "    eval_path = os.path.join(content_path, \"Model\", \"Epoch_{}\".format(epoch), \"evaluation.json\")\n",
    "    with open(eval_path, \"r\") as f:\n",
    "        eval = json.load(f)\n",
    "    nn_train = round(eval[\"nn_train_15\"], 3)\n",
    "    nn_test = round(eval[\"nn_test_15\"], 3)\n",
    "\n",
    "    if len(data)==0:\n",
    "        data = np.array([[dataset, \"DVI\", \"Train\", \"{}\".format(str(epoch//p)), nn_train]])\n",
    "    else:\n",
    "        data = np.concatenate((data, np.array([[dataset, \"DVI\", \"Train\", \"{}\".format(str(epoch//p)), nn_train]])), axis=0)\n",
    "    data = np.concatenate((data, np.array([[dataset, \"DVI\", \"Test\", \"{}\".format(str(epoch//p)), nn_test]])), axis=0)"
   ],
   "metadata": {
    "collapsed": false,
    "pycharm": {
     "name": "#%%\n"
    }
   }
  },
  {
   "cell_type": "code",
   "execution_count": 4,
   "outputs": [],
   "source": [
    "content_path = \"E:\\\\xianglin\\\\git_space\\\\umap_exp\\\\results\"\n",
    "# pca\n",
    "curr_path = os.path.join(content_path, \"pca\")\n",
    "for epoch in range(start, end, p):\n",
    "    eval_path = os.path.join(curr_path, \"{}_{}\".format(dataset, epoch), \"exp_result.json\")\n",
    "    with open(eval_path, \"r\") as f:\n",
    "        eval = json.load(f)\n",
    "    nn_train = round(eval[1], 3)\n",
    "    nn_test = round(eval[4], 3)\n",
    "\n",
    "    data = np.concatenate((data, np.array([[dataset, \"PCA\", \"Train\", \"{}\".format(str(epoch//p)), nn_train]])), axis=0)\n",
    "    data = np.concatenate((data, np.array([[dataset, \"PCA\", \"Test\", \"{}\".format(str(epoch//p)), nn_test]])), axis=0)\n",
    "# tsne\n",
    "curr_path = os.path.join(content_path, \"tsne\")\n",
    "for epoch in range(start, end, p):\n",
    "    eval_path = os.path.join(curr_path, \"{}_{}\".format(dataset, epoch), \"exp_result.json\")\n",
    "    with open(eval_path, \"r\") as f:\n",
    "        eval = json.load(f)\n",
    "    nn_train = round(eval[1], 3)\n",
    "\n",
    "    data = np.concatenate((data, np.array([[dataset, \"TSNE\", \"Train\", \"{}\".format(str(epoch//p)), nn_train]])), axis=0)\n",
    "\n",
    "# umap\n",
    "curr_path = os.path.join(content_path, \"umap\")\n",
    "for epoch in range(start, end, p):\n",
    "    eval_path = os.path.join(curr_path, \"{}_{}\".format(dataset, epoch), \"exp_result.json\")\n",
    "    with open(eval_path, \"r\") as f:\n",
    "        eval = json.load(f)\n",
    "    nn_train = round(eval[1], 3)\n",
    "    nn_test = round(eval[4], 3)\n",
    "\n",
    "    data = np.concatenate((data, np.array([[dataset, \"UMAP\", \"Train\", \"{}\".format(str(epoch//p)), nn_train]])), axis=0)\n",
    "    data = np.concatenate((data, np.array([[dataset, \"UMAP\", \"Test\", \"{}\".format(str(epoch//p)), nn_test]])), axis=0)"
   ],
   "metadata": {
    "collapsed": false,
    "pycharm": {
     "name": "#%%\n"
    }
   }
  },
  {
   "cell_type": "code",
   "execution_count": 5,
   "outputs": [],
   "source": [
    "col = np.array([\"dataset\", \"method\", \"type\", \"period\", \"eval\"])\n",
    "df = pd.DataFrame(data, columns=col)"
   ],
   "metadata": {
    "collapsed": false,
    "pycharm": {
     "name": "#%%\n"
    }
   }
  },
  {
   "cell_type": "code",
   "execution_count": 6,
   "outputs": [
    {
     "data": {
      "text/plain": "   dataset method   type period   eval\n0   fmnist    DVI  Train      1  1.859\n1   fmnist    DVI   Test      1  1.766\n2   fmnist    DVI  Train      2  2.161\n3   fmnist    DVI   Test      2  2.055\n4   fmnist    DVI  Train      3  2.559\n5   fmnist    DVI   Test      3  2.443\n6   fmnist    DVI  Train      4  2.165\n7   fmnist    DVI   Test      4  2.078\n8   fmnist    DVI  Train      5  2.099\n9   fmnist    DVI   Test      5  2.012\n10  fmnist    PCA  Train      1  1.147\n11  fmnist    PCA   Test      1  1.131\n12  fmnist    PCA  Train      2  1.406\n13  fmnist    PCA   Test      2  1.366\n14  fmnist    PCA  Train      3  1.682\n15  fmnist    PCA   Test      3  1.624\n16  fmnist    PCA  Train      4   1.76\n17  fmnist    PCA   Test      4  1.709\n18  fmnist    PCA  Train      5  1.754\n19  fmnist    PCA   Test      5  1.737\n20  fmnist   TSNE  Train      1  4.691\n21  fmnist   TSNE  Train      2  5.638\n22  fmnist   TSNE  Train      3   6.34\n23  fmnist   TSNE  Train      4    6.0\n24  fmnist   TSNE  Train      5  5.837\n25  fmnist   UMAP  Train      1   2.14\n26  fmnist   UMAP   Test      1  2.018\n27  fmnist   UMAP  Train      2  2.864\n28  fmnist   UMAP   Test      2  2.671\n29  fmnist   UMAP  Train      3  3.466\n30  fmnist   UMAP   Test      3  3.252\n31  fmnist   UMAP  Train      4  3.134\n32  fmnist   UMAP   Test      4  2.996\n33  fmnist   UMAP  Train      5  2.969\n34  fmnist   UMAP   Test      5  2.853",
      "text/html": "<div>\n<style scoped>\n    .dataframe tbody tr th:only-of-type {\n        vertical-align: middle;\n    }\n\n    .dataframe tbody tr th {\n        vertical-align: top;\n    }\n\n    .dataframe thead th {\n        text-align: right;\n    }\n</style>\n<table border=\"1\" class=\"dataframe\">\n  <thead>\n    <tr style=\"text-align: right;\">\n      <th></th>\n      <th>dataset</th>\n      <th>method</th>\n      <th>type</th>\n      <th>period</th>\n      <th>eval</th>\n    </tr>\n  </thead>\n  <tbody>\n    <tr>\n      <th>0</th>\n      <td>fmnist</td>\n      <td>DVI</td>\n      <td>Train</td>\n      <td>1</td>\n      <td>1.859</td>\n    </tr>\n    <tr>\n      <th>1</th>\n      <td>fmnist</td>\n      <td>DVI</td>\n      <td>Test</td>\n      <td>1</td>\n      <td>1.766</td>\n    </tr>\n    <tr>\n      <th>2</th>\n      <td>fmnist</td>\n      <td>DVI</td>\n      <td>Train</td>\n      <td>2</td>\n      <td>2.161</td>\n    </tr>\n    <tr>\n      <th>3</th>\n      <td>fmnist</td>\n      <td>DVI</td>\n      <td>Test</td>\n      <td>2</td>\n      <td>2.055</td>\n    </tr>\n    <tr>\n      <th>4</th>\n      <td>fmnist</td>\n      <td>DVI</td>\n      <td>Train</td>\n      <td>3</td>\n      <td>2.559</td>\n    </tr>\n    <tr>\n      <th>5</th>\n      <td>fmnist</td>\n      <td>DVI</td>\n      <td>Test</td>\n      <td>3</td>\n      <td>2.443</td>\n    </tr>\n    <tr>\n      <th>6</th>\n      <td>fmnist</td>\n      <td>DVI</td>\n      <td>Train</td>\n      <td>4</td>\n      <td>2.165</td>\n    </tr>\n    <tr>\n      <th>7</th>\n      <td>fmnist</td>\n      <td>DVI</td>\n      <td>Test</td>\n      <td>4</td>\n      <td>2.078</td>\n    </tr>\n    <tr>\n      <th>8</th>\n      <td>fmnist</td>\n      <td>DVI</td>\n      <td>Train</td>\n      <td>5</td>\n      <td>2.099</td>\n    </tr>\n    <tr>\n      <th>9</th>\n      <td>fmnist</td>\n      <td>DVI</td>\n      <td>Test</td>\n      <td>5</td>\n      <td>2.012</td>\n    </tr>\n    <tr>\n      <th>10</th>\n      <td>fmnist</td>\n      <td>PCA</td>\n      <td>Train</td>\n      <td>1</td>\n      <td>1.147</td>\n    </tr>\n    <tr>\n      <th>11</th>\n      <td>fmnist</td>\n      <td>PCA</td>\n      <td>Test</td>\n      <td>1</td>\n      <td>1.131</td>\n    </tr>\n    <tr>\n      <th>12</th>\n      <td>fmnist</td>\n      <td>PCA</td>\n      <td>Train</td>\n      <td>2</td>\n      <td>1.406</td>\n    </tr>\n    <tr>\n      <th>13</th>\n      <td>fmnist</td>\n      <td>PCA</td>\n      <td>Test</td>\n      <td>2</td>\n      <td>1.366</td>\n    </tr>\n    <tr>\n      <th>14</th>\n      <td>fmnist</td>\n      <td>PCA</td>\n      <td>Train</td>\n      <td>3</td>\n      <td>1.682</td>\n    </tr>\n    <tr>\n      <th>15</th>\n      <td>fmnist</td>\n      <td>PCA</td>\n      <td>Test</td>\n      <td>3</td>\n      <td>1.624</td>\n    </tr>\n    <tr>\n      <th>16</th>\n      <td>fmnist</td>\n      <td>PCA</td>\n      <td>Train</td>\n      <td>4</td>\n      <td>1.76</td>\n    </tr>\n    <tr>\n      <th>17</th>\n      <td>fmnist</td>\n      <td>PCA</td>\n      <td>Test</td>\n      <td>4</td>\n      <td>1.709</td>\n    </tr>\n    <tr>\n      <th>18</th>\n      <td>fmnist</td>\n      <td>PCA</td>\n      <td>Train</td>\n      <td>5</td>\n      <td>1.754</td>\n    </tr>\n    <tr>\n      <th>19</th>\n      <td>fmnist</td>\n      <td>PCA</td>\n      <td>Test</td>\n      <td>5</td>\n      <td>1.737</td>\n    </tr>\n    <tr>\n      <th>20</th>\n      <td>fmnist</td>\n      <td>TSNE</td>\n      <td>Train</td>\n      <td>1</td>\n      <td>4.691</td>\n    </tr>\n    <tr>\n      <th>21</th>\n      <td>fmnist</td>\n      <td>TSNE</td>\n      <td>Train</td>\n      <td>2</td>\n      <td>5.638</td>\n    </tr>\n    <tr>\n      <th>22</th>\n      <td>fmnist</td>\n      <td>TSNE</td>\n      <td>Train</td>\n      <td>3</td>\n      <td>6.34</td>\n    </tr>\n    <tr>\n      <th>23</th>\n      <td>fmnist</td>\n      <td>TSNE</td>\n      <td>Train</td>\n      <td>4</td>\n      <td>6.0</td>\n    </tr>\n    <tr>\n      <th>24</th>\n      <td>fmnist</td>\n      <td>TSNE</td>\n      <td>Train</td>\n      <td>5</td>\n      <td>5.837</td>\n    </tr>\n    <tr>\n      <th>25</th>\n      <td>fmnist</td>\n      <td>UMAP</td>\n      <td>Train</td>\n      <td>1</td>\n      <td>2.14</td>\n    </tr>\n    <tr>\n      <th>26</th>\n      <td>fmnist</td>\n      <td>UMAP</td>\n      <td>Test</td>\n      <td>1</td>\n      <td>2.018</td>\n    </tr>\n    <tr>\n      <th>27</th>\n      <td>fmnist</td>\n      <td>UMAP</td>\n      <td>Train</td>\n      <td>2</td>\n      <td>2.864</td>\n    </tr>\n    <tr>\n      <th>28</th>\n      <td>fmnist</td>\n      <td>UMAP</td>\n      <td>Test</td>\n      <td>2</td>\n      <td>2.671</td>\n    </tr>\n    <tr>\n      <th>29</th>\n      <td>fmnist</td>\n      <td>UMAP</td>\n      <td>Train</td>\n      <td>3</td>\n      <td>3.466</td>\n    </tr>\n    <tr>\n      <th>30</th>\n      <td>fmnist</td>\n      <td>UMAP</td>\n      <td>Test</td>\n      <td>3</td>\n      <td>3.252</td>\n    </tr>\n    <tr>\n      <th>31</th>\n      <td>fmnist</td>\n      <td>UMAP</td>\n      <td>Train</td>\n      <td>4</td>\n      <td>3.134</td>\n    </tr>\n    <tr>\n      <th>32</th>\n      <td>fmnist</td>\n      <td>UMAP</td>\n      <td>Test</td>\n      <td>4</td>\n      <td>2.996</td>\n    </tr>\n    <tr>\n      <th>33</th>\n      <td>fmnist</td>\n      <td>UMAP</td>\n      <td>Train</td>\n      <td>5</td>\n      <td>2.969</td>\n    </tr>\n    <tr>\n      <th>34</th>\n      <td>fmnist</td>\n      <td>UMAP</td>\n      <td>Test</td>\n      <td>5</td>\n      <td>2.853</td>\n    </tr>\n  </tbody>\n</table>\n</div>"
     },
     "execution_count": 6,
     "metadata": {},
     "output_type": "execute_result"
    }
   ],
   "source": [
    "df"
   ],
   "metadata": {
    "collapsed": false,
    "pycharm": {
     "name": "#%%\n"
    }
   }
  },
  {
   "cell_type": "code",
   "execution_count": 7,
   "outputs": [],
   "source": [
    "df[[\"period\"]] = df[[\"period\"]].astype(int)\n",
    "df[[\"eval\"]] = df[[\"eval\"]].astype(float)"
   ],
   "metadata": {
    "collapsed": false,
    "pycharm": {
     "name": "#%%\n"
    }
   }
  },
  {
   "cell_type": "code",
   "execution_count": 8,
   "outputs": [
    {
     "data": {
      "text/plain": "<Figure size 1440x72 with 1 Axes>",
      "image/png": "[encoded data removed]"
     },
     "metadata": {
      "needs_background": "light"
     },
     "output_type": "display_data"
    },
    {
     "data": {
      "text/plain": "<Figure size 288x72 with 1 Axes>",
      "image/png": "[encoded data removed]"
     },
     "metadata": {
      "needs_background": "light"
     },
     "output_type": "display_data"
    }
   ],
   "source": [
    "pal20c = sns.color_palette('tab20c', 20)\n",
    "sns.palplot(pal20c)\n",
    "hue_dict = {\n",
    "    \"DVI\": pal20c[4],\n",
    "    \"UMAP\": pal20c[0],\n",
    "    \"TSNE\": pal20c[8],\n",
    "    \"PCA\": pal20c[12],\n",
    "\n",
    "}\n",
    "sns.palplot([hue_dict[i] for i in hue_dict.keys()])"
   ],
   "metadata": {
    "collapsed": false,
    "pycharm": {
     "name": "#%%\n"
    }
   }
  },
  {
   "cell_type": "code",
   "execution_count": 9,
   "outputs": [],
   "source": [
    "axes = {'labelsize': 14,\n",
    "        'titlesize': 14,}\n",
    "mpl.rc('axes', **axes)\n",
    "mpl.rcParams['xtick.labelsize'] = 14\n",
    "\n",
    "# hue_list = [\"TSNE\", \"parametric-tsne\", \"umap-learn\",  'direct', \"network\", \"autoencoder\", 'vae', 'ae_only', \"PCA\"]\n",
    "hue_list = [\"DVI\", \"UMAP\", \"TSNE\", \"PCA\"]"
   ],
   "metadata": {
    "collapsed": false,
    "pycharm": {
     "name": "#%%\n"
    }
   }
  },
  {
   "cell_type": "code",
   "execution_count": 10,
   "outputs": [
    {
     "data": {
      "text/plain": "Text(0.5, 0.98, 'fmnist')"
     },
     "execution_count": 10,
     "metadata": {},
     "output_type": "execute_result"
    },
    {
     "data": {
      "text/plain": "<Figure size 1144.88x216 with 2 Axes>",
      "image/png": "[encoded data removed]"
     },
     "metadata": {
      "needs_background": "light"
     },
     "output_type": "display_data"
    }
   ],
   "source": [
    "fg = sns.catplot(\n",
    "    x=\"period\",\n",
    "    y=\"eval\",\n",
    "    hue=\"method\",\n",
    "    hue_order=hue_list,\n",
    "    # order = [1, 2, 3, 4, 5],\n",
    "    # row=\"method\",\n",
    "    col=\"type\",\n",
    "    ci=0.001,\n",
    "    height=3, #2.65,\n",
    "    aspect=2.5,#3,\n",
    "    data=df,\n",
    "    kind=\"bar\",\n",
    "    palette=[hue_dict[i] for i in hue_list],\n",
    "    legend=True\n",
    ")\n",
    "\n",
    "axs = fg.axes[0]\n",
    "max_ = df[\"eval\"].max()\n",
    "min_ = df[\"eval\"].min()\n",
    "axs[0].set_ylim(1.0, 9.0)\n",
    "axs[0].set_title(\"Train\")\n",
    "axs[1].set_title(\"Test\")\n",
    "\n",
    "(fg.despine(bottom=True)\n",
    " .set_xticklabels(['Begin', 'Early', 'Mid', 'Late', 'End'])\n",
    " .set_axis_labels(\"\", \"NN preserving property\")\n",
    " )\n",
    "fg.fig.suptitle(dataset)"
   ],
   "metadata": {
    "collapsed": false,
    "pycharm": {
     "name": "#%%\n"
    }
   }
  },
  {
   "cell_type": "code",
   "execution_count": 11,
   "outputs": [],
   "source": [
    "fg.savefig(\n",
    "    \"nn_{}.png\".format(dataset),\n",
    "    dpi=300,\n",
    "    bbox_inches=\"tight\",\n",
    "    pad_inches=0.0,\n",
    "    transparent=True,\n",
    ")"
   ],
   "metadata": {
    "collapsed": false,
    "pycharm": {
     "name": "#%%\n"
    }
   }
  }
 ],
 "metadata": {
  "kernelspec": {
   "display_name": "Python 3",
   "language": "python",
   "name": "python3"
  },
  "language_info": {
   "codemirror_mode": {
    "name": "ipython",
    "version": 2
   },
   "file_extension": ".py",
   "mimetype": "text/x-python",
   "name": "python",
   "nbconvert_exporter": "python",
   "pygments_lexer": "ipython2",
   "version": "2.7.6"
  }
 },
 "nbformat": 4,
 "nbformat_minor": 0
}