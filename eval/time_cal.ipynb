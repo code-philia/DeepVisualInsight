{
 "cells": [
  {
   "cell_type": "markdown",
   "metadata": {
    "collapsed": true,
    "pycharm": {
     "name": "#%% md\n"
    }
   },
   "source": [
    "Calculate time for running the experiments"
   ]
  },
  {
   "cell_type": "code",
   "execution_count": 1,
   "outputs": [],
   "source": [
    "# import modules\n",
    "import json\n",
    "import os"
   ],
   "metadata": {
    "collapsed": false,
    "pycharm": {
     "name": "#%%\n"
    }
   }
  },
  {
   "cell_type": "markdown",
   "source": [
    "DVI"
   ],
   "metadata": {
    "collapsed": false,
    "pycharm": {
     "name": "#%% md\n"
    }
   }
  },
  {
   "cell_type": "code",
   "execution_count": 3,
   "outputs": [
    {
     "name": "stdout",
     "output_type": "stream",
     "text": [
      "cifar10 test_proj 0.014\n",
      "cifar10 test_inv 0.002\n",
      "mnist test_proj 0.009\n",
      "mnist test_inv 0.001\n",
      "fmnist test_proj 0.008\n",
      "fmnist test_inv 0.002\n"
     ]
    }
   ],
   "source": [
    "# find DVI\n",
    "datasets = [\"cifar10\", \"mnist\", \"fmnist\"]\n",
    "for dataset in datasets:\n",
    "    model_path = \"E:\\\\DVI_exp_data\\\\TemporalExp\\\\resnet18_{}\\\\Model\".format(dataset)\n",
    "    proj = .0\n",
    "    inv = .0\n",
    "\n",
    "    for epoch in range(1, 8, 1):\n",
    "        eval_file = os.path.join(model_path, \"Epoch_{}\".format(epoch), \"evaluation_T.json\")\n",
    "        with open(eval_file, \"r\") as f:\n",
    "            eval = json.load(f)\n",
    "        proj += eval[\"time_test_proj\"]\n",
    "        inv += eval[\"time_test_inv\"]\n",
    "    proj = round(proj / 7, 3)\n",
    "    inv = round(inv / 7, 3)\n",
    "    print(dataset, \"test_proj\", proj)\n",
    "    print(dataset, \"test_inv\", inv)"
   ],
   "metadata": {
    "collapsed": false,
    "pycharm": {
     "name": "#%%\n"
    }
   }
  },
  {
   "cell_type": "code",
   "execution_count": 4,
   "outputs": [
    {
     "ename": "FileNotFoundError",
     "evalue": "[Errno 2] No such file or directory: 'E:\\\\DVI_exp_data\\\\TemporalExp\\\\resnet50_cifar10\\\\Model\\\\Epoch_1\\\\evaluation_T.json'",
     "output_type": "error",
     "traceback": [
      "\u001B[1;31m---------------------------------------------------------------------------\u001B[0m",
      "\u001B[1;31mFileNotFoundError\u001B[0m                         Traceback (most recent call last)",
      "\u001B[1;32m<ipython-input-4-8f06b5518f7e>\u001B[0m in \u001B[0;36m<module>\u001B[1;34m\u001B[0m\n\u001B[0;32m      6\u001B[0m \u001B[1;32mfor\u001B[0m \u001B[0mepoch\u001B[0m \u001B[1;32min\u001B[0m \u001B[0mrange\u001B[0m\u001B[1;33m(\u001B[0m\u001B[1;36m1\u001B[0m\u001B[1;33m,\u001B[0m \u001B[1;36m8\u001B[0m\u001B[1;33m,\u001B[0m \u001B[1;36m1\u001B[0m\u001B[1;33m)\u001B[0m\u001B[1;33m:\u001B[0m\u001B[1;33m\u001B[0m\u001B[1;33m\u001B[0m\u001B[0m\n\u001B[0;32m      7\u001B[0m     \u001B[0meval_file\u001B[0m \u001B[1;33m=\u001B[0m \u001B[0mos\u001B[0m\u001B[1;33m.\u001B[0m\u001B[0mpath\u001B[0m\u001B[1;33m.\u001B[0m\u001B[0mjoin\u001B[0m\u001B[1;33m(\u001B[0m\u001B[0mmodel_path\u001B[0m\u001B[1;33m,\u001B[0m \u001B[1;34m\"Epoch_{}\"\u001B[0m\u001B[1;33m.\u001B[0m\u001B[0mformat\u001B[0m\u001B[1;33m(\u001B[0m\u001B[0mepoch\u001B[0m\u001B[1;33m)\u001B[0m\u001B[1;33m,\u001B[0m \u001B[1;34m\"evaluation_T.json\"\u001B[0m\u001B[1;33m)\u001B[0m\u001B[1;33m\u001B[0m\u001B[1;33m\u001B[0m\u001B[0m\n\u001B[1;32m----> 8\u001B[1;33m     \u001B[1;32mwith\u001B[0m \u001B[0mopen\u001B[0m\u001B[1;33m(\u001B[0m\u001B[0meval_file\u001B[0m\u001B[1;33m,\u001B[0m \u001B[1;34m\"r\"\u001B[0m\u001B[1;33m)\u001B[0m \u001B[1;32mas\u001B[0m \u001B[0mf\u001B[0m\u001B[1;33m:\u001B[0m\u001B[1;33m\u001B[0m\u001B[1;33m\u001B[0m\u001B[0m\n\u001B[0m\u001B[0;32m      9\u001B[0m         \u001B[0meval\u001B[0m \u001B[1;33m=\u001B[0m \u001B[0mjson\u001B[0m\u001B[1;33m.\u001B[0m\u001B[0mload\u001B[0m\u001B[1;33m(\u001B[0m\u001B[0mf\u001B[0m\u001B[1;33m)\u001B[0m\u001B[1;33m\u001B[0m\u001B[1;33m\u001B[0m\u001B[0m\n\u001B[0;32m     10\u001B[0m     \u001B[0mproj\u001B[0m \u001B[1;33m+=\u001B[0m \u001B[0meval\u001B[0m\u001B[1;33m[\u001B[0m\u001B[1;34m\"time_test_proj\"\u001B[0m\u001B[1;33m]\u001B[0m\u001B[1;33m\u001B[0m\u001B[1;33m\u001B[0m\u001B[0m\n",
      "\u001B[1;31mFileNotFoundError\u001B[0m: [Errno 2] No such file or directory: 'E:\\\\DVI_exp_data\\\\TemporalExp\\\\resnet50_cifar10\\\\Model\\\\Epoch_1\\\\evaluation_T.json'"
     ]
    }
   ],
   "source": [
    "# 2048\n",
    "model_path = \"E:\\\\DVI_exp_data\\\\TemporalExp\\\\resnet50_cifar10\\\\Model\"\n",
    "proj = .0\n",
    "inv = .0\n",
    "\n",
    "for epoch in range(1, 8, 1):\n",
    "    eval_file = os.path.join(model_path, \"Epoch_{}\".format(epoch), \"evaluation_T.json\")\n",
    "    with open(eval_file, \"r\") as f:\n",
    "        eval = json.load(f)\n",
    "    proj += eval[\"time_test_proj\"]\n",
    "    inv += eval[\"time_test_inv\"]\n",
    "proj = round(proj / 7, 3)\n",
    "inv = round(inv / 7, 3)\n",
    "print(\"resnet50_cifar10\", \"test_proj\", proj)\n",
    "print(\"resnet50_cifar10\", \"test_inv\", inv)"
   ],
   "metadata": {
    "collapsed": false,
    "pycharm": {
     "name": "#%%\n"
    }
   }
  },
  {
   "cell_type": "markdown",
   "source": [
    "DVI-temporal"
   ],
   "metadata": {
    "collapsed": false,
    "pycharm": {
     "name": "#%% md\n"
    }
   }
  },
  {
   "cell_type": "code",
   "execution_count": null,
   "outputs": [],
   "source": [],
   "metadata": {
    "collapsed": false,
    "pycharm": {
     "name": "#%%\n"
    }
   }
  },
  {
   "cell_type": "code",
   "execution_count": 5,
   "outputs": [
    {
     "name": "stdout",
     "output_type": "stream",
     "text": [
      "cifar10 test_proj 0.014\n",
      "cifar10 test_inv 0.002\n",
      "mnist test_proj 0.008\n",
      "mnist test_inv 0.002\n",
      "fmnist test_proj 0.008\n",
      "fmnist test_inv 0.002\n"
     ]
    }
   ],
   "source": [
    "# find DVI\n",
    "datasets = [\"cifar10\", \"mnist\", \"fmnist\"]\n",
    "for dataset in datasets:\n",
    "    model_path = \"E:\\\\DVI_exp_data\\\\TemporalExp\\\\resnet18_{}\\\\Model\".format(dataset)\n",
    "    proj = .0\n",
    "    inv = .0\n",
    "\n",
    "    for epoch in range(1, 8, 1):\n",
    "        eval_file = os.path.join(model_path, \"Epoch_{}\".format(epoch), \"evaluation_step2.json\")\n",
    "        with open(eval_file, \"r\") as f:\n",
    "            eval = json.load(f)\n",
    "        proj += eval[\"time_test_proj\"]\n",
    "        inv += eval[\"time_test_inv\"]\n",
    "    proj = round(proj / 7, 3)\n",
    "    inv = round(inv / 7, 3)\n",
    "    print(dataset, \"test_proj\", proj)\n",
    "    print(dataset, \"test_inv\", inv)"
   ],
   "metadata": {
    "collapsed": false,
    "pycharm": {
     "name": "#%%\n"
    }
   }
  },
  {
   "cell_type": "code",
   "execution_count": null,
   "outputs": [],
   "source": [
    "# 2048\n",
    "model_path = \"E:\\\\DVI_exp_data\\\\TemporalExp\\\\resnet50_cifar10\\\\Model\"\n",
    "proj = .0\n",
    "inv = .0\n",
    "\n",
    "for epoch in range(1, 8, 1):\n",
    "    eval_file = os.path.join(model_path, \"Epoch_{}\".format(epoch), \"evaluation_step2.json\")\n",
    "    with open(eval_file, \"r\") as f:\n",
    "        eval = json.load(f)\n",
    "    proj += eval[\"time_test_proj\"]\n",
    "    inv += eval[\"time_test_inv\"]\n",
    "proj = round(proj / 7, 3)\n",
    "inv = round(inv / 7, 3)\n",
    "print(\"resnet50_cifar10\", \"test_proj\", proj)\n",
    "print(\"resnet50_cifar10\", \"test_inv\", inv)"
   ],
   "metadata": {
    "collapsed": false,
    "pycharm": {
     "name": "#%%\n"
    }
   }
  },
  {
   "cell_type": "markdown",
   "source": [
    "umap"
   ],
   "metadata": {
    "collapsed": false,
    "pycharm": {
     "name": "#%% md\n"
    }
   }
  },
  {
   "cell_type": "code",
   "execution_count": 7,
   "outputs": [
    {
     "name": "stdout",
     "output_type": "stream",
     "text": [
      "cifar10 fit_transform 50.17\n",
      "cifar10 adp_proj 16.05\n",
      "cifar10 adp_inv 1803.548\n",
      "mnist fit_transform 58.311\n",
      "mnist adp_proj 17.985\n",
      "mnist adp_inv 2169.903\n",
      "fmnist fit_transform 58.748\n",
      "fmnist adp_proj 16.296\n",
      "fmnist adp_inv 2134.407\n",
      "resnet50 fit_transform 55.065\n",
      "resnet50 adp_proj 16.942\n",
      "resnet50 adp_inv 11251.55\n"
     ]
    }
   ],
   "source": [
    "epoch_dict = {\"cifar10\":40, \"mnist\":4, \"fmnist\":10, \"resnet50\":40}\n",
    "for dataset in [\"cifar10\", \"mnist\", \"fmnist\", \"resnet50\"]:\n",
    "    fit_t = .0\n",
    "    adp_proj = .0\n",
    "    adp_inv = .0\n",
    "    for epoch in range(1, 6, 1):\n",
    "        path = \"E:\\\\xianglin\\\\git_space\\\\umap_exp\\\\results\\\\umap\\\\{}_{}\\\\time.json\".format(dataset, int(epoch*epoch_dict[dataset]))\n",
    "        with open(path, \"r\") as f:\n",
    "            eval = json.load(f)\n",
    "        fit_t += float(eval[\"fit_transfrom\"])\n",
    "        adp_proj += float(eval[\"transform_test\"])\n",
    "        adp_inv += float(eval[\"recon_test\"])\n",
    "    fit_t = round(fit_t/5, 3)\n",
    "    adp_proj = round(adp_proj/5, 3)\n",
    "    adp_inv = round(adp_inv/5, 3)\n",
    "    print(dataset, \"fit_transform\", fit_t)\n",
    "    print(dataset, \"adp_proj\", adp_proj)\n",
    "    print(dataset, \"adp_inv\", adp_inv)"
   ],
   "metadata": {
    "collapsed": false,
    "pycharm": {
     "name": "#%%\n"
    }
   }
  },
  {
   "cell_type": "markdown",
   "source": [
    "tsne"
   ],
   "metadata": {
    "collapsed": false,
    "pycharm": {
     "name": "#%% md\n"
    }
   }
  },
  {
   "cell_type": "code",
   "execution_count": 8,
   "outputs": [
    {
     "name": "stdout",
     "output_type": "stream",
     "text": [
      "cifar10 fit_transform 207.757\n",
      "mnist fit_transform 286.068\n",
      "fmnist fit_transform 282.725\n",
      "resnet50 fit_transform 239.214\n"
     ]
    }
   ],
   "source": [
    "epoch_dict = {\"cifar10\":40, \"mnist\":4, \"fmnist\":10, \"resnet50\":40}\n",
    "for dataset in [\"cifar10\", \"mnist\", \"fmnist\", \"resnet50\"]:\n",
    "    fit_t = .0\n",
    "    adp_proj = .0\n",
    "    adp_inv = .0\n",
    "    for epoch in range(1, 6, 1):\n",
    "        path = \"E:\\\\xianglin\\\\git_space\\\\umap_exp\\\\results\\\\tsne\\\\{}_{}\\\\time.json\".format(dataset, int(epoch*epoch_dict[dataset]))\n",
    "        with open(path, \"r\") as f:\n",
    "            eval = json.load(f)\n",
    "        fit_t += float(eval[\"fit_transfrom\"])\n",
    "    fit_t = round(fit_t/5, 3)\n",
    "    print(dataset, \"fit_transform\", fit_t)"
   ],
   "metadata": {
    "collapsed": false,
    "pycharm": {
     "name": "#%%\n"
    }
   }
  },
  {
   "cell_type": "markdown",
   "source": [
    "pca"
   ],
   "metadata": {
    "collapsed": false,
    "pycharm": {
     "name": "#%% md\n"
    }
   }
  },
  {
   "cell_type": "code",
   "execution_count": 9,
   "outputs": [
    {
     "name": "stdout",
     "output_type": "stream",
     "text": [
      "cifar10 fit_transform 0.803\n",
      "cifar10 adp_proj 0.0\n",
      "cifar10 adp_inv 0.035\n",
      "mnist fit_transform 0.958\n",
      "mnist adp_proj 0.0\n",
      "mnist adp_inv 0.036\n",
      "fmnist fit_transform 0.951\n",
      "fmnist adp_proj 0.0\n",
      "fmnist adp_inv 0.035\n",
      "resnet50 fit_transform 2.963\n",
      "resnet50 adp_proj 0.0\n",
      "resnet50 adp_inv 0.141\n"
     ]
    }
   ],
   "source": [
    "epoch_dict = {\"cifar10\":40, \"mnist\":4, \"fmnist\":10, \"resnet50\":40}\n",
    "for dataset in [\"cifar10\", \"mnist\", \"fmnist\", \"resnet50\"]:\n",
    "    fit_t = .0\n",
    "    adp_proj = .0\n",
    "    adp_inv = .0\n",
    "    for epoch in range(1, 6, 1):\n",
    "        path = \"E:\\\\xianglin\\\\git_space\\\\umap_exp\\\\results\\\\pca\\\\{}_{}\\\\time.json\".format(dataset, int(epoch*epoch_dict[dataset]))\n",
    "        with open(path, \"r\") as f:\n",
    "            eval = json.load(f)\n",
    "        fit_t += float(eval[\"fit_transfrom\"])\n",
    "        adp_proj += float(eval[\"transform_test\"])\n",
    "        adp_inv += float(eval[\"recon_test\"])\n",
    "    fit_t = round(fit_t/5, 3)\n",
    "    adp_proj = round(adp_proj/5, 3)\n",
    "    adp_inv = round(adp_inv/5, 3)\n",
    "    print(dataset, \"fit_transform\", fit_t)\n",
    "    print(dataset, \"adp_proj\", adp_proj)\n",
    "    print(dataset, \"adp_inv\", adp_inv)"
   ],
   "metadata": {
    "collapsed": false,
    "pycharm": {
     "name": "#%%\n"
    }
   }
  },
  {
   "cell_type": "markdown",
   "source": [
    "DVI-DeepView"
   ],
   "metadata": {
    "collapsed": false,
    "pycharm": {
     "name": "#%% md\n"
    }
   }
  },
  {
   "cell_type": "code",
   "execution_count": 21,
   "outputs": [
    {
     "name": "stdout",
     "output_type": "stream",
     "text": [
      "cifar10 data_gene 7.253\n",
      "cifar10 vis_model 12.548\n",
      "mnist data_gene 4.419\n",
      "mnist vis_model 12.731\n",
      "fmnist data_gene 5.034\n",
      "fmnist vis_model 13.862\n",
      "resnet50 data_gene 13.667\n",
      "resnet50 vis_model 28.909\n"
     ]
    }
   ],
   "source": [
    "epoch_dict = {\"cifar10\":40, \"mnist\":4, \"fmnist\":10, \"resnet50\":40}\n",
    "datasets = [\"cifar10\", \"mnist\", \"fmnist\", \"resnet50\"]\n",
    "for dataset in datasets:\n",
    "    data_gene = .0\n",
    "    vis_model = .0\n",
    "    for run in range(1, 11, 1):\n",
    "        model_path = \"E:\\\\DVI_exp_data\\\\DeepViewExp\\\\multi_run\\\\{}\\\\{}\\\\Model\".format(run, dataset)\n",
    "        eval_file = os.path.join(model_path, \"time.json\")\n",
    "        with open(eval_file, \"r\") as f:\n",
    "            eval = json.load(f)\n",
    "        data_gene += float(eval[\"data_gene\"])\n",
    "        vis_model += float(eval[\"vis_model\"])\n",
    "    data_gene = round(data_gene / 10, 3)\n",
    "    vis_model = round(vis_model / 10, 3)\n",
    "    print(dataset, \"data_gene\", data_gene)\n",
    "    print(dataset, \"vis_model\", vis_model)"
   ],
   "metadata": {
    "collapsed": false,
    "pycharm": {
     "name": "#%%\n"
    }
   }
  },
  {
   "cell_type": "markdown",
   "source": [
    "DVI-DeepView adaption"
   ],
   "metadata": {
    "collapsed": false,
    "pycharm": {
     "name": "#%% md\n"
    }
   }
  },
  {
   "cell_type": "code",
   "execution_count": 25,
   "outputs": [
    {
     "name": "stdout",
     "output_type": "stream",
     "text": [
      "cifar10 adp_proj 0.002\n",
      "cifar10 adp_inv 0.002\n",
      "mnist adp_proj 0.002\n",
      "mnist adp_inv 0.002\n",
      "fmnist adp_proj 0.002\n",
      "fmnist adp_inv 0.002\n",
      "resnet50 adp_proj 0.002\n",
      "resnet50 adp_inv 0.002\n"
     ]
    }
   ],
   "source": [
    "epoch_dict = {\"cifar10\":40, \"mnist\":4, \"fmnist\":10, \"resnet50\":40}\n",
    "datasets = [\"cifar10\", \"mnist\", \"fmnist\", \"resnet50\"]\n",
    "for dataset in datasets:\n",
    "    adp_proj = .0\n",
    "    adp_inv = .0\n",
    "    for epoch in range(1, 5, 1):\n",
    "        for run in range(1, 11, 1):\n",
    "            model_path = \"E:\\\\DVI_exp_data\\\\DeepViewExp\\\\multi_run\\\\{}\\\\{}\\\\Model\".format(run, dataset)\n",
    "            eval_file = os.path.join(model_path, \"Epoch_{}\".format(int(epoch*epoch_dict[dataset])),\"evaluation.json\")\n",
    "            with open(eval_file, \"r\") as f:\n",
    "                eval = json.load(f)\n",
    "            adp_proj += float(eval[\"time_test_proj\"])\n",
    "            adp_inv += float(eval[\"time_test_inv\"])\n",
    "    adp_proj = round(adp_proj / 50, 3)\n",
    "    adp_inv = round(adp_inv / 50, 3)\n",
    "    print(dataset, \"adp_proj\", adp_proj)\n",
    "    print(dataset, \"adp_inv\", adp_inv)"
   ],
   "metadata": {
    "collapsed": false,
    "pycharm": {
     "name": "#%%\n"
    }
   }
  },
  {
   "cell_type": "markdown",
   "source": [
    "DeepView"
   ],
   "metadata": {
    "collapsed": false,
    "pycharm": {
     "name": "#%% md\n"
    }
   }
  },
  {
   "cell_type": "code",
   "execution_count": 14,
   "outputs": [
    {
     "name": "stdout",
     "output_type": "stream",
     "text": [
      "CIFAR10 distance_cal 2511.974\n",
      "CIFAR10 proj_fit 5.242\n",
      "CIFAR10 transform 0.034\n",
      "CIFAR10 inv_fit 68.054\n",
      "CIFAR10 inv_trans 4.475\n",
      "CIFAR10 adp_proj 951.487\n",
      "CIFAR10 adp_inv 94.664\n",
      "MNIST distance_cal 473.522\n",
      "MNIST proj_fit 5.21\n",
      "MNIST transform 0.035\n",
      "MNIST inv_fit 24.25\n",
      "MNIST inv_trans 3.822\n",
      "MNIST adp_proj 169.386\n",
      "MNIST adp_inv 35.087\n",
      "FASHIONMNIST distance_cal 473.101\n",
      "FASHIONMNIST proj_fit 5.253\n",
      "FASHIONMNIST transform 0.035\n",
      "FASHIONMNIST inv_fit 24.185\n",
      "FASHIONMNIST inv_trans 3.82\n",
      "FASHIONMNIST adp_proj 169.464\n",
      "FASHIONMNIST adp_inv 34.972\n",
      "resnet18 distance_cal 1227.866\n",
      "resnet18 proj_fit 5.224\n",
      "resnet18 transform 0.034\n",
      "resnet18 inv_fit 67.645\n",
      "resnet18 inv_trans 4.46\n",
      "resnet18 adp_proj 468.35\n",
      "resnet18 adp_inv 95.121\n"
     ]
    }
   ],
   "source": [
    "epoch_dict = {\"CIFAR10\":40, \"MNIST\":4, \"FASHIONMNIST\":10, \"resnet18\":40}\n",
    "datasets = [\"CIFAR10\", \"MNIST\", \"FASHIONMNIST\", \"resnet18\"]\n",
    "for dataset in datasets:\n",
    "    dist_cal = .0\n",
    "    proj_fit = .0\n",
    "    transform = .0\n",
    "    inv_fit = .0\n",
    "    inv_trans = .0\n",
    "    adp_proj = .0\n",
    "    adp_inv = .0\n",
    "    for epoch in range(1, 5, 1):\n",
    "        for run in range(1, 11, 1):\n",
    "            result_path = \"E:\\\\xianglin\\\\git_space\\\\DeepView\\\\DVI_exp\\\\batch_run_results\\\\{}\\\\{}_{}\".format(run, dataset, int(epoch*epoch_dict[dataset]))\n",
    "            eval_file = os.path.join(result_path, \"time.json\")\n",
    "            with open(eval_file, \"r\") as f:\n",
    "                eval = json.load(f)\n",
    "            dist_cal += float(eval[\"distance_cal\"])\n",
    "            proj_fit += float(eval[\"proj_fit\"])\n",
    "            transform += float(eval[\"transform\"])\n",
    "            inv_fit += float(eval[\"inverse_fit\"])\n",
    "            inv_trans += float(eval[\"inverse_transform\"])\n",
    "            adp_proj += float(eval[\"test_proj\"])\n",
    "            adp_inv += float(eval[\"test_inverse\"])\n",
    "    dist_cal = round(dist_cal / 50, 3)\n",
    "    proj_fit = round(proj_fit / 50, 3)\n",
    "    transform = round(transform / 50, 3)\n",
    "    inv_fit = round(inv_fit / 50, 3)\n",
    "    inv_trans = round(inv_trans / 50, 3)\n",
    "    adp_proj = round(adp_proj / 50, 3)\n",
    "    adp_inv = round(adp_inv / 50, 3)\n",
    "    print(dataset, \"distance_cal\", dist_cal)\n",
    "    print(dataset, \"proj_fit\", proj_fit)\n",
    "    print(dataset, \"transform\", transform)\n",
    "    print(dataset, \"inv_fit\", inv_fit)\n",
    "    print(dataset, \"inv_trans\", inv_trans)\n",
    "    print(dataset, \"adp_proj\", adp_proj)\n",
    "    print(dataset, \"adp_inv\", adp_inv)\n"
   ],
   "metadata": {
    "collapsed": false,
    "pycharm": {
     "name": "#%%\n"
    }
   }
  }
 ],
 "metadata": {
  "kernelspec": {
   "name": "dr2",
   "language": "python",
   "display_name": "Python xianglinDR2"
  },
  "language_info": {
   "codemirror_mode": {
    "name": "ipython",
    "version": 2
   },
   "file_extension": ".py",
   "mimetype": "text/x-python",
   "name": "python",
   "nbconvert_exporter": "python",
   "pygments_lexer": "ipython2",
   "version": "2.7.6"
  }
 },
 "nbformat": 4,
 "nbformat_minor": 0
}