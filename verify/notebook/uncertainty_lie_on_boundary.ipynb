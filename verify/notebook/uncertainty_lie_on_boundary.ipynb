{
 "cells": [
  {
   "cell_type": "code",
   "execution_count": 1,
   "metadata": {
    "collapsed": true
   },
   "outputs": [],
   "source": [
    "# we verify if the uncertainty points selected by active learning strategy is indeed lying on decision boundary\n",
    "# least confidence strategy"
   ]
  },
  {
   "cell_type": "code",
   "execution_count": 1,
   "outputs": [],
   "source": [
    "from deepvisualinsight.MMS import MMS\n",
    "from deepvisualinsight import utils\n",
    "import sys\n",
    "import os\n",
    "import numpy as np\n",
    "import time\n",
    "import matplotlib.pyplot as plt\n",
    "import torch\n",
    "import json\n",
    "import tensorflow as tf"
   ],
   "metadata": {
    "collapsed": false,
    "pycharm": {
     "name": "#%%\n"
    }
   }
  },
  {
   "cell_type": "code",
   "execution_count": 22,
   "outputs": [
    {
     "name": "stdout",
     "output_type": "stream",
     "text": [
      "Finish loading content!\n"
     ]
    }
   ],
   "source": [
    "content_path = \"E:\\\\DVI_exp_data\\\\active_learning\\\\LeastConfident\"\n",
    "sys.path.append(content_path)\n",
    "\n",
    "from Model.model import *\n",
    "net = ResNet18()\n",
    "classes = (\"airplane\", \"car\", \"bird\", \"cat\", \"deer\", \"dog\", \"frog\", \"horse\", \"ship\", \"truck\")\n",
    "\n",
    "mms = MMS(content_path, net, 1, 10, 1, 512, 10, classes, cmap=\"tab10\", resolution=400, neurons=256,\n",
    "          verbose=1, temporal=False, split=-1, advance_border_gen=True, attack_device=\"cuda:0\")"
   ],
   "metadata": {
    "collapsed": false,
    "pycharm": {
     "name": "#%%\n"
    }
   }
  },
  {
   "cell_type": "code",
   "execution_count": 28,
   "outputs": [],
   "source": [
    "# hyperparameters\n",
    "EPOCH = 1"
   ],
   "metadata": {
    "collapsed": false,
    "pycharm": {
     "name": "#%%\n"
    }
   }
  },
  {
   "cell_type": "code",
   "execution_count": 29,
   "outputs": [],
   "source": [
    "# 1. whether selected points lie on boundary?\n",
    "new_index_file = os.path.join(mms.model_path, \"Epoch_{:d}\".format(EPOCH+1), \"index.json\")\n",
    "new_index = utils.load_labelled_data_index(new_index_file)\n",
    "\n",
    "training_data = mms.training_data\n",
    "train_data = mms.get_representation_data(EPOCH, training_data)\n",
    "\n",
    "index_file = os.path.join(mms.model_path, \"Epoch_{:d}\".format(EPOCH), \"index.json\")\n",
    "index = utils.load_labelled_data_index(index_file)\n",
    "l = []\n",
    "for j in range(len(new_index)):\n",
    "    if new_index[j] not in index:\n",
    "        l.append(j)\n",
    "\n",
    "preds = mms.get_pred(EPOCH, train_data[l])\n",
    "preds = preds + 1e-8\n",
    "\n",
    "sort_preds = np.sort(preds)\n",
    "diff = (sort_preds[:, -1] - sort_preds[:, -2]) / (sort_preds[:, -1] - sort_preds[:, 0])"
   ],
   "metadata": {
    "collapsed": false,
    "pycharm": {
     "name": "#%%\n"
    }
   }
  },
  {
   "cell_type": "code",
   "execution_count": 30,
   "outputs": [
    {
     "data": {
      "text/plain": "436"
     },
     "execution_count": 30,
     "metadata": {},
     "output_type": "execute_result"
    }
   ],
   "source": [
    "border = np.zeros(len(diff), dtype=np.bool)\n",
    "border[diff < 0.2] = 1\n",
    "\n",
    "# how many of them lie on boundary\n",
    "s = np.sum(border)\n",
    "s"
   ],
   "metadata": {
    "collapsed": false,
    "pycharm": {
     "name": "#%%\n"
    }
   }
  },
  {
   "cell_type": "code",
   "execution_count": 31,
   "outputs": [
    {
     "name": "stdout",
     "output_type": "stream",
     "text": [
      "Computing decision regions ...\n",
      "WARNING:tensorflow:No training configuration found in save file, so the model was *not* compiled. Compile it manually.\n",
      "Keras encoder model loaded from <tensorflow.python.keras.engine.sequential.Sequential object at 0x000001C075D0DCC0>\n",
      "WARNING:tensorflow:No training configuration found in save file, so the model was *not* compiled. Compile it manually.\n",
      "Keras encoder model loaded from <tensorflow.python.keras.engine.sequential.Sequential object at 0x000001C114072A90>\n",
      "WARNING:tensorflow:No training configuration found in save file, so the model was *not* compiled. Compile it manually.\n",
      "Keras encoder model loaded from <tensorflow.python.keras.engine.sequential.Sequential object at 0x000001C112523588>\n"
     ]
    },
    {
     "data": {
      "text/plain": "(204, 436, 0.46788990825688076)"
     },
     "execution_count": 31,
     "metadata": {},
     "output_type": "execute_result"
    }
   ],
   "source": [
    "# 2. if point lies on boundary, is the background white?\n",
    "grid_view, decision_view =mms.get_epoch_decision_view(EPOCH, resolution=100)\n",
    "grid_view = grid_view.reshape(-1, 2)\n",
    "decision_view = decision_view.reshape(-1,3)\n",
    "from sklearn.neighbors import NearestNeighbors\n",
    "nbs = NearestNeighbors(n_neighbors=1, algorithm=\"ball_tree\").fit(grid_view)\n",
    "\n",
    "target_samples = train_data[l][border]\n",
    "repr_2d = mms.batch_project(target_samples, EPOCH)\n",
    "_, indices = nbs.kneighbors(repr_2d)\n",
    "indices = indices.squeeze()\n",
    "sample_colors = decision_view[indices]\n",
    "\n",
    "c1 = np.zeros(indices.shape[0], dtype=np.bool)\n",
    "c1[sample_colors[:,0]>0.8] = 1\n",
    "\n",
    "c2 = np.zeros(indices.shape[0], dtype=np.bool)\n",
    "c2[sample_colors[:,1]>0.8] = 1\n",
    "\n",
    "c3 = np.zeros(indices.shape[0], dtype=np.bool)\n",
    "c3[sample_colors[:,2]>0.8] = 1\n",
    "c = np.logical_and(c1,c2)\n",
    "c=np.logical_and(c, c3)\n",
    "\n",
    "np.sum(c), len(c), np.sum(c)/len(c)\n"
   ],
   "metadata": {
    "collapsed": false,
    "pycharm": {
     "name": "#%%\n"
    }
   }
  }
 ],
 "metadata": {
  "kernelspec": {
   "name": "dr2",
   "language": "python",
   "display_name": "Python xianglinDR2"
  },
  "language_info": {
   "codemirror_mode": {
    "name": "ipython",
    "version": 2
   },
   "file_extension": ".py",
   "mimetype": "text/x-python",
   "name": "python",
   "nbconvert_exporter": "python",
   "pygments_lexer": "ipython2",
   "version": "2.7.6"
  }
 },
 "nbformat": 4,
 "nbformat_minor": 0
}