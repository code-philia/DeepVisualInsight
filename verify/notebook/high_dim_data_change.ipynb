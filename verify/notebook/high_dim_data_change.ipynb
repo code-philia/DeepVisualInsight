{
 "cells": [
  {
   "cell_type": "code",
   "execution_count": null,
   "metadata": {
    "collapsed": true
   },
   "outputs": [],
   "source": [
    "# check if high dimensional embedding change or not"
   ]
  },
  {
   "cell_type": "code",
   "execution_count": null,
   "outputs": [],
   "source": [
    "# import modules\n",
    "import sys\n",
    "import numpy as np\n",
    "\n",
    "from deepvisualinsight.MMS import MMS\n"
   ],
   "metadata": {
    "collapsed": false,
    "pycharm": {
     "name": "#%%\n"
    }
   }
  },
  {
   "cell_type": "code",
   "execution_count": null,
   "outputs": [],
   "source": [
    "content_path = \"E:\\\\DVI_exp_data\\\\active_learning\\\\LeastConfidence\"\n",
    "sys.path.append(content_path)\n",
    "\n",
    "from Model.model import *\n",
    "net = ResNet18()\n",
    "classes = (\"airplane\", \"car\", \"bird\", \"cat\", \"deer\", \"dog\", \"frog\", \"horse\", \"ship\", \"truck\")\n",
    "\n",
    "mms = MMS(content_path, net, 1, 20, 1, 512, 10, classes, cmap=\"tab10\", resolution=100, neurons=256,\n",
    "          verbose=1, temporal=False, split=-1, advance_border_gen=True, attack_device=\"cuda:0\")"
   ],
   "metadata": {
    "collapsed": false,
    "pycharm": {
     "name": "#%%\n"
    }
   }
  },
  {
   "cell_type": "code",
   "execution_count": null,
   "outputs": [],
   "source": [
    "# hyperparameters\n",
    "EPOCH=10"
   ],
   "metadata": {
    "collapsed": false,
    "pycharm": {
     "name": "#%%\n"
    }
   }
  },
  {
   "cell_type": "code",
   "execution_count": null,
   "outputs": [],
   "source": [
    "prev = mms.get_epoch_train_repr_data(EPOCH-1)\n",
    "curr = mms.get_epoch_train_repr_data(EPOCH)\n",
    "\n",
    "dist = np.linalg.norm(prev, curr)\n",
    "dist.mean(axis=0)"
   ],
   "metadata": {
    "collapsed": false,
    "pycharm": {
     "name": "#%%\n"
    }
   }
  }
 ],
 "metadata": {
  "kernelspec": {
   "name": "dr2",
   "language": "python",
   "display_name": "Python xianglinDR2"
  },
  "language_info": {
   "codemirror_mode": {
    "name": "ipython",
    "version": 2
   },
   "file_extension": ".py",
   "mimetype": "text/x-python",
   "name": "python",
   "nbconvert_exporter": "python",
   "pygments_lexer": "ipython2",
   "version": "2.7.6"
  }
 },
 "nbformat": 4,
 "nbformat_minor": 0
}