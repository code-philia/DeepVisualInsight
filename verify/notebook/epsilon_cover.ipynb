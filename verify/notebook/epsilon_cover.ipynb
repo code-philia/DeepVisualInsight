{
 "cells": [
  {
   "cell_type": "code",
   "execution_count": null,
   "metadata": {
    "collapsed": true
   },
   "outputs": [],
   "source": [
    "# verify K-Center-greedy algorithm in coreset query strategy"
   ]
  },
  {
   "cell_type": "code",
   "execution_count": null,
   "outputs": [],
   "source": [
    "# import modules\n",
    "import sys\n",
    "import numpy as np\n",
    "import os\n",
    "from sklearn.neighbors import NearestNeighbors\n",
    "from scipy.spatial import distance_matrix\n",
    "\n",
    "from deepvisualinsight.MMS import MMS\n",
    "from deepvisualinsight import utils\n"
   ],
   "metadata": {
    "collapsed": false,
    "pycharm": {
     "name": "#%%\n"
    }
   }
  },
  {
   "cell_type": "code",
   "execution_count": null,
   "outputs": [],
   "source": [
    "content_path = \"E:\\\\DVI_exp_data\\\\active_learning\\\\LeastConfidence\"\n",
    "sys.path.append(content_path)\n",
    "\n",
    "from Model.model import *\n",
    "net = ResNet18()\n",
    "classes = (\"airplane\", \"car\", \"bird\", \"cat\", \"deer\", \"dog\", \"frog\", \"horse\", \"ship\", \"truck\")\n",
    "\n",
    "mms = MMS(content_path, net, 1, 20, 1, 512, 10, classes, cmap=\"tab10\", resolution=100, neurons=256,\n",
    "          verbose=1, temporal=False, split=-1, advance_border_gen=True, attack_device=\"cuda:0\")"
   ],
   "metadata": {
    "collapsed": false,
    "pycharm": {
     "name": "#%%\n"
    }
   }
  },
  {
   "cell_type": "code",
   "execution_count": null,
   "outputs": [],
   "source": [
    "# hyperparameters\n",
    "# EPOCH=10"
   ],
   "metadata": {
    "collapsed": false,
    "pycharm": {
     "name": "#%%\n"
    }
   }
  },
  {
   "cell_type": "code",
   "execution_count": null,
   "outputs": [],
   "source": [
    "# high-epsilon\n",
    "epsilons = np.zeros(20)\n",
    "for n_epoch in range(20):\n",
    "    new_index_file = os.path.join(mms.model_path, \"Epoch_{:d}\".format(n_epoch+1), \"index.json\")\n",
    "    new_index = utils.load_labelled_data_index(new_index_file)\n",
    "\n",
    "    training_data = mms.training_data\n",
    "    train_data = mms.get_representation_data(n_epoch, training_data)\n",
    "\n",
    "    index_file = os.path.join(mms.model_path, \"Epoch_{:d}\".format(n_epoch), \"index.json\")\n",
    "    index = utils.load_labelled_data_index(index_file)\n",
    "\n",
    "    curr = train_data[new_index]\n",
    "    #%%\n",
    "\n",
    "    nbs = NearestNeighbors(n_neighbors=1, algorithm=\"ball_tree\").fit(new_index)\n",
    "    dists, _ = nbs.kneighbors(train_data)\n",
    "    dists = dists.squeeze()\n",
    "    epsilons[n_epoch] = dists.max()"
   ],
   "metadata": {
    "collapsed": false,
    "pycharm": {
     "name": "#%%\n"
    }
   }
  },
  {
   "cell_type": "code",
   "execution_count": null,
   "outputs": [],
   "source": [
    "# high-epsilon\n",
    "epsilons = np.zeros(20)\n",
    "for n_epoch in range(20):\n",
    "    new_index_file = os.path.join(mms.model_path, \"Epoch_{:d}\".format(n_epoch+1), \"index.json\")\n",
    "    new_index = utils.load_labelled_data_index(new_index_file)\n",
    "    training_data = mms.training_data\n",
    "    train_data = mms.get_representation_data(n_epoch, training_data)\n",
    "\n",
    "    index_file = os.path.join(mms.model_path, \"Epoch_{:d}\".format(n_epoch), \"index.json\")\n",
    "    index = utils.load_labelled_data_index(index_file)\n",
    "\n",
    "    repr_2d = mms.batch_project(train_data, n_epoch)\n",
    "    curr = repr_2d[new_index]\n",
    "\n",
    "    nbs = NearestNeighbors(n_neighbors=1, algorithm=\"ball_tree\").fit(curr)\n",
    "\n",
    "    dists, _ = nbs.kneighbors(repr_2d)\n",
    "    dists = dists.squeeze()\n",
    "    epsilons[n_epoch] = dists.max()"
   ],
   "metadata": {
    "collapsed": false,
    "pycharm": {
     "name": "#%%\n"
    }
   }
  },
  {
   "cell_type": "code",
   "execution_count": null,
   "outputs": [],
   "source": [
    "def greedy_k_center(labeled, unlabeled, amount):\n",
    "\n",
    "    greedy_indices = []\n",
    "\n",
    "    # get the minimum distances between the labeled and unlabeled examples (iteratively, to avoid memory issues):\n",
    "    min_dist = np.min(distance_matrix(labeled[0, :].reshape((1, labeled.shape[1])), unlabeled), axis=0)\n",
    "    min_dist = min_dist.reshape((1, min_dist.shape[0]))\n",
    "    for j in range(1, labeled.shape[0], 1000):\n",
    "        if j + 1000 < labeled.shape[0]:\n",
    "            dist = distance_matrix(labeled[j:j+1000, :], unlabeled)\n",
    "        else:\n",
    "            dist = distance_matrix(labeled[j:, :], unlabeled)\n",
    "        min_dist = np.vstack((min_dist, np.min(dist, axis=0).reshape((1, min_dist.shape[1]))))\n",
    "        min_dist = np.min(min_dist, axis=0)\n",
    "        min_dist = min_dist.reshape((1, min_dist.shape[0]))\n",
    "\n",
    "    # iteratively insert the farthest index and recalculate the minimum distances:\n",
    "    farthest = np.argmax(min_dist)\n",
    "    greedy_indices.append(farthest)\n",
    "    for i in range(amount-1):\n",
    "        dist = distance_matrix(unlabeled[greedy_indices[-1], :].reshape((1,unlabeled.shape[1])), unlabeled)\n",
    "        min_dist = np.vstack((min_dist, dist.reshape((1, min_dist.shape[1]))))\n",
    "        min_dist = np.min(min_dist, axis=0)\n",
    "        min_dist = min_dist.reshape((1, min_dist.shape[0]))\n",
    "        farthest = np.argmax(min_dist)\n",
    "        greedy_indices.append(farthest)\n",
    "\n",
    "    return np.array(greedy_indices)"
   ],
   "metadata": {
    "collapsed": false,
    "pycharm": {
     "name": "#%%\n"
    }
   }
  },
  {
   "cell_type": "code",
   "execution_count": null,
   "outputs": [],
   "source": [
    "epsilons = np.zeros(20)\n",
    "for n_epoch in range(20):\n",
    "    training_data = mms.training_data\n",
    "    train_data = mms.get_representation_data(n_epoch, training_data)\n",
    "\n",
    "    index_file = os.path.join(mms.model_path, \"Epoch_{:d}\".format(n_epoch), \"index.json\")\n",
    "    index = utils.load_labelled_data_index(index_file)\n",
    "\n",
    "    repr_2d = mms.batch_project(train_data, n_epoch)\n",
    "    unl_idx = np.setdiff1d(np.arange(50000),np.array(index))\n",
    "    new_index = greedy_k_center(repr_2d[index], repr_2d[unl_idx], 1000)\n",
    "    all_index = index + new_index.tolist()\n",
    "\n",
    "    nbs = NearestNeighbors(n_neighbors=1, algorithm=\"ball_tree\").fit(repr_2d[all_index])\n",
    "\n",
    "    dists, _ = nbs.kneighbors(repr_2d)\n",
    "    dists = dists.squeeze()\n",
    "    epsilons[n_epoch] = dists.max()"
   ],
   "metadata": {
    "collapsed": false,
    "pycharm": {
     "name": "#%%\n"
    }
   }
  }
 ],
 "metadata": {
  "kernelspec": {
   "name": "dr2",
   "language": "python",
   "display_name": "Python xianglinDR2"
  },
  "language_info": {
   "codemirror_mode": {
    "name": "ipython",
    "version": 2
   },
   "file_extension": ".py",
   "mimetype": "text/x-python",
   "name": "python",
   "nbconvert_exporter": "python",
   "pygments_lexer": "ipython2",
   "version": "2.7.6"
  }
 },
 "nbformat": 4,
 "nbformat_minor": 0
}