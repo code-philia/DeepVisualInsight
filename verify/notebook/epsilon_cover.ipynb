{
 "cells": [
  {
   "cell_type": "code",
   "execution_count": null,
   "metadata": {
    "collapsed": true
   },
   "outputs": [],
   "source": [
    "# verify K-Center-greedy algorithm in coreset query strategy"
   ]
  },
  {
   "cell_type": "code",
   "execution_count": 1,
   "outputs": [],
   "source": [
    "# import modules\n",
    "import sys\n",
    "import numpy as np\n",
    "import os\n",
    "from sklearn.neighbors import NearestNeighbors\n",
    "from sklearn.neighbors import KDTree\n",
    "from scipy.spatial import distance_matrix\n",
    "\n",
    "from deepvisualinsight.MMS import MMS\n",
    "from deepvisualinsight import utils"
   ],
   "metadata": {
    "collapsed": false,
    "pycharm": {
     "name": "#%%\n"
    }
   }
  },
  {
   "cell_type": "code",
   "execution_count": 2,
   "outputs": [],
   "source": [
    "# helper function\n",
    "def greedy_k_center(labeled, unlabeled, amount):\n",
    "\n",
    "    greedy_indices = []\n",
    "\n",
    "    # get the minimum distances between the labeled and unlabeled examples (iteratively, to avoid memory issues):\n",
    "    min_dist = np.min(distance_matrix(labeled[0, :].reshape((1, labeled.shape[1])), unlabeled), axis=0)\n",
    "    min_dist = min_dist.reshape((1, min_dist.shape[0]))\n",
    "    for j in range(1, labeled.shape[0], 1000):\n",
    "        if j + 1000 < labeled.shape[0]:\n",
    "            dist = distance_matrix(labeled[j:j+1000, :], unlabeled)\n",
    "        else:\n",
    "            dist = distance_matrix(labeled[j:, :], unlabeled)\n",
    "        min_dist = np.vstack((min_dist, np.min(dist, axis=0).reshape((1, min_dist.shape[1]))))\n",
    "        min_dist = np.min(min_dist, axis=0)\n",
    "        min_dist = min_dist.reshape((1, min_dist.shape[0]))\n",
    "\n",
    "    # iteratively insert the farthest index and recalculate the minimum distances:\n",
    "    farthest = np.argmax(min_dist)\n",
    "    greedy_indices.append(farthest)\n",
    "    for i in range(amount-1):\n",
    "        dist = distance_matrix(unlabeled[greedy_indices[-1], :].reshape((1,unlabeled.shape[1])), unlabeled)\n",
    "        min_dist = np.vstack((min_dist, dist.reshape((1, min_dist.shape[1]))))\n",
    "        min_dist = np.min(min_dist, axis=0)\n",
    "        min_dist = min_dist.reshape((1, min_dist.shape[0]))\n",
    "        farthest = np.argmax(min_dist)\n",
    "        greedy_indices.append(farthest)\n",
    "\n",
    "    return np.array(greedy_indices)"
   ],
   "metadata": {
    "collapsed": false,
    "pycharm": {
     "name": "#%%\n"
    }
   }
  },
  {
   "cell_type": "code",
   "execution_count": 3,
   "outputs": [
    {
     "name": "stdout",
     "output_type": "stream",
     "text": [
      "Finish loading content!\n"
     ]
    }
   ],
   "source": [
    "content_path = \"E:\\\\DVI_exp_data\\\\active_learning\\\\coreset\"\n",
    "sys.path.append(content_path)\n",
    "\n",
    "from Model.model import *\n",
    "net = ResNet18()\n",
    "classes = (\"airplane\", \"car\", \"bird\", \"cat\", \"deer\", \"dog\", \"frog\", \"horse\", \"ship\", \"truck\")\n",
    "\n",
    "mms = MMS(content_path, net, 1, 20, 1, 512, 10, classes, cmap=\"tab10\", resolution=100, neurons=256,\n",
    "          verbose=1, temporal=False, split=-1, advance_border_gen=True, attack_device=\"cuda:0\")"
   ],
   "metadata": {
    "collapsed": false,
    "pycharm": {
     "name": "#%%\n"
    }
   }
  },
  {
   "cell_type": "code",
   "execution_count": 4,
   "outputs": [
    {
     "data": {
      "text/plain": "array([4.02150939, 3.9213272 , 2.92771248, 3.52480613, 3.02320138,\n       3.52242175, 2.75349766, 3.29114047, 3.02116381])"
     },
     "execution_count": 4,
     "metadata": {},
     "output_type": "execute_result"
    }
   ],
   "source": [
    "# high-epsilon\n",
    "epsilons = np.zeros(9)\n",
    "for n_epoch in range(1,10, 1):\n",
    "    new_index_file = os.path.join(mms.model_path, \"Epoch_{:d}\".format(n_epoch+1), \"index.json\")\n",
    "    new_index = utils.load_labelled_data_index(new_index_file)\n",
    "\n",
    "    training_data = mms.training_data\n",
    "    train_data = mms.get_representation_data(n_epoch, training_data)\n",
    "\n",
    "    index_file = os.path.join(mms.model_path, \"Epoch_{:d}\".format(n_epoch), \"index.json\")\n",
    "    index = utils.load_labelled_data_index(index_file)\n",
    "\n",
    "    curr = train_data[new_index]\n",
    "\n",
    "    high_tree = KDTree(curr)\n",
    "    dists, _ = high_tree.query(train_data, k=1)\n",
    "\n",
    "    dists = dists.squeeze()\n",
    "    epsilons[n_epoch-1] = dists.max()\n",
    "epsilons"
   ],
   "metadata": {
    "collapsed": false,
    "pycharm": {
     "name": "#%%\n"
    }
   }
  },
  {
   "cell_type": "code",
   "execution_count": 6,
   "outputs": [
    {
     "name": "stdout",
     "output_type": "stream",
     "text": [
      "WARNING:tensorflow:No training configuration found in save file, so the model was *not* compiled. Compile it manually.\n",
      "Keras encoder model loaded from <tensorflow.python.keras.engine.sequential.Sequential object at 0x0000022C3B3ED860>\n",
      "WARNING:tensorflow:From E:\\xianglin\\git_space\\DeepVisualInsight\\deepvisualinsight\\MMS.py:415: _EagerTensorBase.cpu (from tensorflow.python.framework.ops) is deprecated and will be removed in a future version.\n",
      "Instructions for updating:\n",
      "Use tf.identity instead.\n",
      "WARNING:tensorflow:No training configuration found in save file, so the model was *not* compiled. Compile it manually.\n",
      "Keras encoder model loaded from <tensorflow.python.keras.engine.sequential.Sequential object at 0x0000022C3E5F6278>\n",
      "WARNING:tensorflow:No training configuration found in save file, so the model was *not* compiled. Compile it manually.\n",
      "Keras encoder model loaded from <tensorflow.python.keras.engine.sequential.Sequential object at 0x0000022C3E566320>\n",
      "WARNING:tensorflow:No training configuration found in save file, so the model was *not* compiled. Compile it manually.\n",
      "Keras encoder model loaded from <tensorflow.python.keras.engine.sequential.Sequential object at 0x0000022C0384E6D8>\n",
      "WARNING:tensorflow:No training configuration found in save file, so the model was *not* compiled. Compile it manually.\n",
      "Keras encoder model loaded from <tensorflow.python.keras.engine.sequential.Sequential object at 0x0000022C08209AC8>\n",
      "WARNING:tensorflow:No training configuration found in save file, so the model was *not* compiled. Compile it manually.\n",
      "Keras encoder model loaded from <tensorflow.python.keras.engine.sequential.Sequential object at 0x0000022C75F694E0>\n",
      "WARNING:tensorflow:No training configuration found in save file, so the model was *not* compiled. Compile it manually.\n",
      "Keras encoder model loaded from <tensorflow.python.keras.engine.sequential.Sequential object at 0x0000022C7F9638D0>\n",
      "WARNING:tensorflow:No training configuration found in save file, so the model was *not* compiled. Compile it manually.\n",
      "Keras encoder model loaded from <tensorflow.python.keras.engine.sequential.Sequential object at 0x0000022C982B7F60>\n",
      "WARNING:tensorflow:No training configuration found in save file, so the model was *not* compiled. Compile it manually.\n",
      "Keras encoder model loaded from <tensorflow.python.keras.engine.sequential.Sequential object at 0x0000022CB12A37F0>\n"
     ]
    },
    {
     "data": {
      "text/plain": "array([0.70202433, 0.44740197, 1.51597259, 1.36008101, 1.50354327,\n       1.67582399, 2.22395194, 2.75586312, 1.94168804])"
     },
     "execution_count": 5,
     "metadata": {},
     "output_type": "execute_result"
    },
    {
     "name": "stdout",
     "output_type": "stream",
     "text": [
      "WARNING:tensorflow:No training configuration found in save file, so the model was *not* compiled. Compile it manually.\n",
      "Keras encoder model loaded from <tensorflow.python.keras.engine.sequential.Sequential object at 0x0000022C3AC4FE80>\n",
      "WARNING:tensorflow:No training configuration found in save file, so the model was *not* compiled. Compile it manually.\n",
      "Keras encoder model loaded from <tensorflow.python.keras.engine.sequential.Sequential object at 0x0000022CB12B29B0>\n",
      "WARNING:tensorflow:No training configuration found in save file, so the model was *not* compiled. Compile it manually.\n",
      "Keras encoder model loaded from <tensorflow.python.keras.engine.sequential.Sequential object at 0x0000022C3E4A1898>\n",
      "WARNING:tensorflow:No training configuration found in save file, so the model was *not* compiled. Compile it manually.\n",
      "Keras encoder model loaded from <tensorflow.python.keras.engine.sequential.Sequential object at 0x0000022C3B8D1D30>\n",
      "WARNING:tensorflow:No training configuration found in save file, so the model was *not* compiled. Compile it manually.\n",
      "Keras encoder model loaded from <tensorflow.python.keras.engine.sequential.Sequential object at 0x0000022C3E58FF98>\n",
      "WARNING:tensorflow:No training configuration found in save file, so the model was *not* compiled. Compile it manually.\n",
      "Keras encoder model loaded from <tensorflow.python.keras.engine.sequential.Sequential object at 0x0000022C081EA160>\n",
      "WARNING:tensorflow:No training configuration found in save file, so the model was *not* compiled. Compile it manually.\n",
      "Keras encoder model loaded from <tensorflow.python.keras.engine.sequential.Sequential object at 0x0000022C3CF8CCF8>\n",
      "WARNING:tensorflow:No training configuration found in save file, so the model was *not* compiled. Compile it manually.\n",
      "Keras encoder model loaded from <tensorflow.python.keras.engine.sequential.Sequential object at 0x0000022C75F7A4A8>\n",
      "WARNING:tensorflow:No training configuration found in save file, so the model was *not* compiled. Compile it manually.\n",
      "Keras encoder model loaded from <tensorflow.python.keras.engine.sequential.Sequential object at 0x0000022C03173358>\n"
     ]
    },
    {
     "data": {
      "text/plain": "array([0.70202433, 0.44740197, 1.51597259, 1.36008101, 1.50354327,\n       1.67582399, 2.22395194, 2.75586312, 1.94168804])"
     },
     "execution_count": 6,
     "metadata": {},
     "output_type": "execute_result"
    }
   ],
   "source": [
    "# high-epsilon\n",
    "epsilons = np.zeros(9)\n",
    "for n_epoch in range(1, 10, 1):\n",
    "    new_index_file = os.path.join(mms.model_path, \"Epoch_{:d}\".format(n_epoch+1), \"index.json\")\n",
    "    new_index = utils.load_labelled_data_index(new_index_file)\n",
    "    training_data = mms.training_data\n",
    "    train_data = mms.get_representation_data(n_epoch, training_data)\n",
    "\n",
    "    index_file = os.path.join(mms.model_path, \"Epoch_{:d}\".format(n_epoch), \"index.json\")\n",
    "    index = utils.load_labelled_data_index(index_file)\n",
    "\n",
    "    repr_2d = mms.batch_project(train_data, n_epoch)\n",
    "    curr = repr_2d[new_index]\n",
    "    high_tree = KDTree(curr)\n",
    "    dists, _ = high_tree.query(repr_2d, k=1)\n",
    "    dists = dists.squeeze()\n",
    "    epsilons[n_epoch-1] = dists.max()\n",
    "epsilons"
   ],
   "metadata": {
    "collapsed": false,
    "pycharm": {
     "name": "#%%\n"
    }
   }
  },
  {
   "cell_type": "code",
   "execution_count": 9,
   "outputs": [
    {
     "name": "stdout",
     "output_type": "stream",
     "text": [
      "WARNING:tensorflow:No training configuration found in save file, so the model was *not* compiled. Compile it manually.\n",
      "Keras encoder model loaded from <tensorflow.python.keras.engine.sequential.Sequential object at 0x0000022C3E7A6CC0>\n",
      "WARNING:tensorflow:No training configuration found in save file, so the model was *not* compiled. Compile it manually.\n",
      "Keras encoder model loaded from <tensorflow.python.keras.engine.sequential.Sequential object at 0x0000022C3CDE5208>\n",
      "WARNING:tensorflow:No training configuration found in save file, so the model was *not* compiled. Compile it manually.\n",
      "Keras encoder model loaded from <tensorflow.python.keras.engine.sequential.Sequential object at 0x0000022C7B6600F0>\n",
      "WARNING:tensorflow:No training configuration found in save file, so the model was *not* compiled. Compile it manually.\n",
      "Keras encoder model loaded from <tensorflow.python.keras.engine.sequential.Sequential object at 0x0000022C3D0D1BE0>\n",
      "WARNING:tensorflow:No training configuration found in save file, so the model was *not* compiled. Compile it manually.\n",
      "Keras encoder model loaded from <tensorflow.python.keras.engine.sequential.Sequential object at 0x0000022CE757F0B8>\n",
      "WARNING:tensorflow:No training configuration found in save file, so the model was *not* compiled. Compile it manually.\n",
      "Keras encoder model loaded from <tensorflow.python.keras.engine.sequential.Sequential object at 0x0000022C3D094E48>\n",
      "WARNING:tensorflow:No training configuration found in save file, so the model was *not* compiled. Compile it manually.\n",
      "Keras encoder model loaded from <tensorflow.python.keras.engine.sequential.Sequential object at 0x0000022CE741B048>\n",
      "WARNING:tensorflow:No training configuration found in save file, so the model was *not* compiled. Compile it manually.\n",
      "Keras encoder model loaded from <tensorflow.python.keras.engine.sequential.Sequential object at 0x0000022CE745C208>\n",
      "WARNING:tensorflow:No training configuration found in save file, so the model was *not* compiled. Compile it manually.\n",
      "Keras encoder model loaded from <tensorflow.python.keras.engine.sequential.Sequential object at 0x0000022C41082CF8>\n"
     ]
    },
    {
     "data": {
      "text/plain": "array([0.76349818, 0.75984228, 1.51672642, 1.97005472, 1.49694344,\n       2.50808536, 2.50276392, 2.75586312, 2.08008018])"
     },
     "execution_count": 9,
     "metadata": {},
     "output_type": "execute_result"
    }
   ],
   "source": [
    "epsilons = np.zeros(9)\n",
    "for n_epoch in range(1, 10, 1):\n",
    "    training_data = mms.training_data\n",
    "    train_data = mms.get_representation_data(n_epoch, training_data)\n",
    "\n",
    "    index_file = os.path.join(mms.model_path, \"Epoch_{:d}\".format(n_epoch), \"index.json\")\n",
    "    index = utils.load_labelled_data_index(index_file)\n",
    "\n",
    "    repr_2d = mms.batch_project(train_data, n_epoch)\n",
    "    unl_idx = np.setdiff1d(np.arange(50000),np.array(index))\n",
    "    new_index = greedy_k_center(repr_2d[index], repr_2d[unl_idx], 1000)\n",
    "    all_index = index + new_index.tolist()\n",
    "\n",
    "    high_tree = KDTree(repr_2d[all_index])\n",
    "    dists, _ = high_tree.query(repr_2d, k=1)\n",
    "    dists = dists.squeeze()\n",
    "    epsilons[n_epoch-1] = dists.max()\n",
    "epsilons"
   ],
   "metadata": {
    "collapsed": false,
    "pycharm": {
     "name": "#%%\n"
    }
   }
  }
 ],
 "metadata": {
  "kernelspec": {
   "name": "dr2",
   "language": "python",
   "display_name": "Python xianglinDR2"
  },
  "language_info": {
   "codemirror_mode": {
    "name": "ipython",
    "version": 2
   },
   "file_extension": ".py",
   "mimetype": "text/x-python",
   "name": "python",
   "nbconvert_exporter": "python",
   "pygments_lexer": "ipython2",
   "version": "2.7.6"
  }
 },
 "nbformat": 4,
 "nbformat_minor": 0
}