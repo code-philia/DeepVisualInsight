{
 "cells": [
  {
   "cell_type": "code",
   "execution_count": null,
   "metadata": {
    "collapsed": true
   },
   "outputs": [],
   "source": [
    "# verigy whether nonflat/distort boundary models are easier to be adversarial attack\n",
    "# time or distortion\n",
    "# here we choose time"
   ]
  },
  {
   "cell_type": "code",
   "execution_count": 8,
   "outputs": [],
   "source": [
    "# fgsm attack\n",
    "# import modules\n",
    "from deepvisualinsight.MMS import MMS\n",
    "from deepvisualinsight import utils\n",
    "import sys\n",
    "import os\n",
    "import numpy as np\n",
    "import time\n",
    "import matplotlib.pyplot as plt\n",
    "import torch\n",
    "import torch.nn as nn\n",
    "import torch.optim as optim\n",
    "import json\n",
    "import tensorflow as tf\n",
    "import torchvision.transforms as transforms\n",
    "import torchvision"
   ],
   "metadata": {
    "collapsed": false,
    "pycharm": {
     "name": "#%%\n"
    }
   }
  },
  {
   "cell_type": "code",
   "execution_count": null,
   "outputs": [],
   "source": [
    "def cw_l2_attack(model, image, label, device,c=1, kappa=0, max_iter=25, learning_rate=0.1, verbose=1):\n",
    "\n",
    "    # Get loss2\n",
    "    def f(x):\n",
    "        outputs = model(x)\n",
    "        one_hot_labels = torch.eye(len(outputs[0]))[label].to(device)\n",
    "\n",
    "        i, _ = torch.max((1-one_hot_labels)*outputs, dim=1)\n",
    "        j = torch.masked_select(outputs, one_hot_labels.byte())\n",
    "\n",
    "        return torch.clamp(j-i, min=-kappa)\n",
    "\n",
    "    successful = False\n",
    "\n",
    "    # initialize w : the noise\n",
    "    w = torch.zeros_like(image, requires_grad=True).to(device)\n",
    "    optimizer = optim.Adam([w], lr=learning_rate) # an optimizer specifically for w\n",
    "\n",
    "    for step in range(max_iter):\n",
    "        # w is the noise added to the original image, restricted to be [-1, 1]\n",
    "        a = image + torch.tanh(w)\n",
    "\n",
    "        loss1 = nn.MSELoss(reduction='sum')(a, image) # ||x-x'||2\n",
    "        loss2 = torch.sum(c*f(a)) # c*{f(label) - f(target_cls)}\n",
    "\n",
    "        cost = loss1 + loss2\n",
    "\n",
    "        # Backprop: jointly optimize the loss\n",
    "        optimizer.zero_grad()\n",
    "        cost.backward()\n",
    "        optimizer.step()\n",
    "\n",
    "        # New prediction\n",
    "        with torch.no_grad():\n",
    "            pred_new = model(a)\n",
    "\n",
    "        # Stop when ...\n",
    "        # successfully flip the label\n",
    "        if torch.argmax(pred_new, dim=1).item() != label.item():\n",
    "            successful = True\n",
    "            break\n",
    "\n",
    "        if verbose > 0:\n",
    "            print('- Learning Progress : %2.2f %% ' %((step+1)/max_iter*100), end='\\r')\n",
    "\n",
    "    # w is the noise added to the original image, restricted to be [-1, 1]\n",
    "    # attack_images = image + torch.tanh(w)\n",
    "    r = torch.tanh(w).detach.cpu().numpy()\n",
    "    r = np.sqrt(np.mean(np.power(r, 2)))\n",
    "\n",
    "    return r, successful, step\n"
   ],
   "metadata": {
    "collapsed": false,
    "pycharm": {
     "name": "#%%\n"
    }
   }
  },
  {
   "cell_type": "code",
   "execution_count": null,
   "outputs": [],
   "source": [
    "criterion = nn.CrossEntropyLoss()\n",
    "softmax = torch.nn.Softmax(dim=-1)\n",
    "epsilons = [.01,.03,.05,.1]\n",
    "epsilon = .01\n",
    "\n",
    "def fgsm_attack(image, epsilon, data_grad):\n",
    "\n",
    "    # Collect the element-wise sign of the data gradient\n",
    "    sign_data_grad = torch.sign(data_grad)\n",
    "\n",
    "    perturbed_image = image + epsilon*sign_data_grad\n",
    "\n",
    "    # Adding clipping to maintain [0,1] range\n",
    "    perturbed_image = torch.clamp(perturbed_image, 0, 1)\n",
    "\n",
    "    return perturbed_image"
   ],
   "metadata": {
    "collapsed": false,
    "pycharm": {
     "name": "#%%\n"
    }
   }
  },
  {
   "cell_type": "code",
   "execution_count": 2,
   "outputs": [
    {
     "name": "stdout",
     "output_type": "stream",
     "text": [
      "Finish loading content!\n"
     ]
    }
   ],
   "source": [
    "content_path = \"E:\\DVI_exp_data\\\\active_learning\\\\same_start\\\\random\"\n",
    "sys.path.append(content_path)\n",
    "\n",
    "from Model.model import *\n",
    "net = ResNet18()\n",
    "classes = (\"airplane\", \"car\", \"bird\", \"cat\", \"deer\", \"dog\", \"frog\", \"horse\", \"ship\", \"truck\")\n",
    "\n",
    "mms = MMS(content_path, net, 1, 10, 1, 512, 10, classes, cmap=\"tab10\", resolution=100, neurons=256,\n",
    "          verbose=1, temporal=False, split=-1, advance_border_gen=True, attack_device=\"cuda:0\")"
   ],
   "metadata": {
    "collapsed": false,
    "pycharm": {
     "name": "#%%\n"
    }
   }
  },
  {
   "cell_type": "code",
   "execution_count": 3,
   "outputs": [],
   "source": [
    "# hyperparameters\n",
    "EPOCH=180"
   ],
   "metadata": {
    "collapsed": false,
    "pycharm": {
     "name": "#%%\n"
    }
   }
  },
  {
   "cell_type": "code",
   "execution_count": 4,
   "outputs": [
    {
     "data": {
      "text/plain": "ResNet(\n  (conv1): Conv2d(3, 64, kernel_size=(3, 3), stride=(1, 1), padding=(1, 1), bias=False)\n  (bn1): BatchNorm2d(64, eps=1e-05, momentum=0.1, affine=True, track_running_stats=True)\n  (layer1): Sequential(\n    (0): BasicBlock(\n      (conv1): Conv2d(64, 64, kernel_size=(3, 3), stride=(1, 1), padding=(1, 1), bias=False)\n      (bn1): BatchNorm2d(64, eps=1e-05, momentum=0.1, affine=True, track_running_stats=True)\n      (conv2): Conv2d(64, 64, kernel_size=(3, 3), stride=(1, 1), padding=(1, 1), bias=False)\n      (bn2): BatchNorm2d(64, eps=1e-05, momentum=0.1, affine=True, track_running_stats=True)\n      (shortcut): Sequential()\n    )\n    (1): BasicBlock(\n      (conv1): Conv2d(64, 64, kernel_size=(3, 3), stride=(1, 1), padding=(1, 1), bias=False)\n      (bn1): BatchNorm2d(64, eps=1e-05, momentum=0.1, affine=True, track_running_stats=True)\n      (conv2): Conv2d(64, 64, kernel_size=(3, 3), stride=(1, 1), padding=(1, 1), bias=False)\n      (bn2): BatchNorm2d(64, eps=1e-05, momentum=0.1, affine=True, track_running_stats=True)\n      (shortcut): Sequential()\n    )\n  )\n  (layer2): Sequential(\n    (0): BasicBlock(\n      (conv1): Conv2d(64, 128, kernel_size=(3, 3), stride=(2, 2), padding=(1, 1), bias=False)\n      (bn1): BatchNorm2d(128, eps=1e-05, momentum=0.1, affine=True, track_running_stats=True)\n      (conv2): Conv2d(128, 128, kernel_size=(3, 3), stride=(1, 1), padding=(1, 1), bias=False)\n      (bn2): BatchNorm2d(128, eps=1e-05, momentum=0.1, affine=True, track_running_stats=True)\n      (shortcut): Sequential(\n        (0): Conv2d(64, 128, kernel_size=(1, 1), stride=(2, 2), bias=False)\n        (1): BatchNorm2d(128, eps=1e-05, momentum=0.1, affine=True, track_running_stats=True)\n      )\n    )\n    (1): BasicBlock(\n      (conv1): Conv2d(128, 128, kernel_size=(3, 3), stride=(1, 1), padding=(1, 1), bias=False)\n      (bn1): BatchNorm2d(128, eps=1e-05, momentum=0.1, affine=True, track_running_stats=True)\n      (conv2): Conv2d(128, 128, kernel_size=(3, 3), stride=(1, 1), padding=(1, 1), bias=False)\n      (bn2): BatchNorm2d(128, eps=1e-05, momentum=0.1, affine=True, track_running_stats=True)\n      (shortcut): Sequential()\n    )\n  )\n  (layer3): Sequential(\n    (0): BasicBlock(\n      (conv1): Conv2d(128, 256, kernel_size=(3, 3), stride=(2, 2), padding=(1, 1), bias=False)\n      (bn1): BatchNorm2d(256, eps=1e-05, momentum=0.1, affine=True, track_running_stats=True)\n      (conv2): Conv2d(256, 256, kernel_size=(3, 3), stride=(1, 1), padding=(1, 1), bias=False)\n      (bn2): BatchNorm2d(256, eps=1e-05, momentum=0.1, affine=True, track_running_stats=True)\n      (shortcut): Sequential(\n        (0): Conv2d(128, 256, kernel_size=(1, 1), stride=(2, 2), bias=False)\n        (1): BatchNorm2d(256, eps=1e-05, momentum=0.1, affine=True, track_running_stats=True)\n      )\n    )\n    (1): BasicBlock(\n      (conv1): Conv2d(256, 256, kernel_size=(3, 3), stride=(1, 1), padding=(1, 1), bias=False)\n      (bn1): BatchNorm2d(256, eps=1e-05, momentum=0.1, affine=True, track_running_stats=True)\n      (conv2): Conv2d(256, 256, kernel_size=(3, 3), stride=(1, 1), padding=(1, 1), bias=False)\n      (bn2): BatchNorm2d(256, eps=1e-05, momentum=0.1, affine=True, track_running_stats=True)\n      (shortcut): Sequential()\n    )\n  )\n  (layer4): Sequential(\n    (0): BasicBlock(\n      (conv1): Conv2d(256, 512, kernel_size=(3, 3), stride=(2, 2), padding=(1, 1), bias=False)\n      (bn1): BatchNorm2d(512, eps=1e-05, momentum=0.1, affine=True, track_running_stats=True)\n      (conv2): Conv2d(512, 512, kernel_size=(3, 3), stride=(1, 1), padding=(1, 1), bias=False)\n      (bn2): BatchNorm2d(512, eps=1e-05, momentum=0.1, affine=True, track_running_stats=True)\n      (shortcut): Sequential(\n        (0): Conv2d(256, 512, kernel_size=(1, 1), stride=(2, 2), bias=False)\n        (1): BatchNorm2d(512, eps=1e-05, momentum=0.1, affine=True, track_running_stats=True)\n      )\n    )\n    (1): BasicBlock(\n      (conv1): Conv2d(512, 512, kernel_size=(3, 3), stride=(1, 1), padding=(1, 1), bias=False)\n      (bn1): BatchNorm2d(512, eps=1e-05, momentum=0.1, affine=True, track_running_stats=True)\n      (conv2): Conv2d(512, 512, kernel_size=(3, 3), stride=(1, 1), padding=(1, 1), bias=False)\n      (bn2): BatchNorm2d(512, eps=1e-05, momentum=0.1, affine=True, track_running_stats=True)\n      (shortcut): Sequential()\n    )\n  )\n  (avgpool): AdaptiveAvgPool2d(output_size=(1, 1))\n  (linear): Linear(in_features=512, out_features=10, bias=True)\n)"
     },
     "execution_count": 4,
     "metadata": {},
     "output_type": "execute_result"
    }
   ],
   "source": [
    "model_location = os.path.join(mms.model_path, \"Epoch_{:d}\".format(EPOCH), \"subject_model.pth\")\n",
    "mms.model.load_state_dict(torch.load(model_location, map_location=torch.device(\"cpu\")))\n",
    "mms.model = mms.model.to(mms.device)\n",
    "mms.model.eval()\n"
   ],
   "metadata": {
    "collapsed": false,
    "pycharm": {
     "name": "#%%\n"
    }
   }
  },
  {
   "cell_type": "code",
   "execution_count": 7,
   "outputs": [
    {
     "name": "stdout",
     "output_type": "stream",
     "text": [
      "Files already downloaded and verified\n",
      "attack with epsilon 0.01...\n"
     ]
    },
    {
     "data": {
      "text/plain": "4804"
     },
     "execution_count": 7,
     "metadata": {},
     "output_type": "execute_result"
    }
   ],
   "source": [
    "# fgsm: how many adv samples we can get\n",
    "# ifgsm: set a time limit\n",
    "TEST_BUDGET = 10000\n",
    "\n",
    "CIFAR_NORM = ((0.4914, 0.4822, 0.4465), (0.2023, 0.1994, 0.2010))\n",
    "transform = transforms.Compose(\n",
    "    [transforms.ToTensor(),\n",
    "     transforms.Normalize(*CIFAR_NORM)])\n",
    "testset = torchvision.datasets.CIFAR10(root='data', train=False,\n",
    "                                       download=True, transform=transform)\n",
    "test_subset = torch.utils.data.Subset(testset, np.arange(TEST_BUDGET))\n",
    "testloader = torch.utils.data.DataLoader(test_subset, batch_size=1,\n",
    "                                         shuffle=False, num_workers=2)\n",
    "device = torch.device(\"cuda:0\" if torch.cuda.is_available() else \"cpu\")\n",
    "\n",
    "print(\"attack with epsilon {}...\".format(epsilon))"
   ],
   "metadata": {
    "collapsed": false,
    "pycharm": {
     "name": "#%%\n"
    }
   }
  },
  {
   "cell_type": "code",
   "execution_count": null,
   "outputs": [],
   "source": [
    "succ = 0\n",
    "for i, (data, target) in enumerate(testloader, 0):\n",
    "    # Send the data and label to the device\n",
    "    data, target = data.to(device), target.to(device)\n",
    "    # Set requires_grad attribute of tensor. Important for Attack\n",
    "    data.requires_grad = True\n",
    "    # Forward pass the data through the model\n",
    "    output = mms.model(data)\n",
    "    init_pred = output.max(1, keepdim=True)[1] # get the index of the max log-probability\n",
    "\n",
    "    # If the initial prediction is wrong, dont bother attacking, just move on\n",
    "    if init_pred.item() != target.item():\n",
    "        continue\n",
    "\n",
    "    # Calculate the loss\n",
    "    loss = torch.nn.functional.nll_loss(output, target)\n",
    "\n",
    "    # Zero all existing gradients\n",
    "    mms.model.zero_grad()\n",
    "\n",
    "    # Calculate gradients of model in backward pass\n",
    "    loss.backward()\n",
    "\n",
    "    # Collect datagrad\n",
    "    data_grad = data.grad.data\n",
    "\n",
    "    # Call FGSM Attack\n",
    "    perturbed_data = fgsm_attack(data, epsilon, data_grad)\n",
    "\n",
    "    # Re-classify the perturbed image\n",
    "    output = mms.model(perturbed_data)\n",
    "\n",
    "    # Check for success\n",
    "    final_pred = output.max(1, keepdim=True)[1] # get the index of the max log-probability\n",
    "    if final_pred.item() != target.item():\n",
    "        succ += 1\n",
    "succ\n"
   ],
   "metadata": {
    "collapsed": false,
    "pycharm": {
     "name": "#%%\n"
    }
   }
  },
  {
   "cell_type": "code",
   "execution_count": null,
   "outputs": [],
   "source": [
    "TEST_BUDGET = 10000\n",
    "succ = 0\n",
    "r = 0\n",
    "wrong_pred = 0\n",
    "for i, (data, target) in enumerate(testloader, 0):\n",
    "    data, target = data.to(device), target.to(device)\n",
    "    output = mms.model(data)\n",
    "    init_pred = output.max(1, keepdim=True)[1] # get the index of the max log-probability\n",
    "    # If the initial prediction is wrong, dont bother attacking, just move on\n",
    "    if init_pred.item() != target.item():\n",
    "        wrong_pred += 1\n",
    "        continue\n",
    "    r_, s,_ = cw_l2_attack(mms.model, data, target, device=mms.device, targeted=False, c=0.1)\n",
    "    if s:\n",
    "        succ += 1\n",
    "        r += r_\n",
    "succ,TEST_BUDGET-wrong_pred, r/succ"
   ],
   "metadata": {
    "collapsed": false,
    "pycharm": {
     "name": "#%%\n"
    }
   }
  },
  {
   "cell_type": "code",
   "execution_count": 11,
   "outputs": [
    {
     "data": {
      "text/plain": "['E:\\\\xianglin\\\\git_space\\\\DeepVisualInsight',\n 'd:\\\\downloads\\\\anaconda\\\\envs\\\\dr2\\\\python36.zip',\n 'd:\\\\downloads\\\\anaconda\\\\envs\\\\dr2\\\\DLLs',\n 'd:\\\\downloads\\\\anaconda\\\\envs\\\\dr2\\\\lib',\n 'd:\\\\downloads\\\\anaconda\\\\envs\\\\dr2',\n '',\n 'C:\\\\Users\\\\xianglin\\\\AppData\\\\Roaming\\\\Python\\\\Python36\\\\site-packages',\n 'd:\\\\downloads\\\\anaconda\\\\envs\\\\dr2\\\\lib\\\\site-packages',\n 'e:\\\\xianglin\\\\git_space\\\\parametricumap_paper',\n 'd:\\\\downloads\\\\anaconda\\\\envs\\\\dr2\\\\lib\\\\site-packages\\\\win32',\n 'd:\\\\downloads\\\\anaconda\\\\envs\\\\dr2\\\\lib\\\\site-packages\\\\win32\\\\lib',\n 'd:\\\\downloads\\\\anaconda\\\\envs\\\\dr2\\\\lib\\\\site-packages\\\\Pythonwin',\n 'd:\\\\downloads\\\\anaconda\\\\envs\\\\dr2\\\\lib\\\\site-packages\\\\IPython\\\\extensions',\n 'C:\\\\Users\\\\xianglin\\\\.ipython',\n 'E:\\\\DVI_exp_data\\\\active_learning\\\\LeastConfidence',\n 'F:\\\\xianglin\\\\PyCharm 2021.1.1\\\\plugins\\\\python\\\\helpers\\\\pydev',\n 'F:\\\\xianglin\\\\PyCharm 2021.1.1\\\\plugins\\\\python\\\\helpers-pro\\\\jupyter_debug']"
     },
     "execution_count": 11,
     "metadata": {},
     "output_type": "execute_result"
    }
   ],
   "source": [
    "sys.path.remove(content_path)\n",
    "sys.path"
   ],
   "metadata": {
    "collapsed": false,
    "pycharm": {
     "name": "#%%\n"
    }
   }
  },
  {
   "cell_type": "code",
   "execution_count": 9,
   "outputs": [
    {
     "name": "stdout",
     "output_type": "stream",
     "text": [
      "Finish loading content!\n"
     ]
    }
   ],
   "source": [
    "content_path = \"E:\\DVI_exp_data\\\\active_learning\\\\same_start\\\\LL4AL\"\n",
    "sys.path.append(content_path)\n",
    "\n",
    "from Model.model import *\n",
    "net = ResNet18()\n",
    "classes = (\"airplane\", \"car\", \"bird\", \"cat\", \"deer\", \"dog\", \"frog\", \"horse\", \"ship\", \"truck\")\n",
    "\n",
    "mms = MMS(content_path, net, 1, 10, 1, 512, 10, classes, cmap=\"tab10\", resolution=100, neurons=256,\n",
    "          verbose=1, temporal=False, split=-1, advance_border_gen=True, attack_device=\"cuda:0\")"
   ],
   "metadata": {
    "collapsed": false,
    "pycharm": {
     "name": "#%%\n"
    }
   }
  },
  {
   "cell_type": "code",
   "execution_count": 10,
   "outputs": [],
   "source": [
    "# hyperparameters\n",
    "EPOCH=180"
   ],
   "metadata": {
    "collapsed": false,
    "pycharm": {
     "name": "#%%\n"
    }
   }
  },
  {
   "cell_type": "code",
   "execution_count": 11,
   "outputs": [
    {
     "data": {
      "text/plain": "ResNet(\n  (conv1): Conv2d(3, 64, kernel_size=(3, 3), stride=(1, 1), padding=(1, 1), bias=False)\n  (bn1): BatchNorm2d(64, eps=1e-05, momentum=0.1, affine=True, track_running_stats=True)\n  (layer1): Sequential(\n    (0): BasicBlock(\n      (conv1): Conv2d(64, 64, kernel_size=(3, 3), stride=(1, 1), padding=(1, 1), bias=False)\n      (bn1): BatchNorm2d(64, eps=1e-05, momentum=0.1, affine=True, track_running_stats=True)\n      (conv2): Conv2d(64, 64, kernel_size=(3, 3), stride=(1, 1), padding=(1, 1), bias=False)\n      (bn2): BatchNorm2d(64, eps=1e-05, momentum=0.1, affine=True, track_running_stats=True)\n      (shortcut): Sequential()\n    )\n    (1): BasicBlock(\n      (conv1): Conv2d(64, 64, kernel_size=(3, 3), stride=(1, 1), padding=(1, 1), bias=False)\n      (bn1): BatchNorm2d(64, eps=1e-05, momentum=0.1, affine=True, track_running_stats=True)\n      (conv2): Conv2d(64, 64, kernel_size=(3, 3), stride=(1, 1), padding=(1, 1), bias=False)\n      (bn2): BatchNorm2d(64, eps=1e-05, momentum=0.1, affine=True, track_running_stats=True)\n      (shortcut): Sequential()\n    )\n  )\n  (layer2): Sequential(\n    (0): BasicBlock(\n      (conv1): Conv2d(64, 128, kernel_size=(3, 3), stride=(2, 2), padding=(1, 1), bias=False)\n      (bn1): BatchNorm2d(128, eps=1e-05, momentum=0.1, affine=True, track_running_stats=True)\n      (conv2): Conv2d(128, 128, kernel_size=(3, 3), stride=(1, 1), padding=(1, 1), bias=False)\n      (bn2): BatchNorm2d(128, eps=1e-05, momentum=0.1, affine=True, track_running_stats=True)\n      (shortcut): Sequential(\n        (0): Conv2d(64, 128, kernel_size=(1, 1), stride=(2, 2), bias=False)\n        (1): BatchNorm2d(128, eps=1e-05, momentum=0.1, affine=True, track_running_stats=True)\n      )\n    )\n    (1): BasicBlock(\n      (conv1): Conv2d(128, 128, kernel_size=(3, 3), stride=(1, 1), padding=(1, 1), bias=False)\n      (bn1): BatchNorm2d(128, eps=1e-05, momentum=0.1, affine=True, track_running_stats=True)\n      (conv2): Conv2d(128, 128, kernel_size=(3, 3), stride=(1, 1), padding=(1, 1), bias=False)\n      (bn2): BatchNorm2d(128, eps=1e-05, momentum=0.1, affine=True, track_running_stats=True)\n      (shortcut): Sequential()\n    )\n  )\n  (layer3): Sequential(\n    (0): BasicBlock(\n      (conv1): Conv2d(128, 256, kernel_size=(3, 3), stride=(2, 2), padding=(1, 1), bias=False)\n      (bn1): BatchNorm2d(256, eps=1e-05, momentum=0.1, affine=True, track_running_stats=True)\n      (conv2): Conv2d(256, 256, kernel_size=(3, 3), stride=(1, 1), padding=(1, 1), bias=False)\n      (bn2): BatchNorm2d(256, eps=1e-05, momentum=0.1, affine=True, track_running_stats=True)\n      (shortcut): Sequential(\n        (0): Conv2d(128, 256, kernel_size=(1, 1), stride=(2, 2), bias=False)\n        (1): BatchNorm2d(256, eps=1e-05, momentum=0.1, affine=True, track_running_stats=True)\n      )\n    )\n    (1): BasicBlock(\n      (conv1): Conv2d(256, 256, kernel_size=(3, 3), stride=(1, 1), padding=(1, 1), bias=False)\n      (bn1): BatchNorm2d(256, eps=1e-05, momentum=0.1, affine=True, track_running_stats=True)\n      (conv2): Conv2d(256, 256, kernel_size=(3, 3), stride=(1, 1), padding=(1, 1), bias=False)\n      (bn2): BatchNorm2d(256, eps=1e-05, momentum=0.1, affine=True, track_running_stats=True)\n      (shortcut): Sequential()\n    )\n  )\n  (layer4): Sequential(\n    (0): BasicBlock(\n      (conv1): Conv2d(256, 512, kernel_size=(3, 3), stride=(2, 2), padding=(1, 1), bias=False)\n      (bn1): BatchNorm2d(512, eps=1e-05, momentum=0.1, affine=True, track_running_stats=True)\n      (conv2): Conv2d(512, 512, kernel_size=(3, 3), stride=(1, 1), padding=(1, 1), bias=False)\n      (bn2): BatchNorm2d(512, eps=1e-05, momentum=0.1, affine=True, track_running_stats=True)\n      (shortcut): Sequential(\n        (0): Conv2d(256, 512, kernel_size=(1, 1), stride=(2, 2), bias=False)\n        (1): BatchNorm2d(512, eps=1e-05, momentum=0.1, affine=True, track_running_stats=True)\n      )\n    )\n    (1): BasicBlock(\n      (conv1): Conv2d(512, 512, kernel_size=(3, 3), stride=(1, 1), padding=(1, 1), bias=False)\n      (bn1): BatchNorm2d(512, eps=1e-05, momentum=0.1, affine=True, track_running_stats=True)\n      (conv2): Conv2d(512, 512, kernel_size=(3, 3), stride=(1, 1), padding=(1, 1), bias=False)\n      (bn2): BatchNorm2d(512, eps=1e-05, momentum=0.1, affine=True, track_running_stats=True)\n      (shortcut): Sequential()\n    )\n  )\n  (avgpool): AdaptiveAvgPool2d(output_size=(1, 1))\n  (linear): Linear(in_features=512, out_features=10, bias=True)\n)"
     },
     "execution_count": 11,
     "metadata": {},
     "output_type": "execute_result"
    }
   ],
   "source": [
    "model_location = os.path.join(mms.model_path, \"Epoch_{:d}\".format(EPOCH), \"subject_model.pth\")\n",
    "state_dict = torch.load(model_location)\n",
    "mms.model.load_state_dict(state_dict)\n",
    "mms.model.to(mms.device)\n",
    "mms.model.eval()"
   ],
   "metadata": {
    "collapsed": false,
    "pycharm": {
     "name": "#%%\n"
    }
   }
  },
  {
   "cell_type": "code",
   "execution_count": 13,
   "outputs": [
    {
     "name": "stdout",
     "output_type": "stream",
     "text": [
      "Files already downloaded and verified\n",
      "attack with epsilon 0.01...\n"
     ]
    },
    {
     "data": {
      "text/plain": "4958"
     },
     "execution_count": 13,
     "metadata": {},
     "output_type": "execute_result"
    }
   ],
   "source": [
    "# fgsm: how many adv samples we can get\n",
    "# ifgsm: set a time limit\n",
    "TEST_BUDGET = 10000\n",
    "\n",
    "CIFAR_NORM = ((0.4914, 0.4822, 0.4465), (0.2023, 0.1994, 0.2010))\n",
    "transform = transforms.Compose(\n",
    "    [transforms.ToTensor(),\n",
    "     transforms.Normalize(*CIFAR_NORM)])\n",
    "testset = torchvision.datasets.CIFAR10(root='data', train=False,\n",
    "                                       download=True, transform=transform)\n",
    "test_subset = torch.utils.data.Subset(testset, np.arange(TEST_BUDGET))\n",
    "testloader = torch.utils.data.DataLoader(test_subset, batch_size=1,\n",
    "                                         shuffle=False, num_workers=2)\n",
    "device = torch.device(\"cuda:0\" if torch.cuda.is_available() else \"cpu\")\n",
    "\n",
    "print(\"attack with epsilon {}...\".format(epsilon))\n",
    "\n",
    "succ = 0\n",
    "for i, (data, target) in enumerate(testloader, 0):\n",
    "    # Send the data and label to the device\n",
    "    data, target = data.to(device), target.to(device)\n",
    "    # Set requires_grad attribute of tensor. Important for Attack\n",
    "    data.requires_grad = True\n",
    "    # Forward pass the data through the model\n",
    "    output = mms.model(data)\n",
    "    init_pred = output.max(1, keepdim=True)[1] # get the index of the max log-probability\n",
    "\n",
    "    # If the initial prediction is wrong, dont bother attacking, just move on\n",
    "    if init_pred.item() != target.item():\n",
    "        continue\n",
    "\n",
    "    # Calculate the loss\n",
    "    loss = torch.nn.functional.nll_loss(output, target)\n",
    "\n",
    "    # Zero all existing gradients\n",
    "    mms.model.zero_grad()\n",
    "\n",
    "    # Calculate gradients of model in backward pass\n",
    "    loss.backward()\n",
    "\n",
    "    # Collect datagrad\n",
    "    data_grad = data.grad.data\n",
    "\n",
    "    # Call FGSM Attack\n",
    "    perturbed_data = fgsm_attack(data, epsilon, data_grad)\n",
    "\n",
    "    # Re-classify the perturbed image\n",
    "    output = mms.model(perturbed_data)\n",
    "\n",
    "    # Check for success\n",
    "    final_pred = output.max(1, keepdim=True)[1] # get the index of the max log-probability\n",
    "    if final_pred.item() != target.item():\n",
    "        succ += 1\n",
    "succ"
   ],
   "metadata": {
    "collapsed": false,
    "pycharm": {
     "name": "#%%\n"
    }
   }
  },
  {
   "cell_type": "code",
   "execution_count": null,
   "outputs": [],
   "source": [
    "TEST_BUDGET = 10000\n",
    "succ = 0\n",
    "r = 0\n",
    "wrong_pred = 0\n",
    "for i, (data, target) in enumerate(testloader, 0):\n",
    "    data, target = data.to(device), target.to(device)\n",
    "    output = mms.model(data)\n",
    "    init_pred = output.max(1, keepdim=True)[1] # get the index of the max log-probability\n",
    "    # If the initial prediction is wrong, dont bother attacking, just move on\n",
    "    if init_pred.item() != target.item():\n",
    "        wrong_pred += 1\n",
    "        continue\n",
    "    r_, s,_ = cw_l2_attack(mms.model, data, target, device=mms.device, targeted=False, c=0.1)\n",
    "    if s:\n",
    "        succ += 1\n",
    "        r += r_\n",
    "succ,TEST_BUDGET-wrong_pred, r/succ"
   ],
   "metadata": {
    "collapsed": false,
    "pycharm": {
     "name": "#%%\n"
    }
   }
  }
 ],
 "metadata": {
  "kernelspec": {
   "display_name": "Python 3",
   "language": "python",
   "name": "python3"
  },
  "language_info": {
   "codemirror_mode": {
    "name": "ipython",
    "version": 2
   },
   "file_extension": ".py",
   "mimetype": "text/x-python",
   "name": "python",
   "nbconvert_exporter": "python",
   "pygments_lexer": "ipython2",
   "version": "2.7.6"
  }
 },
 "nbformat": 4,
 "nbformat_minor": 0
}