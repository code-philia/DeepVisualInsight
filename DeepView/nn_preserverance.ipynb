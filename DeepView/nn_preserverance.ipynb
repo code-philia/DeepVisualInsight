{
 "cells": [
  {
   "cell_type": "markdown",
   "metadata": {},
   "source": [
    "# nearest neighbor preserverance\n",
    "1. knn preserving evaluation"
   ]
  },
  {
   "cell_type": "markdown",
   "metadata": {},
   "source": [
    "## load data"
   ]
  },
  {
   "cell_type": "code",
   "execution_count": 1,
   "metadata": {},
   "outputs": [],
   "source": [
    "import torch\n",
    "import math\n",
    "import numpy as np"
   ]
  },
  {
   "cell_type": "code",
   "execution_count": 2,
   "metadata": {},
   "outputs": [],
   "source": [
    "# hyperparameters\n",
    "data_shape = (2048,)\n",
    "\n",
    "n_hidden = 500\n",
    "dim_img = 2048  # number of pixels for a gap layer\n",
    "dim_z = 2\n",
    "\n",
    "# train\n",
    "n_epochs = 500\n",
    "batch_size = 200\n",
    "learn_rate = 0.001"
   ]
  },
  {
   "cell_type": "markdown",
   "metadata": {},
   "source": [
    "### train_data"
   ]
  },
  {
   "cell_type": "code",
   "execution_count": 3,
   "metadata": {},
   "outputs": [
    {
     "data": {
      "text/plain": [
       "((50000, 2048), (50000,))"
      ]
     },
     "execution_count": 3,
     "metadata": {},
     "output_type": "execute_result"
    }
   ],
   "source": [
    "train_data = np.load(\"train_data.npy\")\n",
    "train_pred_labels = np.load(\"train_pred_labels.npy\")\n",
    "train_data.shape, train_pred_labels.shape"
   ]
  },
  {
   "cell_type": "markdown",
   "metadata": {},
   "source": [
    "### test_data"
   ]
  },
  {
   "cell_type": "code",
   "execution_count": 4,
   "metadata": {},
   "outputs": [
    {
     "data": {
      "text/plain": [
       "((10000, 2048), (10000,))"
      ]
     },
     "execution_count": 4,
     "metadata": {},
     "output_type": "execute_result"
    }
   ],
   "source": [
    "test_data = np.load(\"test_data.npy\")\n",
    "test_pred_labels = np.load(\"test_pred_labels.npy\")\n",
    "test_data.shape, test_pred_labels.shape"
   ]
  },
  {
   "cell_type": "markdown",
   "metadata": {},
   "source": [
    "## border preserving before DBP\n",
    "1. M_<CP,CP>(original)\n",
    "2. M_<CP,CP>(core)\n",
    "3. M_<CP,CP>(core) rho=0\n",
    "4. M_<CP,DP>(core)\n",
    "5. M_<CP,CP><CP,DP>(core)\n",
    "6. M_<bw_Complex>(core) k=15\n",
    "7. M_<bw_Complex>(core) k=30"
   ]
  },
  {
   "cell_type": "code",
   "execution_count": 5,
   "metadata": {},
   "outputs": [],
   "source": [
    "# define encoder\n",
    "import tensorflow as tf\n",
    "physical_devices = tf.config.list_physical_devices('GPU')\n",
    "tf.config.experimental.set_memory_growth(physical_devices[0], True)"
   ]
  },
  {
   "cell_type": "markdown",
   "metadata": {},
   "source": [
    "# test encoder/decoder\t\t"
   ]
  },
  {
   "cell_type": "markdown",
   "metadata": {},
   "source": [
    "### M_<CP,CP>(original)"
   ]
  },
  {
   "cell_type": "code",
   "execution_count": 6,
   "metadata": {},
   "outputs": [
    {
     "name": "stdout",
     "output_type": "stream",
     "text": [
      "WARNING:tensorflow:No training configuration found in save file, so the model was *not* compiled. Compile it manually.\n",
      "Keras encoder model loaded from parametric_umap_models\\dbp_exp\\encoder_tptp\n"
     ]
    }
   ],
   "source": [
    "import os\n",
    "save_location = \"parametric_umap_models\\dbp_exp\"\n",
    "# load model\n",
    "# load encoder\n",
    "encoder_output = os.path.join(save_location, \"encoder_tptp\")\n",
    "if os.path.exists(encoder_output):\n",
    "    load_encoder = tf.keras.models.load_model(encoder_output)\n",
    "    print(\"Keras encoder model loaded from {}\".format(encoder_output))"
   ]
  },
  {
   "cell_type": "markdown",
   "metadata": {},
   "source": [
    "#### train"
   ]
  },
  {
   "cell_type": "code",
   "execution_count": 7,
   "metadata": {},
   "outputs": [],
   "source": [
    "# number of trees in random projection forest\n",
    "n_trees = 5 + int(round((train_data.shape[0]) ** 0.5 / 20.0))\n",
    "# max number of nearest neighbor iters to perform\n",
    "n_iters = max(5, int(round(np.log2(train_data.shape[0]))))\n",
    "# distance metric\n",
    "metric = \"euclidean\""
   ]
  },
  {
   "cell_type": "code",
   "execution_count": 8,
   "metadata": {},
   "outputs": [
    {
     "name": "stdout",
     "output_type": "stream",
     "text": [
      "WARNING:tensorflow:From <ipython-input-8-c3f5e7a4f4d7>:1: _EagerTensorBase.cpu (from tensorflow.python.framework.ops) is deprecated and will be removed in a future version.\n",
      "Instructions for updating:\n",
      "Use tf.identity instead.\n"
     ]
    }
   ],
   "source": [
    "low_train = load_encoder(train_data).cpu().numpy()"
   ]
  },
  {
   "cell_type": "code",
   "execution_count": 9,
   "metadata": {},
   "outputs": [
    {
     "name": "stdout",
     "output_type": "stream",
     "text": [
      "10 0.9842283997639268\n",
      "20 0.9842833103993436\n",
      "30 0.984340082635198\n",
      "50 0.9844427716732266\n"
     ]
    }
   ],
   "source": [
    "from sklearn.manifold import trustworthiness\n",
    "knns = [10,20,30,50]\n",
    "for k in knns:\n",
    "    t = trustworthiness(train_data, low_train, n_neighbors=int(k), metric='euclidean')\n",
    "    print(k,t)"
   ]
  },
  {
   "cell_type": "code",
   "execution_count": 9,
   "metadata": {},
   "outputs": [
    {
     "name": "stdout",
     "output_type": "stream",
     "text": [
      "Mon Jan 25 13:28:30 2021 Building RP forest with 16 trees\n",
      "Mon Jan 25 13:28:33 2021 NN descent for 16 iterations\n",
      "\t 1  /  16\n",
      "\t 2  /  16\n",
      "\t 3  /  16\n",
      "\tStopping threshold met -- exiting after 3 iterations\n",
      "Mon Jan 25 13:28:44 2021 Building RP forest with 16 trees\n",
      "Mon Jan 25 13:28:45 2021 NN descent for 16 iterations\n",
      "\t 1  /  16\n",
      "\t 2  /  16\n",
      "\tStopping threshold met -- exiting after 2 iterations\n"
     ]
    },
    {
     "data": {
      "text/plain": [
       "(1.93836, 10.0, 1.0)"
      ]
     },
     "execution_count": 9,
     "metadata": {},
     "output_type": "execute_result"
    }
   ],
   "source": [
    "from pynndescent import NNDescent\n",
    "# get nearest neighbors\n",
    "nnd = NNDescent(\n",
    "    train_data,\n",
    "    n_neighbors=10,\n",
    "    metric=metric,\n",
    "    n_trees=n_trees,\n",
    "    n_iters=n_iters,\n",
    "    max_candidates=60,\n",
    "    verbose=True\n",
    ")\n",
    "high_ind, _ = nnd.neighbor_graph\n",
    "nnd = NNDescent(\n",
    "    low_train,\n",
    "    n_neighbors=10,\n",
    "    metric=metric,\n",
    "    n_trees=n_trees,\n",
    "    n_iters=n_iters,\n",
    "    max_candidates=60,\n",
    "    verbose=True\n",
    ")\n",
    "low_ind, _ = nnd.neighbor_graph\n",
    "\n",
    "border_pres = np.zeros(len(train_data))\n",
    "for i in range(len(train_data)):\n",
    "    border_pres[i] = len(np.intersect1d(high_ind[i],low_ind[i]))\n",
    "# tptp K=10\n",
    "border_pres.mean(), border_pres.max(),border_pres.min()"
   ]
  },
  {
   "cell_type": "code",
   "execution_count": 10,
   "metadata": {},
   "outputs": [
    {
     "name": "stdout",
     "output_type": "stream",
     "text": [
      "Mon Jan 25 13:28:46 2021 Building RP forest with 16 trees\n",
      "Mon Jan 25 13:28:49 2021 NN descent for 16 iterations\n",
      "\t 1  /  16\n",
      "\t 2  /  16\n",
      "\tStopping threshold met -- exiting after 2 iterations\n",
      "Mon Jan 25 13:28:51 2021 Building RP forest with 16 trees\n",
      "Mon Jan 25 13:28:51 2021 NN descent for 16 iterations\n",
      "\t 1  /  16\n",
      "\t 2  /  16\n",
      "\tStopping threshold met -- exiting after 2 iterations\n"
     ]
    },
    {
     "data": {
      "text/plain": [
       "(3.921, 19.0, 1.0)"
      ]
     },
     "execution_count": 10,
     "metadata": {},
     "output_type": "execute_result"
    }
   ],
   "source": [
    "from pynndescent import NNDescent\n",
    "# get nearest neighbors\n",
    "nnd = NNDescent(\n",
    "    train_data,\n",
    "    n_neighbors=20,\n",
    "    metric=metric,\n",
    "    n_trees=n_trees,\n",
    "    n_iters=n_iters,\n",
    "    max_candidates=60,\n",
    "    verbose=True\n",
    ")\n",
    "high_ind, _ = nnd.neighbor_graph\n",
    "nnd = NNDescent(\n",
    "    low_train,\n",
    "    n_neighbors=20,\n",
    "    metric=metric,\n",
    "    n_trees=n_trees,\n",
    "    n_iters=n_iters,\n",
    "    max_candidates=60,\n",
    "    verbose=True\n",
    ")\n",
    "low_ind, _ = nnd.neighbor_graph\n",
    "border_pres = np.zeros(len(train_data))\n",
    "for i in range(len(train_data)):\n",
    "    border_pres[i] = len(np.intersect1d(high_ind[i],low_ind[i]))\n",
    "# tptp K=20\n",
    "border_pres.mean(), border_pres.max(),border_pres.min()"
   ]
  },
  {
   "cell_type": "code",
   "execution_count": 11,
   "metadata": {},
   "outputs": [
    {
     "name": "stdout",
     "output_type": "stream",
     "text": [
      "Mon Jan 25 13:28:53 2021 Building RP forest with 16 trees\n",
      "Mon Jan 25 13:28:56 2021 NN descent for 16 iterations\n",
      "\t 1  /  16\n",
      "\t 2  /  16\n",
      "\tStopping threshold met -- exiting after 2 iterations\n",
      "Mon Jan 25 13:29:00 2021 Building RP forest with 16 trees\n",
      "Mon Jan 25 13:29:00 2021 NN descent for 16 iterations\n",
      "\t 1  /  16\n",
      "\t 2  /  16\n",
      "\tStopping threshold met -- exiting after 2 iterations\n"
     ]
    },
    {
     "data": {
      "text/plain": [
       "(6.46464, 28.0, 1.0)"
      ]
     },
     "execution_count": 11,
     "metadata": {},
     "output_type": "execute_result"
    }
   ],
   "source": [
    "from pynndescent import NNDescent\n",
    "# get nearest neighbors\n",
    "nnd = NNDescent(\n",
    "    train_data,\n",
    "    n_neighbors=30,\n",
    "    metric=metric,\n",
    "    n_trees=n_trees,\n",
    "    n_iters=n_iters,\n",
    "    max_candidates=60,\n",
    "    verbose=True\n",
    ")\n",
    "high_ind, _ = nnd.neighbor_graph\n",
    "low_train = load_encoder(train_data).cpu().numpy()\n",
    "nnd = NNDescent(\n",
    "    low_train,\n",
    "    n_neighbors=30,\n",
    "    metric=metric,\n",
    "    n_trees=n_trees,\n",
    "    n_iters=n_iters,\n",
    "    max_candidates=60,\n",
    "    verbose=True\n",
    ")\n",
    "low_ind, _ = nnd.neighbor_graph\n",
    "border_pres = np.zeros(len(train_data))\n",
    "for i in range(len(train_data)):\n",
    "    border_pres[i] = len(np.intersect1d(high_ind[i],low_ind[i]))\n",
    "# tptp K=30\n",
    "border_pres.mean(), border_pres.max(),border_pres.min()"
   ]
  },
  {
   "cell_type": "code",
   "execution_count": 12,
   "metadata": {},
   "outputs": [
    {
     "name": "stdout",
     "output_type": "stream",
     "text": [
      "Mon Jan 25 13:29:03 2021 Building RP forest with 16 trees\n",
      "Mon Jan 25 13:29:05 2021 NN descent for 16 iterations\n",
      "\t 1  /  16\n",
      "\t 2  /  16\n",
      "\tStopping threshold met -- exiting after 2 iterations\n",
      "Mon Jan 25 13:29:17 2021 Building RP forest with 16 trees\n",
      "Mon Jan 25 13:29:17 2021 NN descent for 16 iterations\n",
      "\t 1  /  16\n",
      "\t 2  /  16\n",
      "\tStopping threshold met -- exiting after 2 iterations\n"
     ]
    },
    {
     "data": {
      "text/plain": [
       "(12.65164, 46.0, 1.0)"
      ]
     },
     "execution_count": 12,
     "metadata": {},
     "output_type": "execute_result"
    }
   ],
   "source": [
    "from pynndescent import NNDescent\n",
    "# get nearest neighbors\n",
    "nnd = NNDescent(\n",
    "    train_data,\n",
    "    n_neighbors=50,\n",
    "    metric=metric,\n",
    "    n_trees=n_trees,\n",
    "    n_iters=n_iters,\n",
    "    max_candidates=60,\n",
    "    verbose=True\n",
    ")\n",
    "high_ind, _ = nnd.neighbor_graph\n",
    "low_train = load_encoder(train_data).cpu().numpy()\n",
    "nnd = NNDescent(\n",
    "    low_train,\n",
    "    n_neighbors=50,\n",
    "    metric=metric,\n",
    "    n_trees=n_trees,\n",
    "    n_iters=n_iters,\n",
    "    max_candidates=60,\n",
    "    verbose=True\n",
    ")\n",
    "low_ind, _ = nnd.neighbor_graph\n",
    "border_pres = np.zeros(len(train_data))\n",
    "for i in range(len(train_data)):\n",
    "    border_pres[i] = len(np.intersect1d(high_ind[i],low_ind[i]))\n",
    "# tptp K=50\n",
    "border_pres.mean(), border_pres.max(),border_pres.min()"
   ]
  },
  {
   "cell_type": "markdown",
   "metadata": {},
   "source": [
    "#### test"
   ]
  },
  {
   "cell_type": "code",
   "execution_count": 13,
   "metadata": {},
   "outputs": [],
   "source": [
    "fitting_data =  np.concatenate((train_data, test_data), axis=0)"
   ]
  },
  {
   "cell_type": "code",
   "execution_count": 14,
   "metadata": {},
   "outputs": [],
   "source": [
    "# number of trees in random projection forest\n",
    "n_trees = 5 + int(round((fitting_data.shape[0]) ** 0.5 / 20.0))\n",
    "# max number of nearest neighbor iters to perform\n",
    "n_iters = max(5, int(round(np.log2(fitting_data.shape[0]))))\n",
    "# distance metric\n",
    "metric = \"euclidean\""
   ]
  },
  {
   "cell_type": "code",
   "execution_count": 15,
   "metadata": {},
   "outputs": [],
   "source": [
    "low_fitting = load_encoder(fitting_data).cpu().numpy()"
   ]
  },
  {
   "cell_type": "code",
   "execution_count": null,
   "metadata": {},
   "outputs": [],
   "source": [
    "from sklearn.manifold import trustworthiness\n",
    "knns = [10,20,30,50]\n",
    "for k in knns:\n",
    "    trustworthiness = trustworthiness(fitting_data, low_fitting, n_neighbors=k, metric='euclidean')\n",
    "    print(k,trustworthiness)"
   ]
  },
  {
   "cell_type": "code",
   "execution_count": 16,
   "metadata": {},
   "outputs": [
    {
     "name": "stdout",
     "output_type": "stream",
     "text": [
      "Mon Jan 25 13:29:26 2021 Building RP forest with 17 trees\n",
      "Mon Jan 25 13:29:29 2021 NN descent for 16 iterations\n",
      "\t 1  /  16\n",
      "\t 2  /  16\n",
      "\t 3  /  16\n",
      "\tStopping threshold met -- exiting after 3 iterations\n",
      "Mon Jan 25 13:29:31 2021 Building RP forest with 17 trees\n",
      "Mon Jan 25 13:29:31 2021 NN descent for 16 iterations\n",
      "\t 1  /  16\n",
      "\t 2  /  16\n",
      "\tStopping threshold met -- exiting after 2 iterations\n"
     ]
    },
    {
     "data": {
      "text/plain": [
       "(1.9149, 9.0, 1.0)"
      ]
     },
     "execution_count": 16,
     "metadata": {},
     "output_type": "execute_result"
    }
   ],
   "source": [
    "from pynndescent import NNDescent\n",
    "# get nearest neighbors\n",
    "nnd = NNDescent(\n",
    "    fitting_data,\n",
    "    n_neighbors=10,\n",
    "    metric=metric,\n",
    "    n_trees=n_trees,\n",
    "    n_iters=n_iters,\n",
    "    max_candidates=60,\n",
    "    verbose=True\n",
    ")\n",
    "high_ind, _ = nnd.neighbor_graph\n",
    "nnd = NNDescent(\n",
    "    low_fitting,\n",
    "    n_neighbors=10,\n",
    "    metric=metric,\n",
    "    n_trees=n_trees,\n",
    "    n_iters=n_iters,\n",
    "    max_candidates=60,\n",
    "    verbose=True\n",
    ")\n",
    "low_ind, _ = nnd.neighbor_graph\n",
    "\n",
    "border_pres = np.zeros(len(test_data))\n",
    "train_num = len(train_data)\n",
    "test_num = len(fitting_data)\n",
    "for i in range(train_num,test_num,1):\n",
    "    border_pres[i-train_num] = len(np.intersect1d(high_ind[i],low_ind[i]))\n",
    "# tptp K=20\n",
    "border_pres.mean(), border_pres.max(),border_pres.min()"
   ]
  },
  {
   "cell_type": "code",
   "execution_count": 17,
   "metadata": {},
   "outputs": [
    {
     "name": "stdout",
     "output_type": "stream",
     "text": [
      "Mon Jan 25 13:29:32 2021 Building RP forest with 17 trees\n",
      "Mon Jan 25 13:29:36 2021 NN descent for 16 iterations\n",
      "\t 1  /  16\n",
      "\t 2  /  16\n",
      "\tStopping threshold met -- exiting after 2 iterations\n",
      "Mon Jan 25 13:29:38 2021 Building RP forest with 17 trees\n",
      "Mon Jan 25 13:29:39 2021 NN descent for 16 iterations\n",
      "\t 1  /  16\n",
      "\t 2  /  16\n",
      "\tStopping threshold met -- exiting after 2 iterations\n"
     ]
    },
    {
     "data": {
      "text/plain": [
       "(3.8138, 19.0, 1.0)"
      ]
     },
     "execution_count": 17,
     "metadata": {},
     "output_type": "execute_result"
    }
   ],
   "source": [
    "from pynndescent import NNDescent\n",
    "# get nearest neighbors\n",
    "nnd = NNDescent(\n",
    "    fitting_data,\n",
    "    n_neighbors=20,\n",
    "    metric=metric,\n",
    "    n_trees=n_trees,\n",
    "    n_iters=n_iters,\n",
    "    max_candidates=60,\n",
    "    verbose=True\n",
    ")\n",
    "high_ind, _ = nnd.neighbor_graph\n",
    "nnd = NNDescent(\n",
    "    low_fitting,\n",
    "    n_neighbors=20,\n",
    "    metric=metric,\n",
    "    n_trees=n_trees,\n",
    "    n_iters=n_iters,\n",
    "    max_candidates=60,\n",
    "    verbose=True\n",
    ")\n",
    "low_ind, _ = nnd.neighbor_graph\n",
    "\n",
    "border_pres = np.zeros(len(test_data))\n",
    "train_num = len(train_data)\n",
    "test_num = len(fitting_data)\n",
    "for i in range(train_num,test_num,1):\n",
    "    border_pres[i-train_num] = len(np.intersect1d(high_ind[i],low_ind[i]))\n",
    "# tptp K=20\n",
    "border_pres.mean(), border_pres.max(),border_pres.min()"
   ]
  },
  {
   "cell_type": "code",
   "execution_count": 18,
   "metadata": {},
   "outputs": [
    {
     "name": "stdout",
     "output_type": "stream",
     "text": [
      "Mon Jan 25 13:29:40 2021 Building RP forest with 17 trees\n",
      "Mon Jan 25 13:29:44 2021 NN descent for 16 iterations\n",
      "\t 1  /  16\n",
      "\t 2  /  16\n",
      "\tStopping threshold met -- exiting after 2 iterations\n",
      "Mon Jan 25 13:29:48 2021 Building RP forest with 17 trees\n",
      "Mon Jan 25 13:29:49 2021 NN descent for 16 iterations\n",
      "\t 1  /  16\n",
      "\t 2  /  16\n",
      "\tStopping threshold met -- exiting after 2 iterations\n"
     ]
    },
    {
     "data": {
      "text/plain": [
       "(6.2684, 28.0, 1.0)"
      ]
     },
     "execution_count": 18,
     "metadata": {},
     "output_type": "execute_result"
    }
   ],
   "source": [
    "from pynndescent import NNDescent\n",
    "# get nearest neighbors\n",
    "nnd = NNDescent(\n",
    "    fitting_data,\n",
    "    n_neighbors=30,\n",
    "    metric=metric,\n",
    "    n_trees=n_trees,\n",
    "    n_iters=n_iters,\n",
    "    max_candidates=60,\n",
    "    verbose=True\n",
    ")\n",
    "high_ind, _ = nnd.neighbor_graph\n",
    "nnd = NNDescent(\n",
    "    low_fitting,\n",
    "    n_neighbors=30,\n",
    "    metric=metric,\n",
    "    n_trees=n_trees,\n",
    "    n_iters=n_iters,\n",
    "    max_candidates=60,\n",
    "    verbose=True\n",
    ")\n",
    "low_ind, _ = nnd.neighbor_graph\n",
    "\n",
    "border_pres = np.zeros(len(test_data))\n",
    "train_num = len(train_data)\n",
    "test_num = len(fitting_data)\n",
    "for i in range(train_num,test_num,1):\n",
    "    border_pres[i-train_num] = len(np.intersect1d(high_ind[i],low_ind[i]))\n",
    "# tptp K=30\n",
    "border_pres.mean(), border_pres.max(),border_pres.min()"
   ]
  },
  {
   "cell_type": "code",
   "execution_count": 19,
   "metadata": {
    "scrolled": false
   },
   "outputs": [
    {
     "name": "stdout",
     "output_type": "stream",
     "text": [
      "Mon Jan 25 13:29:51 2021 Building RP forest with 17 trees\n",
      "Mon Jan 25 13:29:54 2021 NN descent for 16 iterations\n",
      "\t 1  /  16\n",
      "\t 2  /  16\n",
      "\tStopping threshold met -- exiting after 2 iterations\n",
      "Mon Jan 25 13:30:08 2021 Building RP forest with 17 trees\n",
      "Mon Jan 25 13:30:08 2021 NN descent for 16 iterations\n",
      "\t 1  /  16\n",
      "\t 2  /  16\n",
      "\tStopping threshold met -- exiting after 2 iterations\n"
     ]
    },
    {
     "data": {
      "text/plain": [
       "(12.2468, 47.0, 1.0)"
      ]
     },
     "execution_count": 19,
     "metadata": {},
     "output_type": "execute_result"
    }
   ],
   "source": [
    "from pynndescent import NNDescent\n",
    "# get nearest neighbors\n",
    "nnd = NNDescent(\n",
    "    fitting_data,\n",
    "    n_neighbors=50,\n",
    "    metric=metric,\n",
    "    n_trees=n_trees,\n",
    "    n_iters=n_iters,\n",
    "    max_candidates=60,\n",
    "    verbose=True\n",
    ")\n",
    "high_ind, _ = nnd.neighbor_graph\n",
    "nnd = NNDescent(\n",
    "    low_fitting,\n",
    "    n_neighbors=50,\n",
    "    metric=metric,\n",
    "    n_trees=n_trees,\n",
    "    n_iters=n_iters,\n",
    "    max_candidates=60,\n",
    "    verbose=True\n",
    ")\n",
    "low_ind, _ = nnd.neighbor_graph\n",
    "\n",
    "border_pres = np.zeros(len(test_data))\n",
    "train_num = len(train_data)\n",
    "test_num = len(fitting_data)\n",
    "for i in range(train_num,test_num,1):\n",
    "    border_pres[i-train_num] = len(np.intersect1d(high_ind[i],low_ind[i]))\n",
    "# tptp K=50\n",
    "border_pres.mean(), border_pres.max(),border_pres.min()"
   ]
  },
  {
   "cell_type": "markdown",
   "metadata": {},
   "source": [
    "### M_<CP,CP>(core)"
   ]
  },
  {
   "cell_type": "code",
   "execution_count": 10,
   "metadata": {},
   "outputs": [
    {
     "name": "stdout",
     "output_type": "stream",
     "text": [
      "WARNING:tensorflow:No training configuration found in save file, so the model was *not* compiled. Compile it manually.\n",
      "Keras encoder model loaded from parametric_umap_models\\dbp_exp\\encoder_core_tptp\n"
     ]
    }
   ],
   "source": [
    "import os\n",
    "save_location = \"parametric_umap_models\\dbp_exp\"\n",
    "# load model\n",
    "# load encoder\n",
    "encoder_output = os.path.join(save_location, \"encoder_core_tptp\")\n",
    "if os.path.exists(encoder_output):\n",
    "    load_encoder = tf.keras.models.load_model(encoder_output)\n",
    "    print(\"Keras encoder model loaded from {}\".format(encoder_output))"
   ]
  },
  {
   "cell_type": "markdown",
   "metadata": {},
   "source": [
    "#### train"
   ]
  },
  {
   "cell_type": "code",
   "execution_count": 11,
   "metadata": {},
   "outputs": [],
   "source": [
    "# number of trees in random projection forest\n",
    "n_trees = 5 + int(round((train_data.shape[0]) ** 0.5 / 20.0))\n",
    "# max number of nearest neighbor iters to perform\n",
    "n_iters = max(5, int(round(np.log2(train_data.shape[0]))))\n",
    "# distance metric\n",
    "metric = \"euclidean\""
   ]
  },
  {
   "cell_type": "code",
   "execution_count": 12,
   "metadata": {},
   "outputs": [],
   "source": [
    "low_train = load_encoder(train_data).cpu().numpy()"
   ]
  },
  {
   "cell_type": "code",
   "execution_count": 13,
   "metadata": {},
   "outputs": [
    {
     "name": "stdout",
     "output_type": "stream",
     "text": [
      "10 0.9848173464574018\n",
      "20 0.9848220433064169\n",
      "30 0.984871325933266\n",
      "50 0.9849687419683723\n"
     ]
    }
   ],
   "source": [
    "from sklearn.manifold import trustworthiness\n",
    "knns = [10,20,30,50]\n",
    "for k in knns:\n",
    "    t = trustworthiness(train_data, low_train, n_neighbors=int(k), metric='euclidean')\n",
    "    print(k,t)"
   ]
  },
  {
   "cell_type": "code",
   "execution_count": 9,
   "metadata": {},
   "outputs": [
    {
     "name": "stdout",
     "output_type": "stream",
     "text": [
      "Mon Jan 25 13:32:07 2021 Building RP forest with 16 trees\n",
      "Mon Jan 25 13:32:10 2021 NN descent for 16 iterations\n",
      "\t 1  /  16\n",
      "\t 2  /  16\n",
      "\t 3  /  16\n",
      "\tStopping threshold met -- exiting after 3 iterations\n",
      "Mon Jan 25 13:32:22 2021 Building RP forest with 16 trees\n",
      "Mon Jan 25 13:32:22 2021 NN descent for 16 iterations\n",
      "\t 1  /  16\n",
      "\t 2  /  16\n",
      "\tStopping threshold met -- exiting after 2 iterations\n"
     ]
    },
    {
     "data": {
      "text/plain": [
       "(1.92736, 10.0, 1.0)"
      ]
     },
     "execution_count": 9,
     "metadata": {},
     "output_type": "execute_result"
    }
   ],
   "source": [
    "from pynndescent import NNDescent\n",
    "# get nearest neighbors\n",
    "nnd = NNDescent(\n",
    "    train_data,\n",
    "    n_neighbors=10,\n",
    "    metric=metric,\n",
    "    n_trees=n_trees,\n",
    "    n_iters=n_iters,\n",
    "    max_candidates=60,\n",
    "    verbose=True\n",
    ")\n",
    "high_ind, _ = nnd.neighbor_graph\n",
    "nnd = NNDescent(\n",
    "    low_train,\n",
    "    n_neighbors=10,\n",
    "    metric=metric,\n",
    "    n_trees=n_trees,\n",
    "    n_iters=n_iters,\n",
    "    max_candidates=60,\n",
    "    verbose=True\n",
    ")\n",
    "low_ind, _ = nnd.neighbor_graph\n",
    "\n",
    "border_pres = np.zeros(len(train_data))\n",
    "for i in range(len(train_data)):\n",
    "    border_pres[i] = len(np.intersect1d(high_ind[i],low_ind[i]))\n",
    "# tptp K=10\n",
    "border_pres.mean(), border_pres.max(),border_pres.min()"
   ]
  },
  {
   "cell_type": "code",
   "execution_count": 10,
   "metadata": {},
   "outputs": [
    {
     "name": "stdout",
     "output_type": "stream",
     "text": [
      "Mon Jan 25 13:32:23 2021 Building RP forest with 16 trees\n",
      "Mon Jan 25 13:32:26 2021 NN descent for 16 iterations\n",
      "\t 1  /  16\n",
      "\t 2  /  16\n",
      "\tStopping threshold met -- exiting after 2 iterations\n",
      "Mon Jan 25 13:32:28 2021 Building RP forest with 16 trees\n",
      "Mon Jan 25 13:32:29 2021 NN descent for 16 iterations\n",
      "\t 1  /  16\n",
      "\t 2  /  16\n",
      "\tStopping threshold met -- exiting after 2 iterations\n"
     ]
    },
    {
     "data": {
      "text/plain": [
       "(3.90048, 19.0, 1.0)"
      ]
     },
     "execution_count": 10,
     "metadata": {},
     "output_type": "execute_result"
    }
   ],
   "source": [
    "from pynndescent import NNDescent\n",
    "# get nearest neighbors\n",
    "nnd = NNDescent(\n",
    "    train_data,\n",
    "    n_neighbors=20,\n",
    "    metric=metric,\n",
    "    n_trees=n_trees,\n",
    "    n_iters=n_iters,\n",
    "    max_candidates=60,\n",
    "    verbose=True\n",
    ")\n",
    "high_ind, _ = nnd.neighbor_graph\n",
    "nnd = NNDescent(\n",
    "    low_train,\n",
    "    n_neighbors=20,\n",
    "    metric=metric,\n",
    "    n_trees=n_trees,\n",
    "    n_iters=n_iters,\n",
    "    max_candidates=60,\n",
    "    verbose=True\n",
    ")\n",
    "low_ind, _ = nnd.neighbor_graph\n",
    "border_pres = np.zeros(len(train_data))\n",
    "for i in range(len(train_data)):\n",
    "    border_pres[i] = len(np.intersect1d(high_ind[i],low_ind[i]))\n",
    "# tptp K=20\n",
    "border_pres.mean(), border_pres.max(),border_pres.min()"
   ]
  },
  {
   "cell_type": "code",
   "execution_count": 11,
   "metadata": {},
   "outputs": [
    {
     "name": "stdout",
     "output_type": "stream",
     "text": [
      "Mon Jan 25 13:32:31 2021 Building RP forest with 16 trees\n",
      "Mon Jan 25 13:32:33 2021 NN descent for 16 iterations\n",
      "\t 1  /  16\n",
      "\t 2  /  16\n",
      "\tStopping threshold met -- exiting after 2 iterations\n",
      "Mon Jan 25 13:32:37 2021 Building RP forest with 16 trees\n",
      "Mon Jan 25 13:32:38 2021 NN descent for 16 iterations\n",
      "\t 1  /  16\n",
      "\t 2  /  16\n",
      "\tStopping threshold met -- exiting after 2 iterations\n"
     ]
    },
    {
     "data": {
      "text/plain": [
       "(6.41748, 28.0, 1.0)"
      ]
     },
     "execution_count": 11,
     "metadata": {},
     "output_type": "execute_result"
    }
   ],
   "source": [
    "from pynndescent import NNDescent\n",
    "# get nearest neighbors\n",
    "nnd = NNDescent(\n",
    "    train_data,\n",
    "    n_neighbors=30,\n",
    "    metric=metric,\n",
    "    n_trees=n_trees,\n",
    "    n_iters=n_iters,\n",
    "    max_candidates=60,\n",
    "    verbose=True\n",
    ")\n",
    "high_ind, _ = nnd.neighbor_graph\n",
    "low_train = load_encoder(train_data).cpu().numpy()\n",
    "nnd = NNDescent(\n",
    "    low_train,\n",
    "    n_neighbors=30,\n",
    "    metric=metric,\n",
    "    n_trees=n_trees,\n",
    "    n_iters=n_iters,\n",
    "    max_candidates=60,\n",
    "    verbose=True\n",
    ")\n",
    "low_ind, _ = nnd.neighbor_graph\n",
    "border_pres = np.zeros(len(train_data))\n",
    "for i in range(len(train_data)):\n",
    "    border_pres[i] = len(np.intersect1d(high_ind[i],low_ind[i]))\n",
    "# tptp K=30\n",
    "border_pres.mean(), border_pres.max(),border_pres.min()"
   ]
  },
  {
   "cell_type": "code",
   "execution_count": 12,
   "metadata": {},
   "outputs": [
    {
     "name": "stdout",
     "output_type": "stream",
     "text": [
      "Mon Jan 25 13:32:40 2021 Building RP forest with 16 trees\n",
      "Mon Jan 25 13:32:43 2021 NN descent for 16 iterations\n",
      "\t 1  /  16\n",
      "\t 2  /  16\n",
      "\tStopping threshold met -- exiting after 2 iterations\n",
      "Mon Jan 25 13:32:54 2021 Building RP forest with 16 trees\n",
      "Mon Jan 25 13:32:55 2021 NN descent for 16 iterations\n",
      "\t 1  /  16\n",
      "\t 2  /  16\n",
      "\tStopping threshold met -- exiting after 2 iterations\n"
     ]
    },
    {
     "data": {
      "text/plain": [
       "(12.58976, 46.0, 1.0)"
      ]
     },
     "execution_count": 12,
     "metadata": {},
     "output_type": "execute_result"
    }
   ],
   "source": [
    "from pynndescent import NNDescent\n",
    "# get nearest neighbors\n",
    "nnd = NNDescent(\n",
    "    train_data,\n",
    "    n_neighbors=50,\n",
    "    metric=metric,\n",
    "    n_trees=n_trees,\n",
    "    n_iters=n_iters,\n",
    "    max_candidates=60,\n",
    "    verbose=True\n",
    ")\n",
    "high_ind, _ = nnd.neighbor_graph\n",
    "low_train = load_encoder(train_data).cpu().numpy()\n",
    "nnd = NNDescent(\n",
    "    low_train,\n",
    "    n_neighbors=50,\n",
    "    metric=metric,\n",
    "    n_trees=n_trees,\n",
    "    n_iters=n_iters,\n",
    "    max_candidates=60,\n",
    "    verbose=True\n",
    ")\n",
    "low_ind, _ = nnd.neighbor_graph\n",
    "border_pres = np.zeros(len(train_data))\n",
    "for i in range(len(train_data)):\n",
    "    border_pres[i] = len(np.intersect1d(high_ind[i],low_ind[i]))\n",
    "# tptp K=50\n",
    "border_pres.mean(), border_pres.max(),border_pres.min()"
   ]
  },
  {
   "cell_type": "markdown",
   "metadata": {},
   "source": [
    "#### test"
   ]
  },
  {
   "cell_type": "code",
   "execution_count": 13,
   "metadata": {},
   "outputs": [],
   "source": [
    "fitting_data =  np.concatenate((train_data, test_data), axis=0)"
   ]
  },
  {
   "cell_type": "code",
   "execution_count": 14,
   "metadata": {},
   "outputs": [],
   "source": [
    "# number of trees in random projection forest\n",
    "n_trees = 5 + int(round((fitting_data.shape[0]) ** 0.5 / 20.0))\n",
    "# max number of nearest neighbor iters to perform\n",
    "n_iters = max(5, int(round(np.log2(fitting_data.shape[0]))))\n",
    "# distance metric\n",
    "metric = \"euclidean\""
   ]
  },
  {
   "cell_type": "code",
   "execution_count": 15,
   "metadata": {},
   "outputs": [],
   "source": [
    "low_fitting = load_encoder(fitting_data).cpu().numpy()"
   ]
  },
  {
   "cell_type": "code",
   "execution_count": null,
   "metadata": {},
   "outputs": [],
   "source": [
    "from sklearn.manifold import trustworthiness\n",
    "knns = [10,20,30,50]\n",
    "for k in knns:\n",
    "    trustworthiness = trustworthiness(fitting_data, low_fitting, n_neighbors=k, metric='euclidean')\n",
    "    print(k,trustworthiness)"
   ]
  },
  {
   "cell_type": "code",
   "execution_count": 16,
   "metadata": {},
   "outputs": [
    {
     "name": "stdout",
     "output_type": "stream",
     "text": [
      "Mon Jan 25 13:33:03 2021 Building RP forest with 17 trees\n",
      "Mon Jan 25 13:33:07 2021 NN descent for 16 iterations\n",
      "\t 1  /  16\n",
      "\t 2  /  16\n",
      "\t 3  /  16\n",
      "\tStopping threshold met -- exiting after 3 iterations\n",
      "Mon Jan 25 13:33:08 2021 Building RP forest with 17 trees\n",
      "Mon Jan 25 13:33:08 2021 NN descent for 16 iterations\n",
      "\t 1  /  16\n",
      "\t 2  /  16\n",
      "\tStopping threshold met -- exiting after 2 iterations\n"
     ]
    },
    {
     "data": {
      "text/plain": [
       "(1.9149, 9.0, 1.0)"
      ]
     },
     "execution_count": 16,
     "metadata": {},
     "output_type": "execute_result"
    }
   ],
   "source": [
    "from pynndescent import NNDescent\n",
    "# get nearest neighbors\n",
    "nnd = NNDescent(\n",
    "    fitting_data,\n",
    "    n_neighbors=10,\n",
    "    metric=metric,\n",
    "    n_trees=n_trees,\n",
    "    n_iters=n_iters,\n",
    "    max_candidates=60,\n",
    "    verbose=True\n",
    ")\n",
    "high_ind, _ = nnd.neighbor_graph\n",
    "nnd = NNDescent(\n",
    "    low_fitting,\n",
    "    n_neighbors=10,\n",
    "    metric=metric,\n",
    "    n_trees=n_trees,\n",
    "    n_iters=n_iters,\n",
    "    max_candidates=60,\n",
    "    verbose=True\n",
    ")\n",
    "low_ind, _ = nnd.neighbor_graph\n",
    "\n",
    "border_pres = np.zeros(len(test_data))\n",
    "train_num = len(train_data)\n",
    "test_num = len(fitting_data)\n",
    "for i in range(train_num,test_num,1):\n",
    "    border_pres[i-train_num] = len(np.intersect1d(high_ind[i],low_ind[i]))\n",
    "# tptp K=20\n",
    "border_pres.mean(), border_pres.max(),border_pres.min()"
   ]
  },
  {
   "cell_type": "code",
   "execution_count": 17,
   "metadata": {},
   "outputs": [
    {
     "name": "stdout",
     "output_type": "stream",
     "text": [
      "Mon Jan 25 13:33:10 2021 Building RP forest with 17 trees\n",
      "Mon Jan 25 13:33:13 2021 NN descent for 16 iterations\n",
      "\t 1  /  16\n",
      "\t 2  /  16\n",
      "\tStopping threshold met -- exiting after 2 iterations\n",
      "Mon Jan 25 13:33:16 2021 Building RP forest with 17 trees\n",
      "Mon Jan 25 13:33:16 2021 NN descent for 16 iterations\n",
      "\t 1  /  16\n",
      "\t 2  /  16\n",
      "\tStopping threshold met -- exiting after 2 iterations\n"
     ]
    },
    {
     "data": {
      "text/plain": [
       "(3.797, 18.0, 1.0)"
      ]
     },
     "execution_count": 17,
     "metadata": {},
     "output_type": "execute_result"
    }
   ],
   "source": [
    "from pynndescent import NNDescent\n",
    "# get nearest neighbors\n",
    "nnd = NNDescent(\n",
    "    fitting_data,\n",
    "    n_neighbors=20,\n",
    "    metric=metric,\n",
    "    n_trees=n_trees,\n",
    "    n_iters=n_iters,\n",
    "    max_candidates=60,\n",
    "    verbose=True\n",
    ")\n",
    "high_ind, _ = nnd.neighbor_graph\n",
    "nnd = NNDescent(\n",
    "    low_fitting,\n",
    "    n_neighbors=20,\n",
    "    metric=metric,\n",
    "    n_trees=n_trees,\n",
    "    n_iters=n_iters,\n",
    "    max_candidates=60,\n",
    "    verbose=True\n",
    ")\n",
    "low_ind, _ = nnd.neighbor_graph\n",
    "\n",
    "border_pres = np.zeros(len(test_data))\n",
    "train_num = len(train_data)\n",
    "test_num = len(fitting_data)\n",
    "for i in range(train_num,test_num,1):\n",
    "    border_pres[i-train_num] = len(np.intersect1d(high_ind[i],low_ind[i]))\n",
    "# tptp K=20\n",
    "border_pres.mean(), border_pres.max(),border_pres.min()"
   ]
  },
  {
   "cell_type": "code",
   "execution_count": 18,
   "metadata": {},
   "outputs": [
    {
     "name": "stdout",
     "output_type": "stream",
     "text": [
      "Mon Jan 25 13:33:18 2021 Building RP forest with 17 trees\n",
      "Mon Jan 25 13:33:22 2021 NN descent for 16 iterations\n",
      "\t 1  /  16\n",
      "\t 2  /  16\n",
      "\tStopping threshold met -- exiting after 2 iterations\n",
      "Mon Jan 25 13:33:26 2021 Building RP forest with 17 trees\n",
      "Mon Jan 25 13:33:26 2021 NN descent for 16 iterations\n",
      "\t 1  /  16\n",
      "\t 2  /  16\n",
      "\tStopping threshold met -- exiting after 2 iterations\n"
     ]
    },
    {
     "data": {
      "text/plain": [
       "(6.2076, 28.0, 1.0)"
      ]
     },
     "execution_count": 18,
     "metadata": {},
     "output_type": "execute_result"
    }
   ],
   "source": [
    "from pynndescent import NNDescent\n",
    "# get nearest neighbors\n",
    "nnd = NNDescent(\n",
    "    fitting_data,\n",
    "    n_neighbors=30,\n",
    "    metric=metric,\n",
    "    n_trees=n_trees,\n",
    "    n_iters=n_iters,\n",
    "    max_candidates=60,\n",
    "    verbose=True\n",
    ")\n",
    "high_ind, _ = nnd.neighbor_graph\n",
    "nnd = NNDescent(\n",
    "    low_fitting,\n",
    "    n_neighbors=30,\n",
    "    metric=metric,\n",
    "    n_trees=n_trees,\n",
    "    n_iters=n_iters,\n",
    "    max_candidates=60,\n",
    "    verbose=True\n",
    ")\n",
    "low_ind, _ = nnd.neighbor_graph\n",
    "\n",
    "border_pres = np.zeros(len(test_data))\n",
    "train_num = len(train_data)\n",
    "test_num = len(fitting_data)\n",
    "for i in range(train_num,test_num,1):\n",
    "    border_pres[i-train_num] = len(np.intersect1d(high_ind[i],low_ind[i]))\n",
    "# tptp K=30\n",
    "border_pres.mean(), border_pres.max(),border_pres.min()"
   ]
  },
  {
   "cell_type": "code",
   "execution_count": 19,
   "metadata": {
    "scrolled": true
   },
   "outputs": [
    {
     "name": "stdout",
     "output_type": "stream",
     "text": [
      "Mon Jan 25 13:33:29 2021 Building RP forest with 17 trees\n",
      "Mon Jan 25 13:33:32 2021 NN descent for 16 iterations\n",
      "\t 1  /  16\n",
      "\t 2  /  16\n",
      "\tStopping threshold met -- exiting after 2 iterations\n",
      "Mon Jan 25 13:33:46 2021 Building RP forest with 17 trees\n",
      "Mon Jan 25 13:33:46 2021 NN descent for 16 iterations\n",
      "\t 1  /  16\n",
      "\t 2  /  16\n",
      "\tStopping threshold met -- exiting after 2 iterations\n"
     ]
    },
    {
     "data": {
      "text/plain": [
       "(12.1519, 46.0, 1.0)"
      ]
     },
     "execution_count": 19,
     "metadata": {},
     "output_type": "execute_result"
    }
   ],
   "source": [
    "from pynndescent import NNDescent\n",
    "# get nearest neighbors\n",
    "nnd = NNDescent(\n",
    "    fitting_data,\n",
    "    n_neighbors=50,\n",
    "    metric=metric,\n",
    "    n_trees=n_trees,\n",
    "    n_iters=n_iters,\n",
    "    max_candidates=60,\n",
    "    verbose=True\n",
    ")\n",
    "high_ind, _ = nnd.neighbor_graph\n",
    "nnd = NNDescent(\n",
    "    low_fitting,\n",
    "    n_neighbors=50,\n",
    "    metric=metric,\n",
    "    n_trees=n_trees,\n",
    "    n_iters=n_iters,\n",
    "    max_candidates=60,\n",
    "    verbose=True\n",
    ")\n",
    "low_ind, _ = nnd.neighbor_graph\n",
    "\n",
    "border_pres = np.zeros(len(test_data))\n",
    "train_num = len(train_data)\n",
    "test_num = len(fitting_data)\n",
    "for i in range(train_num,test_num,1):\n",
    "    border_pres[i-train_num] = len(np.intersect1d(high_ind[i],low_ind[i]))\n",
    "# tptp K=50\n",
    "border_pres.mean(), border_pres.max(),border_pres.min()"
   ]
  },
  {
   "cell_type": "markdown",
   "metadata": {},
   "source": [
    "### M_<CP,CP>(core) rho=0"
   ]
  },
  {
   "cell_type": "code",
   "execution_count": 14,
   "metadata": {},
   "outputs": [
    {
     "name": "stdout",
     "output_type": "stream",
     "text": [
      "WARNING:tensorflow:No training configuration found in save file, so the model was *not* compiled. Compile it manually.\n",
      "Keras encoder model loaded from parametric_umap_models\\dbp_exp\\encoder_core_tptp_rho0\n"
     ]
    }
   ],
   "source": [
    "import os\n",
    "save_location = \"parametric_umap_models\\dbp_exp\"\n",
    "# load model\n",
    "# load encoder\n",
    "encoder_output = os.path.join(save_location, \"encoder_core_tptp_rho0\")\n",
    "if os.path.exists(encoder_output):\n",
    "    load_encoder = tf.keras.models.load_model(encoder_output)\n",
    "    print(\"Keras encoder model loaded from {}\".format(encoder_output))"
   ]
  },
  {
   "cell_type": "markdown",
   "metadata": {},
   "source": [
    "#### train"
   ]
  },
  {
   "cell_type": "code",
   "execution_count": 15,
   "metadata": {},
   "outputs": [],
   "source": [
    "# number of trees in random projection forest\n",
    "n_trees = 5 + int(round((train_data.shape[0]) ** 0.5 / 20.0))\n",
    "# max number of nearest neighbor iters to perform\n",
    "n_iters = max(5, int(round(np.log2(train_data.shape[0]))))\n",
    "# distance metric\n",
    "metric = \"euclidean\""
   ]
  },
  {
   "cell_type": "code",
   "execution_count": 16,
   "metadata": {},
   "outputs": [],
   "source": [
    "low_train = load_encoder(train_data).cpu().numpy()"
   ]
  },
  {
   "cell_type": "code",
   "execution_count": 17,
   "metadata": {},
   "outputs": [
    {
     "name": "stdout",
     "output_type": "stream",
     "text": [
      "10 0.9849535878122218\n",
      "20 0.9849754818439248\n",
      "30 0.9849990296503152\n",
      "50 0.9850609150617432\n"
     ]
    }
   ],
   "source": [
    "from sklearn.manifold import trustworthiness\n",
    "knns = [10,20,30,50]\n",
    "for k in knns:\n",
    "    t = trustworthiness(train_data, low_train, n_neighbors=int(k), metric='euclidean')\n",
    "    print(k,t)"
   ]
  },
  {
   "cell_type": "code",
   "execution_count": 23,
   "metadata": {},
   "outputs": [
    {
     "name": "stdout",
     "output_type": "stream",
     "text": [
      "Mon Jan 25 13:35:54 2021 Building RP forest with 16 trees\n",
      "Mon Jan 25 13:35:57 2021 NN descent for 16 iterations\n",
      "\t 1  /  16\n",
      "\t 2  /  16\n",
      "\t 3  /  16\n",
      "\tStopping threshold met -- exiting after 3 iterations\n",
      "Mon Jan 25 13:35:58 2021 Building RP forest with 16 trees\n",
      "Mon Jan 25 13:35:58 2021 NN descent for 16 iterations\n",
      "\t 1  /  16\n",
      "\t 2  /  16\n",
      "\tStopping threshold met -- exiting after 2 iterations\n"
     ]
    },
    {
     "data": {
      "text/plain": [
       "(1.96362, 9.0, 1.0)"
      ]
     },
     "execution_count": 23,
     "metadata": {},
     "output_type": "execute_result"
    }
   ],
   "source": [
    "from pynndescent import NNDescent\n",
    "# get nearest neighbors\n",
    "nnd = NNDescent(\n",
    "    train_data,\n",
    "    n_neighbors=10,\n",
    "    metric=metric,\n",
    "    n_trees=n_trees,\n",
    "    n_iters=n_iters,\n",
    "    max_candidates=60,\n",
    "    verbose=True\n",
    ")\n",
    "high_ind, _ = nnd.neighbor_graph\n",
    "nnd = NNDescent(\n",
    "    low_train,\n",
    "    n_neighbors=10,\n",
    "    metric=metric,\n",
    "    n_trees=n_trees,\n",
    "    n_iters=n_iters,\n",
    "    max_candidates=60,\n",
    "    verbose=True\n",
    ")\n",
    "low_ind, _ = nnd.neighbor_graph\n",
    "\n",
    "border_pres = np.zeros(len(train_data))\n",
    "for i in range(len(train_data)):\n",
    "    border_pres[i] = len(np.intersect1d(high_ind[i],low_ind[i]))\n",
    "# tptp K=10\n",
    "border_pres.mean(), border_pres.max(),border_pres.min()"
   ]
  },
  {
   "cell_type": "code",
   "execution_count": 24,
   "metadata": {},
   "outputs": [
    {
     "name": "stdout",
     "output_type": "stream",
     "text": [
      "Mon Jan 25 13:36:00 2021 Building RP forest with 16 trees\n",
      "Mon Jan 25 13:36:03 2021 NN descent for 16 iterations\n",
      "\t 1  /  16\n",
      "\t 2  /  16\n",
      "\tStopping threshold met -- exiting after 2 iterations\n",
      "Mon Jan 25 13:36:05 2021 Building RP forest with 16 trees\n",
      "Mon Jan 25 13:36:05 2021 NN descent for 16 iterations\n",
      "\t 1  /  16\n",
      "\t 2  /  16\n",
      "\tStopping threshold met -- exiting after 2 iterations\n"
     ]
    },
    {
     "data": {
      "text/plain": [
       "(4.00096, 19.0, 1.0)"
      ]
     },
     "execution_count": 24,
     "metadata": {},
     "output_type": "execute_result"
    }
   ],
   "source": [
    "from pynndescent import NNDescent\n",
    "# get nearest neighbors\n",
    "nnd = NNDescent(\n",
    "    train_data,\n",
    "    n_neighbors=20,\n",
    "    metric=metric,\n",
    "    n_trees=n_trees,\n",
    "    n_iters=n_iters,\n",
    "    max_candidates=60,\n",
    "    verbose=True\n",
    ")\n",
    "high_ind, _ = nnd.neighbor_graph\n",
    "nnd = NNDescent(\n",
    "    low_train,\n",
    "    n_neighbors=20,\n",
    "    metric=metric,\n",
    "    n_trees=n_trees,\n",
    "    n_iters=n_iters,\n",
    "    max_candidates=60,\n",
    "    verbose=True\n",
    ")\n",
    "low_ind, _ = nnd.neighbor_graph\n",
    "border_pres = np.zeros(len(train_data))\n",
    "for i in range(len(train_data)):\n",
    "    border_pres[i] = len(np.intersect1d(high_ind[i],low_ind[i]))\n",
    "# tptp K=20\n",
    "border_pres.mean(), border_pres.max(),border_pres.min()"
   ]
  },
  {
   "cell_type": "code",
   "execution_count": 25,
   "metadata": {},
   "outputs": [
    {
     "name": "stdout",
     "output_type": "stream",
     "text": [
      "Mon Jan 25 13:36:07 2021 Building RP forest with 16 trees\n",
      "Mon Jan 25 13:36:10 2021 NN descent for 16 iterations\n",
      "\t 1  /  16\n",
      "\t 2  /  16\n",
      "\tStopping threshold met -- exiting after 2 iterations\n",
      "Mon Jan 25 13:36:14 2021 Building RP forest with 16 trees\n",
      "Mon Jan 25 13:36:14 2021 NN descent for 16 iterations\n",
      "\t 1  /  16\n",
      "\t 2  /  16\n",
      "\tStopping threshold met -- exiting after 2 iterations\n"
     ]
    },
    {
     "data": {
      "text/plain": [
       "(6.59022, 29.0, 1.0)"
      ]
     },
     "execution_count": 25,
     "metadata": {},
     "output_type": "execute_result"
    }
   ],
   "source": [
    "from pynndescent import NNDescent\n",
    "# get nearest neighbors\n",
    "nnd = NNDescent(\n",
    "    train_data,\n",
    "    n_neighbors=30,\n",
    "    metric=metric,\n",
    "    n_trees=n_trees,\n",
    "    n_iters=n_iters,\n",
    "    max_candidates=60,\n",
    "    verbose=True\n",
    ")\n",
    "high_ind, _ = nnd.neighbor_graph\n",
    "low_train = load_encoder(train_data).cpu().numpy()\n",
    "nnd = NNDescent(\n",
    "    low_train,\n",
    "    n_neighbors=30,\n",
    "    metric=metric,\n",
    "    n_trees=n_trees,\n",
    "    n_iters=n_iters,\n",
    "    max_candidates=60,\n",
    "    verbose=True\n",
    ")\n",
    "low_ind, _ = nnd.neighbor_graph\n",
    "border_pres = np.zeros(len(train_data))\n",
    "for i in range(len(train_data)):\n",
    "    border_pres[i] = len(np.intersect1d(high_ind[i],low_ind[i]))\n",
    "# tptp K=30\n",
    "border_pres.mean(), border_pres.max(),border_pres.min()"
   ]
  },
  {
   "cell_type": "code",
   "execution_count": 26,
   "metadata": {},
   "outputs": [
    {
     "name": "stdout",
     "output_type": "stream",
     "text": [
      "Mon Jan 25 13:36:17 2021 Building RP forest with 16 trees\n",
      "Mon Jan 25 13:36:19 2021 NN descent for 16 iterations\n",
      "\t 1  /  16\n",
      "\t 2  /  16\n",
      "\tStopping threshold met -- exiting after 2 iterations\n",
      "Mon Jan 25 13:36:31 2021 Building RP forest with 16 trees\n",
      "Mon Jan 25 13:36:31 2021 NN descent for 16 iterations\n",
      "\t 1  /  16\n",
      "\t 2  /  16\n",
      "\tStopping threshold met -- exiting after 2 iterations\n"
     ]
    },
    {
     "data": {
      "text/plain": [
       "(12.87984, 46.0, 1.0)"
      ]
     },
     "execution_count": 26,
     "metadata": {},
     "output_type": "execute_result"
    }
   ],
   "source": [
    "from pynndescent import NNDescent\n",
    "# get nearest neighbors\n",
    "nnd = NNDescent(\n",
    "    train_data,\n",
    "    n_neighbors=50,\n",
    "    metric=metric,\n",
    "    n_trees=n_trees,\n",
    "    n_iters=n_iters,\n",
    "    max_candidates=60,\n",
    "    verbose=True\n",
    ")\n",
    "high_ind, _ = nnd.neighbor_graph\n",
    "low_train = load_encoder(train_data).cpu().numpy()\n",
    "nnd = NNDescent(\n",
    "    low_train,\n",
    "    n_neighbors=50,\n",
    "    metric=metric,\n",
    "    n_trees=n_trees,\n",
    "    n_iters=n_iters,\n",
    "    max_candidates=60,\n",
    "    verbose=True\n",
    ")\n",
    "low_ind, _ = nnd.neighbor_graph\n",
    "border_pres = np.zeros(len(train_data))\n",
    "for i in range(len(train_data)):\n",
    "    border_pres[i] = len(np.intersect1d(high_ind[i],low_ind[i]))\n",
    "# tptp K=50\n",
    "border_pres.mean(), border_pres.max(),border_pres.min()"
   ]
  },
  {
   "cell_type": "markdown",
   "metadata": {},
   "source": [
    "#### test"
   ]
  },
  {
   "cell_type": "code",
   "execution_count": 27,
   "metadata": {},
   "outputs": [],
   "source": [
    "fitting_data =  np.concatenate((train_data, test_data), axis=0)"
   ]
  },
  {
   "cell_type": "code",
   "execution_count": 28,
   "metadata": {},
   "outputs": [],
   "source": [
    "# number of trees in random projection forest\n",
    "n_trees = 5 + int(round((fitting_data.shape[0]) ** 0.5 / 20.0))\n",
    "# max number of nearest neighbor iters to perform\n",
    "n_iters = max(5, int(round(np.log2(fitting_data.shape[0]))))\n",
    "# distance metric\n",
    "metric = \"euclidean\""
   ]
  },
  {
   "cell_type": "code",
   "execution_count": 29,
   "metadata": {},
   "outputs": [],
   "source": [
    "low_fitting = load_encoder(fitting_data).cpu().numpy()"
   ]
  },
  {
   "cell_type": "code",
   "execution_count": null,
   "metadata": {},
   "outputs": [],
   "source": [
    "from sklearn.manifold import trustworthiness\n",
    "knns = [10,20,30,50]\n",
    "for k in knns:\n",
    "    trustworthiness = trustworthiness(fitting_data, low_fitting, n_neighbors=k, metric='euclidean')\n",
    "    print(k,trustworthiness)"
   ]
  },
  {
   "cell_type": "code",
   "execution_count": 30,
   "metadata": {},
   "outputs": [
    {
     "name": "stdout",
     "output_type": "stream",
     "text": [
      "Mon Jan 25 13:36:40 2021 Building RP forest with 17 trees\n",
      "Mon Jan 25 13:36:44 2021 NN descent for 16 iterations\n",
      "\t 1  /  16\n",
      "\t 2  /  16\n",
      "\t 3  /  16\n",
      "\tStopping threshold met -- exiting after 3 iterations\n",
      "Mon Jan 25 13:36:45 2021 Building RP forest with 17 trees\n",
      "Mon Jan 25 13:36:46 2021 NN descent for 16 iterations\n",
      "\t 1  /  16\n",
      "\t 2  /  16\n",
      "\tStopping threshold met -- exiting after 2 iterations\n"
     ]
    },
    {
     "data": {
      "text/plain": [
       "(1.9425, 9.0, 1.0)"
      ]
     },
     "execution_count": 30,
     "metadata": {},
     "output_type": "execute_result"
    }
   ],
   "source": [
    "from pynndescent import NNDescent\n",
    "# get nearest neighbors\n",
    "nnd = NNDescent(\n",
    "    fitting_data,\n",
    "    n_neighbors=10,\n",
    "    metric=metric,\n",
    "    n_trees=n_trees,\n",
    "    n_iters=n_iters,\n",
    "    max_candidates=60,\n",
    "    verbose=True\n",
    ")\n",
    "high_ind, _ = nnd.neighbor_graph\n",
    "nnd = NNDescent(\n",
    "    low_fitting,\n",
    "    n_neighbors=10,\n",
    "    metric=metric,\n",
    "    n_trees=n_trees,\n",
    "    n_iters=n_iters,\n",
    "    max_candidates=60,\n",
    "    verbose=True\n",
    ")\n",
    "low_ind, _ = nnd.neighbor_graph\n",
    "\n",
    "border_pres = np.zeros(len(test_data))\n",
    "train_num = len(train_data)\n",
    "test_num = len(fitting_data)\n",
    "for i in range(train_num,test_num,1):\n",
    "    border_pres[i-train_num] = len(np.intersect1d(high_ind[i],low_ind[i]))\n",
    "# tptp K=20\n",
    "border_pres.mean(), border_pres.max(),border_pres.min()"
   ]
  },
  {
   "cell_type": "code",
   "execution_count": 31,
   "metadata": {},
   "outputs": [
    {
     "name": "stdout",
     "output_type": "stream",
     "text": [
      "Mon Jan 25 13:36:47 2021 Building RP forest with 17 trees\n",
      "Mon Jan 25 13:36:50 2021 NN descent for 16 iterations\n",
      "\t 1  /  16\n",
      "\t 2  /  16\n",
      "\tStopping threshold met -- exiting after 2 iterations\n",
      "Mon Jan 25 13:36:53 2021 Building RP forest with 17 trees\n",
      "Mon Jan 25 13:36:53 2021 NN descent for 16 iterations\n",
      "\t 1  /  16\n",
      "\t 2  /  16\n",
      "\tStopping threshold met -- exiting after 2 iterations\n"
     ]
    },
    {
     "data": {
      "text/plain": [
       "(3.8773, 19.0, 1.0)"
      ]
     },
     "execution_count": 31,
     "metadata": {},
     "output_type": "execute_result"
    }
   ],
   "source": [
    "from pynndescent import NNDescent\n",
    "# get nearest neighbors\n",
    "nnd = NNDescent(\n",
    "    fitting_data,\n",
    "    n_neighbors=20,\n",
    "    metric=metric,\n",
    "    n_trees=n_trees,\n",
    "    n_iters=n_iters,\n",
    "    max_candidates=60,\n",
    "    verbose=True\n",
    ")\n",
    "high_ind, _ = nnd.neighbor_graph\n",
    "nnd = NNDescent(\n",
    "    low_fitting,\n",
    "    n_neighbors=20,\n",
    "    metric=metric,\n",
    "    n_trees=n_trees,\n",
    "    n_iters=n_iters,\n",
    "    max_candidates=60,\n",
    "    verbose=True\n",
    ")\n",
    "low_ind, _ = nnd.neighbor_graph\n",
    "\n",
    "border_pres = np.zeros(len(test_data))\n",
    "train_num = len(train_data)\n",
    "test_num = len(fitting_data)\n",
    "for i in range(train_num,test_num,1):\n",
    "    border_pres[i-train_num] = len(np.intersect1d(high_ind[i],low_ind[i]))\n",
    "# tptp K=20\n",
    "border_pres.mean(), border_pres.max(),border_pres.min()"
   ]
  },
  {
   "cell_type": "code",
   "execution_count": 32,
   "metadata": {},
   "outputs": [
    {
     "name": "stdout",
     "output_type": "stream",
     "text": [
      "Mon Jan 25 13:36:55 2021 Building RP forest with 17 trees\n",
      "Mon Jan 25 13:36:58 2021 NN descent for 16 iterations\n",
      "\t 1  /  16\n",
      "\t 2  /  16\n",
      "\tStopping threshold met -- exiting after 2 iterations\n",
      "Mon Jan 25 13:37:03 2021 Building RP forest with 17 trees\n",
      "Mon Jan 25 13:37:03 2021 NN descent for 16 iterations\n",
      "\t 1  /  16\n",
      "\t 2  /  16\n",
      "\tStopping threshold met -- exiting after 2 iterations\n"
     ]
    },
    {
     "data": {
      "text/plain": [
       "(6.333, 27.0, 1.0)"
      ]
     },
     "execution_count": 32,
     "metadata": {},
     "output_type": "execute_result"
    }
   ],
   "source": [
    "from pynndescent import NNDescent\n",
    "# get nearest neighbors\n",
    "nnd = NNDescent(\n",
    "    fitting_data,\n",
    "    n_neighbors=30,\n",
    "    metric=metric,\n",
    "    n_trees=n_trees,\n",
    "    n_iters=n_iters,\n",
    "    max_candidates=60,\n",
    "    verbose=True\n",
    ")\n",
    "high_ind, _ = nnd.neighbor_graph\n",
    "nnd = NNDescent(\n",
    "    low_fitting,\n",
    "    n_neighbors=30,\n",
    "    metric=metric,\n",
    "    n_trees=n_trees,\n",
    "    n_iters=n_iters,\n",
    "    max_candidates=60,\n",
    "    verbose=True\n",
    ")\n",
    "low_ind, _ = nnd.neighbor_graph\n",
    "\n",
    "border_pres = np.zeros(len(test_data))\n",
    "train_num = len(train_data)\n",
    "test_num = len(fitting_data)\n",
    "for i in range(train_num,test_num,1):\n",
    "    border_pres[i-train_num] = len(np.intersect1d(high_ind[i],low_ind[i]))\n",
    "# tptp K=30\n",
    "border_pres.mean(), border_pres.max(),border_pres.min()"
   ]
  },
  {
   "cell_type": "code",
   "execution_count": 33,
   "metadata": {
    "scrolled": false
   },
   "outputs": [
    {
     "name": "stdout",
     "output_type": "stream",
     "text": [
      "Mon Jan 25 13:37:06 2021 Building RP forest with 17 trees\n",
      "Mon Jan 25 13:37:09 2021 NN descent for 16 iterations\n",
      "\t 1  /  16\n",
      "\t 2  /  16\n",
      "\tStopping threshold met -- exiting after 2 iterations\n",
      "Mon Jan 25 13:37:23 2021 Building RP forest with 17 trees\n",
      "Mon Jan 25 13:37:23 2021 NN descent for 16 iterations\n",
      "\t 1  /  16\n",
      "\t 2  /  16\n",
      "\tStopping threshold met -- exiting after 2 iterations\n"
     ]
    },
    {
     "data": {
      "text/plain": [
       "(12.3911, 48.0, 1.0)"
      ]
     },
     "execution_count": 33,
     "metadata": {},
     "output_type": "execute_result"
    }
   ],
   "source": [
    "from pynndescent import NNDescent\n",
    "# get nearest neighbors\n",
    "nnd = NNDescent(\n",
    "    fitting_data,\n",
    "    n_neighbors=50,\n",
    "    metric=metric,\n",
    "    n_trees=n_trees,\n",
    "    n_iters=n_iters,\n",
    "    max_candidates=60,\n",
    "    verbose=True\n",
    ")\n",
    "high_ind, _ = nnd.neighbor_graph\n",
    "nnd = NNDescent(\n",
    "    low_fitting,\n",
    "    n_neighbors=50,\n",
    "    metric=metric,\n",
    "    n_trees=n_trees,\n",
    "    n_iters=n_iters,\n",
    "    max_candidates=60,\n",
    "    verbose=True\n",
    ")\n",
    "low_ind, _ = nnd.neighbor_graph\n",
    "\n",
    "border_pres = np.zeros(len(test_data))\n",
    "train_num = len(train_data)\n",
    "test_num = len(fitting_data)\n",
    "for i in range(train_num,test_num,1):\n",
    "    border_pres[i-train_num] = len(np.intersect1d(high_ind[i],low_ind[i]))\n",
    "# tptp K=50\n",
    "border_pres.mean(), border_pres.max(),border_pres.min()"
   ]
  },
  {
   "cell_type": "markdown",
   "metadata": {},
   "source": [
    "### M_<CP,DP>(core)"
   ]
  },
  {
   "cell_type": "code",
   "execution_count": 6,
   "metadata": {},
   "outputs": [
    {
     "name": "stdout",
     "output_type": "stream",
     "text": [
      "WARNING:tensorflow:No training configuration found in save file, so the model was *not* compiled. Compile it manually.\n",
      "Keras encoder model loaded from parametric_umap_models\\dbp_exp\\encoder_core_tpdp\n"
     ]
    }
   ],
   "source": [
    "import os\n",
    "save_location = \"parametric_umap_models\\dbp_exp\"\n",
    "# load model\n",
    "# load encoder\n",
    "encoder_output = os.path.join(save_location, \"encoder_core_tpdp\")\n",
    "if os.path.exists(encoder_output):\n",
    "    load_encoder = tf.keras.models.load_model(encoder_output)\n",
    "    print(\"Keras encoder model loaded from {}\".format(encoder_output))"
   ]
  },
  {
   "cell_type": "markdown",
   "metadata": {},
   "source": [
    "#### train"
   ]
  },
  {
   "cell_type": "code",
   "execution_count": 7,
   "metadata": {},
   "outputs": [],
   "source": [
    "# number of trees in random projection forest\n",
    "n_trees = 5 + int(round((train_data.shape[0]) ** 0.5 / 20.0))\n",
    "# max number of nearest neighbor iters to perform\n",
    "n_iters = max(5, int(round(np.log2(train_data.shape[0]))))\n",
    "# distance metric\n",
    "metric = \"euclidean\""
   ]
  },
  {
   "cell_type": "code",
   "execution_count": 8,
   "metadata": {},
   "outputs": [
    {
     "name": "stdout",
     "output_type": "stream",
     "text": [
      "WARNING:tensorflow:From <ipython-input-8-c3f5e7a4f4d7>:1: _EagerTensorBase.cpu (from tensorflow.python.framework.ops) is deprecated and will be removed in a future version.\n",
      "Instructions for updating:\n",
      "Use tf.identity instead.\n"
     ]
    }
   ],
   "source": [
    "low_train = load_encoder(train_data).cpu().numpy()"
   ]
  },
  {
   "cell_type": "code",
   "execution_count": 21,
   "metadata": {},
   "outputs": [
    {
     "name": "stdout",
     "output_type": "stream",
     "text": [
      "10 0.9765683108963779\n",
      "20 0.9765955240896947\n",
      "30 0.9766400976888969\n",
      "50 1.0111850059189376\n"
     ]
    }
   ],
   "source": [
    "from sklearn.manifold import trustworthiness\n",
    "knns = [10,20,30,50]\n",
    "for k in knns:\n",
    "    t = trustworthiness(train_data, low_train, n_neighbors=int(k), metric='euclidean')\n",
    "    print(k,t)"
   ]
  },
  {
   "cell_type": "code",
   "execution_count": 9,
   "metadata": {},
   "outputs": [
    {
     "name": "stdout",
     "output_type": "stream",
     "text": [
      "Mon Jan 25 17:18:06 2021 Building RP forest with 16 trees\n",
      "Mon Jan 25 17:18:09 2021 NN descent for 16 iterations\n",
      "\t 1  /  16\n",
      "\t 2  /  16\n",
      "\t 3  /  16\n",
      "\tStopping threshold met -- exiting after 3 iterations\n",
      "Mon Jan 25 17:18:23 2021 Building RP forest with 16 trees\n",
      "Mon Jan 25 17:18:23 2021 NN descent for 16 iterations\n",
      "\t 1  /  16\n",
      "\t 2  /  16\n",
      "\tStopping threshold met -- exiting after 2 iterations\n"
     ]
    },
    {
     "data": {
      "text/plain": [
       "(1.68632, 9.0, 1.0)"
      ]
     },
     "execution_count": 9,
     "metadata": {},
     "output_type": "execute_result"
    }
   ],
   "source": [
    "from pynndescent import NNDescent\n",
    "# get nearest neighbors\n",
    "nnd = NNDescent(\n",
    "    train_data,\n",
    "    n_neighbors=10,\n",
    "    metric=metric,\n",
    "    n_trees=n_trees,\n",
    "    n_iters=n_iters,\n",
    "    max_candidates=60,\n",
    "    verbose=True\n",
    ")\n",
    "high_ind, _ = nnd.neighbor_graph\n",
    "nnd = NNDescent(\n",
    "    low_train,\n",
    "    n_neighbors=10,\n",
    "    metric=metric,\n",
    "    n_trees=n_trees,\n",
    "    n_iters=n_iters,\n",
    "    max_candidates=60,\n",
    "    verbose=True\n",
    ")\n",
    "low_ind, _ = nnd.neighbor_graph\n",
    "\n",
    "border_pres = np.zeros(len(train_data))\n",
    "for i in range(len(train_data)):\n",
    "    border_pres[i] = len(np.intersect1d(high_ind[i],low_ind[i]))\n",
    "# tptp K=10\n",
    "border_pres.mean(), border_pres.max(),border_pres.min()"
   ]
  },
  {
   "cell_type": "code",
   "execution_count": 10,
   "metadata": {},
   "outputs": [
    {
     "name": "stdout",
     "output_type": "stream",
     "text": [
      "Mon Jan 25 17:18:25 2021 Building RP forest with 16 trees\n",
      "Mon Jan 25 17:18:28 2021 NN descent for 16 iterations\n",
      "\t 1  /  16\n",
      "\t 2  /  16\n",
      "\tStopping threshold met -- exiting after 2 iterations\n",
      "Mon Jan 25 17:18:30 2021 Building RP forest with 16 trees\n",
      "Mon Jan 25 17:18:30 2021 NN descent for 16 iterations\n",
      "\t 1  /  16\n",
      "\t 2  /  16\n",
      "\tStopping threshold met -- exiting after 2 iterations\n"
     ]
    },
    {
     "data": {
      "text/plain": [
       "(3.08414, 19.0, 1.0)"
      ]
     },
     "execution_count": 10,
     "metadata": {},
     "output_type": "execute_result"
    }
   ],
   "source": [
    "from pynndescent import NNDescent\n",
    "# get nearest neighbors\n",
    "nnd = NNDescent(\n",
    "    train_data,\n",
    "    n_neighbors=20,\n",
    "    metric=metric,\n",
    "    n_trees=n_trees,\n",
    "    n_iters=n_iters,\n",
    "    max_candidates=60,\n",
    "    verbose=True\n",
    ")\n",
    "high_ind, _ = nnd.neighbor_graph\n",
    "nnd = NNDescent(\n",
    "    low_train,\n",
    "    n_neighbors=20,\n",
    "    metric=metric,\n",
    "    n_trees=n_trees,\n",
    "    n_iters=n_iters,\n",
    "    max_candidates=60,\n",
    "    verbose=True\n",
    ")\n",
    "low_ind, _ = nnd.neighbor_graph\n",
    "border_pres = np.zeros(len(train_data))\n",
    "for i in range(len(train_data)):\n",
    "    border_pres[i] = len(np.intersect1d(high_ind[i],low_ind[i]))\n",
    "# tptp K=20\n",
    "border_pres.mean(), border_pres.max(),border_pres.min()"
   ]
  },
  {
   "cell_type": "code",
   "execution_count": 11,
   "metadata": {},
   "outputs": [
    {
     "name": "stdout",
     "output_type": "stream",
     "text": [
      "Mon Jan 25 17:18:33 2021 Building RP forest with 16 trees\n",
      "Mon Jan 25 17:18:35 2021 NN descent for 16 iterations\n",
      "\t 1  /  16\n",
      "\t 2  /  16\n",
      "\tStopping threshold met -- exiting after 2 iterations\n",
      "Mon Jan 25 17:18:40 2021 Building RP forest with 16 trees\n",
      "Mon Jan 25 17:18:40 2021 NN descent for 16 iterations\n",
      "\t 1  /  16\n",
      "\t 2  /  16\n",
      "\tStopping threshold met -- exiting after 2 iterations\n"
     ]
    },
    {
     "data": {
      "text/plain": [
       "(4.87756, 28.0, 1.0)"
      ]
     },
     "execution_count": 11,
     "metadata": {},
     "output_type": "execute_result"
    }
   ],
   "source": [
    "from pynndescent import NNDescent\n",
    "# get nearest neighbors\n",
    "nnd = NNDescent(\n",
    "    train_data,\n",
    "    n_neighbors=30,\n",
    "    metric=metric,\n",
    "    n_trees=n_trees,\n",
    "    n_iters=n_iters,\n",
    "    max_candidates=60,\n",
    "    verbose=True\n",
    ")\n",
    "high_ind, _ = nnd.neighbor_graph\n",
    "low_train = load_encoder(train_data).cpu().numpy()\n",
    "nnd = NNDescent(\n",
    "    low_train,\n",
    "    n_neighbors=30,\n",
    "    metric=metric,\n",
    "    n_trees=n_trees,\n",
    "    n_iters=n_iters,\n",
    "    max_candidates=60,\n",
    "    verbose=True\n",
    ")\n",
    "low_ind, _ = nnd.neighbor_graph\n",
    "border_pres = np.zeros(len(train_data))\n",
    "for i in range(len(train_data)):\n",
    "    border_pres[i] = len(np.intersect1d(high_ind[i],low_ind[i]))\n",
    "# tptp K=30\n",
    "border_pres.mean(), border_pres.max(),border_pres.min()"
   ]
  },
  {
   "cell_type": "code",
   "execution_count": 12,
   "metadata": {},
   "outputs": [
    {
     "name": "stdout",
     "output_type": "stream",
     "text": [
      "Mon Jan 25 17:18:43 2021 Building RP forest with 16 trees\n",
      "Mon Jan 25 17:18:46 2021 NN descent for 16 iterations\n",
      "\t 1  /  16\n",
      "\t 2  /  16\n",
      "\tStopping threshold met -- exiting after 2 iterations\n",
      "Mon Jan 25 17:18:58 2021 Building RP forest with 16 trees\n",
      "Mon Jan 25 17:18:58 2021 NN descent for 16 iterations\n",
      "\t 1  /  16\n",
      "\t 2  /  16\n",
      "\tStopping threshold met -- exiting after 2 iterations\n"
     ]
    },
    {
     "data": {
      "text/plain": [
       "(9.27474, 45.0, 1.0)"
      ]
     },
     "execution_count": 12,
     "metadata": {},
     "output_type": "execute_result"
    }
   ],
   "source": [
    "from pynndescent import NNDescent\n",
    "# get nearest neighbors\n",
    "nnd = NNDescent(\n",
    "    train_data,\n",
    "    n_neighbors=50,\n",
    "    metric=metric,\n",
    "    n_trees=n_trees,\n",
    "    n_iters=n_iters,\n",
    "    max_candidates=60,\n",
    "    verbose=True\n",
    ")\n",
    "high_ind, _ = nnd.neighbor_graph\n",
    "low_train = load_encoder(train_data).cpu().numpy()\n",
    "nnd = NNDescent(\n",
    "    low_train,\n",
    "    n_neighbors=50,\n",
    "    metric=metric,\n",
    "    n_trees=n_trees,\n",
    "    n_iters=n_iters,\n",
    "    max_candidates=60,\n",
    "    verbose=True\n",
    ")\n",
    "low_ind, _ = nnd.neighbor_graph\n",
    "border_pres = np.zeros(len(train_data))\n",
    "for i in range(len(train_data)):\n",
    "    border_pres[i] = len(np.intersect1d(high_ind[i],low_ind[i]))\n",
    "# tptp K=50\n",
    "border_pres.mean(), border_pres.max(),border_pres.min()"
   ]
  },
  {
   "cell_type": "markdown",
   "metadata": {},
   "source": [
    "#### test"
   ]
  },
  {
   "cell_type": "code",
   "execution_count": 13,
   "metadata": {},
   "outputs": [],
   "source": [
    "fitting_data =  np.concatenate((train_data, test_data), axis=0)"
   ]
  },
  {
   "cell_type": "code",
   "execution_count": 14,
   "metadata": {},
   "outputs": [],
   "source": [
    "# number of trees in random projection forest\n",
    "n_trees = 5 + int(round((fitting_data.shape[0]) ** 0.5 / 20.0))\n",
    "# max number of nearest neighbor iters to perform\n",
    "n_iters = max(5, int(round(np.log2(fitting_data.shape[0]))))\n",
    "# distance metric\n",
    "metric = \"euclidean\""
   ]
  },
  {
   "cell_type": "code",
   "execution_count": 15,
   "metadata": {},
   "outputs": [],
   "source": [
    "low_fitting = load_encoder(fitting_data).cpu().numpy()"
   ]
  },
  {
   "cell_type": "code",
   "execution_count": 25,
   "metadata": {},
   "outputs": [
    {
     "name": "stdout",
     "output_type": "stream",
     "text": [
      "10 0.9758711358211982\n"
     ]
    },
    {
     "ename": "TypeError",
     "evalue": "'numpy.float64' object is not callable",
     "output_type": "error",
     "traceback": [
      "\u001b[1;31m---------------------------------------------------------------------------\u001b[0m",
      "\u001b[1;31mTypeError\u001b[0m                                 Traceback (most recent call last)",
      "\u001b[1;32m<ipython-input-25-55c75e897044>\u001b[0m in \u001b[0;36m<module>\u001b[1;34m\u001b[0m\n\u001b[0;32m      2\u001b[0m \u001b[0mknns\u001b[0m \u001b[1;33m=\u001b[0m \u001b[1;33m[\u001b[0m\u001b[1;36m10\u001b[0m\u001b[1;33m,\u001b[0m\u001b[1;36m20\u001b[0m\u001b[1;33m,\u001b[0m\u001b[1;36m30\u001b[0m\u001b[1;33m,\u001b[0m\u001b[1;36m50\u001b[0m\u001b[1;33m]\u001b[0m\u001b[1;33m\u001b[0m\u001b[1;33m\u001b[0m\u001b[0m\n\u001b[0;32m      3\u001b[0m \u001b[1;32mfor\u001b[0m \u001b[0mk\u001b[0m \u001b[1;32min\u001b[0m \u001b[0mknns\u001b[0m\u001b[1;33m:\u001b[0m\u001b[1;33m\u001b[0m\u001b[1;33m\u001b[0m\u001b[0m\n\u001b[1;32m----> 4\u001b[1;33m     \u001b[0mtrustworthiness\u001b[0m \u001b[1;33m=\u001b[0m \u001b[0mtrustworthiness\u001b[0m\u001b[1;33m(\u001b[0m\u001b[0mfitting_data\u001b[0m\u001b[1;33m,\u001b[0m \u001b[0mlow_fitting\u001b[0m\u001b[1;33m,\u001b[0m \u001b[0mn_neighbors\u001b[0m\u001b[1;33m=\u001b[0m\u001b[0mk\u001b[0m\u001b[1;33m,\u001b[0m \u001b[0mmetric\u001b[0m\u001b[1;33m=\u001b[0m\u001b[1;34m'euclidean'\u001b[0m\u001b[1;33m)\u001b[0m\u001b[1;33m\u001b[0m\u001b[1;33m\u001b[0m\u001b[0m\n\u001b[0m\u001b[0;32m      5\u001b[0m     \u001b[0mprint\u001b[0m\u001b[1;33m(\u001b[0m\u001b[0mk\u001b[0m\u001b[1;33m,\u001b[0m\u001b[0mtrustworthiness\u001b[0m\u001b[1;33m)\u001b[0m\u001b[1;33m\u001b[0m\u001b[1;33m\u001b[0m\u001b[0m\n",
      "\u001b[1;31mTypeError\u001b[0m: 'numpy.float64' object is not callable"
     ]
    }
   ],
   "source": [
    "from sklearn.manifold import trustworthiness\n",
    "knns = [10,20,30,50]\n",
    "for k in knns:\n",
    "    t = trustworthiness(fitting_data, low_fitting, n_neighbors=k, metric='euclidean')\n",
    "    print(k,t)"
   ]
  },
  {
   "cell_type": "code",
   "execution_count": 16,
   "metadata": {},
   "outputs": [
    {
     "name": "stdout",
     "output_type": "stream",
     "text": [
      "Mon Jan 25 17:21:27 2021 Building RP forest with 17 trees\n",
      "Mon Jan 25 17:21:31 2021 NN descent for 16 iterations\n",
      "\t 1  /  16\n",
      "\t 2  /  16\n",
      "\t 3  /  16\n",
      "\tStopping threshold met -- exiting after 3 iterations\n",
      "Mon Jan 25 17:21:32 2021 Building RP forest with 17 trees\n",
      "Mon Jan 25 17:21:32 2021 NN descent for 16 iterations\n",
      "\t 1  /  16\n",
      "\t 2  /  16\n",
      "\tStopping threshold met -- exiting after 2 iterations\n"
     ]
    },
    {
     "data": {
      "text/plain": [
       "(1.754, 9.0, 1.0)"
      ]
     },
     "execution_count": 16,
     "metadata": {},
     "output_type": "execute_result"
    }
   ],
   "source": [
    "from pynndescent import NNDescent\n",
    "# get nearest neighbors\n",
    "nnd = NNDescent(\n",
    "    fitting_data,\n",
    "    n_neighbors=10,\n",
    "    metric=metric,\n",
    "    n_trees=n_trees,\n",
    "    n_iters=n_iters,\n",
    "    max_candidates=60,\n",
    "    verbose=True\n",
    ")\n",
    "high_ind, _ = nnd.neighbor_graph\n",
    "nnd = NNDescent(\n",
    "    low_fitting,\n",
    "    n_neighbors=10,\n",
    "    metric=metric,\n",
    "    n_trees=n_trees,\n",
    "    n_iters=n_iters,\n",
    "    max_candidates=60,\n",
    "    verbose=True\n",
    ")\n",
    "low_ind, _ = nnd.neighbor_graph\n",
    "\n",
    "border_pres = np.zeros(len(test_data))\n",
    "train_num = len(train_data)\n",
    "test_num = len(fitting_data)\n",
    "for i in range(train_num,test_num,1):\n",
    "    border_pres[i-train_num] = len(np.intersect1d(high_ind[i],low_ind[i]))\n",
    "# tptp K=20\n",
    "border_pres.mean(), border_pres.max(),border_pres.min()"
   ]
  },
  {
   "cell_type": "code",
   "execution_count": 17,
   "metadata": {},
   "outputs": [
    {
     "name": "stdout",
     "output_type": "stream",
     "text": [
      "Mon Jan 25 17:21:34 2021 Building RP forest with 17 trees\n",
      "Mon Jan 25 17:21:37 2021 NN descent for 16 iterations\n",
      "\t 1  /  16\n",
      "\t 2  /  16\n",
      "\tStopping threshold met -- exiting after 2 iterations\n",
      "Mon Jan 25 17:21:40 2021 Building RP forest with 17 trees\n",
      "Mon Jan 25 17:21:40 2021 NN descent for 16 iterations\n",
      "\t 1  /  16\n",
      "\t 2  /  16\n",
      "\tStopping threshold met -- exiting after 2 iterations\n"
     ]
    },
    {
     "data": {
      "text/plain": [
       "(3.1878, 18.0, 1.0)"
      ]
     },
     "execution_count": 17,
     "metadata": {},
     "output_type": "execute_result"
    }
   ],
   "source": [
    "from pynndescent import NNDescent\n",
    "# get nearest neighbors\n",
    "nnd = NNDescent(\n",
    "    fitting_data,\n",
    "    n_neighbors=20,\n",
    "    metric=metric,\n",
    "    n_trees=n_trees,\n",
    "    n_iters=n_iters,\n",
    "    max_candidates=60,\n",
    "    verbose=True\n",
    ")\n",
    "high_ind, _ = nnd.neighbor_graph\n",
    "nnd = NNDescent(\n",
    "    low_fitting,\n",
    "    n_neighbors=20,\n",
    "    metric=metric,\n",
    "    n_trees=n_trees,\n",
    "    n_iters=n_iters,\n",
    "    max_candidates=60,\n",
    "    verbose=True\n",
    ")\n",
    "low_ind, _ = nnd.neighbor_graph\n",
    "\n",
    "border_pres = np.zeros(len(test_data))\n",
    "train_num = len(train_data)\n",
    "test_num = len(fitting_data)\n",
    "for i in range(train_num,test_num,1):\n",
    "    border_pres[i-train_num] = len(np.intersect1d(high_ind[i],low_ind[i]))\n",
    "# tptp K=20\n",
    "border_pres.mean(), border_pres.max(),border_pres.min()"
   ]
  },
  {
   "cell_type": "code",
   "execution_count": 18,
   "metadata": {},
   "outputs": [
    {
     "name": "stdout",
     "output_type": "stream",
     "text": [
      "Mon Jan 25 17:21:42 2021 Building RP forest with 17 trees\n",
      "Mon Jan 25 17:21:45 2021 NN descent for 16 iterations\n",
      "\t 1  /  16\n",
      "\t 2  /  16\n",
      "\tStopping threshold met -- exiting after 2 iterations\n",
      "Mon Jan 25 17:21:50 2021 Building RP forest with 17 trees\n",
      "Mon Jan 25 17:21:50 2021 NN descent for 16 iterations\n",
      "\t 1  /  16\n",
      "\t 2  /  16\n",
      "\tStopping threshold met -- exiting after 2 iterations\n"
     ]
    },
    {
     "data": {
      "text/plain": [
       "(4.9968, 27.0, 1.0)"
      ]
     },
     "execution_count": 18,
     "metadata": {},
     "output_type": "execute_result"
    }
   ],
   "source": [
    "from pynndescent import NNDescent\n",
    "# get nearest neighbors\n",
    "nnd = NNDescent(\n",
    "    fitting_data,\n",
    "    n_neighbors=30,\n",
    "    metric=metric,\n",
    "    n_trees=n_trees,\n",
    "    n_iters=n_iters,\n",
    "    max_candidates=60,\n",
    "    verbose=True\n",
    ")\n",
    "high_ind, _ = nnd.neighbor_graph\n",
    "nnd = NNDescent(\n",
    "    low_fitting,\n",
    "    n_neighbors=30,\n",
    "    metric=metric,\n",
    "    n_trees=n_trees,\n",
    "    n_iters=n_iters,\n",
    "    max_candidates=60,\n",
    "    verbose=True\n",
    ")\n",
    "low_ind, _ = nnd.neighbor_graph\n",
    "\n",
    "border_pres = np.zeros(len(test_data))\n",
    "train_num = len(train_data)\n",
    "test_num = len(fitting_data)\n",
    "for i in range(train_num,test_num,1):\n",
    "    border_pres[i-train_num] = len(np.intersect1d(high_ind[i],low_ind[i]))\n",
    "# tptp K=30\n",
    "border_pres.mean(), border_pres.max(),border_pres.min()"
   ]
  },
  {
   "cell_type": "code",
   "execution_count": 19,
   "metadata": {
    "scrolled": false
   },
   "outputs": [
    {
     "name": "stdout",
     "output_type": "stream",
     "text": [
      "Mon Jan 25 17:21:52 2021 Building RP forest with 17 trees\n",
      "Mon Jan 25 17:21:56 2021 NN descent for 16 iterations\n",
      "\t 1  /  16\n",
      "\t 2  /  16\n",
      "\tStopping threshold met -- exiting after 2 iterations\n",
      "Mon Jan 25 17:22:10 2021 Building RP forest with 17 trees\n",
      "Mon Jan 25 17:22:10 2021 NN descent for 16 iterations\n",
      "\t 1  /  16\n",
      "\t 2  /  16\n",
      "\tStopping threshold met -- exiting after 2 iterations\n"
     ]
    },
    {
     "data": {
      "text/plain": [
       "(9.3461, 45.0, 1.0)"
      ]
     },
     "execution_count": 19,
     "metadata": {},
     "output_type": "execute_result"
    }
   ],
   "source": [
    "from pynndescent import NNDescent\n",
    "# get nearest neighbors\n",
    "nnd = NNDescent(\n",
    "    fitting_data,\n",
    "    n_neighbors=50,\n",
    "    metric=metric,\n",
    "    n_trees=n_trees,\n",
    "    n_iters=n_iters,\n",
    "    max_candidates=60,\n",
    "    verbose=True\n",
    ")\n",
    "high_ind, _ = nnd.neighbor_graph\n",
    "nnd = NNDescent(\n",
    "    low_fitting,\n",
    "    n_neighbors=50,\n",
    "    metric=metric,\n",
    "    n_trees=n_trees,\n",
    "    n_iters=n_iters,\n",
    "    max_candidates=60,\n",
    "    verbose=True\n",
    ")\n",
    "low_ind, _ = nnd.neighbor_graph\n",
    "\n",
    "border_pres = np.zeros(len(test_data))\n",
    "train_num = len(train_data)\n",
    "test_num = len(fitting_data)\n",
    "for i in range(train_num,test_num,1):\n",
    "    border_pres[i-train_num] = len(np.intersect1d(high_ind[i],low_ind[i]))\n",
    "# tptp K=50\n",
    "border_pres.mean(), border_pres.max(),border_pres.min()"
   ]
  },
  {
   "cell_type": "markdown",
   "metadata": {},
   "source": [
    "### M_<CP,CP><CP,DP>(core)"
   ]
  },
  {
   "cell_type": "code",
   "execution_count": 20,
   "metadata": {},
   "outputs": [
    {
     "name": "stdout",
     "output_type": "stream",
     "text": [
      "WARNING:tensorflow:No training configuration found in save file, so the model was *not* compiled. Compile it manually.\n",
      "Keras encoder model loaded from parametric_umap_models\\dbp_exp\\encoder_core_tptptpdp\n"
     ]
    }
   ],
   "source": [
    "import os\n",
    "save_location = \"parametric_umap_models\\dbp_exp\"\n",
    "# load model\n",
    "# load encoder\n",
    "encoder_output = os.path.join(save_location, \"encoder_core_tptptpdp\")\n",
    "if os.path.exists(encoder_output):\n",
    "    load_encoder = tf.keras.models.load_model(encoder_output)\n",
    "    print(\"Keras encoder model loaded from {}\".format(encoder_output))"
   ]
  },
  {
   "cell_type": "markdown",
   "metadata": {},
   "source": [
    "#### train"
   ]
  },
  {
   "cell_type": "code",
   "execution_count": 21,
   "metadata": {},
   "outputs": [],
   "source": [
    "# number of trees in random projection forest\n",
    "n_trees = 5 + int(round((train_data.shape[0]) ** 0.5 / 20.0))\n",
    "# max number of nearest neighbor iters to perform\n",
    "n_iters = max(5, int(round(np.log2(train_data.shape[0]))))\n",
    "# distance metric\n",
    "metric = \"euclidean\""
   ]
  },
  {
   "cell_type": "code",
   "execution_count": 22,
   "metadata": {},
   "outputs": [],
   "source": [
    "low_train = load_encoder(train_data).cpu().numpy()"
   ]
  },
  {
   "cell_type": "code",
   "execution_count": null,
   "metadata": {},
   "outputs": [],
   "source": [
    "from sklearn.manifold import trustworthiness\n",
    "knns = [10,20,30,50]\n",
    "for k in knns:\n",
    "    t = trustworthiness(train_data, low_train, n_neighbors=int(k), metric='euclidean')\n",
    "    print(k,t)"
   ]
  },
  {
   "cell_type": "code",
   "execution_count": 23,
   "metadata": {},
   "outputs": [
    {
     "name": "stdout",
     "output_type": "stream",
     "text": [
      "Mon Jan 25 17:22:33 2021 Building RP forest with 16 trees\n",
      "Mon Jan 25 17:22:36 2021 NN descent for 16 iterations\n",
      "\t 1  /  16\n",
      "\t 2  /  16\n",
      "\t 3  /  16\n",
      "\tStopping threshold met -- exiting after 3 iterations\n",
      "Mon Jan 25 17:22:37 2021 Building RP forest with 16 trees\n",
      "Mon Jan 25 17:22:37 2021 NN descent for 16 iterations\n",
      "\t 1  /  16\n",
      "\t 2  /  16\n",
      "\tStopping threshold met -- exiting after 2 iterations\n"
     ]
    },
    {
     "data": {
      "text/plain": [
       "(1.92228, 10.0, 1.0)"
      ]
     },
     "execution_count": 23,
     "metadata": {},
     "output_type": "execute_result"
    }
   ],
   "source": [
    "from pynndescent import NNDescent\n",
    "# get nearest neighbors\n",
    "nnd = NNDescent(\n",
    "    train_data,\n",
    "    n_neighbors=10,\n",
    "    metric=metric,\n",
    "    n_trees=n_trees,\n",
    "    n_iters=n_iters,\n",
    "    max_candidates=60,\n",
    "    verbose=True\n",
    ")\n",
    "high_ind, _ = nnd.neighbor_graph\n",
    "nnd = NNDescent(\n",
    "    low_train,\n",
    "    n_neighbors=10,\n",
    "    metric=metric,\n",
    "    n_trees=n_trees,\n",
    "    n_iters=n_iters,\n",
    "    max_candidates=60,\n",
    "    verbose=True\n",
    ")\n",
    "low_ind, _ = nnd.neighbor_graph\n",
    "\n",
    "border_pres = np.zeros(len(train_data))\n",
    "for i in range(len(train_data)):\n",
    "    border_pres[i] = len(np.intersect1d(high_ind[i],low_ind[i]))\n",
    "# tptp K=10\n",
    "border_pres.mean(), border_pres.max(),border_pres.min()"
   ]
  },
  {
   "cell_type": "code",
   "execution_count": 24,
   "metadata": {},
   "outputs": [
    {
     "name": "stdout",
     "output_type": "stream",
     "text": [
      "Mon Jan 25 17:22:39 2021 Building RP forest with 16 trees\n",
      "Mon Jan 25 17:22:42 2021 NN descent for 16 iterations\n",
      "\t 1  /  16\n",
      "\t 2  /  16\n",
      "\tStopping threshold met -- exiting after 2 iterations\n",
      "Mon Jan 25 17:22:44 2021 Building RP forest with 16 trees\n",
      "Mon Jan 25 17:22:44 2021 NN descent for 16 iterations\n",
      "\t 1  /  16\n",
      "\t 2  /  16\n",
      "\tStopping threshold met -- exiting after 2 iterations\n"
     ]
    },
    {
     "data": {
      "text/plain": [
       "(3.8684, 19.0, 1.0)"
      ]
     },
     "execution_count": 24,
     "metadata": {},
     "output_type": "execute_result"
    }
   ],
   "source": [
    "from pynndescent import NNDescent\n",
    "# get nearest neighbors\n",
    "nnd = NNDescent(\n",
    "    train_data,\n",
    "    n_neighbors=20,\n",
    "    metric=metric,\n",
    "    n_trees=n_trees,\n",
    "    n_iters=n_iters,\n",
    "    max_candidates=60,\n",
    "    verbose=True\n",
    ")\n",
    "high_ind, _ = nnd.neighbor_graph\n",
    "nnd = NNDescent(\n",
    "    low_train,\n",
    "    n_neighbors=20,\n",
    "    metric=metric,\n",
    "    n_trees=n_trees,\n",
    "    n_iters=n_iters,\n",
    "    max_candidates=60,\n",
    "    verbose=True\n",
    ")\n",
    "low_ind, _ = nnd.neighbor_graph\n",
    "border_pres = np.zeros(len(train_data))\n",
    "for i in range(len(train_data)):\n",
    "    border_pres[i] = len(np.intersect1d(high_ind[i],low_ind[i]))\n",
    "# tptp K=20\n",
    "border_pres.mean(), border_pres.max(),border_pres.min()"
   ]
  },
  {
   "cell_type": "code",
   "execution_count": 25,
   "metadata": {},
   "outputs": [
    {
     "name": "stdout",
     "output_type": "stream",
     "text": [
      "Mon Jan 25 17:22:46 2021 Building RP forest with 16 trees\n",
      "Mon Jan 25 17:22:49 2021 NN descent for 16 iterations\n",
      "\t 1  /  16\n",
      "\t 2  /  16\n",
      "\tStopping threshold met -- exiting after 2 iterations\n",
      "Mon Jan 25 17:22:53 2021 Building RP forest with 16 trees\n",
      "Mon Jan 25 17:22:53 2021 NN descent for 16 iterations\n",
      "\t 1  /  16\n",
      "\t 2  /  16\n",
      "\tStopping threshold met -- exiting after 2 iterations\n"
     ]
    },
    {
     "data": {
      "text/plain": [
       "(6.3445, 28.0, 1.0)"
      ]
     },
     "execution_count": 25,
     "metadata": {},
     "output_type": "execute_result"
    }
   ],
   "source": [
    "from pynndescent import NNDescent\n",
    "# get nearest neighbors\n",
    "nnd = NNDescent(\n",
    "    train_data,\n",
    "    n_neighbors=30,\n",
    "    metric=metric,\n",
    "    n_trees=n_trees,\n",
    "    n_iters=n_iters,\n",
    "    max_candidates=60,\n",
    "    verbose=True\n",
    ")\n",
    "high_ind, _ = nnd.neighbor_graph\n",
    "low_train = load_encoder(train_data).cpu().numpy()\n",
    "nnd = NNDescent(\n",
    "    low_train,\n",
    "    n_neighbors=30,\n",
    "    metric=metric,\n",
    "    n_trees=n_trees,\n",
    "    n_iters=n_iters,\n",
    "    max_candidates=60,\n",
    "    verbose=True\n",
    ")\n",
    "low_ind, _ = nnd.neighbor_graph\n",
    "border_pres = np.zeros(len(train_data))\n",
    "for i in range(len(train_data)):\n",
    "    border_pres[i] = len(np.intersect1d(high_ind[i],low_ind[i]))\n",
    "# tptp K=30\n",
    "border_pres.mean(), border_pres.max(),border_pres.min()"
   ]
  },
  {
   "cell_type": "code",
   "execution_count": 26,
   "metadata": {},
   "outputs": [
    {
     "name": "stdout",
     "output_type": "stream",
     "text": [
      "Mon Jan 25 17:22:56 2021 Building RP forest with 16 trees\n",
      "Mon Jan 25 17:22:59 2021 NN descent for 16 iterations\n",
      "\t 1  /  16\n",
      "\t 2  /  16\n",
      "\tStopping threshold met -- exiting after 2 iterations\n",
      "Mon Jan 25 17:23:11 2021 Building RP forest with 16 trees\n",
      "Mon Jan 25 17:23:11 2021 NN descent for 16 iterations\n",
      "\t 1  /  16\n",
      "\t 2  /  16\n",
      "\tStopping threshold met -- exiting after 2 iterations\n"
     ]
    },
    {
     "data": {
      "text/plain": [
       "(12.40648, 46.0, 1.0)"
      ]
     },
     "execution_count": 26,
     "metadata": {},
     "output_type": "execute_result"
    }
   ],
   "source": [
    "from pynndescent import NNDescent\n",
    "# get nearest neighbors\n",
    "nnd = NNDescent(\n",
    "    train_data,\n",
    "    n_neighbors=50,\n",
    "    metric=metric,\n",
    "    n_trees=n_trees,\n",
    "    n_iters=n_iters,\n",
    "    max_candidates=60,\n",
    "    verbose=True\n",
    ")\n",
    "high_ind, _ = nnd.neighbor_graph\n",
    "low_train = load_encoder(train_data).cpu().numpy()\n",
    "nnd = NNDescent(\n",
    "    low_train,\n",
    "    n_neighbors=50,\n",
    "    metric=metric,\n",
    "    n_trees=n_trees,\n",
    "    n_iters=n_iters,\n",
    "    max_candidates=60,\n",
    "    verbose=True\n",
    ")\n",
    "low_ind, _ = nnd.neighbor_graph\n",
    "border_pres = np.zeros(len(train_data))\n",
    "for i in range(len(train_data)):\n",
    "    border_pres[i] = len(np.intersect1d(high_ind[i],low_ind[i]))\n",
    "# tptp K=50\n",
    "border_pres.mean(), border_pres.max(),border_pres.min()"
   ]
  },
  {
   "cell_type": "markdown",
   "metadata": {},
   "source": [
    "#### test"
   ]
  },
  {
   "cell_type": "code",
   "execution_count": 27,
   "metadata": {},
   "outputs": [],
   "source": [
    "fitting_data =  np.concatenate((train_data, test_data), axis=0)"
   ]
  },
  {
   "cell_type": "code",
   "execution_count": 28,
   "metadata": {},
   "outputs": [],
   "source": [
    "# number of trees in random projection forest\n",
    "n_trees = 5 + int(round((fitting_data.shape[0]) ** 0.5 / 20.0))\n",
    "# max number of nearest neighbor iters to perform\n",
    "n_iters = max(5, int(round(np.log2(fitting_data.shape[0]))))\n",
    "# distance metric\n",
    "metric = \"euclidean\""
   ]
  },
  {
   "cell_type": "code",
   "execution_count": 29,
   "metadata": {},
   "outputs": [],
   "source": [
    "low_fitting = load_encoder(fitting_data).cpu().numpy()"
   ]
  },
  {
   "cell_type": "code",
   "execution_count": null,
   "metadata": {},
   "outputs": [],
   "source": [
    "from sklearn.manifold import trustworthiness\n",
    "knns = [10,20,30,50]\n",
    "for k in knns:\n",
    "    trustworthiness = trustworthiness(fitting_data, low_fitting, n_neighbors=k, metric='euclidean')\n",
    "    print(k,trustworthiness)"
   ]
  },
  {
   "cell_type": "code",
   "execution_count": 30,
   "metadata": {},
   "outputs": [
    {
     "name": "stdout",
     "output_type": "stream",
     "text": [
      "Mon Jan 25 17:23:19 2021 Building RP forest with 17 trees\n",
      "Mon Jan 25 17:23:23 2021 NN descent for 16 iterations\n",
      "\t 1  /  16\n",
      "\t 2  /  16\n",
      "\t 3  /  16\n",
      "\tStopping threshold met -- exiting after 3 iterations\n",
      "Mon Jan 25 17:23:25 2021 Building RP forest with 17 trees\n",
      "Mon Jan 25 17:23:25 2021 NN descent for 16 iterations\n",
      "\t 1  /  16\n",
      "\t 2  /  16\n",
      "\tStopping threshold met -- exiting after 2 iterations\n"
     ]
    },
    {
     "data": {
      "text/plain": [
       "(1.9095, 9.0, 1.0)"
      ]
     },
     "execution_count": 30,
     "metadata": {},
     "output_type": "execute_result"
    }
   ],
   "source": [
    "from pynndescent import NNDescent\n",
    "# get nearest neighbors\n",
    "nnd = NNDescent(\n",
    "    fitting_data,\n",
    "    n_neighbors=10,\n",
    "    metric=metric,\n",
    "    n_trees=n_trees,\n",
    "    n_iters=n_iters,\n",
    "    max_candidates=60,\n",
    "    verbose=True\n",
    ")\n",
    "high_ind, _ = nnd.neighbor_graph\n",
    "nnd = NNDescent(\n",
    "    low_fitting,\n",
    "    n_neighbors=10,\n",
    "    metric=metric,\n",
    "    n_trees=n_trees,\n",
    "    n_iters=n_iters,\n",
    "    max_candidates=60,\n",
    "    verbose=True\n",
    ")\n",
    "low_ind, _ = nnd.neighbor_graph\n",
    "\n",
    "border_pres = np.zeros(len(test_data))\n",
    "train_num = len(train_data)\n",
    "test_num = len(fitting_data)\n",
    "for i in range(train_num,test_num,1):\n",
    "    border_pres[i-train_num] = len(np.intersect1d(high_ind[i],low_ind[i]))\n",
    "# tptp K=20\n",
    "border_pres.mean(), border_pres.max(),border_pres.min()"
   ]
  },
  {
   "cell_type": "code",
   "execution_count": 31,
   "metadata": {},
   "outputs": [
    {
     "name": "stdout",
     "output_type": "stream",
     "text": [
      "Mon Jan 25 17:23:26 2021 Building RP forest with 17 trees\n",
      "Mon Jan 25 17:23:30 2021 NN descent for 16 iterations\n",
      "\t 1  /  16\n",
      "\t 2  /  16\n",
      "\tStopping threshold met -- exiting after 2 iterations\n",
      "Mon Jan 25 17:23:32 2021 Building RP forest with 17 trees\n",
      "Mon Jan 25 17:23:33 2021 NN descent for 16 iterations\n",
      "\t 1  /  16\n",
      "\t 2  /  16\n",
      "\tStopping threshold met -- exiting after 2 iterations\n"
     ]
    },
    {
     "data": {
      "text/plain": [
       "(3.7786, 18.0, 1.0)"
      ]
     },
     "execution_count": 31,
     "metadata": {},
     "output_type": "execute_result"
    }
   ],
   "source": [
    "from pynndescent import NNDescent\n",
    "# get nearest neighbors\n",
    "nnd = NNDescent(\n",
    "    fitting_data,\n",
    "    n_neighbors=20,\n",
    "    metric=metric,\n",
    "    n_trees=n_trees,\n",
    "    n_iters=n_iters,\n",
    "    max_candidates=60,\n",
    "    verbose=True\n",
    ")\n",
    "high_ind, _ = nnd.neighbor_graph\n",
    "nnd = NNDescent(\n",
    "    low_fitting,\n",
    "    n_neighbors=20,\n",
    "    metric=metric,\n",
    "    n_trees=n_trees,\n",
    "    n_iters=n_iters,\n",
    "    max_candidates=60,\n",
    "    verbose=True\n",
    ")\n",
    "low_ind, _ = nnd.neighbor_graph\n",
    "\n",
    "border_pres = np.zeros(len(test_data))\n",
    "train_num = len(train_data)\n",
    "test_num = len(fitting_data)\n",
    "for i in range(train_num,test_num,1):\n",
    "    border_pres[i-train_num] = len(np.intersect1d(high_ind[i],low_ind[i]))\n",
    "# tptp K=20\n",
    "border_pres.mean(), border_pres.max(),border_pres.min()"
   ]
  },
  {
   "cell_type": "code",
   "execution_count": 32,
   "metadata": {},
   "outputs": [
    {
     "name": "stdout",
     "output_type": "stream",
     "text": [
      "Mon Jan 25 17:23:34 2021 Building RP forest with 17 trees\n",
      "Mon Jan 25 17:23:38 2021 NN descent for 16 iterations\n",
      "\t 1  /  16\n",
      "\t 2  /  16\n",
      "\tStopping threshold met -- exiting after 2 iterations\n",
      "Mon Jan 25 17:23:43 2021 Building RP forest with 17 trees\n",
      "Mon Jan 25 17:23:43 2021 NN descent for 16 iterations\n",
      "\t 1  /  16\n",
      "\t 2  /  16\n",
      "\tStopping threshold met -- exiting after 2 iterations\n"
     ]
    },
    {
     "data": {
      "text/plain": [
       "(6.1705, 28.0, 1.0)"
      ]
     },
     "execution_count": 32,
     "metadata": {},
     "output_type": "execute_result"
    }
   ],
   "source": [
    "from pynndescent import NNDescent\n",
    "# get nearest neighbors\n",
    "nnd = NNDescent(\n",
    "    fitting_data,\n",
    "    n_neighbors=30,\n",
    "    metric=metric,\n",
    "    n_trees=n_trees,\n",
    "    n_iters=n_iters,\n",
    "    max_candidates=60,\n",
    "    verbose=True\n",
    ")\n",
    "high_ind, _ = nnd.neighbor_graph\n",
    "nnd = NNDescent(\n",
    "    low_fitting,\n",
    "    n_neighbors=30,\n",
    "    metric=metric,\n",
    "    n_trees=n_trees,\n",
    "    n_iters=n_iters,\n",
    "    max_candidates=60,\n",
    "    verbose=True\n",
    ")\n",
    "low_ind, _ = nnd.neighbor_graph\n",
    "\n",
    "border_pres = np.zeros(len(test_data))\n",
    "train_num = len(train_data)\n",
    "test_num = len(fitting_data)\n",
    "for i in range(train_num,test_num,1):\n",
    "    border_pres[i-train_num] = len(np.intersect1d(high_ind[i],low_ind[i]))\n",
    "# tptp K=30\n",
    "border_pres.mean(), border_pres.max(),border_pres.min()"
   ]
  },
  {
   "cell_type": "code",
   "execution_count": 33,
   "metadata": {
    "scrolled": false
   },
   "outputs": [
    {
     "name": "stdout",
     "output_type": "stream",
     "text": [
      "Mon Jan 25 17:23:45 2021 Building RP forest with 17 trees\n",
      "Mon Jan 25 17:23:49 2021 NN descent for 16 iterations\n",
      "\t 1  /  16\n",
      "\t 2  /  16\n",
      "\tStopping threshold met -- exiting after 2 iterations\n",
      "Mon Jan 25 17:24:03 2021 Building RP forest with 17 trees\n",
      "Mon Jan 25 17:24:03 2021 NN descent for 16 iterations\n",
      "\t 1  /  16\n",
      "\t 2  /  16\n",
      "\tStopping threshold met -- exiting after 2 iterations\n"
     ]
    },
    {
     "data": {
      "text/plain": [
       "(11.9782, 47.0, 1.0)"
      ]
     },
     "execution_count": 33,
     "metadata": {},
     "output_type": "execute_result"
    }
   ],
   "source": [
    "from pynndescent import NNDescent\n",
    "# get nearest neighbors\n",
    "nnd = NNDescent(\n",
    "    fitting_data,\n",
    "    n_neighbors=50,\n",
    "    metric=metric,\n",
    "    n_trees=n_trees,\n",
    "    n_iters=n_iters,\n",
    "    max_candidates=60,\n",
    "    verbose=True\n",
    ")\n",
    "high_ind, _ = nnd.neighbor_graph\n",
    "nnd = NNDescent(\n",
    "    low_fitting,\n",
    "    n_neighbors=50,\n",
    "    metric=metric,\n",
    "    n_trees=n_trees,\n",
    "    n_iters=n_iters,\n",
    "    max_candidates=60,\n",
    "    verbose=True\n",
    ")\n",
    "low_ind, _ = nnd.neighbor_graph\n",
    "\n",
    "border_pres = np.zeros(len(test_data))\n",
    "train_num = len(train_data)\n",
    "test_num = len(fitting_data)\n",
    "for i in range(train_num,test_num,1):\n",
    "    border_pres[i-train_num] = len(np.intersect1d(high_ind[i],low_ind[i]))\n",
    "# tptp K=50\n",
    "border_pres.mean(), border_pres.max(),border_pres.min()"
   ]
  },
  {
   "cell_type": "markdown",
   "metadata": {},
   "source": [
    "### M_<new_Complex, k=15> (core)"
   ]
  },
  {
   "cell_type": "code",
   "execution_count": 34,
   "metadata": {},
   "outputs": [
    {
     "name": "stdout",
     "output_type": "stream",
     "text": [
      "WARNING:tensorflow:No training configuration found in save file, so the model was *not* compiled. Compile it manually.\n",
      "Keras encoder model loaded from parametric_umap_models\\dbp_exp\\encoder_core_complex_15\n"
     ]
    }
   ],
   "source": [
    "import os\n",
    "save_location = \"parametric_umap_models\\dbp_exp\"\n",
    "# load model\n",
    "# load encoder\n",
    "encoder_output = os.path.join(save_location, \"encoder_core_complex_15\")\n",
    "if os.path.exists(encoder_output):\n",
    "    load_encoder = tf.keras.models.load_model(encoder_output)\n",
    "    print(\"Keras encoder model loaded from {}\".format(encoder_output))"
   ]
  },
  {
   "cell_type": "markdown",
   "metadata": {},
   "source": [
    "#### train"
   ]
  },
  {
   "cell_type": "code",
   "execution_count": 35,
   "metadata": {},
   "outputs": [],
   "source": [
    "# number of trees in random projection forest\n",
    "n_trees = 5 + int(round((train_data.shape[0]) ** 0.5 / 20.0))\n",
    "# max number of nearest neighbor iters to perform\n",
    "n_iters = max(5, int(round(np.log2(train_data.shape[0]))))\n",
    "# distance metric\n",
    "metric = \"euclidean\""
   ]
  },
  {
   "cell_type": "code",
   "execution_count": 36,
   "metadata": {},
   "outputs": [],
   "source": [
    "low_train = load_encoder(train_data).cpu().numpy()"
   ]
  },
  {
   "cell_type": "code",
   "execution_count": null,
   "metadata": {},
   "outputs": [],
   "source": [
    "from sklearn.manifold import trustworthiness\n",
    "knns = [10,20,30,50]\n",
    "for k in knns:\n",
    "    t = trustworthiness(train_data, low_train, n_neighbors=int(k), metric='euclidean')\n",
    "    print(k,t)"
   ]
  },
  {
   "cell_type": "code",
   "execution_count": 37,
   "metadata": {},
   "outputs": [
    {
     "name": "stdout",
     "output_type": "stream",
     "text": [
      "Mon Jan 25 17:24:30 2021 Building RP forest with 16 trees\n",
      "Mon Jan 25 17:24:32 2021 NN descent for 16 iterations\n",
      "\t 1  /  16\n",
      "\t 2  /  16\n",
      "\t 3  /  16\n",
      "\tStopping threshold met -- exiting after 3 iterations\n",
      "Mon Jan 25 17:24:34 2021 Building RP forest with 16 trees\n",
      "Mon Jan 25 17:24:34 2021 NN descent for 16 iterations\n",
      "\t 1  /  16\n",
      "\t 2  /  16\n",
      "\tStopping threshold met -- exiting after 2 iterations\n"
     ]
    },
    {
     "data": {
      "text/plain": [
       "(1.58952, 9.0, 1.0)"
      ]
     },
     "execution_count": 37,
     "metadata": {},
     "output_type": "execute_result"
    }
   ],
   "source": [
    "from pynndescent import NNDescent\n",
    "# get nearest neighbors\n",
    "nnd = NNDescent(\n",
    "    train_data,\n",
    "    n_neighbors=10,\n",
    "    metric=metric,\n",
    "    n_trees=n_trees,\n",
    "    n_iters=n_iters,\n",
    "    max_candidates=60,\n",
    "    verbose=True\n",
    ")\n",
    "high_ind, _ = nnd.neighbor_graph\n",
    "nnd = NNDescent(\n",
    "    low_train,\n",
    "    n_neighbors=10,\n",
    "    metric=metric,\n",
    "    n_trees=n_trees,\n",
    "    n_iters=n_iters,\n",
    "    max_candidates=60,\n",
    "    verbose=True\n",
    ")\n",
    "low_ind, _ = nnd.neighbor_graph\n",
    "\n",
    "border_pres = np.zeros(len(train_data))\n",
    "for i in range(len(train_data)):\n",
    "    border_pres[i] = len(np.intersect1d(high_ind[i],low_ind[i]))\n",
    "# tptp K=10\n",
    "border_pres.mean(), border_pres.max(),border_pres.min()"
   ]
  },
  {
   "cell_type": "code",
   "execution_count": 38,
   "metadata": {},
   "outputs": [
    {
     "name": "stdout",
     "output_type": "stream",
     "text": [
      "Mon Jan 25 17:24:36 2021 Building RP forest with 16 trees\n",
      "Mon Jan 25 17:24:38 2021 NN descent for 16 iterations\n",
      "\t 1  /  16\n",
      "\t 2  /  16\n",
      "\tStopping threshold met -- exiting after 2 iterations\n",
      "Mon Jan 25 17:24:40 2021 Building RP forest with 16 trees\n",
      "Mon Jan 25 17:24:41 2021 NN descent for 16 iterations\n",
      "\t 1  /  16\n",
      "\t 2  /  16\n",
      "\tStopping threshold met -- exiting after 2 iterations\n"
     ]
    },
    {
     "data": {
      "text/plain": [
       "(2.80488, 17.0, 1.0)"
      ]
     },
     "execution_count": 38,
     "metadata": {},
     "output_type": "execute_result"
    }
   ],
   "source": [
    "from pynndescent import NNDescent\n",
    "# get nearest neighbors\n",
    "nnd = NNDescent(\n",
    "    train_data,\n",
    "    n_neighbors=20,\n",
    "    metric=metric,\n",
    "    n_trees=n_trees,\n",
    "    n_iters=n_iters,\n",
    "    max_candidates=60,\n",
    "    verbose=True\n",
    ")\n",
    "high_ind, _ = nnd.neighbor_graph\n",
    "nnd = NNDescent(\n",
    "    low_train,\n",
    "    n_neighbors=20,\n",
    "    metric=metric,\n",
    "    n_trees=n_trees,\n",
    "    n_iters=n_iters,\n",
    "    max_candidates=60,\n",
    "    verbose=True\n",
    ")\n",
    "low_ind, _ = nnd.neighbor_graph\n",
    "border_pres = np.zeros(len(train_data))\n",
    "for i in range(len(train_data)):\n",
    "    border_pres[i] = len(np.intersect1d(high_ind[i],low_ind[i]))\n",
    "# tptp K=20\n",
    "border_pres.mean(), border_pres.max(),border_pres.min()"
   ]
  },
  {
   "cell_type": "code",
   "execution_count": 39,
   "metadata": {},
   "outputs": [
    {
     "name": "stdout",
     "output_type": "stream",
     "text": [
      "Mon Jan 25 17:24:43 2021 Building RP forest with 16 trees\n",
      "Mon Jan 25 17:24:45 2021 NN descent for 16 iterations\n",
      "\t 1  /  16\n",
      "\t 2  /  16\n",
      "\tStopping threshold met -- exiting after 2 iterations\n",
      "Mon Jan 25 17:24:49 2021 Building RP forest with 16 trees\n",
      "Mon Jan 25 17:24:50 2021 NN descent for 16 iterations\n",
      "\t 1  /  16\n",
      "\t 2  /  16\n",
      "\tStopping threshold met -- exiting after 2 iterations\n"
     ]
    },
    {
     "data": {
      "text/plain": [
       "(4.36568, 27.0, 1.0)"
      ]
     },
     "execution_count": 39,
     "metadata": {},
     "output_type": "execute_result"
    }
   ],
   "source": [
    "from pynndescent import NNDescent\n",
    "# get nearest neighbors\n",
    "nnd = NNDescent(\n",
    "    train_data,\n",
    "    n_neighbors=30,\n",
    "    metric=metric,\n",
    "    n_trees=n_trees,\n",
    "    n_iters=n_iters,\n",
    "    max_candidates=60,\n",
    "    verbose=True\n",
    ")\n",
    "high_ind, _ = nnd.neighbor_graph\n",
    "low_train = load_encoder(train_data).cpu().numpy()\n",
    "nnd = NNDescent(\n",
    "    low_train,\n",
    "    n_neighbors=30,\n",
    "    metric=metric,\n",
    "    n_trees=n_trees,\n",
    "    n_iters=n_iters,\n",
    "    max_candidates=60,\n",
    "    verbose=True\n",
    ")\n",
    "low_ind, _ = nnd.neighbor_graph\n",
    "border_pres = np.zeros(len(train_data))\n",
    "for i in range(len(train_data)):\n",
    "    border_pres[i] = len(np.intersect1d(high_ind[i],low_ind[i]))\n",
    "# tptp K=30\n",
    "border_pres.mean(), border_pres.max(),border_pres.min()"
   ]
  },
  {
   "cell_type": "code",
   "execution_count": 40,
   "metadata": {},
   "outputs": [
    {
     "name": "stdout",
     "output_type": "stream",
     "text": [
      "Mon Jan 25 17:24:52 2021 Building RP forest with 16 trees\n",
      "Mon Jan 25 17:24:55 2021 NN descent for 16 iterations\n",
      "\t 1  /  16\n",
      "\t 2  /  16\n",
      "\tStopping threshold met -- exiting after 2 iterations\n",
      "Mon Jan 25 17:25:07 2021 Building RP forest with 16 trees\n",
      "Mon Jan 25 17:25:07 2021 NN descent for 16 iterations\n",
      "\t 1  /  16\n",
      "\t 2  /  16\n",
      "\tStopping threshold met -- exiting after 2 iterations\n"
     ]
    },
    {
     "data": {
      "text/plain": [
       "(8.20522, 45.0, 1.0)"
      ]
     },
     "execution_count": 40,
     "metadata": {},
     "output_type": "execute_result"
    }
   ],
   "source": [
    "from pynndescent import NNDescent\n",
    "# get nearest neighbors\n",
    "nnd = NNDescent(\n",
    "    train_data,\n",
    "    n_neighbors=50,\n",
    "    metric=metric,\n",
    "    n_trees=n_trees,\n",
    "    n_iters=n_iters,\n",
    "    max_candidates=60,\n",
    "    verbose=True\n",
    ")\n",
    "high_ind, _ = nnd.neighbor_graph\n",
    "low_train = load_encoder(train_data).cpu().numpy()\n",
    "nnd = NNDescent(\n",
    "    low_train,\n",
    "    n_neighbors=50,\n",
    "    metric=metric,\n",
    "    n_trees=n_trees,\n",
    "    n_iters=n_iters,\n",
    "    max_candidates=60,\n",
    "    verbose=True\n",
    ")\n",
    "low_ind, _ = nnd.neighbor_graph\n",
    "border_pres = np.zeros(len(train_data))\n",
    "for i in range(len(train_data)):\n",
    "    border_pres[i] = len(np.intersect1d(high_ind[i],low_ind[i]))\n",
    "# tptp K=50\n",
    "border_pres.mean(), border_pres.max(),border_pres.min()"
   ]
  },
  {
   "cell_type": "markdown",
   "metadata": {},
   "source": [
    "#### test"
   ]
  },
  {
   "cell_type": "code",
   "execution_count": 41,
   "metadata": {},
   "outputs": [],
   "source": [
    "fitting_data =  np.concatenate((train_data, test_data), axis=0)"
   ]
  },
  {
   "cell_type": "code",
   "execution_count": 42,
   "metadata": {},
   "outputs": [],
   "source": [
    "# number of trees in random projection forest\n",
    "n_trees = 5 + int(round((fitting_data.shape[0]) ** 0.5 / 20.0))\n",
    "# max number of nearest neighbor iters to perform\n",
    "n_iters = max(5, int(round(np.log2(fitting_data.shape[0]))))\n",
    "# distance metric\n",
    "metric = \"euclidean\""
   ]
  },
  {
   "cell_type": "code",
   "execution_count": 43,
   "metadata": {},
   "outputs": [],
   "source": [
    "low_fitting = load_encoder(fitting_data).cpu().numpy()"
   ]
  },
  {
   "cell_type": "code",
   "execution_count": null,
   "metadata": {},
   "outputs": [],
   "source": [
    "from sklearn.manifold import trustworthiness\n",
    "knns = [10,20,30,50]\n",
    "for k in knns:\n",
    "    trustworthiness = trustworthiness(fitting_data, low_fitting, n_neighbors=k, metric='euclidean')\n",
    "    print(k,trustworthiness)"
   ]
  },
  {
   "cell_type": "code",
   "execution_count": 44,
   "metadata": {},
   "outputs": [
    {
     "name": "stdout",
     "output_type": "stream",
     "text": [
      "Mon Jan 25 17:25:16 2021 Building RP forest with 17 trees\n",
      "Mon Jan 25 17:25:20 2021 NN descent for 16 iterations\n",
      "\t 1  /  16\n",
      "\t 2  /  16\n",
      "\t 3  /  16\n",
      "\tStopping threshold met -- exiting after 3 iterations\n",
      "Mon Jan 25 17:25:21 2021 Building RP forest with 17 trees\n",
      "Mon Jan 25 17:25:22 2021 NN descent for 16 iterations\n",
      "\t 1  /  16\n",
      "\t 2  /  16\n",
      "\tStopping threshold met -- exiting after 2 iterations\n"
     ]
    },
    {
     "data": {
      "text/plain": [
       "(1.6802, 9.0, 1.0)"
      ]
     },
     "execution_count": 44,
     "metadata": {},
     "output_type": "execute_result"
    }
   ],
   "source": [
    "from pynndescent import NNDescent\n",
    "# get nearest neighbors\n",
    "nnd = NNDescent(\n",
    "    fitting_data,\n",
    "    n_neighbors=10,\n",
    "    metric=metric,\n",
    "    n_trees=n_trees,\n",
    "    n_iters=n_iters,\n",
    "    max_candidates=60,\n",
    "    verbose=True\n",
    ")\n",
    "high_ind, _ = nnd.neighbor_graph\n",
    "nnd = NNDescent(\n",
    "    low_fitting,\n",
    "    n_neighbors=10,\n",
    "    metric=metric,\n",
    "    n_trees=n_trees,\n",
    "    n_iters=n_iters,\n",
    "    max_candidates=60,\n",
    "    verbose=True\n",
    ")\n",
    "low_ind, _ = nnd.neighbor_graph\n",
    "\n",
    "border_pres = np.zeros(len(test_data))\n",
    "train_num = len(train_data)\n",
    "test_num = len(fitting_data)\n",
    "for i in range(train_num,test_num,1):\n",
    "    border_pres[i-train_num] = len(np.intersect1d(high_ind[i],low_ind[i]))\n",
    "# tptp K=20\n",
    "border_pres.mean(), border_pres.max(),border_pres.min()"
   ]
  },
  {
   "cell_type": "code",
   "execution_count": 45,
   "metadata": {},
   "outputs": [
    {
     "name": "stdout",
     "output_type": "stream",
     "text": [
      "Mon Jan 25 17:25:23 2021 Building RP forest with 17 trees\n",
      "Mon Jan 25 17:25:27 2021 NN descent for 16 iterations\n",
      "\t 1  /  16\n",
      "\t 2  /  16\n",
      "\tStopping threshold met -- exiting after 2 iterations\n",
      "Mon Jan 25 17:25:29 2021 Building RP forest with 17 trees\n",
      "Mon Jan 25 17:25:30 2021 NN descent for 16 iterations\n",
      "\t 1  /  16\n",
      "\t 2  /  16\n",
      "\tStopping threshold met -- exiting after 2 iterations\n"
     ]
    },
    {
     "data": {
      "text/plain": [
       "(2.9823, 19.0, 1.0)"
      ]
     },
     "execution_count": 45,
     "metadata": {},
     "output_type": "execute_result"
    }
   ],
   "source": [
    "from pynndescent import NNDescent\n",
    "# get nearest neighbors\n",
    "nnd = NNDescent(\n",
    "    fitting_data,\n",
    "    n_neighbors=20,\n",
    "    metric=metric,\n",
    "    n_trees=n_trees,\n",
    "    n_iters=n_iters,\n",
    "    max_candidates=60,\n",
    "    verbose=True\n",
    ")\n",
    "high_ind, _ = nnd.neighbor_graph\n",
    "nnd = NNDescent(\n",
    "    low_fitting,\n",
    "    n_neighbors=20,\n",
    "    metric=metric,\n",
    "    n_trees=n_trees,\n",
    "    n_iters=n_iters,\n",
    "    max_candidates=60,\n",
    "    verbose=True\n",
    ")\n",
    "low_ind, _ = nnd.neighbor_graph\n",
    "\n",
    "border_pres = np.zeros(len(test_data))\n",
    "train_num = len(train_data)\n",
    "test_num = len(fitting_data)\n",
    "for i in range(train_num,test_num,1):\n",
    "    border_pres[i-train_num] = len(np.intersect1d(high_ind[i],low_ind[i]))\n",
    "# tptp K=20\n",
    "border_pres.mean(), border_pres.max(),border_pres.min()"
   ]
  },
  {
   "cell_type": "code",
   "execution_count": 46,
   "metadata": {},
   "outputs": [
    {
     "name": "stdout",
     "output_type": "stream",
     "text": [
      "Mon Jan 25 17:25:31 2021 Building RP forest with 17 trees\n",
      "Mon Jan 25 17:25:35 2021 NN descent for 16 iterations\n",
      "\t 1  /  16\n",
      "\t 2  /  16\n",
      "\tStopping threshold met -- exiting after 2 iterations\n",
      "Mon Jan 25 17:25:40 2021 Building RP forest with 17 trees\n",
      "Mon Jan 25 17:25:40 2021 NN descent for 16 iterations\n",
      "\t 1  /  16\n",
      "\t 2  /  16\n",
      "\tStopping threshold met -- exiting after 2 iterations\n"
     ]
    },
    {
     "data": {
      "text/plain": [
       "(4.604, 24.0, 1.0)"
      ]
     },
     "execution_count": 46,
     "metadata": {},
     "output_type": "execute_result"
    }
   ],
   "source": [
    "from pynndescent import NNDescent\n",
    "# get nearest neighbors\n",
    "nnd = NNDescent(\n",
    "    fitting_data,\n",
    "    n_neighbors=30,\n",
    "    metric=metric,\n",
    "    n_trees=n_trees,\n",
    "    n_iters=n_iters,\n",
    "    max_candidates=60,\n",
    "    verbose=True\n",
    ")\n",
    "high_ind, _ = nnd.neighbor_graph\n",
    "nnd = NNDescent(\n",
    "    low_fitting,\n",
    "    n_neighbors=30,\n",
    "    metric=metric,\n",
    "    n_trees=n_trees,\n",
    "    n_iters=n_iters,\n",
    "    max_candidates=60,\n",
    "    verbose=True\n",
    ")\n",
    "low_ind, _ = nnd.neighbor_graph\n",
    "\n",
    "border_pres = np.zeros(len(test_data))\n",
    "train_num = len(train_data)\n",
    "test_num = len(fitting_data)\n",
    "for i in range(train_num,test_num,1):\n",
    "    border_pres[i-train_num] = len(np.intersect1d(high_ind[i],low_ind[i]))\n",
    "# tptp K=30\n",
    "border_pres.mean(), border_pres.max(),border_pres.min()"
   ]
  },
  {
   "cell_type": "code",
   "execution_count": 47,
   "metadata": {
    "scrolled": false
   },
   "outputs": [
    {
     "name": "stdout",
     "output_type": "stream",
     "text": [
      "Mon Jan 25 17:25:42 2021 Building RP forest with 17 trees\n",
      "Mon Jan 25 17:25:46 2021 NN descent for 16 iterations\n",
      "\t 1  /  16\n",
      "\t 2  /  16\n",
      "\tStopping threshold met -- exiting after 2 iterations\n",
      "Mon Jan 25 17:26:00 2021 Building RP forest with 17 trees\n",
      "Mon Jan 25 17:26:00 2021 NN descent for 16 iterations\n",
      "\t 1  /  16\n",
      "\t 2  /  16\n",
      "\tStopping threshold met -- exiting after 2 iterations\n"
     ]
    },
    {
     "data": {
      "text/plain": [
       "(8.4895, 44.0, 1.0)"
      ]
     },
     "execution_count": 47,
     "metadata": {},
     "output_type": "execute_result"
    }
   ],
   "source": [
    "from pynndescent import NNDescent\n",
    "# get nearest neighbors\n",
    "nnd = NNDescent(\n",
    "    fitting_data,\n",
    "    n_neighbors=50,\n",
    "    metric=metric,\n",
    "    n_trees=n_trees,\n",
    "    n_iters=n_iters,\n",
    "    max_candidates=60,\n",
    "    verbose=True\n",
    ")\n",
    "high_ind, _ = nnd.neighbor_graph\n",
    "nnd = NNDescent(\n",
    "    low_fitting,\n",
    "    n_neighbors=50,\n",
    "    metric=metric,\n",
    "    n_trees=n_trees,\n",
    "    n_iters=n_iters,\n",
    "    max_candidates=60,\n",
    "    verbose=True\n",
    ")\n",
    "low_ind, _ = nnd.neighbor_graph\n",
    "\n",
    "border_pres = np.zeros(len(test_data))\n",
    "train_num = len(train_data)\n",
    "test_num = len(fitting_data)\n",
    "for i in range(train_num,test_num,1):\n",
    "    border_pres[i-train_num] = len(np.intersect1d(high_ind[i],low_ind[i]))\n",
    "# tptp K=50\n",
    "border_pres.mean(), border_pres.max(),border_pres.min()"
   ]
  },
  {
   "cell_type": "markdown",
   "metadata": {},
   "source": [
    "### M_<new_Complex, k=30> (core)"
   ]
  },
  {
   "cell_type": "code",
   "execution_count": 48,
   "metadata": {},
   "outputs": [
    {
     "name": "stdout",
     "output_type": "stream",
     "text": [
      "WARNING:tensorflow:No training configuration found in save file, so the model was *not* compiled. Compile it manually.\n",
      "Keras encoder model loaded from parametric_umap_models\\dbp_exp\\encoder_core_complex_30\n"
     ]
    }
   ],
   "source": [
    "import os\n",
    "save_location = \"parametric_umap_models\\dbp_exp\"\n",
    "# load model\n",
    "# load encoder\n",
    "encoder_output = os.path.join(save_location, \"encoder_core_complex_30\")\n",
    "if os.path.exists(encoder_output):\n",
    "    load_encoder = tf.keras.models.load_model(encoder_output)\n",
    "    print(\"Keras encoder model loaded from {}\".format(encoder_output))"
   ]
  },
  {
   "cell_type": "markdown",
   "metadata": {},
   "source": [
    "#### train"
   ]
  },
  {
   "cell_type": "code",
   "execution_count": 49,
   "metadata": {},
   "outputs": [],
   "source": [
    "# number of trees in random projection forest\n",
    "n_trees = 5 + int(round((train_data.shape[0]) ** 0.5 / 20.0))\n",
    "# max number of nearest neighbor iters to perform\n",
    "n_iters = max(5, int(round(np.log2(train_data.shape[0]))))\n",
    "# distance metric\n",
    "metric = \"euclidean\""
   ]
  },
  {
   "cell_type": "code",
   "execution_count": 50,
   "metadata": {},
   "outputs": [],
   "source": [
    "low_train = load_encoder(train_data).cpu().numpy()"
   ]
  },
  {
   "cell_type": "code",
   "execution_count": null,
   "metadata": {},
   "outputs": [],
   "source": [
    "from sklearn.manifold import trustworthiness\n",
    "knns = [10,20,30,50]\n",
    "for k in knns:\n",
    "    t = trustworthiness(train_data, low_train, n_neighbors=int(k), metric='euclidean')\n",
    "    print(k,t)"
   ]
  },
  {
   "cell_type": "code",
   "execution_count": 51,
   "metadata": {},
   "outputs": [
    {
     "name": "stdout",
     "output_type": "stream",
     "text": [
      "Mon Jan 25 17:26:22 2021 Building RP forest with 16 trees\n",
      "Mon Jan 25 17:26:25 2021 NN descent for 16 iterations\n",
      "\t 1  /  16\n",
      "\t 2  /  16\n",
      "\t 3  /  16\n",
      "\tStopping threshold met -- exiting after 3 iterations\n",
      "Mon Jan 25 17:26:26 2021 Building RP forest with 16 trees\n",
      "Mon Jan 25 17:26:26 2021 NN descent for 16 iterations\n",
      "\t 1  /  16\n",
      "\t 2  /  16\n",
      "\tStopping threshold met -- exiting after 2 iterations\n"
     ]
    },
    {
     "data": {
      "text/plain": [
       "(1.48556, 10.0, 1.0)"
      ]
     },
     "execution_count": 51,
     "metadata": {},
     "output_type": "execute_result"
    }
   ],
   "source": [
    "from pynndescent import NNDescent\n",
    "# get nearest neighbors\n",
    "nnd = NNDescent(\n",
    "    train_data,\n",
    "    n_neighbors=10,\n",
    "    metric=metric,\n",
    "    n_trees=n_trees,\n",
    "    n_iters=n_iters,\n",
    "    max_candidates=60,\n",
    "    verbose=True\n",
    ")\n",
    "high_ind, _ = nnd.neighbor_graph\n",
    "nnd = NNDescent(\n",
    "    low_train,\n",
    "    n_neighbors=10,\n",
    "    metric=metric,\n",
    "    n_trees=n_trees,\n",
    "    n_iters=n_iters,\n",
    "    max_candidates=60,\n",
    "    verbose=True\n",
    ")\n",
    "low_ind, _ = nnd.neighbor_graph\n",
    "\n",
    "border_pres = np.zeros(len(train_data))\n",
    "for i in range(len(train_data)):\n",
    "    border_pres[i] = len(np.intersect1d(high_ind[i],low_ind[i]))\n",
    "# tptp K=10\n",
    "border_pres.mean(), border_pres.max(),border_pres.min()"
   ]
  },
  {
   "cell_type": "code",
   "execution_count": 52,
   "metadata": {},
   "outputs": [
    {
     "name": "stdout",
     "output_type": "stream",
     "text": [
      "Mon Jan 25 17:26:28 2021 Building RP forest with 16 trees\n",
      "Mon Jan 25 17:26:31 2021 NN descent for 16 iterations\n",
      "\t 1  /  16\n",
      "\t 2  /  16\n",
      "\tStopping threshold met -- exiting after 2 iterations\n",
      "Mon Jan 25 17:26:33 2021 Building RP forest with 16 trees\n",
      "Mon Jan 25 17:26:33 2021 NN descent for 16 iterations\n",
      "\t 1  /  16\n",
      "\t 2  /  16\n",
      "\tStopping threshold met -- exiting after 2 iterations\n"
     ]
    },
    {
     "data": {
      "text/plain": [
       "(2.50754, 19.0, 1.0)"
      ]
     },
     "execution_count": 52,
     "metadata": {},
     "output_type": "execute_result"
    }
   ],
   "source": [
    "from pynndescent import NNDescent\n",
    "# get nearest neighbors\n",
    "nnd = NNDescent(\n",
    "    train_data,\n",
    "    n_neighbors=20,\n",
    "    metric=metric,\n",
    "    n_trees=n_trees,\n",
    "    n_iters=n_iters,\n",
    "    max_candidates=60,\n",
    "    verbose=True\n",
    ")\n",
    "high_ind, _ = nnd.neighbor_graph\n",
    "nnd = NNDescent(\n",
    "    low_train,\n",
    "    n_neighbors=20,\n",
    "    metric=metric,\n",
    "    n_trees=n_trees,\n",
    "    n_iters=n_iters,\n",
    "    max_candidates=60,\n",
    "    verbose=True\n",
    ")\n",
    "low_ind, _ = nnd.neighbor_graph\n",
    "border_pres = np.zeros(len(train_data))\n",
    "for i in range(len(train_data)):\n",
    "    border_pres[i] = len(np.intersect1d(high_ind[i],low_ind[i]))\n",
    "# tptp K=20\n",
    "border_pres.mean(), border_pres.max(),border_pres.min()"
   ]
  },
  {
   "cell_type": "code",
   "execution_count": 53,
   "metadata": {},
   "outputs": [
    {
     "name": "stdout",
     "output_type": "stream",
     "text": [
      "Mon Jan 25 17:26:35 2021 Building RP forest with 16 trees\n",
      "Mon Jan 25 17:26:38 2021 NN descent for 16 iterations\n",
      "\t 1  /  16\n",
      "\t 2  /  16\n",
      "\tStopping threshold met -- exiting after 2 iterations\n",
      "Mon Jan 25 17:26:41 2021 Building RP forest with 16 trees\n",
      "Mon Jan 25 17:26:42 2021 NN descent for 16 iterations\n",
      "\t 1  /  16\n",
      "\t 2  /  16\n",
      "\tStopping threshold met -- exiting after 2 iterations\n"
     ]
    },
    {
     "data": {
      "text/plain": [
       "(3.82668, 29.0, 1.0)"
      ]
     },
     "execution_count": 53,
     "metadata": {},
     "output_type": "execute_result"
    }
   ],
   "source": [
    "from pynndescent import NNDescent\n",
    "# get nearest neighbors\n",
    "nnd = NNDescent(\n",
    "    train_data,\n",
    "    n_neighbors=30,\n",
    "    metric=metric,\n",
    "    n_trees=n_trees,\n",
    "    n_iters=n_iters,\n",
    "    max_candidates=60,\n",
    "    verbose=True\n",
    ")\n",
    "high_ind, _ = nnd.neighbor_graph\n",
    "low_train = load_encoder(train_data).cpu().numpy()\n",
    "nnd = NNDescent(\n",
    "    low_train,\n",
    "    n_neighbors=30,\n",
    "    metric=metric,\n",
    "    n_trees=n_trees,\n",
    "    n_iters=n_iters,\n",
    "    max_candidates=60,\n",
    "    verbose=True\n",
    ")\n",
    "low_ind, _ = nnd.neighbor_graph\n",
    "border_pres = np.zeros(len(train_data))\n",
    "for i in range(len(train_data)):\n",
    "    border_pres[i] = len(np.intersect1d(high_ind[i],low_ind[i]))\n",
    "# tptp K=30\n",
    "border_pres.mean(), border_pres.max(),border_pres.min()"
   ]
  },
  {
   "cell_type": "code",
   "execution_count": 54,
   "metadata": {},
   "outputs": [
    {
     "name": "stdout",
     "output_type": "stream",
     "text": [
      "Mon Jan 25 17:26:44 2021 Building RP forest with 16 trees\n",
      "Mon Jan 25 17:26:47 2021 NN descent for 16 iterations\n",
      "\t 1  /  16\n",
      "\t 2  /  16\n",
      "\tStopping threshold met -- exiting after 2 iterations\n",
      "Mon Jan 25 17:26:59 2021 Building RP forest with 16 trees\n",
      "Mon Jan 25 17:26:59 2021 NN descent for 16 iterations\n",
      "\t 1  /  16\n",
      "\t 2  /  16\n",
      "\tStopping threshold met -- exiting after 2 iterations\n"
     ]
    },
    {
     "data": {
      "text/plain": [
       "(7.07654, 49.0, 1.0)"
      ]
     },
     "execution_count": 54,
     "metadata": {},
     "output_type": "execute_result"
    }
   ],
   "source": [
    "from pynndescent import NNDescent\n",
    "# get nearest neighbors\n",
    "nnd = NNDescent(\n",
    "    train_data,\n",
    "    n_neighbors=50,\n",
    "    metric=metric,\n",
    "    n_trees=n_trees,\n",
    "    n_iters=n_iters,\n",
    "    max_candidates=60,\n",
    "    verbose=True\n",
    ")\n",
    "high_ind, _ = nnd.neighbor_graph\n",
    "low_train = load_encoder(train_data).cpu().numpy()\n",
    "nnd = NNDescent(\n",
    "    low_train,\n",
    "    n_neighbors=50,\n",
    "    metric=metric,\n",
    "    n_trees=n_trees,\n",
    "    n_iters=n_iters,\n",
    "    max_candidates=60,\n",
    "    verbose=True\n",
    ")\n",
    "low_ind, _ = nnd.neighbor_graph\n",
    "border_pres = np.zeros(len(train_data))\n",
    "for i in range(len(train_data)):\n",
    "    border_pres[i] = len(np.intersect1d(high_ind[i],low_ind[i]))\n",
    "# tptp K=50\n",
    "border_pres.mean(), border_pres.max(),border_pres.min()"
   ]
  },
  {
   "cell_type": "markdown",
   "metadata": {},
   "source": [
    "#### test"
   ]
  },
  {
   "cell_type": "code",
   "execution_count": 55,
   "metadata": {},
   "outputs": [],
   "source": [
    "fitting_data =  np.concatenate((train_data, test_data), axis=0)"
   ]
  },
  {
   "cell_type": "code",
   "execution_count": 56,
   "metadata": {},
   "outputs": [],
   "source": [
    "# number of trees in random projection forest\n",
    "n_trees = 5 + int(round((fitting_data.shape[0]) ** 0.5 / 20.0))\n",
    "# max number of nearest neighbor iters to perform\n",
    "n_iters = max(5, int(round(np.log2(fitting_data.shape[0]))))\n",
    "# distance metric\n",
    "metric = \"euclidean\""
   ]
  },
  {
   "cell_type": "code",
   "execution_count": 57,
   "metadata": {},
   "outputs": [],
   "source": [
    "low_fitting = load_encoder(fitting_data).cpu().numpy()"
   ]
  },
  {
   "cell_type": "code",
   "execution_count": null,
   "metadata": {},
   "outputs": [],
   "source": [
    "from sklearn.manifold import trustworthiness\n",
    "knns = [10,20,30,50]\n",
    "for k in knns:\n",
    "    trustworthiness = trustworthiness(fitting_data, low_fitting, n_neighbors=k, metric='euclidean')\n",
    "    print(k,trustworthiness)"
   ]
  },
  {
   "cell_type": "code",
   "execution_count": 58,
   "metadata": {},
   "outputs": [
    {
     "name": "stdout",
     "output_type": "stream",
     "text": [
      "Mon Jan 25 17:27:08 2021 Building RP forest with 17 trees\n",
      "Mon Jan 25 17:27:11 2021 NN descent for 16 iterations\n",
      "\t 1  /  16\n",
      "\t 2  /  16\n",
      "\t 3  /  16\n",
      "\tStopping threshold met -- exiting after 3 iterations\n",
      "Mon Jan 25 17:27:13 2021 Building RP forest with 17 trees\n",
      "Mon Jan 25 17:27:13 2021 NN descent for 16 iterations\n",
      "\t 1  /  16\n",
      "\t 2  /  16\n",
      "\tStopping threshold met -- exiting after 2 iterations\n"
     ]
    },
    {
     "data": {
      "text/plain": [
       "(1.6062, 9.0, 1.0)"
      ]
     },
     "execution_count": 58,
     "metadata": {},
     "output_type": "execute_result"
    }
   ],
   "source": [
    "from pynndescent import NNDescent\n",
    "# get nearest neighbors\n",
    "nnd = NNDescent(\n",
    "    fitting_data,\n",
    "    n_neighbors=10,\n",
    "    metric=metric,\n",
    "    n_trees=n_trees,\n",
    "    n_iters=n_iters,\n",
    "    max_candidates=60,\n",
    "    verbose=True\n",
    ")\n",
    "high_ind, _ = nnd.neighbor_graph\n",
    "nnd = NNDescent(\n",
    "    low_fitting,\n",
    "    n_neighbors=10,\n",
    "    metric=metric,\n",
    "    n_trees=n_trees,\n",
    "    n_iters=n_iters,\n",
    "    max_candidates=60,\n",
    "    verbose=True\n",
    ")\n",
    "low_ind, _ = nnd.neighbor_graph\n",
    "\n",
    "border_pres = np.zeros(len(test_data))\n",
    "train_num = len(train_data)\n",
    "test_num = len(fitting_data)\n",
    "for i in range(train_num,test_num,1):\n",
    "    border_pres[i-train_num] = len(np.intersect1d(high_ind[i],low_ind[i]))\n",
    "# tptp K=20\n",
    "border_pres.mean(), border_pres.max(),border_pres.min()"
   ]
  },
  {
   "cell_type": "code",
   "execution_count": 59,
   "metadata": {},
   "outputs": [
    {
     "name": "stdout",
     "output_type": "stream",
     "text": [
      "Mon Jan 25 17:27:14 2021 Building RP forest with 17 trees\n",
      "Mon Jan 25 17:27:18 2021 NN descent for 16 iterations\n",
      "\t 1  /  16\n",
      "\t 2  /  16\n",
      "\tStopping threshold met -- exiting after 2 iterations\n",
      "Mon Jan 25 17:27:21 2021 Building RP forest with 17 trees\n",
      "Mon Jan 25 17:27:21 2021 NN descent for 16 iterations\n",
      "\t 1  /  16\n",
      "\t 2  /  16\n",
      "\tStopping threshold met -- exiting after 2 iterations\n"
     ]
    },
    {
     "data": {
      "text/plain": [
       "(2.7418, 18.0, 1.0)"
      ]
     },
     "execution_count": 59,
     "metadata": {},
     "output_type": "execute_result"
    }
   ],
   "source": [
    "from pynndescent import NNDescent\n",
    "# get nearest neighbors\n",
    "nnd = NNDescent(\n",
    "    fitting_data,\n",
    "    n_neighbors=20,\n",
    "    metric=metric,\n",
    "    n_trees=n_trees,\n",
    "    n_iters=n_iters,\n",
    "    max_candidates=60,\n",
    "    verbose=True\n",
    ")\n",
    "high_ind, _ = nnd.neighbor_graph\n",
    "nnd = NNDescent(\n",
    "    low_fitting,\n",
    "    n_neighbors=20,\n",
    "    metric=metric,\n",
    "    n_trees=n_trees,\n",
    "    n_iters=n_iters,\n",
    "    max_candidates=60,\n",
    "    verbose=True\n",
    ")\n",
    "low_ind, _ = nnd.neighbor_graph\n",
    "\n",
    "border_pres = np.zeros(len(test_data))\n",
    "train_num = len(train_data)\n",
    "test_num = len(fitting_data)\n",
    "for i in range(train_num,test_num,1):\n",
    "    border_pres[i-train_num] = len(np.intersect1d(high_ind[i],low_ind[i]))\n",
    "# tptp K=20\n",
    "border_pres.mean(), border_pres.max(),border_pres.min()"
   ]
  },
  {
   "cell_type": "code",
   "execution_count": 60,
   "metadata": {},
   "outputs": [
    {
     "name": "stdout",
     "output_type": "stream",
     "text": [
      "Mon Jan 25 17:27:23 2021 Building RP forest with 17 trees\n",
      "Mon Jan 25 17:27:26 2021 NN descent for 16 iterations\n",
      "\t 1  /  16\n",
      "\t 2  /  16\n",
      "\tStopping threshold met -- exiting after 2 iterations\n",
      "Mon Jan 25 17:27:31 2021 Building RP forest with 17 trees\n",
      "Mon Jan 25 17:27:31 2021 NN descent for 16 iterations\n",
      "\t 1  /  16\n",
      "\t 2  /  16\n",
      "\tStopping threshold met -- exiting after 2 iterations\n"
     ]
    },
    {
     "data": {
      "text/plain": [
       "(4.1855, 27.0, 1.0)"
      ]
     },
     "execution_count": 60,
     "metadata": {},
     "output_type": "execute_result"
    }
   ],
   "source": [
    "from pynndescent import NNDescent\n",
    "# get nearest neighbors\n",
    "nnd = NNDescent(\n",
    "    fitting_data,\n",
    "    n_neighbors=30,\n",
    "    metric=metric,\n",
    "    n_trees=n_trees,\n",
    "    n_iters=n_iters,\n",
    "    max_candidates=60,\n",
    "    verbose=True\n",
    ")\n",
    "high_ind, _ = nnd.neighbor_graph\n",
    "nnd = NNDescent(\n",
    "    low_fitting,\n",
    "    n_neighbors=30,\n",
    "    metric=metric,\n",
    "    n_trees=n_trees,\n",
    "    n_iters=n_iters,\n",
    "    max_candidates=60,\n",
    "    verbose=True\n",
    ")\n",
    "low_ind, _ = nnd.neighbor_graph\n",
    "\n",
    "border_pres = np.zeros(len(test_data))\n",
    "train_num = len(train_data)\n",
    "test_num = len(fitting_data)\n",
    "for i in range(train_num,test_num,1):\n",
    "    border_pres[i-train_num] = len(np.intersect1d(high_ind[i],low_ind[i]))\n",
    "# tptp K=30\n",
    "border_pres.mean(), border_pres.max(),border_pres.min()"
   ]
  },
  {
   "cell_type": "code",
   "execution_count": 61,
   "metadata": {
    "scrolled": false
   },
   "outputs": [
    {
     "name": "stdout",
     "output_type": "stream",
     "text": [
      "Mon Jan 25 17:27:33 2021 Building RP forest with 17 trees\n",
      "Mon Jan 25 17:27:37 2021 NN descent for 16 iterations\n",
      "\t 1  /  16\n",
      "\t 2  /  16\n",
      "\tStopping threshold met -- exiting after 2 iterations\n",
      "Mon Jan 25 17:27:50 2021 Building RP forest with 17 trees\n",
      "Mon Jan 25 17:27:51 2021 NN descent for 16 iterations\n",
      "\t 1  /  16\n",
      "\t 2  /  16\n",
      "\tStopping threshold met -- exiting after 2 iterations\n"
     ]
    },
    {
     "data": {
      "text/plain": [
       "(7.6436, 44.0, 1.0)"
      ]
     },
     "execution_count": 61,
     "metadata": {},
     "output_type": "execute_result"
    }
   ],
   "source": [
    "from pynndescent import NNDescent\n",
    "# get nearest neighbors\n",
    "nnd = NNDescent(\n",
    "    fitting_data,\n",
    "    n_neighbors=50,\n",
    "    metric=metric,\n",
    "    n_trees=n_trees,\n",
    "    n_iters=n_iters,\n",
    "    max_candidates=60,\n",
    "    verbose=True\n",
    ")\n",
    "high_ind, _ = nnd.neighbor_graph\n",
    "nnd = NNDescent(\n",
    "    low_fitting,\n",
    "    n_neighbors=50,\n",
    "    metric=metric,\n",
    "    n_trees=n_trees,\n",
    "    n_iters=n_iters,\n",
    "    max_candidates=60,\n",
    "    verbose=True\n",
    ")\n",
    "low_ind, _ = nnd.neighbor_graph\n",
    "\n",
    "border_pres = np.zeros(len(test_data))\n",
    "train_num = len(train_data)\n",
    "test_num = len(fitting_data)\n",
    "for i in range(train_num,test_num,1):\n",
    "    border_pres[i-train_num] = len(np.intersect1d(high_ind[i],low_ind[i]))\n",
    "# tptp K=50\n",
    "border_pres.mean(), border_pres.max(),border_pres.min()"
   ]
  },
  {
   "cell_type": "markdown",
   "metadata": {},
   "source": [
    "### M_<new_Complex_symmetric, k=15> (core)"
   ]
  },
  {
   "cell_type": "code",
   "execution_count": 7,
   "metadata": {},
   "outputs": [
    {
     "name": "stdout",
     "output_type": "stream",
     "text": [
      "WARNING:tensorflow:No training configuration found in save file, so the model was *not* compiled. Compile it manually.\n",
      "Keras encoder model loaded from parametric_umap_models\\dbp_exp\\encoder_core_complex_symmetric_15\n"
     ]
    }
   ],
   "source": [
    "import os\n",
    "save_location = \"parametric_umap_models\\dbp_exp\"\n",
    "# load model\n",
    "# load encoder\n",
    "encoder_output = os.path.join(save_location, \"encoder_core_complex_symmetric_15\")\n",
    "if os.path.exists(encoder_output):\n",
    "    load_encoder = tf.keras.models.load_model(encoder_output)\n",
    "    print(\"Keras encoder model loaded from {}\".format(encoder_output))"
   ]
  },
  {
   "cell_type": "markdown",
   "metadata": {},
   "source": [
    "#### train"
   ]
  },
  {
   "cell_type": "code",
   "execution_count": 8,
   "metadata": {},
   "outputs": [],
   "source": [
    "# number of trees in random projection forest\n",
    "n_trees = 5 + int(round((train_data.shape[0]) ** 0.5 / 20.0))\n",
    "# max number of nearest neighbor iters to perform\n",
    "n_iters = max(5, int(round(np.log2(train_data.shape[0]))))\n",
    "# distance metric\n",
    "metric = \"euclidean\""
   ]
  },
  {
   "cell_type": "code",
   "execution_count": 9,
   "metadata": {},
   "outputs": [
    {
     "name": "stdout",
     "output_type": "stream",
     "text": [
      "WARNING:tensorflow:From <ipython-input-9-c3f5e7a4f4d7>:1: _EagerTensorBase.cpu (from tensorflow.python.framework.ops) is deprecated and will be removed in a future version.\n",
      "Instructions for updating:\n",
      "Use tf.identity instead.\n"
     ]
    }
   ],
   "source": [
    "low_train = load_encoder(train_data).cpu().numpy()"
   ]
  },
  {
   "cell_type": "code",
   "execution_count": null,
   "metadata": {},
   "outputs": [],
   "source": [
    "from sklearn.manifold import trustworthiness\n",
    "knns = [10,20,30,50]\n",
    "for k in knns:\n",
    "    t = trustworthiness(train_data, low_train, n_neighbors=int(k), metric='euclidean')\n",
    "    print(k,t)"
   ]
  },
  {
   "cell_type": "code",
   "execution_count": 10,
   "metadata": {},
   "outputs": [
    {
     "name": "stdout",
     "output_type": "stream",
     "text": [
      "Wed Jan 27 14:39:29 2021 Building RP forest with 16 trees\n",
      "Wed Jan 27 14:39:32 2021 NN descent for 16 iterations\n",
      "\t 1  /  16\n",
      "\t 2  /  16\n",
      "\t 3  /  16\n",
      "\tStopping threshold met -- exiting after 3 iterations\n",
      "Wed Jan 27 14:39:44 2021 Building RP forest with 16 trees\n",
      "Wed Jan 27 14:39:44 2021 NN descent for 16 iterations\n",
      "\t 1  /  16\n",
      "\t 2  /  16\n",
      "\tStopping threshold met -- exiting after 2 iterations\n"
     ]
    },
    {
     "data": {
      "text/plain": [
       "(1.4783, 9.0, 1.0)"
      ]
     },
     "execution_count": 10,
     "metadata": {},
     "output_type": "execute_result"
    }
   ],
   "source": [
    "from pynndescent import NNDescent\n",
    "# get nearest neighbors\n",
    "nnd = NNDescent(\n",
    "    train_data,\n",
    "    n_neighbors=10,\n",
    "    metric=metric,\n",
    "    n_trees=n_trees,\n",
    "    n_iters=n_iters,\n",
    "    max_candidates=60,\n",
    "    verbose=True\n",
    ")\n",
    "high_ind, _ = nnd.neighbor_graph\n",
    "nnd = NNDescent(\n",
    "    low_train,\n",
    "    n_neighbors=10,\n",
    "    metric=metric,\n",
    "    n_trees=n_trees,\n",
    "    n_iters=n_iters,\n",
    "    max_candidates=60,\n",
    "    verbose=True\n",
    ")\n",
    "low_ind, _ = nnd.neighbor_graph\n",
    "\n",
    "border_pres = np.zeros(len(train_data))\n",
    "for i in range(len(train_data)):\n",
    "    border_pres[i] = len(np.intersect1d(high_ind[i],low_ind[i]))\n",
    "# tptp K=10\n",
    "border_pres.mean(), border_pres.max(),border_pres.min()"
   ]
  },
  {
   "cell_type": "code",
   "execution_count": 11,
   "metadata": {},
   "outputs": [
    {
     "name": "stdout",
     "output_type": "stream",
     "text": [
      "Wed Jan 27 14:39:46 2021 Building RP forest with 16 trees\n",
      "Wed Jan 27 14:39:48 2021 NN descent for 16 iterations\n",
      "\t 1  /  16\n",
      "\t 2  /  16\n",
      "\tStopping threshold met -- exiting after 2 iterations\n",
      "Wed Jan 27 14:39:50 2021 Building RP forest with 16 trees\n",
      "Wed Jan 27 14:39:51 2021 NN descent for 16 iterations\n",
      "\t 1  /  16\n",
      "\t 2  /  16\n",
      "\tStopping threshold met -- exiting after 2 iterations\n"
     ]
    },
    {
     "data": {
      "text/plain": [
       "(2.5291, 17.0, 1.0)"
      ]
     },
     "execution_count": 11,
     "metadata": {},
     "output_type": "execute_result"
    }
   ],
   "source": [
    "from pynndescent import NNDescent\n",
    "# get nearest neighbors\n",
    "nnd = NNDescent(\n",
    "    train_data,\n",
    "    n_neighbors=20,\n",
    "    metric=metric,\n",
    "    n_trees=n_trees,\n",
    "    n_iters=n_iters,\n",
    "    max_candidates=60,\n",
    "    verbose=True\n",
    ")\n",
    "high_ind, _ = nnd.neighbor_graph\n",
    "nnd = NNDescent(\n",
    "    low_train,\n",
    "    n_neighbors=20,\n",
    "    metric=metric,\n",
    "    n_trees=n_trees,\n",
    "    n_iters=n_iters,\n",
    "    max_candidates=60,\n",
    "    verbose=True\n",
    ")\n",
    "low_ind, _ = nnd.neighbor_graph\n",
    "border_pres = np.zeros(len(train_data))\n",
    "for i in range(len(train_data)):\n",
    "    border_pres[i] = len(np.intersect1d(high_ind[i],low_ind[i]))\n",
    "# tptp K=20\n",
    "border_pres.mean(), border_pres.max(),border_pres.min()"
   ]
  },
  {
   "cell_type": "code",
   "execution_count": 12,
   "metadata": {},
   "outputs": [
    {
     "name": "stdout",
     "output_type": "stream",
     "text": [
      "Wed Jan 27 14:39:53 2021 Building RP forest with 16 trees\n",
      "Wed Jan 27 14:39:55 2021 NN descent for 16 iterations\n",
      "\t 1  /  16\n",
      "\t 2  /  16\n",
      "\tStopping threshold met -- exiting after 2 iterations\n",
      "Wed Jan 27 14:39:59 2021 Building RP forest with 16 trees\n",
      "Wed Jan 27 14:39:59 2021 NN descent for 16 iterations\n",
      "\t 1  /  16\n",
      "\t 2  /  16\n",
      "\tStopping threshold met -- exiting after 2 iterations\n"
     ]
    },
    {
     "data": {
      "text/plain": [
       "(3.92082, 27.0, 1.0)"
      ]
     },
     "execution_count": 12,
     "metadata": {},
     "output_type": "execute_result"
    }
   ],
   "source": [
    "from pynndescent import NNDescent\n",
    "# get nearest neighbors\n",
    "nnd = NNDescent(\n",
    "    train_data,\n",
    "    n_neighbors=30,\n",
    "    metric=metric,\n",
    "    n_trees=n_trees,\n",
    "    n_iters=n_iters,\n",
    "    max_candidates=60,\n",
    "    verbose=True\n",
    ")\n",
    "high_ind, _ = nnd.neighbor_graph\n",
    "low_train = load_encoder(train_data).cpu().numpy()\n",
    "nnd = NNDescent(\n",
    "    low_train,\n",
    "    n_neighbors=30,\n",
    "    metric=metric,\n",
    "    n_trees=n_trees,\n",
    "    n_iters=n_iters,\n",
    "    max_candidates=60,\n",
    "    verbose=True\n",
    ")\n",
    "low_ind, _ = nnd.neighbor_graph\n",
    "border_pres = np.zeros(len(train_data))\n",
    "for i in range(len(train_data)):\n",
    "    border_pres[i] = len(np.intersect1d(high_ind[i],low_ind[i]))\n",
    "# tptp K=30\n",
    "border_pres.mean(), border_pres.max(),border_pres.min()"
   ]
  },
  {
   "cell_type": "code",
   "execution_count": 13,
   "metadata": {},
   "outputs": [
    {
     "name": "stdout",
     "output_type": "stream",
     "text": [
      "Wed Jan 27 14:40:02 2021 Building RP forest with 16 trees\n",
      "Wed Jan 27 14:40:05 2021 NN descent for 16 iterations\n",
      "\t 1  /  16\n",
      "\t 2  /  16\n",
      "\tStopping threshold met -- exiting after 2 iterations\n",
      "Wed Jan 27 14:40:16 2021 Building RP forest with 16 trees\n",
      "Wed Jan 27 14:40:16 2021 NN descent for 16 iterations\n",
      "\t 1  /  16\n",
      "\t 2  /  16\n",
      "\tStopping threshold met -- exiting after 2 iterations\n"
     ]
    },
    {
     "data": {
      "text/plain": [
       "(7.44558, 45.0, 1.0)"
      ]
     },
     "execution_count": 13,
     "metadata": {},
     "output_type": "execute_result"
    }
   ],
   "source": [
    "from pynndescent import NNDescent\n",
    "# get nearest neighbors\n",
    "nnd = NNDescent(\n",
    "    train_data,\n",
    "    n_neighbors=50,\n",
    "    metric=metric,\n",
    "    n_trees=n_trees,\n",
    "    n_iters=n_iters,\n",
    "    max_candidates=60,\n",
    "    verbose=True\n",
    ")\n",
    "high_ind, _ = nnd.neighbor_graph\n",
    "low_train = load_encoder(train_data).cpu().numpy()\n",
    "nnd = NNDescent(\n",
    "    low_train,\n",
    "    n_neighbors=50,\n",
    "    metric=metric,\n",
    "    n_trees=n_trees,\n",
    "    n_iters=n_iters,\n",
    "    max_candidates=60,\n",
    "    verbose=True\n",
    ")\n",
    "low_ind, _ = nnd.neighbor_graph\n",
    "border_pres = np.zeros(len(train_data))\n",
    "for i in range(len(train_data)):\n",
    "    border_pres[i] = len(np.intersect1d(high_ind[i],low_ind[i]))\n",
    "# tptp K=50\n",
    "border_pres.mean(), border_pres.max(),border_pres.min()"
   ]
  },
  {
   "cell_type": "markdown",
   "metadata": {},
   "source": [
    "#### test"
   ]
  },
  {
   "cell_type": "code",
   "execution_count": 14,
   "metadata": {},
   "outputs": [],
   "source": [
    "fitting_data =  np.concatenate((train_data, test_data), axis=0)"
   ]
  },
  {
   "cell_type": "code",
   "execution_count": 15,
   "metadata": {},
   "outputs": [],
   "source": [
    "# number of trees in random projection forest\n",
    "n_trees = 5 + int(round((fitting_data.shape[0]) ** 0.5 / 20.0))\n",
    "# max number of nearest neighbor iters to perform\n",
    "n_iters = max(5, int(round(np.log2(fitting_data.shape[0]))))\n",
    "# distance metric\n",
    "metric = \"euclidean\""
   ]
  },
  {
   "cell_type": "code",
   "execution_count": 16,
   "metadata": {},
   "outputs": [],
   "source": [
    "low_fitting = load_encoder(fitting_data).cpu().numpy()"
   ]
  },
  {
   "cell_type": "code",
   "execution_count": null,
   "metadata": {},
   "outputs": [],
   "source": [
    "from sklearn.manifold import trustworthiness\n",
    "knns = [10,20,30,50]\n",
    "for k in knns:\n",
    "    trustworthiness = trustworthiness(fitting_data, low_fitting, n_neighbors=k, metric='euclidean')\n",
    "    print(k,trustworthiness)"
   ]
  },
  {
   "cell_type": "code",
   "execution_count": 17,
   "metadata": {},
   "outputs": [
    {
     "name": "stdout",
     "output_type": "stream",
     "text": [
      "Wed Jan 27 14:40:25 2021 Building RP forest with 17 trees\n",
      "Wed Jan 27 14:40:29 2021 NN descent for 16 iterations\n",
      "\t 1  /  16\n",
      "\t 2  /  16\n",
      "\t 3  /  16\n",
      "\tStopping threshold met -- exiting after 3 iterations\n",
      "Wed Jan 27 14:40:30 2021 Building RP forest with 17 trees\n",
      "Wed Jan 27 14:40:30 2021 NN descent for 16 iterations\n",
      "\t 1  /  16\n",
      "\t 2  /  16\n",
      "\tStopping threshold met -- exiting after 2 iterations\n"
     ]
    },
    {
     "data": {
      "text/plain": [
       "(1.4806, 9.0, 1.0)"
      ]
     },
     "execution_count": 17,
     "metadata": {},
     "output_type": "execute_result"
    }
   ],
   "source": [
    "from pynndescent import NNDescent\n",
    "# get nearest neighbors\n",
    "nnd = NNDescent(\n",
    "    fitting_data,\n",
    "    n_neighbors=10,\n",
    "    metric=metric,\n",
    "    n_trees=n_trees,\n",
    "    n_iters=n_iters,\n",
    "    max_candidates=60,\n",
    "    verbose=True\n",
    ")\n",
    "high_ind, _ = nnd.neighbor_graph\n",
    "nnd = NNDescent(\n",
    "    low_fitting,\n",
    "    n_neighbors=10,\n",
    "    metric=metric,\n",
    "    n_trees=n_trees,\n",
    "    n_iters=n_iters,\n",
    "    max_candidates=60,\n",
    "    verbose=True\n",
    ")\n",
    "low_ind, _ = nnd.neighbor_graph\n",
    "\n",
    "border_pres = np.zeros(len(test_data))\n",
    "train_num = len(train_data)\n",
    "test_num = len(fitting_data)\n",
    "for i in range(train_num,test_num,1):\n",
    "    border_pres[i-train_num] = len(np.intersect1d(high_ind[i],low_ind[i]))\n",
    "# tptp K=20\n",
    "border_pres.mean(), border_pres.max(),border_pres.min()"
   ]
  },
  {
   "cell_type": "code",
   "execution_count": 18,
   "metadata": {},
   "outputs": [
    {
     "name": "stdout",
     "output_type": "stream",
     "text": [
      "Wed Jan 27 14:40:31 2021 Building RP forest with 17 trees\n",
      "Wed Jan 27 14:40:35 2021 NN descent for 16 iterations\n",
      "\t 1  /  16\n",
      "\t 2  /  16\n",
      "\tStopping threshold met -- exiting after 2 iterations\n",
      "Wed Jan 27 14:40:38 2021 Building RP forest with 17 trees\n",
      "Wed Jan 27 14:40:38 2021 NN descent for 16 iterations\n",
      "\t 1  /  16\n",
      "\t 2  /  16\n",
      "\tStopping threshold met -- exiting after 2 iterations\n"
     ]
    },
    {
     "data": {
      "text/plain": [
       "(2.4941, 18.0, 1.0)"
      ]
     },
     "execution_count": 18,
     "metadata": {},
     "output_type": "execute_result"
    }
   ],
   "source": [
    "from pynndescent import NNDescent\n",
    "# get nearest neighbors\n",
    "nnd = NNDescent(\n",
    "    fitting_data,\n",
    "    n_neighbors=20,\n",
    "    metric=metric,\n",
    "    n_trees=n_trees,\n",
    "    n_iters=n_iters,\n",
    "    max_candidates=60,\n",
    "    verbose=True\n",
    ")\n",
    "high_ind, _ = nnd.neighbor_graph\n",
    "nnd = NNDescent(\n",
    "    low_fitting,\n",
    "    n_neighbors=20,\n",
    "    metric=metric,\n",
    "    n_trees=n_trees,\n",
    "    n_iters=n_iters,\n",
    "    max_candidates=60,\n",
    "    verbose=True\n",
    ")\n",
    "low_ind, _ = nnd.neighbor_graph\n",
    "\n",
    "border_pres = np.zeros(len(test_data))\n",
    "train_num = len(train_data)\n",
    "test_num = len(fitting_data)\n",
    "for i in range(train_num,test_num,1):\n",
    "    border_pres[i-train_num] = len(np.intersect1d(high_ind[i],low_ind[i]))\n",
    "# tptp K=20\n",
    "border_pres.mean(), border_pres.max(),border_pres.min()"
   ]
  },
  {
   "cell_type": "code",
   "execution_count": 19,
   "metadata": {},
   "outputs": [
    {
     "name": "stdout",
     "output_type": "stream",
     "text": [
      "Wed Jan 27 14:40:39 2021 Building RP forest with 17 trees\n",
      "Wed Jan 27 14:40:43 2021 NN descent for 16 iterations\n",
      "\t 1  /  16\n",
      "\t 2  /  16\n",
      "\tStopping threshold met -- exiting after 2 iterations\n",
      "Wed Jan 27 14:40:47 2021 Building RP forest with 17 trees\n",
      "Wed Jan 27 14:40:48 2021 NN descent for 16 iterations\n",
      "\t 1  /  16\n",
      "\t 2  /  16\n",
      "\tStopping threshold met -- exiting after 2 iterations\n"
     ]
    },
    {
     "data": {
      "text/plain": [
       "(3.8102, 25.0, 1.0)"
      ]
     },
     "execution_count": 19,
     "metadata": {},
     "output_type": "execute_result"
    }
   ],
   "source": [
    "from pynndescent import NNDescent\n",
    "# get nearest neighbors\n",
    "nnd = NNDescent(\n",
    "    fitting_data,\n",
    "    n_neighbors=30,\n",
    "    metric=metric,\n",
    "    n_trees=n_trees,\n",
    "    n_iters=n_iters,\n",
    "    max_candidates=60,\n",
    "    verbose=True\n",
    ")\n",
    "high_ind, _ = nnd.neighbor_graph\n",
    "nnd = NNDescent(\n",
    "    low_fitting,\n",
    "    n_neighbors=30,\n",
    "    metric=metric,\n",
    "    n_trees=n_trees,\n",
    "    n_iters=n_iters,\n",
    "    max_candidates=60,\n",
    "    verbose=True\n",
    ")\n",
    "low_ind, _ = nnd.neighbor_graph\n",
    "\n",
    "border_pres = np.zeros(len(test_data))\n",
    "train_num = len(train_data)\n",
    "test_num = len(fitting_data)\n",
    "for i in range(train_num,test_num,1):\n",
    "    border_pres[i-train_num] = len(np.intersect1d(high_ind[i],low_ind[i]))\n",
    "# tptp K=30\n",
    "border_pres.mean(), border_pres.max(),border_pres.min()"
   ]
  },
  {
   "cell_type": "code",
   "execution_count": 20,
   "metadata": {
    "scrolled": false
   },
   "outputs": [
    {
     "name": "stdout",
     "output_type": "stream",
     "text": [
      "Wed Jan 27 14:40:50 2021 Building RP forest with 17 trees\n",
      "Wed Jan 27 14:40:53 2021 NN descent for 16 iterations\n",
      "\t 1  /  16\n",
      "\t 2  /  16\n",
      "\tStopping threshold met -- exiting after 2 iterations\n",
      "Wed Jan 27 14:41:07 2021 Building RP forest with 17 trees\n",
      "Wed Jan 27 14:41:07 2021 NN descent for 16 iterations\n",
      "\t 1  /  16\n",
      "\t 2  /  16\n",
      "\tStopping threshold met -- exiting after 2 iterations\n"
     ]
    },
    {
     "data": {
      "text/plain": [
       "(7.1233, 44.0, 1.0)"
      ]
     },
     "execution_count": 20,
     "metadata": {},
     "output_type": "execute_result"
    }
   ],
   "source": [
    "from pynndescent import NNDescent\n",
    "# get nearest neighbors\n",
    "nnd = NNDescent(\n",
    "    fitting_data,\n",
    "    n_neighbors=50,\n",
    "    metric=metric,\n",
    "    n_trees=n_trees,\n",
    "    n_iters=n_iters,\n",
    "    max_candidates=60,\n",
    "    verbose=True\n",
    ")\n",
    "high_ind, _ = nnd.neighbor_graph\n",
    "nnd = NNDescent(\n",
    "    low_fitting,\n",
    "    n_neighbors=50,\n",
    "    metric=metric,\n",
    "    n_trees=n_trees,\n",
    "    n_iters=n_iters,\n",
    "    max_candidates=60,\n",
    "    verbose=True\n",
    ")\n",
    "low_ind, _ = nnd.neighbor_graph\n",
    "\n",
    "border_pres = np.zeros(len(test_data))\n",
    "train_num = len(train_data)\n",
    "test_num = len(fitting_data)\n",
    "for i in range(train_num,test_num,1):\n",
    "    border_pres[i-train_num] = len(np.intersect1d(high_ind[i],low_ind[i]))\n",
    "# tptp K=50\n",
    "border_pres.mean(), border_pres.max(),border_pres.min()"
   ]
  },
  {
   "cell_type": "markdown",
   "metadata": {},
   "source": [
    "### M_<mixed_Complex_symmetric, k=15> (core)"
   ]
  },
  {
   "cell_type": "code",
   "execution_count": 6,
   "metadata": {},
   "outputs": [
    {
     "name": "stdout",
     "output_type": "stream",
     "text": [
      "WARNING:tensorflow:No training configuration found in save file, so the model was *not* compiled. Compile it manually.\n",
      "Keras encoder model loaded from parametric_umap_models\\dbp_exp\\encoder_mixed_complex_15\n"
     ]
    }
   ],
   "source": [
    "import os\n",
    "save_location = \"parametric_umap_models\\dbp_exp\"\n",
    "# load model\n",
    "# load encoder\n",
    "encoder_output = os.path.join(save_location, \"encoder_mixed_complex_15\")\n",
    "if os.path.exists(encoder_output):\n",
    "    load_encoder = tf.keras.models.load_model(encoder_output)\n",
    "    print(\"Keras encoder model loaded from {}\".format(encoder_output))"
   ]
  },
  {
   "cell_type": "markdown",
   "metadata": {},
   "source": [
    "#### train"
   ]
  },
  {
   "cell_type": "code",
   "execution_count": 7,
   "metadata": {},
   "outputs": [],
   "source": [
    "# number of trees in random projection forest\n",
    "n_trees = 5 + int(round((train_data.shape[0]) ** 0.5 / 20.0))\n",
    "# max number of nearest neighbor iters to perform\n",
    "n_iters = max(5, int(round(np.log2(train_data.shape[0]))))\n",
    "# distance metric\n",
    "metric = \"euclidean\""
   ]
  },
  {
   "cell_type": "code",
   "execution_count": 8,
   "metadata": {},
   "outputs": [
    {
     "name": "stdout",
     "output_type": "stream",
     "text": [
      "WARNING:tensorflow:From <ipython-input-8-c3f5e7a4f4d7>:1: _EagerTensorBase.cpu (from tensorflow.python.framework.ops) is deprecated and will be removed in a future version.\n",
      "Instructions for updating:\n",
      "Use tf.identity instead.\n"
     ]
    }
   ],
   "source": [
    "low_train = load_encoder(train_data).cpu().numpy()"
   ]
  },
  {
   "cell_type": "code",
   "execution_count": null,
   "metadata": {},
   "outputs": [],
   "source": [
    "from sklearn.manifold import trustworthiness\n",
    "knns = [10,20,30,50]\n",
    "for k in knns:\n",
    "    t = trustworthiness(train_data, low_train, n_neighbors=int(k), metric='euclidean')\n",
    "    print(k,t)"
   ]
  },
  {
   "cell_type": "code",
   "execution_count": 9,
   "metadata": {},
   "outputs": [
    {
     "name": "stdout",
     "output_type": "stream",
     "text": [
      "Wed Jan 27 16:32:17 2021 Building RP forest with 16 trees\n",
      "Wed Jan 27 16:32:20 2021 NN descent for 16 iterations\n",
      "\t 1  /  16\n",
      "\t 2  /  16\n",
      "\t 3  /  16\n",
      "\tStopping threshold met -- exiting after 3 iterations\n",
      "Wed Jan 27 16:32:32 2021 Building RP forest with 16 trees\n",
      "Wed Jan 27 16:32:32 2021 NN descent for 16 iterations\n",
      "\t 1  /  16\n",
      "\t 2  /  16\n",
      "\tStopping threshold met -- exiting after 2 iterations\n"
     ]
    },
    {
     "data": {
      "text/plain": [
       "(1.784, 10.0, 1.0)"
      ]
     },
     "execution_count": 9,
     "metadata": {},
     "output_type": "execute_result"
    }
   ],
   "source": [
    "from pynndescent import NNDescent\n",
    "# get nearest neighbors\n",
    "nnd = NNDescent(\n",
    "    train_data,\n",
    "    n_neighbors=10,\n",
    "    metric=metric,\n",
    "    n_trees=n_trees,\n",
    "    n_iters=n_iters,\n",
    "    max_candidates=60,\n",
    "    verbose=True\n",
    ")\n",
    "high_ind, _ = nnd.neighbor_graph\n",
    "nnd = NNDescent(\n",
    "    low_train,\n",
    "    n_neighbors=10,\n",
    "    metric=metric,\n",
    "    n_trees=n_trees,\n",
    "    n_iters=n_iters,\n",
    "    max_candidates=60,\n",
    "    verbose=True\n",
    ")\n",
    "low_ind, _ = nnd.neighbor_graph\n",
    "\n",
    "border_pres = np.zeros(len(train_data))\n",
    "for i in range(len(train_data)):\n",
    "    border_pres[i] = len(np.intersect1d(high_ind[i],low_ind[i]))\n",
    "# tptp K=10\n",
    "border_pres.mean(), border_pres.max(),border_pres.min()"
   ]
  },
  {
   "cell_type": "code",
   "execution_count": 10,
   "metadata": {},
   "outputs": [
    {
     "name": "stdout",
     "output_type": "stream",
     "text": [
      "Wed Jan 27 16:32:34 2021 Building RP forest with 16 trees\n",
      "Wed Jan 27 16:32:36 2021 NN descent for 16 iterations\n",
      "\t 1  /  16\n",
      "\t 2  /  16\n",
      "\tStopping threshold met -- exiting after 2 iterations\n",
      "Wed Jan 27 16:32:39 2021 Building RP forest with 16 trees\n",
      "Wed Jan 27 16:32:39 2021 NN descent for 16 iterations\n",
      "\t 1  /  16\n",
      "\t 2  /  16\n",
      "\tStopping threshold met -- exiting after 2 iterations\n"
     ]
    },
    {
     "data": {
      "text/plain": [
       "(3.47878, 19.0, 1.0)"
      ]
     },
     "execution_count": 10,
     "metadata": {},
     "output_type": "execute_result"
    }
   ],
   "source": [
    "from pynndescent import NNDescent\n",
    "# get nearest neighbors\n",
    "nnd = NNDescent(\n",
    "    train_data,\n",
    "    n_neighbors=20,\n",
    "    metric=metric,\n",
    "    n_trees=n_trees,\n",
    "    n_iters=n_iters,\n",
    "    max_candidates=60,\n",
    "    verbose=True\n",
    ")\n",
    "high_ind, _ = nnd.neighbor_graph\n",
    "nnd = NNDescent(\n",
    "    low_train,\n",
    "    n_neighbors=20,\n",
    "    metric=metric,\n",
    "    n_trees=n_trees,\n",
    "    n_iters=n_iters,\n",
    "    max_candidates=60,\n",
    "    verbose=True\n",
    ")\n",
    "low_ind, _ = nnd.neighbor_graph\n",
    "border_pres = np.zeros(len(train_data))\n",
    "for i in range(len(train_data)):\n",
    "    border_pres[i] = len(np.intersect1d(high_ind[i],low_ind[i]))\n",
    "# tptp K=20\n",
    "border_pres.mean(), border_pres.max(),border_pres.min()"
   ]
  },
  {
   "cell_type": "code",
   "execution_count": 11,
   "metadata": {},
   "outputs": [
    {
     "name": "stdout",
     "output_type": "stream",
     "text": [
      "Wed Jan 27 16:32:41 2021 Building RP forest with 16 trees\n",
      "Wed Jan 27 16:32:44 2021 NN descent for 16 iterations\n",
      "\t 1  /  16\n",
      "\t 2  /  16\n",
      "\tStopping threshold met -- exiting after 2 iterations\n",
      "Wed Jan 27 16:32:48 2021 Building RP forest with 16 trees\n",
      "Wed Jan 27 16:32:48 2021 NN descent for 16 iterations\n",
      "\t 1  /  16\n",
      "\t 2  /  16\n",
      "\tStopping threshold met -- exiting after 2 iterations\n"
     ]
    },
    {
     "data": {
      "text/plain": [
       "(5.6864, 28.0, 1.0)"
      ]
     },
     "execution_count": 11,
     "metadata": {},
     "output_type": "execute_result"
    }
   ],
   "source": [
    "from pynndescent import NNDescent\n",
    "# get nearest neighbors\n",
    "nnd = NNDescent(\n",
    "    train_data,\n",
    "    n_neighbors=30,\n",
    "    metric=metric,\n",
    "    n_trees=n_trees,\n",
    "    n_iters=n_iters,\n",
    "    max_candidates=60,\n",
    "    verbose=True\n",
    ")\n",
    "high_ind, _ = nnd.neighbor_graph\n",
    "low_train = load_encoder(train_data).cpu().numpy()\n",
    "nnd = NNDescent(\n",
    "    low_train,\n",
    "    n_neighbors=30,\n",
    "    metric=metric,\n",
    "    n_trees=n_trees,\n",
    "    n_iters=n_iters,\n",
    "    max_candidates=60,\n",
    "    verbose=True\n",
    ")\n",
    "low_ind, _ = nnd.neighbor_graph\n",
    "border_pres = np.zeros(len(train_data))\n",
    "for i in range(len(train_data)):\n",
    "    border_pres[i] = len(np.intersect1d(high_ind[i],low_ind[i]))\n",
    "# tptp K=30\n",
    "border_pres.mean(), border_pres.max(),border_pres.min()"
   ]
  },
  {
   "cell_type": "code",
   "execution_count": 12,
   "metadata": {},
   "outputs": [
    {
     "name": "stdout",
     "output_type": "stream",
     "text": [
      "Wed Jan 27 16:32:51 2021 Building RP forest with 16 trees\n",
      "Wed Jan 27 16:32:54 2021 NN descent for 16 iterations\n",
      "\t 1  /  16\n",
      "\t 2  /  16\n",
      "\tStopping threshold met -- exiting after 2 iterations\n",
      "Wed Jan 27 16:33:06 2021 Building RP forest with 16 trees\n",
      "Wed Jan 27 16:33:06 2021 NN descent for 16 iterations\n",
      "\t 1  /  16\n",
      "\t 2  /  16\n",
      "\tStopping threshold met -- exiting after 2 iterations\n"
     ]
    },
    {
     "data": {
      "text/plain": [
       "(11.17822, 45.0, 1.0)"
      ]
     },
     "execution_count": 12,
     "metadata": {},
     "output_type": "execute_result"
    }
   ],
   "source": [
    "from pynndescent import NNDescent\n",
    "# get nearest neighbors\n",
    "nnd = NNDescent(\n",
    "    train_data,\n",
    "    n_neighbors=50,\n",
    "    metric=metric,\n",
    "    n_trees=n_trees,\n",
    "    n_iters=n_iters,\n",
    "    max_candidates=60,\n",
    "    verbose=True\n",
    ")\n",
    "high_ind, _ = nnd.neighbor_graph\n",
    "low_train = load_encoder(train_data).cpu().numpy()\n",
    "nnd = NNDescent(\n",
    "    low_train,\n",
    "    n_neighbors=50,\n",
    "    metric=metric,\n",
    "    n_trees=n_trees,\n",
    "    n_iters=n_iters,\n",
    "    max_candidates=60,\n",
    "    verbose=True\n",
    ")\n",
    "low_ind, _ = nnd.neighbor_graph\n",
    "border_pres = np.zeros(len(train_data))\n",
    "for i in range(len(train_data)):\n",
    "    border_pres[i] = len(np.intersect1d(high_ind[i],low_ind[i]))\n",
    "# tptp K=50\n",
    "border_pres.mean(), border_pres.max(),border_pres.min()"
   ]
  },
  {
   "cell_type": "markdown",
   "metadata": {},
   "source": [
    "#### test"
   ]
  },
  {
   "cell_type": "code",
   "execution_count": 13,
   "metadata": {},
   "outputs": [],
   "source": [
    "fitting_data =  np.concatenate((train_data, test_data), axis=0)"
   ]
  },
  {
   "cell_type": "code",
   "execution_count": 14,
   "metadata": {},
   "outputs": [],
   "source": [
    "# number of trees in random projection forest\n",
    "n_trees = 5 + int(round((fitting_data.shape[0]) ** 0.5 / 20.0))\n",
    "# max number of nearest neighbor iters to perform\n",
    "n_iters = max(5, int(round(np.log2(fitting_data.shape[0]))))\n",
    "# distance metric\n",
    "metric = \"euclidean\""
   ]
  },
  {
   "cell_type": "code",
   "execution_count": 15,
   "metadata": {},
   "outputs": [],
   "source": [
    "low_fitting = load_encoder(fitting_data).cpu().numpy()"
   ]
  },
  {
   "cell_type": "code",
   "execution_count": null,
   "metadata": {},
   "outputs": [],
   "source": [
    "from sklearn.manifold import trustworthiness\n",
    "knns = [10,20,30,50]\n",
    "for k in knns:\n",
    "    trustworthiness = trustworthiness(fitting_data, low_fitting, n_neighbors=k, metric='euclidean')\n",
    "    print(k,trustworthiness)"
   ]
  },
  {
   "cell_type": "code",
   "execution_count": 16,
   "metadata": {},
   "outputs": [
    {
     "name": "stdout",
     "output_type": "stream",
     "text": [
      "Wed Jan 27 16:33:14 2021 Building RP forest with 17 trees\n",
      "Wed Jan 27 16:33:18 2021 NN descent for 16 iterations\n",
      "\t 1  /  16\n",
      "\t 2  /  16\n",
      "\t 3  /  16\n",
      "\tStopping threshold met -- exiting after 3 iterations\n",
      "Wed Jan 27 16:33:20 2021 Building RP forest with 17 trees\n",
      "Wed Jan 27 16:33:20 2021 NN descent for 16 iterations\n",
      "\t 1  /  16\n",
      "\t 2  /  16\n",
      "\tStopping threshold met -- exiting after 2 iterations\n"
     ]
    },
    {
     "data": {
      "text/plain": [
       "(1.7262, 9.0, 1.0)"
      ]
     },
     "execution_count": 16,
     "metadata": {},
     "output_type": "execute_result"
    }
   ],
   "source": [
    "from pynndescent import NNDescent\n",
    "# get nearest neighbors\n",
    "nnd = NNDescent(\n",
    "    fitting_data,\n",
    "    n_neighbors=10,\n",
    "    metric=metric,\n",
    "    n_trees=n_trees,\n",
    "    n_iters=n_iters,\n",
    "    max_candidates=60,\n",
    "    verbose=True\n",
    ")\n",
    "high_ind, _ = nnd.neighbor_graph\n",
    "nnd = NNDescent(\n",
    "    low_fitting,\n",
    "    n_neighbors=10,\n",
    "    metric=metric,\n",
    "    n_trees=n_trees,\n",
    "    n_iters=n_iters,\n",
    "    max_candidates=60,\n",
    "    verbose=True\n",
    ")\n",
    "low_ind, _ = nnd.neighbor_graph\n",
    "\n",
    "border_pres = np.zeros(len(test_data))\n",
    "train_num = len(train_data)\n",
    "test_num = len(fitting_data)\n",
    "for i in range(train_num,test_num,1):\n",
    "    border_pres[i-train_num] = len(np.intersect1d(high_ind[i],low_ind[i]))\n",
    "# tptp K=20\n",
    "border_pres.mean(), border_pres.max(),border_pres.min()"
   ]
  },
  {
   "cell_type": "code",
   "execution_count": 17,
   "metadata": {},
   "outputs": [
    {
     "name": "stdout",
     "output_type": "stream",
     "text": [
      "Wed Jan 27 16:33:21 2021 Building RP forest with 17 trees\n",
      "Wed Jan 27 16:33:25 2021 NN descent for 16 iterations\n",
      "\t 1  /  16\n",
      "\t 2  /  16\n",
      "\tStopping threshold met -- exiting after 2 iterations\n",
      "Wed Jan 27 16:33:28 2021 Building RP forest with 17 trees\n",
      "Wed Jan 27 16:33:28 2021 NN descent for 16 iterations\n",
      "\t 1  /  16\n",
      "\t 2  /  16\n",
      "\tStopping threshold met -- exiting after 2 iterations\n"
     ]
    },
    {
     "data": {
      "text/plain": [
       "(3.2429, 18.0, 1.0)"
      ]
     },
     "execution_count": 17,
     "metadata": {},
     "output_type": "execute_result"
    }
   ],
   "source": [
    "from pynndescent import NNDescent\n",
    "# get nearest neighbors\n",
    "nnd = NNDescent(\n",
    "    fitting_data,\n",
    "    n_neighbors=20,\n",
    "    metric=metric,\n",
    "    n_trees=n_trees,\n",
    "    n_iters=n_iters,\n",
    "    max_candidates=60,\n",
    "    verbose=True\n",
    ")\n",
    "high_ind, _ = nnd.neighbor_graph\n",
    "nnd = NNDescent(\n",
    "    low_fitting,\n",
    "    n_neighbors=20,\n",
    "    metric=metric,\n",
    "    n_trees=n_trees,\n",
    "    n_iters=n_iters,\n",
    "    max_candidates=60,\n",
    "    verbose=True\n",
    ")\n",
    "low_ind, _ = nnd.neighbor_graph\n",
    "\n",
    "border_pres = np.zeros(len(test_data))\n",
    "train_num = len(train_data)\n",
    "test_num = len(fitting_data)\n",
    "for i in range(train_num,test_num,1):\n",
    "    border_pres[i-train_num] = len(np.intersect1d(high_ind[i],low_ind[i]))\n",
    "# tptp K=20\n",
    "border_pres.mean(), border_pres.max(),border_pres.min()"
   ]
  },
  {
   "cell_type": "code",
   "execution_count": 18,
   "metadata": {},
   "outputs": [
    {
     "name": "stdout",
     "output_type": "stream",
     "text": [
      "Wed Jan 27 16:33:30 2021 Building RP forest with 17 trees\n",
      "Wed Jan 27 16:33:34 2021 NN descent for 16 iterations\n",
      "\t 1  /  16\n",
      "\t 2  /  16\n",
      "\tStopping threshold met -- exiting after 2 iterations\n",
      "Wed Jan 27 16:33:38 2021 Building RP forest with 17 trees\n",
      "Wed Jan 27 16:33:39 2021 NN descent for 16 iterations\n",
      "\t 1  /  16\n",
      "\t 2  /  16\n",
      "\tStopping threshold met -- exiting after 2 iterations\n"
     ]
    },
    {
     "data": {
      "text/plain": [
       "(5.2241, 26.0, 1.0)"
      ]
     },
     "execution_count": 18,
     "metadata": {},
     "output_type": "execute_result"
    }
   ],
   "source": [
    "from pynndescent import NNDescent\n",
    "# get nearest neighbors\n",
    "nnd = NNDescent(\n",
    "    fitting_data,\n",
    "    n_neighbors=30,\n",
    "    metric=metric,\n",
    "    n_trees=n_trees,\n",
    "    n_iters=n_iters,\n",
    "    max_candidates=60,\n",
    "    verbose=True\n",
    ")\n",
    "high_ind, _ = nnd.neighbor_graph\n",
    "nnd = NNDescent(\n",
    "    low_fitting,\n",
    "    n_neighbors=30,\n",
    "    metric=metric,\n",
    "    n_trees=n_trees,\n",
    "    n_iters=n_iters,\n",
    "    max_candidates=60,\n",
    "    verbose=True\n",
    ")\n",
    "low_ind, _ = nnd.neighbor_graph\n",
    "\n",
    "border_pres = np.zeros(len(test_data))\n",
    "train_num = len(train_data)\n",
    "test_num = len(fitting_data)\n",
    "for i in range(train_num,test_num,1):\n",
    "    border_pres[i-train_num] = len(np.intersect1d(high_ind[i],low_ind[i]))\n",
    "# tptp K=30\n",
    "border_pres.mean(), border_pres.max(),border_pres.min()"
   ]
  },
  {
   "cell_type": "code",
   "execution_count": 19,
   "metadata": {
    "scrolled": false
   },
   "outputs": [
    {
     "name": "stdout",
     "output_type": "stream",
     "text": [
      "Wed Jan 27 16:33:41 2021 Building RP forest with 17 trees\n",
      "Wed Jan 27 16:33:45 2021 NN descent for 16 iterations\n",
      "\t 1  /  16\n",
      "\t 2  /  16\n",
      "\tStopping threshold met -- exiting after 2 iterations\n",
      "Wed Jan 27 16:33:59 2021 Building RP forest with 17 trees\n",
      "Wed Jan 27 16:33:59 2021 NN descent for 16 iterations\n",
      "\t 1  /  16\n",
      "\t 2  /  16\n",
      "\tStopping threshold met -- exiting after 2 iterations\n"
     ]
    },
    {
     "data": {
      "text/plain": [
       "(10.1944, 44.0, 1.0)"
      ]
     },
     "execution_count": 19,
     "metadata": {},
     "output_type": "execute_result"
    }
   ],
   "source": [
    "from pynndescent import NNDescent\n",
    "# get nearest neighbors\n",
    "nnd = NNDescent(\n",
    "    fitting_data,\n",
    "    n_neighbors=50,\n",
    "    metric=metric,\n",
    "    n_trees=n_trees,\n",
    "    n_iters=n_iters,\n",
    "    max_candidates=60,\n",
    "    verbose=True\n",
    ")\n",
    "high_ind, _ = nnd.neighbor_graph\n",
    "nnd = NNDescent(\n",
    "    low_fitting,\n",
    "    n_neighbors=50,\n",
    "    metric=metric,\n",
    "    n_trees=n_trees,\n",
    "    n_iters=n_iters,\n",
    "    max_candidates=60,\n",
    "    verbose=True\n",
    ")\n",
    "low_ind, _ = nnd.neighbor_graph\n",
    "\n",
    "border_pres = np.zeros(len(test_data))\n",
    "train_num = len(train_data)\n",
    "test_num = len(fitting_data)\n",
    "for i in range(train_num,test_num,1):\n",
    "    border_pres[i-train_num] = len(np.intersect1d(high_ind[i],low_ind[i]))\n",
    "# tptp K=50\n",
    "border_pres.mean(), border_pres.max(),border_pres.min()"
   ]
  },
  {
   "cell_type": "markdown",
   "metadata": {},
   "source": [
    "### M_<mixed_Complex_symmetric, k=30> (core)"
   ]
  },
  {
   "cell_type": "code",
   "execution_count": 6,
   "metadata": {},
   "outputs": [
    {
     "name": "stdout",
     "output_type": "stream",
     "text": [
      "WARNING:tensorflow:No training configuration found in save file, so the model was *not* compiled. Compile it manually.\n",
      "Keras encoder model loaded from parametric_umap_models\\dbp_exp\\encoder_mixed_complex_30\n"
     ]
    }
   ],
   "source": [
    "import os\n",
    "save_location = \"parametric_umap_models\\dbp_exp\"\n",
    "# load model\n",
    "# load encoder\n",
    "encoder_output = os.path.join(save_location, \"encoder_mixed_complex_30\")\n",
    "if os.path.exists(encoder_output):\n",
    "    load_encoder = tf.keras.models.load_model(encoder_output)\n",
    "    print(\"Keras encoder model loaded from {}\".format(encoder_output))"
   ]
  },
  {
   "cell_type": "markdown",
   "metadata": {},
   "source": [
    "#### train"
   ]
  },
  {
   "cell_type": "code",
   "execution_count": 7,
   "metadata": {},
   "outputs": [],
   "source": [
    "# number of trees in random projection forest\n",
    "n_trees = 5 + int(round((train_data.shape[0]) ** 0.5 / 20.0))\n",
    "# max number of nearest neighbor iters to perform\n",
    "n_iters = max(5, int(round(np.log2(train_data.shape[0]))))\n",
    "# distance metric\n",
    "metric = \"euclidean\""
   ]
  },
  {
   "cell_type": "code",
   "execution_count": 8,
   "metadata": {},
   "outputs": [
    {
     "name": "stdout",
     "output_type": "stream",
     "text": [
      "WARNING:tensorflow:From <ipython-input-8-c3f5e7a4f4d7>:1: _EagerTensorBase.cpu (from tensorflow.python.framework.ops) is deprecated and will be removed in a future version.\n",
      "Instructions for updating:\n",
      "Use tf.identity instead.\n"
     ]
    }
   ],
   "source": [
    "low_train = load_encoder(train_data).cpu().numpy()"
   ]
  },
  {
   "cell_type": "code",
   "execution_count": null,
   "metadata": {},
   "outputs": [],
   "source": [
    "from sklearn.manifold import trustworthiness\n",
    "knns = [10,20,30,50]\n",
    "for k in knns:\n",
    "    t = trustworthiness(train_data, low_train, n_neighbors=int(k), metric='euclidean')\n",
    "    print(k,t)"
   ]
  },
  {
   "cell_type": "code",
   "execution_count": 9,
   "metadata": {},
   "outputs": [
    {
     "name": "stdout",
     "output_type": "stream",
     "text": [
      "Wed Jan 27 19:15:48 2021 Building RP forest with 16 trees\n",
      "Wed Jan 27 19:15:52 2021 NN descent for 16 iterations\n",
      "\t 1  /  16\n",
      "\t 2  /  16\n",
      "\t 3  /  16\n",
      "\tStopping threshold met -- exiting after 3 iterations\n",
      "Wed Jan 27 19:16:04 2021 Building RP forest with 16 trees\n",
      "Wed Jan 27 19:16:05 2021 NN descent for 16 iterations\n",
      "\t 1  /  16\n",
      "\t 2  /  16\n",
      "\tStopping threshold met -- exiting after 2 iterations\n"
     ]
    },
    {
     "data": {
      "text/plain": [
       "(1.81634, 9.0, 1.0)"
      ]
     },
     "execution_count": 9,
     "metadata": {},
     "output_type": "execute_result"
    }
   ],
   "source": [
    "from pynndescent import NNDescent\n",
    "# get nearest neighbors\n",
    "nnd = NNDescent(\n",
    "    train_data,\n",
    "    n_neighbors=10,\n",
    "    metric=metric,\n",
    "    n_trees=n_trees,\n",
    "    n_iters=n_iters,\n",
    "    max_candidates=60,\n",
    "    verbose=True\n",
    ")\n",
    "high_ind, _ = nnd.neighbor_graph\n",
    "nnd = NNDescent(\n",
    "    low_train,\n",
    "    n_neighbors=10,\n",
    "    metric=metric,\n",
    "    n_trees=n_trees,\n",
    "    n_iters=n_iters,\n",
    "    max_candidates=60,\n",
    "    verbose=True\n",
    ")\n",
    "low_ind, _ = nnd.neighbor_graph\n",
    "\n",
    "border_pres = np.zeros(len(train_data))\n",
    "for i in range(len(train_data)):\n",
    "    border_pres[i] = len(np.intersect1d(high_ind[i],low_ind[i]))\n",
    "# tptp K=10\n",
    "border_pres.mean(), border_pres.max(),border_pres.min()"
   ]
  },
  {
   "cell_type": "code",
   "execution_count": 10,
   "metadata": {},
   "outputs": [
    {
     "name": "stdout",
     "output_type": "stream",
     "text": [
      "Wed Jan 27 19:16:06 2021 Building RP forest with 16 trees\n",
      "Wed Jan 27 19:16:09 2021 NN descent for 16 iterations\n",
      "\t 1  /  16\n",
      "\t 2  /  16\n",
      "\tStopping threshold met -- exiting after 2 iterations\n",
      "Wed Jan 27 19:16:12 2021 Building RP forest with 16 trees\n",
      "Wed Jan 27 19:16:12 2021 NN descent for 16 iterations\n",
      "\t 1  /  16\n",
      "\t 2  /  16\n",
      "\tStopping threshold met -- exiting after 2 iterations\n"
     ]
    },
    {
     "data": {
      "text/plain": [
       "(3.61412, 18.0, 1.0)"
      ]
     },
     "execution_count": 10,
     "metadata": {},
     "output_type": "execute_result"
    }
   ],
   "source": [
    "from pynndescent import NNDescent\n",
    "# get nearest neighbors\n",
    "nnd = NNDescent(\n",
    "    train_data,\n",
    "    n_neighbors=20,\n",
    "    metric=metric,\n",
    "    n_trees=n_trees,\n",
    "    n_iters=n_iters,\n",
    "    max_candidates=60,\n",
    "    verbose=True\n",
    ")\n",
    "high_ind, _ = nnd.neighbor_graph\n",
    "nnd = NNDescent(\n",
    "    low_train,\n",
    "    n_neighbors=20,\n",
    "    metric=metric,\n",
    "    n_trees=n_trees,\n",
    "    n_iters=n_iters,\n",
    "    max_candidates=60,\n",
    "    verbose=True\n",
    ")\n",
    "low_ind, _ = nnd.neighbor_graph\n",
    "border_pres = np.zeros(len(train_data))\n",
    "for i in range(len(train_data)):\n",
    "    border_pres[i] = len(np.intersect1d(high_ind[i],low_ind[i]))\n",
    "# tptp K=20\n",
    "border_pres.mean(), border_pres.max(),border_pres.min()"
   ]
  },
  {
   "cell_type": "code",
   "execution_count": 11,
   "metadata": {},
   "outputs": [
    {
     "name": "stdout",
     "output_type": "stream",
     "text": [
      "Wed Jan 27 19:16:15 2021 Building RP forest with 16 trees\n",
      "Wed Jan 27 19:16:17 2021 NN descent for 16 iterations\n",
      "\t 1  /  16\n",
      "\t 2  /  16\n",
      "\tStopping threshold met -- exiting after 2 iterations\n",
      "Wed Jan 27 19:16:22 2021 Building RP forest with 16 trees\n",
      "Wed Jan 27 19:16:22 2021 NN descent for 16 iterations\n",
      "\t 1  /  16\n",
      "\t 2  /  16\n",
      "\tStopping threshold met -- exiting after 2 iterations\n"
     ]
    },
    {
     "data": {
      "text/plain": [
       "(5.97022, 28.0, 1.0)"
      ]
     },
     "execution_count": 11,
     "metadata": {},
     "output_type": "execute_result"
    }
   ],
   "source": [
    "from pynndescent import NNDescent\n",
    "# get nearest neighbors\n",
    "nnd = NNDescent(\n",
    "    train_data,\n",
    "    n_neighbors=30,\n",
    "    metric=metric,\n",
    "    n_trees=n_trees,\n",
    "    n_iters=n_iters,\n",
    "    max_candidates=60,\n",
    "    verbose=True\n",
    ")\n",
    "high_ind, _ = nnd.neighbor_graph\n",
    "low_train = load_encoder(train_data).cpu().numpy()\n",
    "nnd = NNDescent(\n",
    "    low_train,\n",
    "    n_neighbors=30,\n",
    "    metric=metric,\n",
    "    n_trees=n_trees,\n",
    "    n_iters=n_iters,\n",
    "    max_candidates=60,\n",
    "    verbose=True\n",
    ")\n",
    "low_ind, _ = nnd.neighbor_graph\n",
    "border_pres = np.zeros(len(train_data))\n",
    "for i in range(len(train_data)):\n",
    "    border_pres[i] = len(np.intersect1d(high_ind[i],low_ind[i]))\n",
    "# tptp K=30\n",
    "border_pres.mean(), border_pres.max(),border_pres.min()"
   ]
  },
  {
   "cell_type": "code",
   "execution_count": 12,
   "metadata": {},
   "outputs": [
    {
     "name": "stdout",
     "output_type": "stream",
     "text": [
      "Wed Jan 27 19:16:25 2021 Building RP forest with 16 trees\n",
      "Wed Jan 27 19:16:28 2021 NN descent for 16 iterations\n",
      "\t 1  /  16\n",
      "\t 2  /  16\n",
      "\tStopping threshold met -- exiting after 2 iterations\n",
      "Wed Jan 27 19:16:41 2021 Building RP forest with 16 trees\n",
      "Wed Jan 27 19:16:41 2021 NN descent for 16 iterations\n",
      "\t 1  /  16\n",
      "\t 2  /  16\n",
      "\tStopping threshold met -- exiting after 2 iterations\n"
     ]
    },
    {
     "data": {
      "text/plain": [
       "(11.77754, 46.0, 1.0)"
      ]
     },
     "execution_count": 12,
     "metadata": {},
     "output_type": "execute_result"
    }
   ],
   "source": [
    "from pynndescent import NNDescent\n",
    "# get nearest neighbors\n",
    "nnd = NNDescent(\n",
    "    train_data,\n",
    "    n_neighbors=50,\n",
    "    metric=metric,\n",
    "    n_trees=n_trees,\n",
    "    n_iters=n_iters,\n",
    "    max_candidates=60,\n",
    "    verbose=True\n",
    ")\n",
    "high_ind, _ = nnd.neighbor_graph\n",
    "low_train = load_encoder(train_data).cpu().numpy()\n",
    "nnd = NNDescent(\n",
    "    low_train,\n",
    "    n_neighbors=50,\n",
    "    metric=metric,\n",
    "    n_trees=n_trees,\n",
    "    n_iters=n_iters,\n",
    "    max_candidates=60,\n",
    "    verbose=True\n",
    ")\n",
    "low_ind, _ = nnd.neighbor_graph\n",
    "border_pres = np.zeros(len(train_data))\n",
    "for i in range(len(train_data)):\n",
    "    border_pres[i] = len(np.intersect1d(high_ind[i],low_ind[i]))\n",
    "# tptp K=50\n",
    "border_pres.mean(), border_pres.max(),border_pres.min()"
   ]
  },
  {
   "cell_type": "markdown",
   "metadata": {},
   "source": [
    "#### test"
   ]
  },
  {
   "cell_type": "code",
   "execution_count": 13,
   "metadata": {},
   "outputs": [],
   "source": [
    "fitting_data =  np.concatenate((train_data, test_data), axis=0)"
   ]
  },
  {
   "cell_type": "code",
   "execution_count": 14,
   "metadata": {},
   "outputs": [],
   "source": [
    "# number of trees in random projection forest\n",
    "n_trees = 5 + int(round((fitting_data.shape[0]) ** 0.5 / 20.0))\n",
    "# max number of nearest neighbor iters to perform\n",
    "n_iters = max(5, int(round(np.log2(fitting_data.shape[0]))))\n",
    "# distance metric\n",
    "metric = \"euclidean\""
   ]
  },
  {
   "cell_type": "code",
   "execution_count": 15,
   "metadata": {},
   "outputs": [],
   "source": [
    "low_fitting = load_encoder(fitting_data).cpu().numpy()"
   ]
  },
  {
   "cell_type": "code",
   "execution_count": 16,
   "metadata": {},
   "outputs": [
    {
     "ename": "KeyboardInterrupt",
     "evalue": "",
     "output_type": "error",
     "traceback": [
      "\u001b[1;31m---------------------------------------------------------------------------\u001b[0m",
      "\u001b[1;31mKeyboardInterrupt\u001b[0m                         Traceback (most recent call last)",
      "\u001b[1;32m<ipython-input-16-55c75e897044>\u001b[0m in \u001b[0;36m<module>\u001b[1;34m\u001b[0m\n\u001b[0;32m      2\u001b[0m \u001b[0mknns\u001b[0m \u001b[1;33m=\u001b[0m \u001b[1;33m[\u001b[0m\u001b[1;36m10\u001b[0m\u001b[1;33m,\u001b[0m\u001b[1;36m20\u001b[0m\u001b[1;33m,\u001b[0m\u001b[1;36m30\u001b[0m\u001b[1;33m,\u001b[0m\u001b[1;36m50\u001b[0m\u001b[1;33m]\u001b[0m\u001b[1;33m\u001b[0m\u001b[1;33m\u001b[0m\u001b[0m\n\u001b[0;32m      3\u001b[0m \u001b[1;32mfor\u001b[0m \u001b[0mk\u001b[0m \u001b[1;32min\u001b[0m \u001b[0mknns\u001b[0m\u001b[1;33m:\u001b[0m\u001b[1;33m\u001b[0m\u001b[1;33m\u001b[0m\u001b[0m\n\u001b[1;32m----> 4\u001b[1;33m     \u001b[0mtrustworthiness\u001b[0m \u001b[1;33m=\u001b[0m \u001b[0mtrustworthiness\u001b[0m\u001b[1;33m(\u001b[0m\u001b[0mfitting_data\u001b[0m\u001b[1;33m,\u001b[0m \u001b[0mlow_fitting\u001b[0m\u001b[1;33m,\u001b[0m \u001b[0mn_neighbors\u001b[0m\u001b[1;33m=\u001b[0m\u001b[0mk\u001b[0m\u001b[1;33m,\u001b[0m \u001b[0mmetric\u001b[0m\u001b[1;33m=\u001b[0m\u001b[1;34m'euclidean'\u001b[0m\u001b[1;33m)\u001b[0m\u001b[1;33m\u001b[0m\u001b[1;33m\u001b[0m\u001b[0m\n\u001b[0m\u001b[0;32m      5\u001b[0m     \u001b[0mprint\u001b[0m\u001b[1;33m(\u001b[0m\u001b[0mk\u001b[0m\u001b[1;33m,\u001b[0m\u001b[0mtrustworthiness\u001b[0m\u001b[1;33m)\u001b[0m\u001b[1;33m\u001b[0m\u001b[1;33m\u001b[0m\u001b[0m\n",
      "\u001b[1;32mD:\\Downloads\\anaconda\\envs\\DR2\\lib\\site-packages\\sklearn\\utils\\validation.py\u001b[0m in \u001b[0;36minner_f\u001b[1;34m(*args, **kwargs)\u001b[0m\n\u001b[0;32m     61\u001b[0m             \u001b[0mextra_args\u001b[0m \u001b[1;33m=\u001b[0m \u001b[0mlen\u001b[0m\u001b[1;33m(\u001b[0m\u001b[0margs\u001b[0m\u001b[1;33m)\u001b[0m \u001b[1;33m-\u001b[0m \u001b[0mlen\u001b[0m\u001b[1;33m(\u001b[0m\u001b[0mall_args\u001b[0m\u001b[1;33m)\u001b[0m\u001b[1;33m\u001b[0m\u001b[1;33m\u001b[0m\u001b[0m\n\u001b[0;32m     62\u001b[0m             \u001b[1;32mif\u001b[0m \u001b[0mextra_args\u001b[0m \u001b[1;33m<=\u001b[0m \u001b[1;36m0\u001b[0m\u001b[1;33m:\u001b[0m\u001b[1;33m\u001b[0m\u001b[1;33m\u001b[0m\u001b[0m\n\u001b[1;32m---> 63\u001b[1;33m                 \u001b[1;32mreturn\u001b[0m \u001b[0mf\u001b[0m\u001b[1;33m(\u001b[0m\u001b[1;33m*\u001b[0m\u001b[0margs\u001b[0m\u001b[1;33m,\u001b[0m \u001b[1;33m**\u001b[0m\u001b[0mkwargs\u001b[0m\u001b[1;33m)\u001b[0m\u001b[1;33m\u001b[0m\u001b[1;33m\u001b[0m\u001b[0m\n\u001b[0m\u001b[0;32m     64\u001b[0m \u001b[1;33m\u001b[0m\u001b[0m\n\u001b[0;32m     65\u001b[0m             \u001b[1;31m# extra_args > 0\u001b[0m\u001b[1;33m\u001b[0m\u001b[1;33m\u001b[0m\u001b[1;33m\u001b[0m\u001b[0m\n",
      "\u001b[1;32mD:\\Downloads\\anaconda\\envs\\DR2\\lib\\site-packages\\sklearn\\manifold\\_t_sne.py\u001b[0m in \u001b[0;36mtrustworthiness\u001b[1;34m(X, X_embedded, n_neighbors, metric)\u001b[0m\n\u001b[0;32m    451\u001b[0m         \u001b[0mTrustworthiness\u001b[0m \u001b[0mof\u001b[0m \u001b[0mthe\u001b[0m \u001b[0mlow\u001b[0m\u001b[1;33m-\u001b[0m\u001b[0mdimensional\u001b[0m \u001b[0membedding\u001b[0m\u001b[1;33m.\u001b[0m\u001b[1;33m\u001b[0m\u001b[1;33m\u001b[0m\u001b[0m\n\u001b[0;32m    452\u001b[0m     \"\"\"\n\u001b[1;32m--> 453\u001b[1;33m     \u001b[0mdist_X\u001b[0m \u001b[1;33m=\u001b[0m \u001b[0mpairwise_distances\u001b[0m\u001b[1;33m(\u001b[0m\u001b[0mX\u001b[0m\u001b[1;33m,\u001b[0m \u001b[0mmetric\u001b[0m\u001b[1;33m=\u001b[0m\u001b[0mmetric\u001b[0m\u001b[1;33m)\u001b[0m\u001b[1;33m\u001b[0m\u001b[1;33m\u001b[0m\u001b[0m\n\u001b[0m\u001b[0;32m    454\u001b[0m     \u001b[1;32mif\u001b[0m \u001b[0mmetric\u001b[0m \u001b[1;33m==\u001b[0m \u001b[1;34m'precomputed'\u001b[0m\u001b[1;33m:\u001b[0m\u001b[1;33m\u001b[0m\u001b[1;33m\u001b[0m\u001b[0m\n\u001b[0;32m    455\u001b[0m         \u001b[0mdist_X\u001b[0m \u001b[1;33m=\u001b[0m \u001b[0mdist_X\u001b[0m\u001b[1;33m.\u001b[0m\u001b[0mcopy\u001b[0m\u001b[1;33m(\u001b[0m\u001b[1;33m)\u001b[0m\u001b[1;33m\u001b[0m\u001b[1;33m\u001b[0m\u001b[0m\n",
      "\u001b[1;32mD:\\Downloads\\anaconda\\envs\\DR2\\lib\\site-packages\\sklearn\\utils\\validation.py\u001b[0m in \u001b[0;36minner_f\u001b[1;34m(*args, **kwargs)\u001b[0m\n\u001b[0;32m     61\u001b[0m             \u001b[0mextra_args\u001b[0m \u001b[1;33m=\u001b[0m \u001b[0mlen\u001b[0m\u001b[1;33m(\u001b[0m\u001b[0margs\u001b[0m\u001b[1;33m)\u001b[0m \u001b[1;33m-\u001b[0m \u001b[0mlen\u001b[0m\u001b[1;33m(\u001b[0m\u001b[0mall_args\u001b[0m\u001b[1;33m)\u001b[0m\u001b[1;33m\u001b[0m\u001b[1;33m\u001b[0m\u001b[0m\n\u001b[0;32m     62\u001b[0m             \u001b[1;32mif\u001b[0m \u001b[0mextra_args\u001b[0m \u001b[1;33m<=\u001b[0m \u001b[1;36m0\u001b[0m\u001b[1;33m:\u001b[0m\u001b[1;33m\u001b[0m\u001b[1;33m\u001b[0m\u001b[0m\n\u001b[1;32m---> 63\u001b[1;33m                 \u001b[1;32mreturn\u001b[0m \u001b[0mf\u001b[0m\u001b[1;33m(\u001b[0m\u001b[1;33m*\u001b[0m\u001b[0margs\u001b[0m\u001b[1;33m,\u001b[0m \u001b[1;33m**\u001b[0m\u001b[0mkwargs\u001b[0m\u001b[1;33m)\u001b[0m\u001b[1;33m\u001b[0m\u001b[1;33m\u001b[0m\u001b[0m\n\u001b[0m\u001b[0;32m     64\u001b[0m \u001b[1;33m\u001b[0m\u001b[0m\n\u001b[0;32m     65\u001b[0m             \u001b[1;31m# extra_args > 0\u001b[0m\u001b[1;33m\u001b[0m\u001b[1;33m\u001b[0m\u001b[1;33m\u001b[0m\u001b[0m\n",
      "\u001b[1;32mD:\\Downloads\\anaconda\\envs\\DR2\\lib\\site-packages\\sklearn\\metrics\\pairwise.py\u001b[0m in \u001b[0;36mpairwise_distances\u001b[1;34m(X, Y, metric, n_jobs, force_all_finite, **kwds)\u001b[0m\n\u001b[0;32m   1788\u001b[0m         \u001b[0mfunc\u001b[0m \u001b[1;33m=\u001b[0m \u001b[0mpartial\u001b[0m\u001b[1;33m(\u001b[0m\u001b[0mdistance\u001b[0m\u001b[1;33m.\u001b[0m\u001b[0mcdist\u001b[0m\u001b[1;33m,\u001b[0m \u001b[0mmetric\u001b[0m\u001b[1;33m=\u001b[0m\u001b[0mmetric\u001b[0m\u001b[1;33m,\u001b[0m \u001b[1;33m**\u001b[0m\u001b[0mkwds\u001b[0m\u001b[1;33m)\u001b[0m\u001b[1;33m\u001b[0m\u001b[1;33m\u001b[0m\u001b[0m\n\u001b[0;32m   1789\u001b[0m \u001b[1;33m\u001b[0m\u001b[0m\n\u001b[1;32m-> 1790\u001b[1;33m     \u001b[1;32mreturn\u001b[0m \u001b[0m_parallel_pairwise\u001b[0m\u001b[1;33m(\u001b[0m\u001b[0mX\u001b[0m\u001b[1;33m,\u001b[0m \u001b[0mY\u001b[0m\u001b[1;33m,\u001b[0m \u001b[0mfunc\u001b[0m\u001b[1;33m,\u001b[0m \u001b[0mn_jobs\u001b[0m\u001b[1;33m,\u001b[0m \u001b[1;33m**\u001b[0m\u001b[0mkwds\u001b[0m\u001b[1;33m)\u001b[0m\u001b[1;33m\u001b[0m\u001b[1;33m\u001b[0m\u001b[0m\n\u001b[0m\u001b[0;32m   1791\u001b[0m \u001b[1;33m\u001b[0m\u001b[0m\n\u001b[0;32m   1792\u001b[0m \u001b[1;33m\u001b[0m\u001b[0m\n",
      "\u001b[1;32mD:\\Downloads\\anaconda\\envs\\DR2\\lib\\site-packages\\sklearn\\metrics\\pairwise.py\u001b[0m in \u001b[0;36m_parallel_pairwise\u001b[1;34m(X, Y, func, n_jobs, **kwds)\u001b[0m\n\u001b[0;32m   1357\u001b[0m \u001b[1;33m\u001b[0m\u001b[0m\n\u001b[0;32m   1358\u001b[0m     \u001b[1;32mif\u001b[0m \u001b[0meffective_n_jobs\u001b[0m\u001b[1;33m(\u001b[0m\u001b[0mn_jobs\u001b[0m\u001b[1;33m)\u001b[0m \u001b[1;33m==\u001b[0m \u001b[1;36m1\u001b[0m\u001b[1;33m:\u001b[0m\u001b[1;33m\u001b[0m\u001b[1;33m\u001b[0m\u001b[0m\n\u001b[1;32m-> 1359\u001b[1;33m         \u001b[1;32mreturn\u001b[0m \u001b[0mfunc\u001b[0m\u001b[1;33m(\u001b[0m\u001b[0mX\u001b[0m\u001b[1;33m,\u001b[0m \u001b[0mY\u001b[0m\u001b[1;33m,\u001b[0m \u001b[1;33m**\u001b[0m\u001b[0mkwds\u001b[0m\u001b[1;33m)\u001b[0m\u001b[1;33m\u001b[0m\u001b[1;33m\u001b[0m\u001b[0m\n\u001b[0m\u001b[0;32m   1360\u001b[0m \u001b[1;33m\u001b[0m\u001b[0m\n\u001b[0;32m   1361\u001b[0m     \u001b[1;31m# enforce a threading backend to prevent data communication overhead\u001b[0m\u001b[1;33m\u001b[0m\u001b[1;33m\u001b[0m\u001b[1;33m\u001b[0m\u001b[0m\n",
      "\u001b[1;32mD:\\Downloads\\anaconda\\envs\\DR2\\lib\\site-packages\\sklearn\\utils\\validation.py\u001b[0m in \u001b[0;36minner_f\u001b[1;34m(*args, **kwargs)\u001b[0m\n\u001b[0;32m     61\u001b[0m             \u001b[0mextra_args\u001b[0m \u001b[1;33m=\u001b[0m \u001b[0mlen\u001b[0m\u001b[1;33m(\u001b[0m\u001b[0margs\u001b[0m\u001b[1;33m)\u001b[0m \u001b[1;33m-\u001b[0m \u001b[0mlen\u001b[0m\u001b[1;33m(\u001b[0m\u001b[0mall_args\u001b[0m\u001b[1;33m)\u001b[0m\u001b[1;33m\u001b[0m\u001b[1;33m\u001b[0m\u001b[0m\n\u001b[0;32m     62\u001b[0m             \u001b[1;32mif\u001b[0m \u001b[0mextra_args\u001b[0m \u001b[1;33m<=\u001b[0m \u001b[1;36m0\u001b[0m\u001b[1;33m:\u001b[0m\u001b[1;33m\u001b[0m\u001b[1;33m\u001b[0m\u001b[0m\n\u001b[1;32m---> 63\u001b[1;33m                 \u001b[1;32mreturn\u001b[0m \u001b[0mf\u001b[0m\u001b[1;33m(\u001b[0m\u001b[1;33m*\u001b[0m\u001b[0margs\u001b[0m\u001b[1;33m,\u001b[0m \u001b[1;33m**\u001b[0m\u001b[0mkwargs\u001b[0m\u001b[1;33m)\u001b[0m\u001b[1;33m\u001b[0m\u001b[1;33m\u001b[0m\u001b[0m\n\u001b[0m\u001b[0;32m     64\u001b[0m \u001b[1;33m\u001b[0m\u001b[0m\n\u001b[0;32m     65\u001b[0m             \u001b[1;31m# extra_args > 0\u001b[0m\u001b[1;33m\u001b[0m\u001b[1;33m\u001b[0m\u001b[1;33m\u001b[0m\u001b[0m\n",
      "\u001b[1;32mD:\\Downloads\\anaconda\\envs\\DR2\\lib\\site-packages\\sklearn\\metrics\\pairwise.py\u001b[0m in \u001b[0;36meuclidean_distances\u001b[1;34m(X, Y, Y_norm_squared, squared, X_norm_squared)\u001b[0m\n\u001b[0;32m    311\u001b[0m     \u001b[1;32melse\u001b[0m\u001b[1;33m:\u001b[0m\u001b[1;33m\u001b[0m\u001b[1;33m\u001b[0m\u001b[0m\n\u001b[0;32m    312\u001b[0m         \u001b[1;31m# if dtype is already float64, no need to chunk and upcast\u001b[0m\u001b[1;33m\u001b[0m\u001b[1;33m\u001b[0m\u001b[1;33m\u001b[0m\u001b[0m\n\u001b[1;32m--> 313\u001b[1;33m         \u001b[0mdistances\u001b[0m \u001b[1;33m=\u001b[0m \u001b[1;33m-\u001b[0m \u001b[1;36m2\u001b[0m \u001b[1;33m*\u001b[0m \u001b[0msafe_sparse_dot\u001b[0m\u001b[1;33m(\u001b[0m\u001b[0mX\u001b[0m\u001b[1;33m,\u001b[0m \u001b[0mY\u001b[0m\u001b[1;33m.\u001b[0m\u001b[0mT\u001b[0m\u001b[1;33m,\u001b[0m \u001b[0mdense_output\u001b[0m\u001b[1;33m=\u001b[0m\u001b[1;32mTrue\u001b[0m\u001b[1;33m)\u001b[0m\u001b[1;33m\u001b[0m\u001b[1;33m\u001b[0m\u001b[0m\n\u001b[0m\u001b[0;32m    314\u001b[0m         \u001b[0mdistances\u001b[0m \u001b[1;33m+=\u001b[0m \u001b[0mXX\u001b[0m\u001b[1;33m\u001b[0m\u001b[1;33m\u001b[0m\u001b[0m\n\u001b[0;32m    315\u001b[0m         \u001b[0mdistances\u001b[0m \u001b[1;33m+=\u001b[0m \u001b[0mYY\u001b[0m\u001b[1;33m\u001b[0m\u001b[1;33m\u001b[0m\u001b[0m\n",
      "\u001b[1;32mD:\\Downloads\\anaconda\\envs\\DR2\\lib\\site-packages\\sklearn\\utils\\validation.py\u001b[0m in \u001b[0;36minner_f\u001b[1;34m(*args, **kwargs)\u001b[0m\n\u001b[0;32m     61\u001b[0m             \u001b[0mextra_args\u001b[0m \u001b[1;33m=\u001b[0m \u001b[0mlen\u001b[0m\u001b[1;33m(\u001b[0m\u001b[0margs\u001b[0m\u001b[1;33m)\u001b[0m \u001b[1;33m-\u001b[0m \u001b[0mlen\u001b[0m\u001b[1;33m(\u001b[0m\u001b[0mall_args\u001b[0m\u001b[1;33m)\u001b[0m\u001b[1;33m\u001b[0m\u001b[1;33m\u001b[0m\u001b[0m\n\u001b[0;32m     62\u001b[0m             \u001b[1;32mif\u001b[0m \u001b[0mextra_args\u001b[0m \u001b[1;33m<=\u001b[0m \u001b[1;36m0\u001b[0m\u001b[1;33m:\u001b[0m\u001b[1;33m\u001b[0m\u001b[1;33m\u001b[0m\u001b[0m\n\u001b[1;32m---> 63\u001b[1;33m                 \u001b[1;32mreturn\u001b[0m \u001b[0mf\u001b[0m\u001b[1;33m(\u001b[0m\u001b[1;33m*\u001b[0m\u001b[0margs\u001b[0m\u001b[1;33m,\u001b[0m \u001b[1;33m**\u001b[0m\u001b[0mkwargs\u001b[0m\u001b[1;33m)\u001b[0m\u001b[1;33m\u001b[0m\u001b[1;33m\u001b[0m\u001b[0m\n\u001b[0m\u001b[0;32m     64\u001b[0m \u001b[1;33m\u001b[0m\u001b[0m\n\u001b[0;32m     65\u001b[0m             \u001b[1;31m# extra_args > 0\u001b[0m\u001b[1;33m\u001b[0m\u001b[1;33m\u001b[0m\u001b[1;33m\u001b[0m\u001b[0m\n",
      "\u001b[1;32mD:\\Downloads\\anaconda\\envs\\DR2\\lib\\site-packages\\sklearn\\utils\\extmath.py\u001b[0m in \u001b[0;36msafe_sparse_dot\u001b[1;34m(a, b, dense_output)\u001b[0m\n\u001b[0;32m    150\u001b[0m             \u001b[0mret\u001b[0m \u001b[1;33m=\u001b[0m \u001b[0mnp\u001b[0m\u001b[1;33m.\u001b[0m\u001b[0mdot\u001b[0m\u001b[1;33m(\u001b[0m\u001b[0ma\u001b[0m\u001b[1;33m,\u001b[0m \u001b[0mb\u001b[0m\u001b[1;33m)\u001b[0m\u001b[1;33m\u001b[0m\u001b[1;33m\u001b[0m\u001b[0m\n\u001b[0;32m    151\u001b[0m     \u001b[1;32melse\u001b[0m\u001b[1;33m:\u001b[0m\u001b[1;33m\u001b[0m\u001b[1;33m\u001b[0m\u001b[0m\n\u001b[1;32m--> 152\u001b[1;33m         \u001b[0mret\u001b[0m \u001b[1;33m=\u001b[0m \u001b[0ma\u001b[0m \u001b[1;33m@\u001b[0m \u001b[0mb\u001b[0m\u001b[1;33m\u001b[0m\u001b[1;33m\u001b[0m\u001b[0m\n\u001b[0m\u001b[0;32m    153\u001b[0m \u001b[1;33m\u001b[0m\u001b[0m\n\u001b[0;32m    154\u001b[0m     if (sparse.issparse(a) and sparse.issparse(b)\n",
      "\u001b[1;31mKeyboardInterrupt\u001b[0m: "
     ]
    }
   ],
   "source": [
    "from sklearn.manifold import trustworthiness\n",
    "knns = [10,20,30,50]\n",
    "for k in knns:\n",
    "    trustworthiness = trustworthiness(fitting_data, low_fitting, n_neighbors=k, metric='euclidean')\n",
    "    print(k,trustworthiness)"
   ]
  },
  {
   "cell_type": "code",
   "execution_count": 17,
   "metadata": {},
   "outputs": [
    {
     "name": "stdout",
     "output_type": "stream",
     "text": [
      "Wed Jan 27 19:18:50 2021 Building RP forest with 17 trees\n",
      "Wed Jan 27 19:18:54 2021 NN descent for 16 iterations\n",
      "\t 1  /  16\n",
      "\t 2  /  16\n",
      "\t 3  /  16\n",
      "\tStopping threshold met -- exiting after 3 iterations\n",
      "Wed Jan 27 19:18:56 2021 Building RP forest with 17 trees\n",
      "Wed Jan 27 19:18:56 2021 NN descent for 16 iterations\n",
      "\t 1  /  16\n",
      "\t 2  /  16\n",
      "\tStopping threshold met -- exiting after 2 iterations\n"
     ]
    },
    {
     "data": {
      "text/plain": [
       "(1.7735, 9.0, 1.0)"
      ]
     },
     "execution_count": 17,
     "metadata": {},
     "output_type": "execute_result"
    }
   ],
   "source": [
    "from pynndescent import NNDescent\n",
    "# get nearest neighbors\n",
    "nnd = NNDescent(\n",
    "    fitting_data,\n",
    "    n_neighbors=10,\n",
    "    metric=metric,\n",
    "    n_trees=n_trees,\n",
    "    n_iters=n_iters,\n",
    "    max_candidates=60,\n",
    "    verbose=True\n",
    ")\n",
    "high_ind, _ = nnd.neighbor_graph\n",
    "nnd = NNDescent(\n",
    "    low_fitting,\n",
    "    n_neighbors=10,\n",
    "    metric=metric,\n",
    "    n_trees=n_trees,\n",
    "    n_iters=n_iters,\n",
    "    max_candidates=60,\n",
    "    verbose=True\n",
    ")\n",
    "low_ind, _ = nnd.neighbor_graph\n",
    "\n",
    "border_pres = np.zeros(len(test_data))\n",
    "train_num = len(train_data)\n",
    "test_num = len(fitting_data)\n",
    "for i in range(train_num,test_num,1):\n",
    "    border_pres[i-train_num] = len(np.intersect1d(high_ind[i],low_ind[i]))\n",
    "# tptp K=20\n",
    "border_pres.mean(), border_pres.max(),border_pres.min()"
   ]
  },
  {
   "cell_type": "code",
   "execution_count": 18,
   "metadata": {},
   "outputs": [
    {
     "name": "stdout",
     "output_type": "stream",
     "text": [
      "Wed Jan 27 19:18:58 2021 Building RP forest with 17 trees\n",
      "Wed Jan 27 19:19:02 2021 NN descent for 16 iterations\n",
      "\t 1  /  16\n",
      "\t 2  /  16\n",
      "\tStopping threshold met -- exiting after 2 iterations\n",
      "Wed Jan 27 19:19:05 2021 Building RP forest with 17 trees\n",
      "Wed Jan 27 19:19:05 2021 NN descent for 16 iterations\n",
      "\t 1  /  16\n",
      "\t 2  /  16\n",
      "\tStopping threshold met -- exiting after 2 iterations\n"
     ]
    },
    {
     "data": {
      "text/plain": [
       "(3.4119, 17.0, 1.0)"
      ]
     },
     "execution_count": 18,
     "metadata": {},
     "output_type": "execute_result"
    }
   ],
   "source": [
    "from pynndescent import NNDescent\n",
    "# get nearest neighbors\n",
    "nnd = NNDescent(\n",
    "    fitting_data,\n",
    "    n_neighbors=20,\n",
    "    metric=metric,\n",
    "    n_trees=n_trees,\n",
    "    n_iters=n_iters,\n",
    "    max_candidates=60,\n",
    "    verbose=True\n",
    ")\n",
    "high_ind, _ = nnd.neighbor_graph\n",
    "nnd = NNDescent(\n",
    "    low_fitting,\n",
    "    n_neighbors=20,\n",
    "    metric=metric,\n",
    "    n_trees=n_trees,\n",
    "    n_iters=n_iters,\n",
    "    max_candidates=60,\n",
    "    verbose=True\n",
    ")\n",
    "low_ind, _ = nnd.neighbor_graph\n",
    "\n",
    "border_pres = np.zeros(len(test_data))\n",
    "train_num = len(train_data)\n",
    "test_num = len(fitting_data)\n",
    "for i in range(train_num,test_num,1):\n",
    "    border_pres[i-train_num] = len(np.intersect1d(high_ind[i],low_ind[i]))\n",
    "# tptp K=20\n",
    "border_pres.mean(), border_pres.max(),border_pres.min()"
   ]
  },
  {
   "cell_type": "code",
   "execution_count": 19,
   "metadata": {},
   "outputs": [
    {
     "name": "stdout",
     "output_type": "stream",
     "text": [
      "Wed Jan 27 19:19:07 2021 Building RP forest with 17 trees\n",
      "Wed Jan 27 19:19:11 2021 NN descent for 16 iterations\n",
      "\t 1  /  16\n",
      "\t 2  /  16\n",
      "\tStopping threshold met -- exiting after 2 iterations\n",
      "Wed Jan 27 19:19:16 2021 Building RP forest with 17 trees\n",
      "Wed Jan 27 19:19:16 2021 NN descent for 16 iterations\n",
      "\t 1  /  16\n",
      "\t 2  /  16\n",
      "\tStopping threshold met -- exiting after 2 iterations\n"
     ]
    },
    {
     "data": {
      "text/plain": [
       "(5.5643, 27.0, 1.0)"
      ]
     },
     "execution_count": 19,
     "metadata": {},
     "output_type": "execute_result"
    }
   ],
   "source": [
    "from pynndescent import NNDescent\n",
    "# get nearest neighbors\n",
    "nnd = NNDescent(\n",
    "    fitting_data,\n",
    "    n_neighbors=30,\n",
    "    metric=metric,\n",
    "    n_trees=n_trees,\n",
    "    n_iters=n_iters,\n",
    "    max_candidates=60,\n",
    "    verbose=True\n",
    ")\n",
    "high_ind, _ = nnd.neighbor_graph\n",
    "nnd = NNDescent(\n",
    "    low_fitting,\n",
    "    n_neighbors=30,\n",
    "    metric=metric,\n",
    "    n_trees=n_trees,\n",
    "    n_iters=n_iters,\n",
    "    max_candidates=60,\n",
    "    verbose=True\n",
    ")\n",
    "low_ind, _ = nnd.neighbor_graph\n",
    "\n",
    "border_pres = np.zeros(len(test_data))\n",
    "train_num = len(train_data)\n",
    "test_num = len(fitting_data)\n",
    "for i in range(train_num,test_num,1):\n",
    "    border_pres[i-train_num] = len(np.intersect1d(high_ind[i],low_ind[i]))\n",
    "# tptp K=30\n",
    "border_pres.mean(), border_pres.max(),border_pres.min()"
   ]
  },
  {
   "cell_type": "code",
   "execution_count": 21,
   "metadata": {
    "scrolled": false
   },
   "outputs": [
    {
     "name": "stdout",
     "output_type": "stream",
     "text": [
      "Wed Jan 27 19:19:48 2021 Building RP forest with 17 trees\n",
      "Wed Jan 27 19:19:51 2021 NN descent for 16 iterations\n",
      "\t 1  /  16\n",
      "\t 2  /  16\n",
      "\tStopping threshold met -- exiting after 2 iterations\n",
      "Wed Jan 27 19:20:07 2021 Building RP forest with 17 trees\n",
      "Wed Jan 27 19:20:07 2021 NN descent for 16 iterations\n",
      "\t 1  /  16\n",
      "\t 2  /  16\n",
      "\tStopping threshold met -- exiting after 2 iterations\n"
     ]
    },
    {
     "data": {
      "text/plain": [
       "(10.9179, 47.0, 1.0)"
      ]
     },
     "execution_count": 21,
     "metadata": {},
     "output_type": "execute_result"
    }
   ],
   "source": [
    "from pynndescent import NNDescent\n",
    "# get nearest neighbors\n",
    "nnd = NNDescent(\n",
    "    fitting_data,\n",
    "    n_neighbors=50,\n",
    "    metric=metric,\n",
    "    n_trees=n_trees,\n",
    "    n_iters=n_iters,\n",
    "    max_candidates=60,\n",
    "    verbose=True\n",
    ")\n",
    "high_ind, _ = nnd.neighbor_graph\n",
    "nnd = NNDescent(\n",
    "    low_fitting,\n",
    "    n_neighbors=50,\n",
    "    metric=metric,\n",
    "    n_trees=n_trees,\n",
    "    n_iters=n_iters,\n",
    "    max_candidates=60,\n",
    "    verbose=True\n",
    ")\n",
    "low_ind, _ = nnd.neighbor_graph\n",
    "\n",
    "border_pres = np.zeros(len(test_data))\n",
    "train_num = len(train_data)\n",
    "test_num = len(fitting_data)\n",
    "for i in range(train_num,test_num,1):\n",
    "    border_pres[i-train_num] = len(np.intersect1d(high_ind[i],low_ind[i]))\n",
    "# tptp K=50\n",
    "border_pres.mean(), border_pres.max(),border_pres.min()"
   ]
  },
  {
   "cell_type": "markdown",
   "metadata": {},
   "source": [
    "### M_<mixed_symmetric_complex, k=15> (core)"
   ]
  },
  {
   "cell_type": "code",
   "execution_count": 6,
   "metadata": {},
   "outputs": [
    {
     "name": "stdout",
     "output_type": "stream",
     "text": [
      "WARNING:tensorflow:No training configuration found in save file, so the model was *not* compiled. Compile it manually.\n",
      "Keras encoder model loaded from parametric_umap_models\\dbp_exp\\encoder_mixed_complex_symmetric_15\n"
     ]
    }
   ],
   "source": [
    "import os\n",
    "save_location = \"parametric_umap_models\\dbp_exp\"\n",
    "# load model\n",
    "# load encoder\n",
    "encoder_output = os.path.join(save_location, \"encoder_mixed_complex_symmetric_15\")\n",
    "if os.path.exists(encoder_output):\n",
    "    load_encoder = tf.keras.models.load_model(encoder_output)\n",
    "    print(\"Keras encoder model loaded from {}\".format(encoder_output))"
   ]
  },
  {
   "cell_type": "markdown",
   "metadata": {},
   "source": [
    "#### train"
   ]
  },
  {
   "cell_type": "code",
   "execution_count": 7,
   "metadata": {},
   "outputs": [],
   "source": [
    "# number of trees in random projection forest\n",
    "n_trees = 5 + int(round((train_data.shape[0]) ** 0.5 / 20.0))\n",
    "# max number of nearest neighbor iters to perform\n",
    "n_iters = max(5, int(round(np.log2(train_data.shape[0]))))\n",
    "# distance metric\n",
    "metric = \"euclidean\""
   ]
  },
  {
   "cell_type": "code",
   "execution_count": 8,
   "metadata": {},
   "outputs": [
    {
     "name": "stdout",
     "output_type": "stream",
     "text": [
      "WARNING:tensorflow:From <ipython-input-8-c3f5e7a4f4d7>:1: _EagerTensorBase.cpu (from tensorflow.python.framework.ops) is deprecated and will be removed in a future version.\n",
      "Instructions for updating:\n",
      "Use tf.identity instead.\n"
     ]
    }
   ],
   "source": [
    "low_train = load_encoder(train_data).cpu().numpy()"
   ]
  },
  {
   "cell_type": "code",
   "execution_count": null,
   "metadata": {},
   "outputs": [],
   "source": [
    "from sklearn.manifold import trustworthiness\n",
    "knns = [10,20,30,50]\n",
    "for k in knns:\n",
    "    t = trustworthiness(train_data, low_train, n_neighbors=int(k), metric='euclidean')\n",
    "    print(k,t)"
   ]
  },
  {
   "cell_type": "code",
   "execution_count": 9,
   "metadata": {},
   "outputs": [
    {
     "name": "stdout",
     "output_type": "stream",
     "text": [
      "Thu Jan 28 22:05:16 2021 Building RP forest with 16 trees\n",
      "Thu Jan 28 22:05:19 2021 NN descent for 16 iterations\n",
      "\t 1  /  16\n",
      "\t 2  /  16\n",
      "\t 3  /  16\n",
      "\tStopping threshold met -- exiting after 3 iterations\n",
      "Thu Jan 28 22:05:30 2021 Building RP forest with 16 trees\n",
      "Thu Jan 28 22:05:30 2021 NN descent for 16 iterations\n",
      "\t 1  /  16\n",
      "\t 2  /  16\n",
      "\tStopping threshold met -- exiting after 2 iterations\n"
     ]
    },
    {
     "data": {
      "text/plain": [
       "(1.79224, 10.0, 1.0)"
      ]
     },
     "execution_count": 9,
     "metadata": {},
     "output_type": "execute_result"
    }
   ],
   "source": [
    "from pynndescent import NNDescent\n",
    "# get nearest neighbors\n",
    "nnd = NNDescent(\n",
    "    train_data,\n",
    "    n_neighbors=10,\n",
    "    metric=metric,\n",
    "    n_trees=n_trees,\n",
    "    n_iters=n_iters,\n",
    "    max_candidates=60,\n",
    "    verbose=True\n",
    ")\n",
    "high_ind, _ = nnd.neighbor_graph\n",
    "nnd = NNDescent(\n",
    "    low_train,\n",
    "    n_neighbors=10,\n",
    "    metric=metric,\n",
    "    n_trees=n_trees,\n",
    "    n_iters=n_iters,\n",
    "    max_candidates=60,\n",
    "    verbose=True\n",
    ")\n",
    "low_ind, _ = nnd.neighbor_graph\n",
    "\n",
    "border_pres = np.zeros(len(train_data))\n",
    "for i in range(len(train_data)):\n",
    "    border_pres[i] = len(np.intersect1d(high_ind[i],low_ind[i]))\n",
    "# tptp K=10\n",
    "border_pres.mean(), border_pres.max(),border_pres.min()"
   ]
  },
  {
   "cell_type": "code",
   "execution_count": 10,
   "metadata": {},
   "outputs": [
    {
     "name": "stdout",
     "output_type": "stream",
     "text": [
      "Thu Jan 28 22:05:32 2021 Building RP forest with 16 trees\n",
      "Thu Jan 28 22:05:35 2021 NN descent for 16 iterations\n",
      "\t 1  /  16\n",
      "\t 2  /  16\n",
      "\tStopping threshold met -- exiting after 2 iterations\n",
      "Thu Jan 28 22:05:37 2021 Building RP forest with 16 trees\n",
      "Thu Jan 28 22:05:37 2021 NN descent for 16 iterations\n",
      "\t 1  /  16\n",
      "\t 2  /  16\n",
      "\tStopping threshold met -- exiting after 2 iterations\n"
     ]
    },
    {
     "data": {
      "text/plain": [
       "(3.50454, 18.0, 1.0)"
      ]
     },
     "execution_count": 10,
     "metadata": {},
     "output_type": "execute_result"
    }
   ],
   "source": [
    "from pynndescent import NNDescent\n",
    "# get nearest neighbors\n",
    "nnd = NNDescent(\n",
    "    train_data,\n",
    "    n_neighbors=20,\n",
    "    metric=metric,\n",
    "    n_trees=n_trees,\n",
    "    n_iters=n_iters,\n",
    "    max_candidates=60,\n",
    "    verbose=True\n",
    ")\n",
    "high_ind, _ = nnd.neighbor_graph\n",
    "nnd = NNDescent(\n",
    "    low_train,\n",
    "    n_neighbors=20,\n",
    "    metric=metric,\n",
    "    n_trees=n_trees,\n",
    "    n_iters=n_iters,\n",
    "    max_candidates=60,\n",
    "    verbose=True\n",
    ")\n",
    "low_ind, _ = nnd.neighbor_graph\n",
    "border_pres = np.zeros(len(train_data))\n",
    "for i in range(len(train_data)):\n",
    "    border_pres[i] = len(np.intersect1d(high_ind[i],low_ind[i]))\n",
    "# tptp K=20\n",
    "border_pres.mean(), border_pres.max(),border_pres.min()"
   ]
  },
  {
   "cell_type": "code",
   "execution_count": 11,
   "metadata": {},
   "outputs": [
    {
     "name": "stdout",
     "output_type": "stream",
     "text": [
      "Thu Jan 28 22:05:39 2021 Building RP forest with 16 trees\n",
      "Thu Jan 28 22:05:42 2021 NN descent for 16 iterations\n",
      "\t 1  /  16\n",
      "\t 2  /  16\n",
      "\tStopping threshold met -- exiting after 2 iterations\n",
      "Thu Jan 28 22:05:46 2021 Building RP forest with 16 trees\n",
      "Thu Jan 28 22:05:46 2021 NN descent for 16 iterations\n",
      "\t 1  /  16\n",
      "\t 2  /  16\n",
      "\tStopping threshold met -- exiting after 2 iterations\n"
     ]
    },
    {
     "data": {
      "text/plain": [
       "(5.73086, 28.0, 1.0)"
      ]
     },
     "execution_count": 11,
     "metadata": {},
     "output_type": "execute_result"
    }
   ],
   "source": [
    "from pynndescent import NNDescent\n",
    "# get nearest neighbors\n",
    "nnd = NNDescent(\n",
    "    train_data,\n",
    "    n_neighbors=30,\n",
    "    metric=metric,\n",
    "    n_trees=n_trees,\n",
    "    n_iters=n_iters,\n",
    "    max_candidates=60,\n",
    "    verbose=True\n",
    ")\n",
    "high_ind, _ = nnd.neighbor_graph\n",
    "low_train = load_encoder(train_data).cpu().numpy()\n",
    "nnd = NNDescent(\n",
    "    low_train,\n",
    "    n_neighbors=30,\n",
    "    metric=metric,\n",
    "    n_trees=n_trees,\n",
    "    n_iters=n_iters,\n",
    "    max_candidates=60,\n",
    "    verbose=True\n",
    ")\n",
    "low_ind, _ = nnd.neighbor_graph\n",
    "border_pres = np.zeros(len(train_data))\n",
    "for i in range(len(train_data)):\n",
    "    border_pres[i] = len(np.intersect1d(high_ind[i],low_ind[i]))\n",
    "# tptp K=30\n",
    "border_pres.mean(), border_pres.max(),border_pres.min()"
   ]
  },
  {
   "cell_type": "code",
   "execution_count": 12,
   "metadata": {},
   "outputs": [
    {
     "name": "stdout",
     "output_type": "stream",
     "text": [
      "Thu Jan 28 22:05:48 2021 Building RP forest with 16 trees\n",
      "Thu Jan 28 22:05:51 2021 NN descent for 16 iterations\n",
      "\t 1  /  16\n",
      "\t 2  /  16\n",
      "\tStopping threshold met -- exiting after 2 iterations\n",
      "Thu Jan 28 22:06:02 2021 Building RP forest with 16 trees\n",
      "Thu Jan 28 22:06:03 2021 NN descent for 16 iterations\n",
      "\t 1  /  16\n",
      "\t 2  /  16\n",
      "\tStopping threshold met -- exiting after 2 iterations\n"
     ]
    },
    {
     "data": {
      "text/plain": [
       "(11.2848, 45.0, 1.0)"
      ]
     },
     "execution_count": 12,
     "metadata": {},
     "output_type": "execute_result"
    }
   ],
   "source": [
    "from pynndescent import NNDescent\n",
    "# get nearest neighbors\n",
    "nnd = NNDescent(\n",
    "    train_data,\n",
    "    n_neighbors=50,\n",
    "    metric=metric,\n",
    "    n_trees=n_trees,\n",
    "    n_iters=n_iters,\n",
    "    max_candidates=60,\n",
    "    verbose=True\n",
    ")\n",
    "high_ind, _ = nnd.neighbor_graph\n",
    "low_train = load_encoder(train_data).cpu().numpy()\n",
    "nnd = NNDescent(\n",
    "    low_train,\n",
    "    n_neighbors=50,\n",
    "    metric=metric,\n",
    "    n_trees=n_trees,\n",
    "    n_iters=n_iters,\n",
    "    max_candidates=60,\n",
    "    verbose=True\n",
    ")\n",
    "low_ind, _ = nnd.neighbor_graph\n",
    "border_pres = np.zeros(len(train_data))\n",
    "for i in range(len(train_data)):\n",
    "    border_pres[i] = len(np.intersect1d(high_ind[i],low_ind[i]))\n",
    "# tptp K=50\n",
    "border_pres.mean(), border_pres.max(),border_pres.min()"
   ]
  },
  {
   "cell_type": "markdown",
   "metadata": {},
   "source": [
    "#### test"
   ]
  },
  {
   "cell_type": "code",
   "execution_count": 13,
   "metadata": {},
   "outputs": [],
   "source": [
    "fitting_data =  np.concatenate((train_data, test_data), axis=0)"
   ]
  },
  {
   "cell_type": "code",
   "execution_count": 14,
   "metadata": {},
   "outputs": [],
   "source": [
    "# number of trees in random projection forest\n",
    "n_trees = 5 + int(round((fitting_data.shape[0]) ** 0.5 / 20.0))\n",
    "# max number of nearest neighbor iters to perform\n",
    "n_iters = max(5, int(round(np.log2(fitting_data.shape[0]))))\n",
    "# distance metric\n",
    "metric = \"euclidean\""
   ]
  },
  {
   "cell_type": "code",
   "execution_count": 15,
   "metadata": {},
   "outputs": [],
   "source": [
    "low_fitting = load_encoder(fitting_data).cpu().numpy()"
   ]
  },
  {
   "cell_type": "code",
   "execution_count": null,
   "metadata": {},
   "outputs": [],
   "source": [
    "from sklearn.manifold import trustworthiness\n",
    "knns = [10,20,30,50]\n",
    "for k in knns:\n",
    "    trustworthiness = trustworthiness(fitting_data, low_fitting, n_neighbors=k, metric='euclidean')\n",
    "    print(k,trustworthiness)"
   ]
  },
  {
   "cell_type": "code",
   "execution_count": 16,
   "metadata": {},
   "outputs": [
    {
     "name": "stdout",
     "output_type": "stream",
     "text": [
      "Thu Jan 28 22:06:11 2021 Building RP forest with 17 trees\n",
      "Thu Jan 28 22:06:15 2021 NN descent for 16 iterations\n",
      "\t 1  /  16\n",
      "\t 2  /  16\n",
      "\t 3  /  16\n",
      "\tStopping threshold met -- exiting after 3 iterations\n",
      "Thu Jan 28 22:06:16 2021 Building RP forest with 17 trees\n",
      "Thu Jan 28 22:06:16 2021 NN descent for 16 iterations\n",
      "\t 1  /  16\n",
      "\t 2  /  16\n",
      "\tStopping threshold met -- exiting after 2 iterations\n"
     ]
    },
    {
     "data": {
      "text/plain": [
       "(1.7477, 9.0, 1.0)"
      ]
     },
     "execution_count": 16,
     "metadata": {},
     "output_type": "execute_result"
    }
   ],
   "source": [
    "from pynndescent import NNDescent\n",
    "# get nearest neighbors\n",
    "nnd = NNDescent(\n",
    "    fitting_data,\n",
    "    n_neighbors=10,\n",
    "    metric=metric,\n",
    "    n_trees=n_trees,\n",
    "    n_iters=n_iters,\n",
    "    max_candidates=60,\n",
    "    verbose=True\n",
    ")\n",
    "high_ind, _ = nnd.neighbor_graph\n",
    "nnd = NNDescent(\n",
    "    low_fitting,\n",
    "    n_neighbors=10,\n",
    "    metric=metric,\n",
    "    n_trees=n_trees,\n",
    "    n_iters=n_iters,\n",
    "    max_candidates=60,\n",
    "    verbose=True\n",
    ")\n",
    "low_ind, _ = nnd.neighbor_graph\n",
    "\n",
    "border_pres = np.zeros(len(test_data))\n",
    "train_num = len(train_data)\n",
    "test_num = len(fitting_data)\n",
    "for i in range(train_num,test_num,1):\n",
    "    border_pres[i-train_num] = len(np.intersect1d(high_ind[i],low_ind[i]))\n",
    "# tptp K=20\n",
    "border_pres.mean(), border_pres.max(),border_pres.min()"
   ]
  },
  {
   "cell_type": "code",
   "execution_count": 17,
   "metadata": {},
   "outputs": [
    {
     "name": "stdout",
     "output_type": "stream",
     "text": [
      "Thu Jan 28 22:06:18 2021 Building RP forest with 17 trees\n",
      "Thu Jan 28 22:06:21 2021 NN descent for 16 iterations\n",
      "\t 1  /  16\n",
      "\t 2  /  16\n",
      "\tStopping threshold met -- exiting after 2 iterations\n",
      "Thu Jan 28 22:06:24 2021 Building RP forest with 17 trees\n",
      "Thu Jan 28 22:06:24 2021 NN descent for 16 iterations\n",
      "\t 1  /  16\n",
      "\t 2  /  16\n",
      "\tStopping threshold met -- exiting after 2 iterations\n"
     ]
    },
    {
     "data": {
      "text/plain": [
       "(3.354, 18.0, 1.0)"
      ]
     },
     "execution_count": 17,
     "metadata": {},
     "output_type": "execute_result"
    }
   ],
   "source": [
    "from pynndescent import NNDescent\n",
    "# get nearest neighbors\n",
    "nnd = NNDescent(\n",
    "    fitting_data,\n",
    "    n_neighbors=20,\n",
    "    metric=metric,\n",
    "    n_trees=n_trees,\n",
    "    n_iters=n_iters,\n",
    "    max_candidates=60,\n",
    "    verbose=True\n",
    ")\n",
    "high_ind, _ = nnd.neighbor_graph\n",
    "nnd = NNDescent(\n",
    "    low_fitting,\n",
    "    n_neighbors=20,\n",
    "    metric=metric,\n",
    "    n_trees=n_trees,\n",
    "    n_iters=n_iters,\n",
    "    max_candidates=60,\n",
    "    verbose=True\n",
    ")\n",
    "low_ind, _ = nnd.neighbor_graph\n",
    "\n",
    "border_pres = np.zeros(len(test_data))\n",
    "train_num = len(train_data)\n",
    "test_num = len(fitting_data)\n",
    "for i in range(train_num,test_num,1):\n",
    "    border_pres[i-train_num] = len(np.intersect1d(high_ind[i],low_ind[i]))\n",
    "# tptp K=20\n",
    "border_pres.mean(), border_pres.max(),border_pres.min()"
   ]
  },
  {
   "cell_type": "code",
   "execution_count": 18,
   "metadata": {},
   "outputs": [
    {
     "name": "stdout",
     "output_type": "stream",
     "text": [
      "Thu Jan 28 22:06:25 2021 Building RP forest with 17 trees\n",
      "Thu Jan 28 22:06:29 2021 NN descent for 16 iterations\n",
      "\t 1  /  16\n",
      "\t 2  /  16\n",
      "\tStopping threshold met -- exiting after 2 iterations\n",
      "Thu Jan 28 22:06:34 2021 Building RP forest with 17 trees\n",
      "Thu Jan 28 22:06:34 2021 NN descent for 16 iterations\n",
      "\t 1  /  16\n",
      "\t 2  /  16\n",
      "\tStopping threshold met -- exiting after 2 iterations\n"
     ]
    },
    {
     "data": {
      "text/plain": [
       "(5.4236, 26.0, 1.0)"
      ]
     },
     "execution_count": 18,
     "metadata": {},
     "output_type": "execute_result"
    }
   ],
   "source": [
    "from pynndescent import NNDescent\n",
    "# get nearest neighbors\n",
    "nnd = NNDescent(\n",
    "    fitting_data,\n",
    "    n_neighbors=30,\n",
    "    metric=metric,\n",
    "    n_trees=n_trees,\n",
    "    n_iters=n_iters,\n",
    "    max_candidates=60,\n",
    "    verbose=True\n",
    ")\n",
    "high_ind, _ = nnd.neighbor_graph\n",
    "nnd = NNDescent(\n",
    "    low_fitting,\n",
    "    n_neighbors=30,\n",
    "    metric=metric,\n",
    "    n_trees=n_trees,\n",
    "    n_iters=n_iters,\n",
    "    max_candidates=60,\n",
    "    verbose=True\n",
    ")\n",
    "low_ind, _ = nnd.neighbor_graph\n",
    "\n",
    "border_pres = np.zeros(len(test_data))\n",
    "train_num = len(train_data)\n",
    "test_num = len(fitting_data)\n",
    "for i in range(train_num,test_num,1):\n",
    "    border_pres[i-train_num] = len(np.intersect1d(high_ind[i],low_ind[i]))\n",
    "# tptp K=30\n",
    "border_pres.mean(), border_pres.max(),border_pres.min()"
   ]
  },
  {
   "cell_type": "code",
   "execution_count": 19,
   "metadata": {
    "scrolled": false
   },
   "outputs": [
    {
     "name": "stdout",
     "output_type": "stream",
     "text": [
      "Thu Jan 28 22:06:36 2021 Building RP forest with 17 trees\n",
      "Thu Jan 28 22:06:40 2021 NN descent for 16 iterations\n",
      "\t 1  /  16\n",
      "\t 2  /  16\n",
      "\tStopping threshold met -- exiting after 2 iterations\n",
      "Thu Jan 28 22:06:54 2021 Building RP forest with 17 trees\n",
      "Thu Jan 28 22:06:54 2021 NN descent for 16 iterations\n",
      "\t 1  /  16\n",
      "\t 2  /  16\n",
      "\tStopping threshold met -- exiting after 2 iterations\n"
     ]
    },
    {
     "data": {
      "text/plain": [
       "(10.5396, 43.0, 1.0)"
      ]
     },
     "execution_count": 19,
     "metadata": {},
     "output_type": "execute_result"
    }
   ],
   "source": [
    "from pynndescent import NNDescent\n",
    "# get nearest neighbors\n",
    "nnd = NNDescent(\n",
    "    fitting_data,\n",
    "    n_neighbors=50,\n",
    "    metric=metric,\n",
    "    n_trees=n_trees,\n",
    "    n_iters=n_iters,\n",
    "    max_candidates=60,\n",
    "    verbose=True\n",
    ")\n",
    "high_ind, _ = nnd.neighbor_graph\n",
    "nnd = NNDescent(\n",
    "    low_fitting,\n",
    "    n_neighbors=50,\n",
    "    metric=metric,\n",
    "    n_trees=n_trees,\n",
    "    n_iters=n_iters,\n",
    "    max_candidates=60,\n",
    "    verbose=True\n",
    ")\n",
    "low_ind, _ = nnd.neighbor_graph\n",
    "\n",
    "border_pres = np.zeros(len(test_data))\n",
    "train_num = len(train_data)\n",
    "test_num = len(fitting_data)\n",
    "for i in range(train_num,test_num,1):\n",
    "    border_pres[i-train_num] = len(np.intersect1d(high_ind[i],low_ind[i]))\n",
    "# tptp K=50\n",
    "border_pres.mean(), border_pres.max(),border_pres.min()"
   ]
  },
  {
   "cell_type": "markdown",
   "metadata": {},
   "source": [
    "### M_<mixed_symmetric_complex, k=15> (core) 4 hidden layers"
   ]
  },
  {
   "cell_type": "code",
   "execution_count": 6,
   "metadata": {},
   "outputs": [
    {
     "name": "stdout",
     "output_type": "stream",
     "text": [
      "WARNING:tensorflow:No training configuration found in save file, so the model was *not* compiled. Compile it manually.\n",
      "Keras encoder model loaded from parametric_umap_models\\dbp_exp\\encoder_mixed_complex_symmetric_15_4h\n"
     ]
    }
   ],
   "source": [
    "import os\n",
    "save_location = \"parametric_umap_models\\dbp_exp\"\n",
    "# load model\n",
    "# load encoder\n",
    "encoder_output = os.path.join(save_location, \"encoder_mixed_complex_symmetric_15_4h\")\n",
    "if os.path.exists(encoder_output):\n",
    "    load_encoder = tf.keras.models.load_model(encoder_output)\n",
    "    print(\"Keras encoder model loaded from {}\".format(encoder_output))"
   ]
  },
  {
   "cell_type": "markdown",
   "metadata": {},
   "source": [
    "#### train"
   ]
  },
  {
   "cell_type": "code",
   "execution_count": 7,
   "metadata": {},
   "outputs": [],
   "source": [
    "# number of trees in random projection forest\n",
    "n_trees = 5 + int(round((train_data.shape[0]) ** 0.5 / 20.0))\n",
    "# max number of nearest neighbor iters to perform\n",
    "n_iters = max(5, int(round(np.log2(train_data.shape[0]))))\n",
    "# distance metric\n",
    "metric = \"euclidean\""
   ]
  },
  {
   "cell_type": "code",
   "execution_count": 8,
   "metadata": {},
   "outputs": [
    {
     "name": "stdout",
     "output_type": "stream",
     "text": [
      "WARNING:tensorflow:From <ipython-input-8-c3f5e7a4f4d7>:1: _EagerTensorBase.cpu (from tensorflow.python.framework.ops) is deprecated and will be removed in a future version.\n",
      "Instructions for updating:\n",
      "Use tf.identity instead.\n"
     ]
    }
   ],
   "source": [
    "low_train = load_encoder(train_data).cpu().numpy()"
   ]
  },
  {
   "cell_type": "code",
   "execution_count": null,
   "metadata": {},
   "outputs": [],
   "source": [
    "from sklearn.manifold import trustworthiness\n",
    "knns = [10,20,30,50]\n",
    "for k in knns:\n",
    "    t = trustworthiness(train_data, low_train, n_neighbors=int(k), metric='euclidean')\n",
    "    print(k,t)"
   ]
  },
  {
   "cell_type": "code",
   "execution_count": 9,
   "metadata": {},
   "outputs": [
    {
     "name": "stdout",
     "output_type": "stream",
     "text": [
      "Fri Jan 29 01:50:50 2021 Building RP forest with 16 trees\n",
      "Fri Jan 29 01:50:53 2021 NN descent for 16 iterations\n",
      "\t 1  /  16\n",
      "\t 2  /  16\n",
      "\t 3  /  16\n",
      "\tStopping threshold met -- exiting after 3 iterations\n",
      "Fri Jan 29 01:51:05 2021 Building RP forest with 16 trees\n",
      "Fri Jan 29 01:51:05 2021 NN descent for 16 iterations\n",
      "\t 1  /  16\n",
      "\t 2  /  16\n",
      "\tStopping threshold met -- exiting after 2 iterations\n"
     ]
    },
    {
     "data": {
      "text/plain": [
       "(1.88142, 10.0, 1.0)"
      ]
     },
     "execution_count": 9,
     "metadata": {},
     "output_type": "execute_result"
    }
   ],
   "source": [
    "from pynndescent import NNDescent\n",
    "# get nearest neighbors\n",
    "nnd = NNDescent(\n",
    "    train_data,\n",
    "    n_neighbors=10,\n",
    "    metric=metric,\n",
    "    n_trees=n_trees,\n",
    "    n_iters=n_iters,\n",
    "    max_candidates=60,\n",
    "    verbose=True\n",
    ")\n",
    "high_ind, _ = nnd.neighbor_graph\n",
    "nnd = NNDescent(\n",
    "    low_train,\n",
    "    n_neighbors=10,\n",
    "    metric=metric,\n",
    "    n_trees=n_trees,\n",
    "    n_iters=n_iters,\n",
    "    max_candidates=60,\n",
    "    verbose=True\n",
    ")\n",
    "low_ind, _ = nnd.neighbor_graph\n",
    "\n",
    "border_pres = np.zeros(len(train_data))\n",
    "for i in range(len(train_data)):\n",
    "    border_pres[i] = len(np.intersect1d(high_ind[i],low_ind[i]))\n",
    "# tptp K=10\n",
    "border_pres.mean(), border_pres.max(),border_pres.min()"
   ]
  },
  {
   "cell_type": "code",
   "execution_count": 10,
   "metadata": {},
   "outputs": [
    {
     "name": "stdout",
     "output_type": "stream",
     "text": [
      "Fri Jan 29 01:51:07 2021 Building RP forest with 16 trees\n",
      "Fri Jan 29 01:51:09 2021 NN descent for 16 iterations\n",
      "\t 1  /  16\n",
      "\t 2  /  16\n",
      "\tStopping threshold met -- exiting after 2 iterations\n",
      "Fri Jan 29 01:51:11 2021 Building RP forest with 16 trees\n",
      "Fri Jan 29 01:51:12 2021 NN descent for 16 iterations\n",
      "\t 1  /  16\n",
      "\t 2  /  16\n",
      "\tStopping threshold met -- exiting after 2 iterations\n"
     ]
    },
    {
     "data": {
      "text/plain": [
       "(3.72616, 18.0, 1.0)"
      ]
     },
     "execution_count": 10,
     "metadata": {},
     "output_type": "execute_result"
    }
   ],
   "source": [
    "from pynndescent import NNDescent\n",
    "# get nearest neighbors\n",
    "nnd = NNDescent(\n",
    "    train_data,\n",
    "    n_neighbors=20,\n",
    "    metric=metric,\n",
    "    n_trees=n_trees,\n",
    "    n_iters=n_iters,\n",
    "    max_candidates=60,\n",
    "    verbose=True\n",
    ")\n",
    "high_ind, _ = nnd.neighbor_graph\n",
    "nnd = NNDescent(\n",
    "    low_train,\n",
    "    n_neighbors=20,\n",
    "    metric=metric,\n",
    "    n_trees=n_trees,\n",
    "    n_iters=n_iters,\n",
    "    max_candidates=60,\n",
    "    verbose=True\n",
    ")\n",
    "low_ind, _ = nnd.neighbor_graph\n",
    "border_pres = np.zeros(len(train_data))\n",
    "for i in range(len(train_data)):\n",
    "    border_pres[i] = len(np.intersect1d(high_ind[i],low_ind[i]))\n",
    "# tptp K=20\n",
    "border_pres.mean(), border_pres.max(),border_pres.min()"
   ]
  },
  {
   "cell_type": "code",
   "execution_count": 11,
   "metadata": {},
   "outputs": [
    {
     "name": "stdout",
     "output_type": "stream",
     "text": [
      "Fri Jan 29 01:51:14 2021 Building RP forest with 16 trees\n",
      "Fri Jan 29 01:51:16 2021 NN descent for 16 iterations\n",
      "\t 1  /  16\n",
      "\t 2  /  16\n",
      "\tStopping threshold met -- exiting after 2 iterations\n",
      "Fri Jan 29 01:51:20 2021 Building RP forest with 16 trees\n",
      "Fri Jan 29 01:51:21 2021 NN descent for 16 iterations\n",
      "\t 1  /  16\n",
      "\t 2  /  16\n",
      "\tStopping threshold met -- exiting after 2 iterations\n"
     ]
    },
    {
     "data": {
      "text/plain": [
       "(6.1169, 28.0, 1.0)"
      ]
     },
     "execution_count": 11,
     "metadata": {},
     "output_type": "execute_result"
    }
   ],
   "source": [
    "from pynndescent import NNDescent\n",
    "# get nearest neighbors\n",
    "nnd = NNDescent(\n",
    "    train_data,\n",
    "    n_neighbors=30,\n",
    "    metric=metric,\n",
    "    n_trees=n_trees,\n",
    "    n_iters=n_iters,\n",
    "    max_candidates=60,\n",
    "    verbose=True\n",
    ")\n",
    "high_ind, _ = nnd.neighbor_graph\n",
    "low_train = load_encoder(train_data).cpu().numpy()\n",
    "nnd = NNDescent(\n",
    "    low_train,\n",
    "    n_neighbors=30,\n",
    "    metric=metric,\n",
    "    n_trees=n_trees,\n",
    "    n_iters=n_iters,\n",
    "    max_candidates=60,\n",
    "    verbose=True\n",
    ")\n",
    "low_ind, _ = nnd.neighbor_graph\n",
    "border_pres = np.zeros(len(train_data))\n",
    "for i in range(len(train_data)):\n",
    "    border_pres[i] = len(np.intersect1d(high_ind[i],low_ind[i]))\n",
    "# tptp K=30\n",
    "border_pres.mean(), border_pres.max(),border_pres.min()"
   ]
  },
  {
   "cell_type": "code",
   "execution_count": 12,
   "metadata": {},
   "outputs": [
    {
     "name": "stdout",
     "output_type": "stream",
     "text": [
      "Fri Jan 29 01:51:23 2021 Building RP forest with 16 trees\n",
      "Fri Jan 29 01:51:26 2021 NN descent for 16 iterations\n",
      "\t 1  /  16\n",
      "\t 2  /  16\n",
      "\tStopping threshold met -- exiting after 2 iterations\n",
      "Fri Jan 29 01:51:37 2021 Building RP forest with 16 trees\n",
      "Fri Jan 29 01:51:38 2021 NN descent for 16 iterations\n",
      "\t 1  /  16\n",
      "\t 2  /  16\n",
      "\tStopping threshold met -- exiting after 2 iterations\n"
     ]
    },
    {
     "data": {
      "text/plain": [
       "(11.98314, 46.0, 1.0)"
      ]
     },
     "execution_count": 12,
     "metadata": {},
     "output_type": "execute_result"
    }
   ],
   "source": [
    "from pynndescent import NNDescent\n",
    "# get nearest neighbors\n",
    "nnd = NNDescent(\n",
    "    train_data,\n",
    "    n_neighbors=50,\n",
    "    metric=metric,\n",
    "    n_trees=n_trees,\n",
    "    n_iters=n_iters,\n",
    "    max_candidates=60,\n",
    "    verbose=True\n",
    ")\n",
    "high_ind, _ = nnd.neighbor_graph\n",
    "low_train = load_encoder(train_data).cpu().numpy()\n",
    "nnd = NNDescent(\n",
    "    low_train,\n",
    "    n_neighbors=50,\n",
    "    metric=metric,\n",
    "    n_trees=n_trees,\n",
    "    n_iters=n_iters,\n",
    "    max_candidates=60,\n",
    "    verbose=True\n",
    ")\n",
    "low_ind, _ = nnd.neighbor_graph\n",
    "border_pres = np.zeros(len(train_data))\n",
    "for i in range(len(train_data)):\n",
    "    border_pres[i] = len(np.intersect1d(high_ind[i],low_ind[i]))\n",
    "# tptp K=50\n",
    "border_pres.mean(), border_pres.max(),border_pres.min()"
   ]
  },
  {
   "cell_type": "markdown",
   "metadata": {},
   "source": [
    "#### test"
   ]
  },
  {
   "cell_type": "code",
   "execution_count": 7,
   "metadata": {},
   "outputs": [],
   "source": [
    "fitting_data =  np.concatenate((train_data, test_data), axis=0)"
   ]
  },
  {
   "cell_type": "code",
   "execution_count": 8,
   "metadata": {},
   "outputs": [],
   "source": [
    "# number of trees in random projection forest\n",
    "n_trees = 5 + int(round((fitting_data.shape[0]) ** 0.5 / 20.0))\n",
    "# max number of nearest neighbor iters to perform\n",
    "n_iters = max(5, int(round(np.log2(fitting_data.shape[0]))))\n",
    "# distance metric\n",
    "metric = \"euclidean\""
   ]
  },
  {
   "cell_type": "code",
   "execution_count": 9,
   "metadata": {},
   "outputs": [
    {
     "name": "stdout",
     "output_type": "stream",
     "text": [
      "WARNING:tensorflow:From <ipython-input-9-1156c28d87d9>:1: _EagerTensorBase.cpu (from tensorflow.python.framework.ops) is deprecated and will be removed in a future version.\n",
      "Instructions for updating:\n",
      "Use tf.identity instead.\n"
     ]
    }
   ],
   "source": [
    "low_fitting = load_encoder(fitting_data).cpu().numpy()"
   ]
  },
  {
   "cell_type": "code",
   "execution_count": null,
   "metadata": {},
   "outputs": [],
   "source": [
    "from sklearn.manifold import trustworthiness\n",
    "knns = [10,20,30,50]\n",
    "for k in knns:\n",
    "    trustworthiness = trustworthiness(fitting_data, low_fitting, n_neighbors=k, metric='euclidean')\n",
    "    print(k,trustworthiness)"
   ]
  },
  {
   "cell_type": "code",
   "execution_count": 10,
   "metadata": {},
   "outputs": [
    {
     "name": "stdout",
     "output_type": "stream",
     "text": [
      "Fri Jan 29 01:59:26 2021 Building RP forest with 17 trees\n",
      "Fri Jan 29 01:59:30 2021 NN descent for 16 iterations\n",
      "\t 1  /  16\n",
      "\t 2  /  16\n",
      "\t 3  /  16\n",
      "\tStopping threshold met -- exiting after 3 iterations\n",
      "Fri Jan 29 01:59:43 2021 Building RP forest with 17 trees\n",
      "Fri Jan 29 01:59:43 2021 NN descent for 16 iterations\n",
      "\t 1  /  16\n",
      "\t 2  /  16\n",
      "\tStopping threshold met -- exiting after 2 iterations\n"
     ]
    },
    {
     "data": {
      "text/plain": [
       "(1.851, 9.0, 1.0)"
      ]
     },
     "execution_count": 10,
     "metadata": {},
     "output_type": "execute_result"
    }
   ],
   "source": [
    "from pynndescent import NNDescent\n",
    "# get nearest neighbors\n",
    "nnd = NNDescent(\n",
    "    fitting_data,\n",
    "    n_neighbors=10,\n",
    "    metric=metric,\n",
    "    n_trees=n_trees,\n",
    "    n_iters=n_iters,\n",
    "    max_candidates=60,\n",
    "    verbose=True\n",
    ")\n",
    "high_ind, _ = nnd.neighbor_graph\n",
    "nnd = NNDescent(\n",
    "    low_fitting,\n",
    "    n_neighbors=10,\n",
    "    metric=metric,\n",
    "    n_trees=n_trees,\n",
    "    n_iters=n_iters,\n",
    "    max_candidates=60,\n",
    "    verbose=True\n",
    ")\n",
    "low_ind, _ = nnd.neighbor_graph\n",
    "\n",
    "border_pres = np.zeros(len(test_data))\n",
    "train_num = len(train_data)\n",
    "test_num = len(fitting_data)\n",
    "for i in range(train_num,test_num,1):\n",
    "    border_pres[i-train_num] = len(np.intersect1d(high_ind[i],low_ind[i]))\n",
    "# tptp K=20\n",
    "border_pres.mean(), border_pres.max(),border_pres.min()"
   ]
  },
  {
   "cell_type": "code",
   "execution_count": 15,
   "metadata": {},
   "outputs": [
    {
     "name": "stdout",
     "output_type": "stream",
     "text": [
      "Fri Jan 29 02:01:49 2021 Building RP forest with 17 trees\n",
      "Fri Jan 29 02:01:53 2021 NN descent for 16 iterations\n",
      "\t 1  /  16\n",
      "\t 2  /  16\n",
      "\tStopping threshold met -- exiting after 2 iterations\n",
      "Fri Jan 29 02:01:56 2021 Building RP forest with 17 trees\n",
      "Fri Jan 29 02:01:56 2021 NN descent for 16 iterations\n",
      "\t 1  /  16\n",
      "\t 2  /  16\n",
      "\tStopping threshold met -- exiting after 2 iterations\n"
     ]
    },
    {
     "data": {
      "text/plain": [
       "(3.61, 19.0, 1.0)"
      ]
     },
     "execution_count": 15,
     "metadata": {},
     "output_type": "execute_result"
    }
   ],
   "source": [
    "from pynndescent import NNDescent\n",
    "# get nearest neighbors\n",
    "nnd = NNDescent(\n",
    "    fitting_data,\n",
    "    n_neighbors=20,\n",
    "    metric=metric,\n",
    "    n_trees=n_trees,\n",
    "    n_iters=n_iters,\n",
    "    max_candidates=60,\n",
    "    verbose=True\n",
    ")\n",
    "high_ind, _ = nnd.neighbor_graph\n",
    "nnd = NNDescent(\n",
    "    low_fitting,\n",
    "    n_neighbors=20,\n",
    "    metric=metric,\n",
    "    n_trees=n_trees,\n",
    "    n_iters=n_iters,\n",
    "    max_candidates=60,\n",
    "    verbose=True\n",
    ")\n",
    "low_ind, _ = nnd.neighbor_graph\n",
    "\n",
    "border_pres = np.zeros(len(test_data))\n",
    "train_num = len(train_data)\n",
    "test_num = len(fitting_data)\n",
    "for i in range(train_num,test_num,1):\n",
    "    border_pres[i-train_num] = len(np.intersect1d(high_ind[i],low_ind[i]))\n",
    "# tptp K=20\n",
    "border_pres.mean(), border_pres.max(),border_pres.min()"
   ]
  },
  {
   "cell_type": "code",
   "execution_count": 16,
   "metadata": {},
   "outputs": [
    {
     "name": "stdout",
     "output_type": "stream",
     "text": [
      "Fri Jan 29 02:01:58 2021 Building RP forest with 17 trees\n",
      "Fri Jan 29 02:02:02 2021 NN descent for 16 iterations\n",
      "\t 1  /  16\n",
      "\t 2  /  16\n",
      "\tStopping threshold met -- exiting after 2 iterations\n",
      "Fri Jan 29 02:02:08 2021 Building RP forest with 17 trees\n",
      "Fri Jan 29 02:02:08 2021 NN descent for 16 iterations\n",
      "\t 1  /  16\n",
      "\t 2  /  16\n",
      "\tStopping threshold met -- exiting after 2 iterations\n"
     ]
    },
    {
     "data": {
      "text/plain": [
       "(5.8616, 26.0, 1.0)"
      ]
     },
     "execution_count": 16,
     "metadata": {},
     "output_type": "execute_result"
    }
   ],
   "source": [
    "from pynndescent import NNDescent\n",
    "# get nearest neighbors\n",
    "nnd = NNDescent(\n",
    "    fitting_data,\n",
    "    n_neighbors=30,\n",
    "    metric=metric,\n",
    "    n_trees=n_trees,\n",
    "    n_iters=n_iters,\n",
    "    max_candidates=60,\n",
    "    verbose=True\n",
    ")\n",
    "high_ind, _ = nnd.neighbor_graph\n",
    "nnd = NNDescent(\n",
    "    low_fitting,\n",
    "    n_neighbors=30,\n",
    "    metric=metric,\n",
    "    n_trees=n_trees,\n",
    "    n_iters=n_iters,\n",
    "    max_candidates=60,\n",
    "    verbose=True\n",
    ")\n",
    "low_ind, _ = nnd.neighbor_graph\n",
    "\n",
    "border_pres = np.zeros(len(test_data))\n",
    "train_num = len(train_data)\n",
    "test_num = len(fitting_data)\n",
    "for i in range(train_num,test_num,1):\n",
    "    border_pres[i-train_num] = len(np.intersect1d(high_ind[i],low_ind[i]))\n",
    "# tptp K=30\n",
    "border_pres.mean(), border_pres.max(),border_pres.min()"
   ]
  },
  {
   "cell_type": "code",
   "execution_count": 17,
   "metadata": {
    "scrolled": false
   },
   "outputs": [
    {
     "name": "stdout",
     "output_type": "stream",
     "text": [
      "Fri Jan 29 02:02:11 2021 Building RP forest with 17 trees\n",
      "Fri Jan 29 02:02:15 2021 NN descent for 16 iterations\n",
      "\t 1  /  16\n",
      "\t 2  /  16\n",
      "\tStopping threshold met -- exiting after 2 iterations\n",
      "Fri Jan 29 02:02:32 2021 Building RP forest with 17 trees\n",
      "Fri Jan 29 02:02:32 2021 NN descent for 16 iterations\n",
      "\t 1  /  16\n",
      "\t 2  /  16\n",
      "\tStopping threshold met -- exiting after 2 iterations\n"
     ]
    },
    {
     "data": {
      "text/plain": [
       "(11.4128, 45.0, 1.0)"
      ]
     },
     "execution_count": 17,
     "metadata": {},
     "output_type": "execute_result"
    }
   ],
   "source": [
    "from pynndescent import NNDescent\n",
    "# get nearest neighbors\n",
    "nnd = NNDescent(\n",
    "    fitting_data,\n",
    "    n_neighbors=50,\n",
    "    metric=metric,\n",
    "    n_trees=n_trees,\n",
    "    n_iters=n_iters,\n",
    "    max_candidates=60,\n",
    "    verbose=True\n",
    ")\n",
    "high_ind, _ = nnd.neighbor_graph\n",
    "nnd = NNDescent(\n",
    "    low_fitting,\n",
    "    n_neighbors=50,\n",
    "    metric=metric,\n",
    "    n_trees=n_trees,\n",
    "    n_iters=n_iters,\n",
    "    max_candidates=60,\n",
    "    verbose=True\n",
    ")\n",
    "low_ind, _ = nnd.neighbor_graph\n",
    "\n",
    "border_pres = np.zeros(len(test_data))\n",
    "train_num = len(train_data)\n",
    "test_num = len(fitting_data)\n",
    "for i in range(train_num,test_num,1):\n",
    "    border_pres[i-train_num] = len(np.intersect1d(high_ind[i],low_ind[i]))\n",
    "# tptp K=50\n",
    "border_pres.mean(), border_pres.max(),border_pres.min()"
   ]
  },
  {
   "cell_type": "markdown",
   "metadata": {},
   "source": [
    "### M_<CP-CP, k=15> (core) 4 hidden layers"
   ]
  },
  {
   "cell_type": "code",
   "execution_count": 6,
   "metadata": {},
   "outputs": [
    {
     "name": "stdout",
     "output_type": "stream",
     "text": [
      "WARNING:tensorflow:No training configuration found in save file, so the model was *not* compiled. Compile it manually.\n",
      "Keras encoder model loaded from parametric_umap_models\\dbp_exp\\encoder_core_tptp_4h\n"
     ]
    }
   ],
   "source": [
    "import os\n",
    "save_location = \"parametric_umap_models\\dbp_exp\"\n",
    "# load model\n",
    "# load encoder\n",
    "encoder_output = os.path.join(save_location, \"encoder_core_tptp_4h\")\n",
    "if os.path.exists(encoder_output):\n",
    "    load_encoder = tf.keras.models.load_model(encoder_output)\n",
    "    print(\"Keras encoder model loaded from {}\".format(encoder_output))"
   ]
  },
  {
   "cell_type": "markdown",
   "metadata": {},
   "source": [
    "#### train"
   ]
  },
  {
   "cell_type": "code",
   "execution_count": 7,
   "metadata": {},
   "outputs": [],
   "source": [
    "# number of trees in random projection forest\n",
    "n_trees = 5 + int(round((train_data.shape[0]) ** 0.5 / 20.0))\n",
    "# max number of nearest neighbor iters to perform\n",
    "n_iters = max(5, int(round(np.log2(train_data.shape[0]))))\n",
    "# distance metric\n",
    "metric = \"euclidean\""
   ]
  },
  {
   "cell_type": "code",
   "execution_count": 8,
   "metadata": {},
   "outputs": [
    {
     "name": "stdout",
     "output_type": "stream",
     "text": [
      "WARNING:tensorflow:From <ipython-input-8-c3f5e7a4f4d7>:1: _EagerTensorBase.cpu (from tensorflow.python.framework.ops) is deprecated and will be removed in a future version.\n",
      "Instructions for updating:\n",
      "Use tf.identity instead.\n"
     ]
    }
   ],
   "source": [
    "low_train = load_encoder(train_data).cpu().numpy()"
   ]
  },
  {
   "cell_type": "code",
   "execution_count": null,
   "metadata": {},
   "outputs": [],
   "source": [
    "from sklearn.manifold import trustworthiness\n",
    "knns = [10,20,30,50]\n",
    "for k in knns:\n",
    "    t = trustworthiness(train_data, low_train, n_neighbors=int(k), metric='euclidean')\n",
    "    print(k,t)"
   ]
  },
  {
   "cell_type": "code",
   "execution_count": 9,
   "metadata": {},
   "outputs": [
    {
     "name": "stdout",
     "output_type": "stream",
     "text": [
      "Sat Jan 30 13:11:32 2021 Building RP forest with 16 trees\n",
      "Sat Jan 30 13:11:35 2021 NN descent for 16 iterations\n",
      "\t 1  /  16\n",
      "\t 2  /  16\n",
      "\t 3  /  16\n",
      "\tStopping threshold met -- exiting after 3 iterations\n",
      "Sat Jan 30 13:11:46 2021 Building RP forest with 16 trees\n",
      "Sat Jan 30 13:11:47 2021 NN descent for 16 iterations\n",
      "\t 1  /  16\n",
      "\t 2  /  16\n",
      "\tStopping threshold met -- exiting after 2 iterations\n"
     ]
    },
    {
     "data": {
      "text/plain": [
       "(1.93862, 9.0, 1.0)"
      ]
     },
     "execution_count": 9,
     "metadata": {},
     "output_type": "execute_result"
    }
   ],
   "source": [
    "from pynndescent import NNDescent\n",
    "# get nearest neighbors\n",
    "nnd = NNDescent(\n",
    "    train_data,\n",
    "    n_neighbors=10,\n",
    "    metric=metric,\n",
    "    n_trees=n_trees,\n",
    "    n_iters=n_iters,\n",
    "    max_candidates=60,\n",
    "    verbose=True\n",
    ")\n",
    "high_ind, _ = nnd.neighbor_graph\n",
    "nnd = NNDescent(\n",
    "    low_train,\n",
    "    n_neighbors=10,\n",
    "    metric=metric,\n",
    "    n_trees=n_trees,\n",
    "    n_iters=n_iters,\n",
    "    max_candidates=60,\n",
    "    verbose=True\n",
    ")\n",
    "low_ind, _ = nnd.neighbor_graph\n",
    "\n",
    "border_pres = np.zeros(len(train_data))\n",
    "for i in range(len(train_data)):\n",
    "    border_pres[i] = len(np.intersect1d(high_ind[i],low_ind[i]))\n",
    "# tptp K=10\n",
    "border_pres.mean(), border_pres.max(),border_pres.min()"
   ]
  },
  {
   "cell_type": "code",
   "execution_count": 10,
   "metadata": {},
   "outputs": [
    {
     "name": "stdout",
     "output_type": "stream",
     "text": [
      "Sat Jan 30 13:11:48 2021 Building RP forest with 16 trees\n",
      "Sat Jan 30 13:11:51 2021 NN descent for 16 iterations\n",
      "\t 1  /  16\n",
      "\t 2  /  16\n",
      "\tStopping threshold met -- exiting after 2 iterations\n",
      "Sat Jan 30 13:11:53 2021 Building RP forest with 16 trees\n",
      "Sat Jan 30 13:11:53 2021 NN descent for 16 iterations\n",
      "\t 1  /  16\n",
      "\t 2  /  16\n",
      "\tStopping threshold met -- exiting after 2 iterations\n"
     ]
    },
    {
     "data": {
      "text/plain": [
       "(3.9074, 19.0, 1.0)"
      ]
     },
     "execution_count": 10,
     "metadata": {},
     "output_type": "execute_result"
    }
   ],
   "source": [
    "from pynndescent import NNDescent\n",
    "# get nearest neighbors\n",
    "nnd = NNDescent(\n",
    "    train_data,\n",
    "    n_neighbors=20,\n",
    "    metric=metric,\n",
    "    n_trees=n_trees,\n",
    "    n_iters=n_iters,\n",
    "    max_candidates=60,\n",
    "    verbose=True\n",
    ")\n",
    "high_ind, _ = nnd.neighbor_graph\n",
    "nnd = NNDescent(\n",
    "    low_train,\n",
    "    n_neighbors=20,\n",
    "    metric=metric,\n",
    "    n_trees=n_trees,\n",
    "    n_iters=n_iters,\n",
    "    max_candidates=60,\n",
    "    verbose=True\n",
    ")\n",
    "low_ind, _ = nnd.neighbor_graph\n",
    "border_pres = np.zeros(len(train_data))\n",
    "for i in range(len(train_data)):\n",
    "    border_pres[i] = len(np.intersect1d(high_ind[i],low_ind[i]))\n",
    "# tptp K=20\n",
    "border_pres.mean(), border_pres.max(),border_pres.min()"
   ]
  },
  {
   "cell_type": "code",
   "execution_count": 11,
   "metadata": {},
   "outputs": [
    {
     "name": "stdout",
     "output_type": "stream",
     "text": [
      "Sat Jan 30 13:11:55 2021 Building RP forest with 16 trees\n",
      "Sat Jan 30 13:11:58 2021 NN descent for 16 iterations\n",
      "\t 1  /  16\n",
      "\t 2  /  16\n",
      "\tStopping threshold met -- exiting after 2 iterations\n",
      "Sat Jan 30 13:12:02 2021 Building RP forest with 16 trees\n",
      "Sat Jan 30 13:12:02 2021 NN descent for 16 iterations\n",
      "\t 1  /  16\n",
      "\t 2  /  16\n",
      "\tStopping threshold met -- exiting after 2 iterations\n"
     ]
    },
    {
     "data": {
      "text/plain": [
       "(6.4148, 29.0, 1.0)"
      ]
     },
     "execution_count": 11,
     "metadata": {},
     "output_type": "execute_result"
    }
   ],
   "source": [
    "from pynndescent import NNDescent\n",
    "# get nearest neighbors\n",
    "nnd = NNDescent(\n",
    "    train_data,\n",
    "    n_neighbors=30,\n",
    "    metric=metric,\n",
    "    n_trees=n_trees,\n",
    "    n_iters=n_iters,\n",
    "    max_candidates=60,\n",
    "    verbose=True\n",
    ")\n",
    "high_ind, _ = nnd.neighbor_graph\n",
    "low_train = load_encoder(train_data).cpu().numpy()\n",
    "nnd = NNDescent(\n",
    "    low_train,\n",
    "    n_neighbors=30,\n",
    "    metric=metric,\n",
    "    n_trees=n_trees,\n",
    "    n_iters=n_iters,\n",
    "    max_candidates=60,\n",
    "    verbose=True\n",
    ")\n",
    "low_ind, _ = nnd.neighbor_graph\n",
    "border_pres = np.zeros(len(train_data))\n",
    "for i in range(len(train_data)):\n",
    "    border_pres[i] = len(np.intersect1d(high_ind[i],low_ind[i]))\n",
    "# tptp K=30\n",
    "border_pres.mean(), border_pres.max(),border_pres.min()"
   ]
  },
  {
   "cell_type": "code",
   "execution_count": 12,
   "metadata": {},
   "outputs": [
    {
     "name": "stdout",
     "output_type": "stream",
     "text": [
      "Sat Jan 30 13:12:05 2021 Building RP forest with 16 trees\n",
      "Sat Jan 30 13:12:07 2021 NN descent for 16 iterations\n",
      "\t 1  /  16\n",
      "\t 2  /  16\n",
      "\tStopping threshold met -- exiting after 2 iterations\n",
      "Sat Jan 30 13:12:19 2021 Building RP forest with 16 trees\n",
      "Sat Jan 30 13:12:19 2021 NN descent for 16 iterations\n",
      "\t 1  /  16\n",
      "\t 2  /  16\n",
      "\tStopping threshold met -- exiting after 2 iterations\n"
     ]
    },
    {
     "data": {
      "text/plain": [
       "(12.55232, 48.0, 1.0)"
      ]
     },
     "execution_count": 12,
     "metadata": {},
     "output_type": "execute_result"
    }
   ],
   "source": [
    "from pynndescent import NNDescent\n",
    "# get nearest neighbors\n",
    "nnd = NNDescent(\n",
    "    train_data,\n",
    "    n_neighbors=50,\n",
    "    metric=metric,\n",
    "    n_trees=n_trees,\n",
    "    n_iters=n_iters,\n",
    "    max_candidates=60,\n",
    "    verbose=True\n",
    ")\n",
    "high_ind, _ = nnd.neighbor_graph\n",
    "low_train = load_encoder(train_data).cpu().numpy()\n",
    "nnd = NNDescent(\n",
    "    low_train,\n",
    "    n_neighbors=50,\n",
    "    metric=metric,\n",
    "    n_trees=n_trees,\n",
    "    n_iters=n_iters,\n",
    "    max_candidates=60,\n",
    "    verbose=True\n",
    ")\n",
    "low_ind, _ = nnd.neighbor_graph\n",
    "border_pres = np.zeros(len(train_data))\n",
    "for i in range(len(train_data)):\n",
    "    border_pres[i] = len(np.intersect1d(high_ind[i],low_ind[i]))\n",
    "# tptp K=50\n",
    "border_pres.mean(), border_pres.max(),border_pres.min()"
   ]
  },
  {
   "cell_type": "markdown",
   "metadata": {},
   "source": [
    "#### test"
   ]
  },
  {
   "cell_type": "code",
   "execution_count": 13,
   "metadata": {},
   "outputs": [],
   "source": [
    "fitting_data =  np.concatenate((train_data, test_data), axis=0)"
   ]
  },
  {
   "cell_type": "code",
   "execution_count": 14,
   "metadata": {},
   "outputs": [],
   "source": [
    "# number of trees in random projection forest\n",
    "n_trees = 5 + int(round((fitting_data.shape[0]) ** 0.5 / 20.0))\n",
    "# max number of nearest neighbor iters to perform\n",
    "n_iters = max(5, int(round(np.log2(fitting_data.shape[0]))))\n",
    "# distance metric\n",
    "metric = \"euclidean\""
   ]
  },
  {
   "cell_type": "code",
   "execution_count": 15,
   "metadata": {},
   "outputs": [],
   "source": [
    "low_fitting = load_encoder(fitting_data).cpu().numpy()"
   ]
  },
  {
   "cell_type": "code",
   "execution_count": null,
   "metadata": {},
   "outputs": [],
   "source": [
    "from sklearn.manifold import trustworthiness\n",
    "knns = [10,20,30,50]\n",
    "for k in knns:\n",
    "    trustworthiness = trustworthiness(fitting_data, low_fitting, n_neighbors=k, metric='euclidean')\n",
    "    print(k,trustworthiness)"
   ]
  },
  {
   "cell_type": "code",
   "execution_count": 16,
   "metadata": {},
   "outputs": [
    {
     "name": "stdout",
     "output_type": "stream",
     "text": [
      "Sat Jan 30 13:12:28 2021 Building RP forest with 17 trees\n",
      "Sat Jan 30 13:12:31 2021 NN descent for 16 iterations\n",
      "\t 1  /  16\n",
      "\t 2  /  16\n",
      "\t 3  /  16\n",
      "\tStopping threshold met -- exiting after 3 iterations\n",
      "Sat Jan 30 13:12:33 2021 Building RP forest with 17 trees\n",
      "Sat Jan 30 13:12:33 2021 NN descent for 16 iterations\n",
      "\t 1  /  16\n",
      "\t 2  /  16\n",
      "\tStopping threshold met -- exiting after 2 iterations\n"
     ]
    },
    {
     "data": {
      "text/plain": [
       "(1.9104, 9.0, 1.0)"
      ]
     },
     "execution_count": 16,
     "metadata": {},
     "output_type": "execute_result"
    }
   ],
   "source": [
    "from pynndescent import NNDescent\n",
    "# get nearest neighbors\n",
    "nnd = NNDescent(\n",
    "    fitting_data,\n",
    "    n_neighbors=10,\n",
    "    metric=metric,\n",
    "    n_trees=n_trees,\n",
    "    n_iters=n_iters,\n",
    "    max_candidates=60,\n",
    "    verbose=True\n",
    ")\n",
    "high_ind, _ = nnd.neighbor_graph\n",
    "nnd = NNDescent(\n",
    "    low_fitting,\n",
    "    n_neighbors=10,\n",
    "    metric=metric,\n",
    "    n_trees=n_trees,\n",
    "    n_iters=n_iters,\n",
    "    max_candidates=60,\n",
    "    verbose=True\n",
    ")\n",
    "low_ind, _ = nnd.neighbor_graph\n",
    "\n",
    "border_pres = np.zeros(len(test_data))\n",
    "train_num = len(train_data)\n",
    "test_num = len(fitting_data)\n",
    "for i in range(train_num,test_num,1):\n",
    "    border_pres[i-train_num] = len(np.intersect1d(high_ind[i],low_ind[i]))\n",
    "# tptp K=20\n",
    "border_pres.mean(), border_pres.max(),border_pres.min()"
   ]
  },
  {
   "cell_type": "code",
   "execution_count": 17,
   "metadata": {},
   "outputs": [
    {
     "name": "stdout",
     "output_type": "stream",
     "text": [
      "Sat Jan 30 13:12:34 2021 Building RP forest with 17 trees\n",
      "Sat Jan 30 13:12:38 2021 NN descent for 16 iterations\n",
      "\t 1  /  16\n",
      "\t 2  /  16\n",
      "\tStopping threshold met -- exiting after 2 iterations\n",
      "Sat Jan 30 13:12:40 2021 Building RP forest with 17 trees\n",
      "Sat Jan 30 13:12:40 2021 NN descent for 16 iterations\n",
      "\t 1  /  16\n",
      "\t 2  /  16\n",
      "\tStopping threshold met -- exiting after 2 iterations\n"
     ]
    },
    {
     "data": {
      "text/plain": [
       "(3.7836, 19.0, 1.0)"
      ]
     },
     "execution_count": 17,
     "metadata": {},
     "output_type": "execute_result"
    }
   ],
   "source": [
    "from pynndescent import NNDescent\n",
    "# get nearest neighbors\n",
    "nnd = NNDescent(\n",
    "    fitting_data,\n",
    "    n_neighbors=20,\n",
    "    metric=metric,\n",
    "    n_trees=n_trees,\n",
    "    n_iters=n_iters,\n",
    "    max_candidates=60,\n",
    "    verbose=True\n",
    ")\n",
    "high_ind, _ = nnd.neighbor_graph\n",
    "nnd = NNDescent(\n",
    "    low_fitting,\n",
    "    n_neighbors=20,\n",
    "    metric=metric,\n",
    "    n_trees=n_trees,\n",
    "    n_iters=n_iters,\n",
    "    max_candidates=60,\n",
    "    verbose=True\n",
    ")\n",
    "low_ind, _ = nnd.neighbor_graph\n",
    "\n",
    "border_pres = np.zeros(len(test_data))\n",
    "train_num = len(train_data)\n",
    "test_num = len(fitting_data)\n",
    "for i in range(train_num,test_num,1):\n",
    "    border_pres[i-train_num] = len(np.intersect1d(high_ind[i],low_ind[i]))\n",
    "# tptp K=20\n",
    "border_pres.mean(), border_pres.max(),border_pres.min()"
   ]
  },
  {
   "cell_type": "code",
   "execution_count": 18,
   "metadata": {},
   "outputs": [
    {
     "name": "stdout",
     "output_type": "stream",
     "text": [
      "Sat Jan 30 13:12:42 2021 Building RP forest with 17 trees\n",
      "Sat Jan 30 13:12:46 2021 NN descent for 16 iterations\n",
      "\t 1  /  16\n",
      "\t 2  /  16\n",
      "\tStopping threshold met -- exiting after 2 iterations\n",
      "Sat Jan 30 13:12:50 2021 Building RP forest with 17 trees\n",
      "Sat Jan 30 13:12:50 2021 NN descent for 16 iterations\n",
      "\t 1  /  16\n",
      "\t 2  /  16\n",
      "\tStopping threshold met -- exiting after 2 iterations\n"
     ]
    },
    {
     "data": {
      "text/plain": [
       "(6.2326, 27.0, 1.0)"
      ]
     },
     "execution_count": 18,
     "metadata": {},
     "output_type": "execute_result"
    }
   ],
   "source": [
    "from pynndescent import NNDescent\n",
    "# get nearest neighbors\n",
    "nnd = NNDescent(\n",
    "    fitting_data,\n",
    "    n_neighbors=30,\n",
    "    metric=metric,\n",
    "    n_trees=n_trees,\n",
    "    n_iters=n_iters,\n",
    "    max_candidates=60,\n",
    "    verbose=True\n",
    ")\n",
    "high_ind, _ = nnd.neighbor_graph\n",
    "nnd = NNDescent(\n",
    "    low_fitting,\n",
    "    n_neighbors=30,\n",
    "    metric=metric,\n",
    "    n_trees=n_trees,\n",
    "    n_iters=n_iters,\n",
    "    max_candidates=60,\n",
    "    verbose=True\n",
    ")\n",
    "low_ind, _ = nnd.neighbor_graph\n",
    "\n",
    "border_pres = np.zeros(len(test_data))\n",
    "train_num = len(train_data)\n",
    "test_num = len(fitting_data)\n",
    "for i in range(train_num,test_num,1):\n",
    "    border_pres[i-train_num] = len(np.intersect1d(high_ind[i],low_ind[i]))\n",
    "# tptp K=30\n",
    "border_pres.mean(), border_pres.max(),border_pres.min()"
   ]
  },
  {
   "cell_type": "code",
   "execution_count": 19,
   "metadata": {
    "scrolled": false
   },
   "outputs": [
    {
     "name": "stdout",
     "output_type": "stream",
     "text": [
      "Sat Jan 30 13:12:53 2021 Building RP forest with 17 trees\n",
      "Sat Jan 30 13:12:56 2021 NN descent for 16 iterations\n",
      "\t 1  /  16\n",
      "\t 2  /  16\n",
      "\tStopping threshold met -- exiting after 2 iterations\n",
      "Sat Jan 30 13:13:10 2021 Building RP forest with 17 trees\n",
      "Sat Jan 30 13:13:10 2021 NN descent for 16 iterations\n",
      "\t 1  /  16\n",
      "\t 2  /  16\n",
      "\tStopping threshold met -- exiting after 2 iterations\n"
     ]
    },
    {
     "data": {
      "text/plain": [
       "(12.1834, 47.0, 1.0)"
      ]
     },
     "execution_count": 19,
     "metadata": {},
     "output_type": "execute_result"
    }
   ],
   "source": [
    "from pynndescent import NNDescent\n",
    "# get nearest neighbors\n",
    "nnd = NNDescent(\n",
    "    fitting_data,\n",
    "    n_neighbors=50,\n",
    "    metric=metric,\n",
    "    n_trees=n_trees,\n",
    "    n_iters=n_iters,\n",
    "    max_candidates=60,\n",
    "    verbose=True\n",
    ")\n",
    "high_ind, _ = nnd.neighbor_graph\n",
    "nnd = NNDescent(\n",
    "    low_fitting,\n",
    "    n_neighbors=50,\n",
    "    metric=metric,\n",
    "    n_trees=n_trees,\n",
    "    n_iters=n_iters,\n",
    "    max_candidates=60,\n",
    "    verbose=True\n",
    ")\n",
    "low_ind, _ = nnd.neighbor_graph\n",
    "\n",
    "border_pres = np.zeros(len(test_data))\n",
    "train_num = len(train_data)\n",
    "test_num = len(fitting_data)\n",
    "for i in range(train_num,test_num,1):\n",
    "    border_pres[i-train_num] = len(np.intersect1d(high_ind[i],low_ind[i]))\n",
    "# tptp K=50\n",
    "border_pres.mean(), border_pres.max(),border_pres.min()"
   ]
  },
  {
   "cell_type": "markdown",
   "metadata": {},
   "source": [
    "### M_<new_complex, k=15> (core) 4 hidden layers,symmetric"
   ]
  },
  {
   "cell_type": "code",
   "execution_count": 29,
   "metadata": {},
   "outputs": [
    {
     "name": "stdout",
     "output_type": "stream",
     "text": [
      "WARNING:tensorflow:No training configuration found in save file, so the model was *not* compiled. Compile it manually.\n",
      "Keras encoder model loaded from parametric_umap_models\\dbp_exp\\encoder_core_complex_symmetric_15_4h\n"
     ]
    }
   ],
   "source": [
    "import os\n",
    "save_location = \"parametric_umap_models\\dbp_exp\"\n",
    "# load model\n",
    "# load encoder\n",
    "encoder_output = os.path.join(save_location, \"encoder_core_complex_symmetric_15_4h\")\n",
    "if os.path.exists(encoder_output):\n",
    "    load_encoder = tf.keras.models.load_model(encoder_output)\n",
    "    print(\"Keras encoder model loaded from {}\".format(encoder_output))"
   ]
  },
  {
   "cell_type": "markdown",
   "metadata": {},
   "source": [
    "#### train"
   ]
  },
  {
   "cell_type": "code",
   "execution_count": 30,
   "metadata": {},
   "outputs": [],
   "source": [
    "# number of trees in random projection forest\n",
    "n_trees = 5 + int(round((train_data.shape[0]) ** 0.5 / 20.0))\n",
    "# max number of nearest neighbor iters to perform\n",
    "n_iters = max(5, int(round(np.log2(train_data.shape[0]))))\n",
    "# distance metric\n",
    "metric = \"euclidean\""
   ]
  },
  {
   "cell_type": "code",
   "execution_count": 31,
   "metadata": {},
   "outputs": [],
   "source": [
    "low_train = load_encoder(train_data).cpu().numpy()"
   ]
  },
  {
   "cell_type": "code",
   "execution_count": null,
   "metadata": {},
   "outputs": [],
   "source": [
    "from sklearn.manifold import trustworthiness\n",
    "knns = [10,20,30,50]\n",
    "for k in knns:\n",
    "    t = trustworthiness(train_data, low_train, n_neighbors=int(k), metric='euclidean')\n",
    "    print(k,t)"
   ]
  },
  {
   "cell_type": "code",
   "execution_count": 32,
   "metadata": {},
   "outputs": [
    {
     "name": "stdout",
     "output_type": "stream",
     "text": [
      "Fri Jan 29 19:01:45 2021 Building RP forest with 16 trees\n",
      "Fri Jan 29 19:01:48 2021 NN descent for 16 iterations\n",
      "\t 1  /  16\n",
      "\t 2  /  16\n",
      "\t 3  /  16\n",
      "\tStopping threshold met -- exiting after 3 iterations\n",
      "Fri Jan 29 19:01:49 2021 Building RP forest with 16 trees\n",
      "Fri Jan 29 19:01:49 2021 NN descent for 16 iterations\n",
      "\t 1  /  16\n",
      "\t 2  /  16\n",
      "\tStopping threshold met -- exiting after 2 iterations\n"
     ]
    },
    {
     "data": {
      "text/plain": [
       "(1.70944, 10.0, 1.0)"
      ]
     },
     "execution_count": 32,
     "metadata": {},
     "output_type": "execute_result"
    }
   ],
   "source": [
    "from pynndescent import NNDescent\n",
    "# get nearest neighbors\n",
    "nnd = NNDescent(\n",
    "    train_data,\n",
    "    n_neighbors=10,\n",
    "    metric=metric,\n",
    "    n_trees=n_trees,\n",
    "    n_iters=n_iters,\n",
    "    max_candidates=60,\n",
    "    verbose=True\n",
    ")\n",
    "high_ind, _ = nnd.neighbor_graph\n",
    "nnd = NNDescent(\n",
    "    low_train,\n",
    "    n_neighbors=10,\n",
    "    metric=metric,\n",
    "    n_trees=n_trees,\n",
    "    n_iters=n_iters,\n",
    "    max_candidates=60,\n",
    "    verbose=True\n",
    ")\n",
    "low_ind, _ = nnd.neighbor_graph\n",
    "\n",
    "border_pres = np.zeros(len(train_data))\n",
    "for i in range(len(train_data)):\n",
    "    border_pres[i] = len(np.intersect1d(high_ind[i],low_ind[i]))\n",
    "# tptp K=10\n",
    "border_pres.mean(), border_pres.max(),border_pres.min()"
   ]
  },
  {
   "cell_type": "code",
   "execution_count": 33,
   "metadata": {},
   "outputs": [
    {
     "name": "stdout",
     "output_type": "stream",
     "text": [
      "Fri Jan 29 19:01:51 2021 Building RP forest with 16 trees\n",
      "Fri Jan 29 19:01:54 2021 NN descent for 16 iterations\n",
      "\t 1  /  16\n",
      "\t 2  /  16\n",
      "\tStopping threshold met -- exiting after 2 iterations\n",
      "Fri Jan 29 19:01:56 2021 Building RP forest with 16 trees\n",
      "Fri Jan 29 19:01:56 2021 NN descent for 16 iterations\n",
      "\t 1  /  16\n",
      "\t 2  /  16\n",
      "\tStopping threshold met -- exiting after 2 iterations\n"
     ]
    },
    {
     "data": {
      "text/plain": [
       "(3.17026, 18.0, 1.0)"
      ]
     },
     "execution_count": 33,
     "metadata": {},
     "output_type": "execute_result"
    }
   ],
   "source": [
    "from pynndescent import NNDescent\n",
    "# get nearest neighbors\n",
    "nnd = NNDescent(\n",
    "    train_data,\n",
    "    n_neighbors=20,\n",
    "    metric=metric,\n",
    "    n_trees=n_trees,\n",
    "    n_iters=n_iters,\n",
    "    max_candidates=60,\n",
    "    verbose=True\n",
    ")\n",
    "high_ind, _ = nnd.neighbor_graph\n",
    "nnd = NNDescent(\n",
    "    low_train,\n",
    "    n_neighbors=20,\n",
    "    metric=metric,\n",
    "    n_trees=n_trees,\n",
    "    n_iters=n_iters,\n",
    "    max_candidates=60,\n",
    "    verbose=True\n",
    ")\n",
    "low_ind, _ = nnd.neighbor_graph\n",
    "border_pres = np.zeros(len(train_data))\n",
    "for i in range(len(train_data)):\n",
    "    border_pres[i] = len(np.intersect1d(high_ind[i],low_ind[i]))\n",
    "# tptp K=20\n",
    "border_pres.mean(), border_pres.max(),border_pres.min()"
   ]
  },
  {
   "cell_type": "code",
   "execution_count": 34,
   "metadata": {},
   "outputs": [
    {
     "name": "stdout",
     "output_type": "stream",
     "text": [
      "Fri Jan 29 19:01:58 2021 Building RP forest with 16 trees\n",
      "Fri Jan 29 19:02:01 2021 NN descent for 16 iterations\n",
      "\t 1  /  16\n",
      "\t 2  /  16\n",
      "\tStopping threshold met -- exiting after 2 iterations\n",
      "Fri Jan 29 19:02:06 2021 Building RP forest with 16 trees\n",
      "Fri Jan 29 19:02:06 2021 NN descent for 16 iterations\n",
      "\t 1  /  16\n",
      "\t 2  /  16\n",
      "\tStopping threshold met -- exiting after 2 iterations\n"
     ]
    },
    {
     "data": {
      "text/plain": [
       "(5.0562, 26.0, 1.0)"
      ]
     },
     "execution_count": 34,
     "metadata": {},
     "output_type": "execute_result"
    }
   ],
   "source": [
    "from pynndescent import NNDescent\n",
    "# get nearest neighbors\n",
    "nnd = NNDescent(\n",
    "    train_data,\n",
    "    n_neighbors=30,\n",
    "    metric=metric,\n",
    "    n_trees=n_trees,\n",
    "    n_iters=n_iters,\n",
    "    max_candidates=60,\n",
    "    verbose=True\n",
    ")\n",
    "high_ind, _ = nnd.neighbor_graph\n",
    "low_train = load_encoder(train_data).cpu().numpy()\n",
    "nnd = NNDescent(\n",
    "    low_train,\n",
    "    n_neighbors=30,\n",
    "    metric=metric,\n",
    "    n_trees=n_trees,\n",
    "    n_iters=n_iters,\n",
    "    max_candidates=60,\n",
    "    verbose=True\n",
    ")\n",
    "low_ind, _ = nnd.neighbor_graph\n",
    "border_pres = np.zeros(len(train_data))\n",
    "for i in range(len(train_data)):\n",
    "    border_pres[i] = len(np.intersect1d(high_ind[i],low_ind[i]))\n",
    "# tptp K=30\n",
    "border_pres.mean(), border_pres.max(),border_pres.min()"
   ]
  },
  {
   "cell_type": "code",
   "execution_count": 35,
   "metadata": {},
   "outputs": [
    {
     "name": "stdout",
     "output_type": "stream",
     "text": [
      "Fri Jan 29 19:02:09 2021 Building RP forest with 16 trees\n",
      "Fri Jan 29 19:02:11 2021 NN descent for 16 iterations\n",
      "\t 1  /  16\n",
      "\t 2  /  16\n",
      "\tStopping threshold met -- exiting after 2 iterations\n",
      "Fri Jan 29 19:02:24 2021 Building RP forest with 16 trees\n",
      "Fri Jan 29 19:02:24 2021 NN descent for 16 iterations\n",
      "\t 1  /  16\n",
      "\t 2  /  16\n",
      "\tStopping threshold met -- exiting after 2 iterations\n"
     ]
    },
    {
     "data": {
      "text/plain": [
       "(9.68806, 45.0, 1.0)"
      ]
     },
     "execution_count": 35,
     "metadata": {},
     "output_type": "execute_result"
    }
   ],
   "source": [
    "from pynndescent import NNDescent\n",
    "# get nearest neighbors\n",
    "nnd = NNDescent(\n",
    "    train_data,\n",
    "    n_neighbors=50,\n",
    "    metric=metric,\n",
    "    n_trees=n_trees,\n",
    "    n_iters=n_iters,\n",
    "    max_candidates=60,\n",
    "    verbose=True\n",
    ")\n",
    "high_ind, _ = nnd.neighbor_graph\n",
    "low_train = load_encoder(train_data).cpu().numpy()\n",
    "nnd = NNDescent(\n",
    "    low_train,\n",
    "    n_neighbors=50,\n",
    "    metric=metric,\n",
    "    n_trees=n_trees,\n",
    "    n_iters=n_iters,\n",
    "    max_candidates=60,\n",
    "    verbose=True\n",
    ")\n",
    "low_ind, _ = nnd.neighbor_graph\n",
    "border_pres = np.zeros(len(train_data))\n",
    "for i in range(len(train_data)):\n",
    "    border_pres[i] = len(np.intersect1d(high_ind[i],low_ind[i]))\n",
    "# tptp K=50\n",
    "border_pres.mean(), border_pres.max(),border_pres.min()"
   ]
  },
  {
   "cell_type": "markdown",
   "metadata": {},
   "source": [
    "#### test"
   ]
  },
  {
   "cell_type": "code",
   "execution_count": 36,
   "metadata": {},
   "outputs": [],
   "source": [
    "fitting_data =  np.concatenate((train_data, test_data), axis=0)"
   ]
  },
  {
   "cell_type": "code",
   "execution_count": 37,
   "metadata": {},
   "outputs": [],
   "source": [
    "# number of trees in random projection forest\n",
    "n_trees = 5 + int(round((fitting_data.shape[0]) ** 0.5 / 20.0))\n",
    "# max number of nearest neighbor iters to perform\n",
    "n_iters = max(5, int(round(np.log2(fitting_data.shape[0]))))\n",
    "# distance metric\n",
    "metric = \"euclidean\""
   ]
  },
  {
   "cell_type": "code",
   "execution_count": 38,
   "metadata": {},
   "outputs": [],
   "source": [
    "low_fitting = load_encoder(fitting_data).cpu().numpy()"
   ]
  },
  {
   "cell_type": "code",
   "execution_count": null,
   "metadata": {},
   "outputs": [],
   "source": [
    "from sklearn.manifold import trustworthiness\n",
    "knns = [10,20,30,50]\n",
    "for k in knns:\n",
    "    trustworthiness = trustworthiness(fitting_data, low_fitting, n_neighbors=k, metric='euclidean')\n",
    "    print(k,trustworthiness)"
   ]
  },
  {
   "cell_type": "code",
   "execution_count": 39,
   "metadata": {},
   "outputs": [
    {
     "name": "stdout",
     "output_type": "stream",
     "text": [
      "Fri Jan 29 19:02:34 2021 Building RP forest with 17 trees\n",
      "Fri Jan 29 19:02:37 2021 NN descent for 16 iterations\n",
      "\t 1  /  16\n",
      "\t 2  /  16\n",
      "\t 3  /  16\n",
      "\tStopping threshold met -- exiting after 3 iterations\n",
      "Fri Jan 29 19:02:39 2021 Building RP forest with 17 trees\n",
      "Fri Jan 29 19:02:39 2021 NN descent for 16 iterations\n",
      "\t 1  /  16\n",
      "\t 2  /  16\n",
      "\tStopping threshold met -- exiting after 2 iterations\n"
     ]
    },
    {
     "data": {
      "text/plain": [
       "(1.7291, 9.0, 1.0)"
      ]
     },
     "execution_count": 39,
     "metadata": {},
     "output_type": "execute_result"
    }
   ],
   "source": [
    "from pynndescent import NNDescent\n",
    "# get nearest neighbors\n",
    "nnd = NNDescent(\n",
    "    fitting_data,\n",
    "    n_neighbors=10,\n",
    "    metric=metric,\n",
    "    n_trees=n_trees,\n",
    "    n_iters=n_iters,\n",
    "    max_candidates=60,\n",
    "    verbose=True\n",
    ")\n",
    "high_ind, _ = nnd.neighbor_graph\n",
    "nnd = NNDescent(\n",
    "    low_fitting,\n",
    "    n_neighbors=10,\n",
    "    metric=metric,\n",
    "    n_trees=n_trees,\n",
    "    n_iters=n_iters,\n",
    "    max_candidates=60,\n",
    "    verbose=True\n",
    ")\n",
    "low_ind, _ = nnd.neighbor_graph\n",
    "\n",
    "border_pres = np.zeros(len(test_data))\n",
    "train_num = len(train_data)\n",
    "test_num = len(fitting_data)\n",
    "for i in range(train_num,test_num,1):\n",
    "    border_pres[i-train_num] = len(np.intersect1d(high_ind[i],low_ind[i]))\n",
    "# tptp K=20\n",
    "border_pres.mean(), border_pres.max(),border_pres.min()"
   ]
  },
  {
   "cell_type": "code",
   "execution_count": 40,
   "metadata": {},
   "outputs": [
    {
     "name": "stdout",
     "output_type": "stream",
     "text": [
      "Fri Jan 29 19:02:41 2021 Building RP forest with 17 trees\n",
      "Fri Jan 29 19:02:44 2021 NN descent for 16 iterations\n",
      "\t 1  /  16\n",
      "\t 2  /  16\n",
      "\tStopping threshold met -- exiting after 2 iterations\n",
      "Fri Jan 29 19:02:47 2021 Building RP forest with 17 trees\n",
      "Fri Jan 29 19:02:47 2021 NN descent for 16 iterations\n",
      "\t 1  /  16\n",
      "\t 2  /  16\n",
      "\tStopping threshold met -- exiting after 2 iterations\n"
     ]
    },
    {
     "data": {
      "text/plain": [
       "(3.1632, 16.0, 1.0)"
      ]
     },
     "execution_count": 40,
     "metadata": {},
     "output_type": "execute_result"
    }
   ],
   "source": [
    "from pynndescent import NNDescent\n",
    "# get nearest neighbors\n",
    "nnd = NNDescent(\n",
    "    fitting_data,\n",
    "    n_neighbors=20,\n",
    "    metric=metric,\n",
    "    n_trees=n_trees,\n",
    "    n_iters=n_iters,\n",
    "    max_candidates=60,\n",
    "    verbose=True\n",
    ")\n",
    "high_ind, _ = nnd.neighbor_graph\n",
    "nnd = NNDescent(\n",
    "    low_fitting,\n",
    "    n_neighbors=20,\n",
    "    metric=metric,\n",
    "    n_trees=n_trees,\n",
    "    n_iters=n_iters,\n",
    "    max_candidates=60,\n",
    "    verbose=True\n",
    ")\n",
    "low_ind, _ = nnd.neighbor_graph\n",
    "\n",
    "border_pres = np.zeros(len(test_data))\n",
    "train_num = len(train_data)\n",
    "test_num = len(fitting_data)\n",
    "for i in range(train_num,test_num,1):\n",
    "    border_pres[i-train_num] = len(np.intersect1d(high_ind[i],low_ind[i]))\n",
    "# tptp K=20\n",
    "border_pres.mean(), border_pres.max(),border_pres.min()"
   ]
  },
  {
   "cell_type": "code",
   "execution_count": 41,
   "metadata": {},
   "outputs": [
    {
     "name": "stdout",
     "output_type": "stream",
     "text": [
      "Fri Jan 29 19:02:49 2021 Building RP forest with 17 trees\n",
      "Fri Jan 29 19:02:52 2021 NN descent for 16 iterations\n",
      "\t 1  /  16\n",
      "\t 2  /  16\n",
      "\tStopping threshold met -- exiting after 2 iterations\n",
      "Fri Jan 29 19:02:57 2021 Building RP forest with 17 trees\n",
      "Fri Jan 29 19:02:57 2021 NN descent for 16 iterations\n",
      "\t 1  /  16\n",
      "\t 2  /  16\n",
      "\tStopping threshold met -- exiting after 2 iterations\n"
     ]
    },
    {
     "data": {
      "text/plain": [
       "(4.9981, 26.0, 1.0)"
      ]
     },
     "execution_count": 41,
     "metadata": {},
     "output_type": "execute_result"
    }
   ],
   "source": [
    "from pynndescent import NNDescent\n",
    "# get nearest neighbors\n",
    "nnd = NNDescent(\n",
    "    fitting_data,\n",
    "    n_neighbors=30,\n",
    "    metric=metric,\n",
    "    n_trees=n_trees,\n",
    "    n_iters=n_iters,\n",
    "    max_candidates=60,\n",
    "    verbose=True\n",
    ")\n",
    "high_ind, _ = nnd.neighbor_graph\n",
    "nnd = NNDescent(\n",
    "    low_fitting,\n",
    "    n_neighbors=30,\n",
    "    metric=metric,\n",
    "    n_trees=n_trees,\n",
    "    n_iters=n_iters,\n",
    "    max_candidates=60,\n",
    "    verbose=True\n",
    ")\n",
    "low_ind, _ = nnd.neighbor_graph\n",
    "\n",
    "border_pres = np.zeros(len(test_data))\n",
    "train_num = len(train_data)\n",
    "test_num = len(fitting_data)\n",
    "for i in range(train_num,test_num,1):\n",
    "    border_pres[i-train_num] = len(np.intersect1d(high_ind[i],low_ind[i]))\n",
    "# tptp K=30\n",
    "border_pres.mean(), border_pres.max(),border_pres.min()"
   ]
  },
  {
   "cell_type": "code",
   "execution_count": 42,
   "metadata": {
    "scrolled": false
   },
   "outputs": [
    {
     "name": "stdout",
     "output_type": "stream",
     "text": [
      "Fri Jan 29 19:03:00 2021 Building RP forest with 17 trees\n",
      "Fri Jan 29 19:03:04 2021 NN descent for 16 iterations\n",
      "\t 1  /  16\n",
      "\t 2  /  16\n",
      "\tStopping threshold met -- exiting after 2 iterations\n",
      "Fri Jan 29 19:03:18 2021 Building RP forest with 17 trees\n",
      "Fri Jan 29 19:03:18 2021 NN descent for 16 iterations\n",
      "\t 1  /  16\n",
      "\t 2  /  16\n",
      "\tStopping threshold met -- exiting after 2 iterations\n"
     ]
    },
    {
     "data": {
      "text/plain": [
       "(9.4624, 43.0, 1.0)"
      ]
     },
     "execution_count": 42,
     "metadata": {},
     "output_type": "execute_result"
    }
   ],
   "source": [
    "from pynndescent import NNDescent\n",
    "# get nearest neighbors\n",
    "nnd = NNDescent(\n",
    "    fitting_data,\n",
    "    n_neighbors=50,\n",
    "    metric=metric,\n",
    "    n_trees=n_trees,\n",
    "    n_iters=n_iters,\n",
    "    max_candidates=60,\n",
    "    verbose=True\n",
    ")\n",
    "high_ind, _ = nnd.neighbor_graph\n",
    "nnd = NNDescent(\n",
    "    low_fitting,\n",
    "    n_neighbors=50,\n",
    "    metric=metric,\n",
    "    n_trees=n_trees,\n",
    "    n_iters=n_iters,\n",
    "    max_candidates=60,\n",
    "    verbose=True\n",
    ")\n",
    "low_ind, _ = nnd.neighbor_graph\n",
    "\n",
    "border_pres = np.zeros(len(test_data))\n",
    "train_num = len(train_data)\n",
    "test_num = len(fitting_data)\n",
    "for i in range(train_num,test_num,1):\n",
    "    border_pres[i-train_num] = len(np.intersect1d(high_ind[i],low_ind[i]))\n",
    "# tptp K=50\n",
    "border_pres.mean(), border_pres.max(),border_pres.min()"
   ]
  },
  {
   "cell_type": "markdown",
   "metadata": {},
   "source": [
    "### M_<new_complex, k=30> (core) 4 hidden layers,symmetric"
   ]
  },
  {
   "cell_type": "code",
   "execution_count": 43,
   "metadata": {},
   "outputs": [
    {
     "name": "stdout",
     "output_type": "stream",
     "text": [
      "WARNING:tensorflow:No training configuration found in save file, so the model was *not* compiled. Compile it manually.\n",
      "Keras encoder model loaded from parametric_umap_models\\dbp_exp\\encoder_core_complex_symmetric_30_4h\n"
     ]
    }
   ],
   "source": [
    "import os\n",
    "save_location = \"parametric_umap_models\\dbp_exp\"\n",
    "# load model\n",
    "# load encoder\n",
    "encoder_output = os.path.join(save_location, \"encoder_core_complex_symmetric_30_4h\")\n",
    "if os.path.exists(encoder_output):\n",
    "    load_encoder = tf.keras.models.load_model(encoder_output)\n",
    "    print(\"Keras encoder model loaded from {}\".format(encoder_output))"
   ]
  },
  {
   "cell_type": "markdown",
   "metadata": {},
   "source": [
    "#### train"
   ]
  },
  {
   "cell_type": "code",
   "execution_count": 44,
   "metadata": {},
   "outputs": [],
   "source": [
    "# number of trees in random projection forest\n",
    "n_trees = 5 + int(round((train_data.shape[0]) ** 0.5 / 20.0))\n",
    "# max number of nearest neighbor iters to perform\n",
    "n_iters = max(5, int(round(np.log2(train_data.shape[0]))))\n",
    "# distance metric\n",
    "metric = \"euclidean\""
   ]
  },
  {
   "cell_type": "code",
   "execution_count": 45,
   "metadata": {},
   "outputs": [],
   "source": [
    "low_train = load_encoder(train_data).cpu().numpy()"
   ]
  },
  {
   "cell_type": "code",
   "execution_count": null,
   "metadata": {},
   "outputs": [],
   "source": [
    "from sklearn.manifold import trustworthiness\n",
    "knns = [10,20,30,50]\n",
    "for k in knns:\n",
    "    t = trustworthiness(train_data, low_train, n_neighbors=int(k), metric='euclidean')\n",
    "    print(k,t)"
   ]
  },
  {
   "cell_type": "code",
   "execution_count": 46,
   "metadata": {},
   "outputs": [
    {
     "name": "stdout",
     "output_type": "stream",
     "text": [
      "Fri Jan 29 19:08:01 2021 Building RP forest with 16 trees\n",
      "Fri Jan 29 19:08:04 2021 NN descent for 16 iterations\n",
      "\t 1  /  16\n",
      "\t 2  /  16\n",
      "\t 3  /  16\n",
      "\tStopping threshold met -- exiting after 3 iterations\n",
      "Fri Jan 29 19:08:05 2021 Building RP forest with 16 trees\n",
      "Fri Jan 29 19:08:05 2021 NN descent for 16 iterations\n",
      "\t 1  /  16\n",
      "\t 2  /  16\n",
      "\tStopping threshold met -- exiting after 2 iterations\n"
     ]
    },
    {
     "data": {
      "text/plain": [
       "(1.71458, 9.0, 1.0)"
      ]
     },
     "execution_count": 46,
     "metadata": {},
     "output_type": "execute_result"
    }
   ],
   "source": [
    "from pynndescent import NNDescent\n",
    "# get nearest neighbors\n",
    "nnd = NNDescent(\n",
    "    train_data,\n",
    "    n_neighbors=10,\n",
    "    metric=metric,\n",
    "    n_trees=n_trees,\n",
    "    n_iters=n_iters,\n",
    "    max_candidates=60,\n",
    "    verbose=True\n",
    ")\n",
    "high_ind, _ = nnd.neighbor_graph\n",
    "nnd = NNDescent(\n",
    "    low_train,\n",
    "    n_neighbors=10,\n",
    "    metric=metric,\n",
    "    n_trees=n_trees,\n",
    "    n_iters=n_iters,\n",
    "    max_candidates=60,\n",
    "    verbose=True\n",
    ")\n",
    "low_ind, _ = nnd.neighbor_graph\n",
    "\n",
    "border_pres = np.zeros(len(train_data))\n",
    "for i in range(len(train_data)):\n",
    "    border_pres[i] = len(np.intersect1d(high_ind[i],low_ind[i]))\n",
    "# tptp K=10\n",
    "border_pres.mean(), border_pres.max(),border_pres.min()"
   ]
  },
  {
   "cell_type": "code",
   "execution_count": 47,
   "metadata": {},
   "outputs": [
    {
     "name": "stdout",
     "output_type": "stream",
     "text": [
      "Fri Jan 29 19:08:07 2021 Building RP forest with 16 trees\n",
      "Fri Jan 29 19:08:10 2021 NN descent for 16 iterations\n",
      "\t 1  /  16\n",
      "\t 2  /  16\n",
      "\tStopping threshold met -- exiting after 2 iterations\n",
      "Fri Jan 29 19:08:12 2021 Building RP forest with 16 trees\n",
      "Fri Jan 29 19:08:12 2021 NN descent for 16 iterations\n",
      "\t 1  /  16\n",
      "\t 2  /  16\n",
      "\tStopping threshold met -- exiting after 2 iterations\n"
     ]
    },
    {
     "data": {
      "text/plain": [
       "(3.17656, 19.0, 1.0)"
      ]
     },
     "execution_count": 47,
     "metadata": {},
     "output_type": "execute_result"
    }
   ],
   "source": [
    "from pynndescent import NNDescent\n",
    "# get nearest neighbors\n",
    "nnd = NNDescent(\n",
    "    train_data,\n",
    "    n_neighbors=20,\n",
    "    metric=metric,\n",
    "    n_trees=n_trees,\n",
    "    n_iters=n_iters,\n",
    "    max_candidates=60,\n",
    "    verbose=True\n",
    ")\n",
    "high_ind, _ = nnd.neighbor_graph\n",
    "nnd = NNDescent(\n",
    "    low_train,\n",
    "    n_neighbors=20,\n",
    "    metric=metric,\n",
    "    n_trees=n_trees,\n",
    "    n_iters=n_iters,\n",
    "    max_candidates=60,\n",
    "    verbose=True\n",
    ")\n",
    "low_ind, _ = nnd.neighbor_graph\n",
    "border_pres = np.zeros(len(train_data))\n",
    "for i in range(len(train_data)):\n",
    "    border_pres[i] = len(np.intersect1d(high_ind[i],low_ind[i]))\n",
    "# tptp K=20\n",
    "border_pres.mean(), border_pres.max(),border_pres.min()"
   ]
  },
  {
   "cell_type": "code",
   "execution_count": 48,
   "metadata": {},
   "outputs": [
    {
     "name": "stdout",
     "output_type": "stream",
     "text": [
      "Fri Jan 29 19:08:14 2021 Building RP forest with 16 trees\n",
      "Fri Jan 29 19:08:17 2021 NN descent for 16 iterations\n",
      "\t 1  /  16\n",
      "\t 2  /  16\n",
      "\tStopping threshold met -- exiting after 2 iterations\n",
      "Fri Jan 29 19:08:21 2021 Building RP forest with 16 trees\n",
      "Fri Jan 29 19:08:21 2021 NN descent for 16 iterations\n",
      "\t 1  /  16\n",
      "\t 2  /  16\n",
      "\tStopping threshold met -- exiting after 2 iterations\n"
     ]
    },
    {
     "data": {
      "text/plain": [
       "(5.02842, 27.0, 1.0)"
      ]
     },
     "execution_count": 48,
     "metadata": {},
     "output_type": "execute_result"
    }
   ],
   "source": [
    "from pynndescent import NNDescent\n",
    "# get nearest neighbors\n",
    "nnd = NNDescent(\n",
    "    train_data,\n",
    "    n_neighbors=30,\n",
    "    metric=metric,\n",
    "    n_trees=n_trees,\n",
    "    n_iters=n_iters,\n",
    "    max_candidates=60,\n",
    "    verbose=True\n",
    ")\n",
    "high_ind, _ = nnd.neighbor_graph\n",
    "low_train = load_encoder(train_data).cpu().numpy()\n",
    "nnd = NNDescent(\n",
    "    low_train,\n",
    "    n_neighbors=30,\n",
    "    metric=metric,\n",
    "    n_trees=n_trees,\n",
    "    n_iters=n_iters,\n",
    "    max_candidates=60,\n",
    "    verbose=True\n",
    ")\n",
    "low_ind, _ = nnd.neighbor_graph\n",
    "border_pres = np.zeros(len(train_data))\n",
    "for i in range(len(train_data)):\n",
    "    border_pres[i] = len(np.intersect1d(high_ind[i],low_ind[i]))\n",
    "# tptp K=30\n",
    "border_pres.mean(), border_pres.max(),border_pres.min()"
   ]
  },
  {
   "cell_type": "code",
   "execution_count": 49,
   "metadata": {},
   "outputs": [
    {
     "name": "stdout",
     "output_type": "stream",
     "text": [
      "Fri Jan 29 19:08:24 2021 Building RP forest with 16 trees\n",
      "Fri Jan 29 19:08:27 2021 NN descent for 16 iterations\n",
      "\t 1  /  16\n",
      "\t 2  /  16\n",
      "\tStopping threshold met -- exiting after 2 iterations\n",
      "Fri Jan 29 19:08:39 2021 Building RP forest with 16 trees\n",
      "Fri Jan 29 19:08:39 2021 NN descent for 16 iterations\n",
      "\t 1  /  16\n",
      "\t 2  /  16\n",
      "\tStopping threshold met -- exiting after 2 iterations\n"
     ]
    },
    {
     "data": {
      "text/plain": [
       "(9.56968, 47.0, 1.0)"
      ]
     },
     "execution_count": 49,
     "metadata": {},
     "output_type": "execute_result"
    }
   ],
   "source": [
    "from pynndescent import NNDescent\n",
    "# get nearest neighbors\n",
    "nnd = NNDescent(\n",
    "    train_data,\n",
    "    n_neighbors=50,\n",
    "    metric=metric,\n",
    "    n_trees=n_trees,\n",
    "    n_iters=n_iters,\n",
    "    max_candidates=60,\n",
    "    verbose=True\n",
    ")\n",
    "high_ind, _ = nnd.neighbor_graph\n",
    "low_train = load_encoder(train_data).cpu().numpy()\n",
    "nnd = NNDescent(\n",
    "    low_train,\n",
    "    n_neighbors=50,\n",
    "    metric=metric,\n",
    "    n_trees=n_trees,\n",
    "    n_iters=n_iters,\n",
    "    max_candidates=60,\n",
    "    verbose=True\n",
    ")\n",
    "low_ind, _ = nnd.neighbor_graph\n",
    "border_pres = np.zeros(len(train_data))\n",
    "for i in range(len(train_data)):\n",
    "    border_pres[i] = len(np.intersect1d(high_ind[i],low_ind[i]))\n",
    "# tptp K=50\n",
    "border_pres.mean(), border_pres.max(),border_pres.min()"
   ]
  },
  {
   "cell_type": "markdown",
   "metadata": {},
   "source": [
    "#### test"
   ]
  },
  {
   "cell_type": "code",
   "execution_count": 50,
   "metadata": {},
   "outputs": [],
   "source": [
    "fitting_data =  np.concatenate((train_data, test_data), axis=0)"
   ]
  },
  {
   "cell_type": "code",
   "execution_count": 51,
   "metadata": {},
   "outputs": [],
   "source": [
    "# number of trees in random projection forest\n",
    "n_trees = 5 + int(round((fitting_data.shape[0]) ** 0.5 / 20.0))\n",
    "# max number of nearest neighbor iters to perform\n",
    "n_iters = max(5, int(round(np.log2(fitting_data.shape[0]))))\n",
    "# distance metric\n",
    "metric = \"euclidean\""
   ]
  },
  {
   "cell_type": "code",
   "execution_count": 52,
   "metadata": {},
   "outputs": [],
   "source": [
    "low_fitting = load_encoder(fitting_data).cpu().numpy()"
   ]
  },
  {
   "cell_type": "code",
   "execution_count": null,
   "metadata": {},
   "outputs": [],
   "source": [
    "from sklearn.manifold import trustworthiness\n",
    "knns = [10,20,30,50]\n",
    "for k in knns:\n",
    "    trustworthiness = trustworthiness(fitting_data, low_fitting, n_neighbors=k, metric='euclidean')\n",
    "    print(k,trustworthiness)"
   ]
  },
  {
   "cell_type": "code",
   "execution_count": 53,
   "metadata": {},
   "outputs": [
    {
     "name": "stdout",
     "output_type": "stream",
     "text": [
      "Fri Jan 29 19:08:48 2021 Building RP forest with 17 trees\n",
      "Fri Jan 29 19:08:52 2021 NN descent for 16 iterations\n",
      "\t 1  /  16\n",
      "\t 2  /  16\n",
      "\t 3  /  16\n",
      "\tStopping threshold met -- exiting after 3 iterations\n",
      "Fri Jan 29 19:08:53 2021 Building RP forest with 17 trees\n",
      "Fri Jan 29 19:08:53 2021 NN descent for 16 iterations\n",
      "\t 1  /  16\n",
      "\t 2  /  16\n",
      "\tStopping threshold met -- exiting after 2 iterations\n"
     ]
    },
    {
     "data": {
      "text/plain": [
       "(1.7423, 9.0, 1.0)"
      ]
     },
     "execution_count": 53,
     "metadata": {},
     "output_type": "execute_result"
    }
   ],
   "source": [
    "from pynndescent import NNDescent\n",
    "# get nearest neighbors\n",
    "nnd = NNDescent(\n",
    "    fitting_data,\n",
    "    n_neighbors=10,\n",
    "    metric=metric,\n",
    "    n_trees=n_trees,\n",
    "    n_iters=n_iters,\n",
    "    max_candidates=60,\n",
    "    verbose=True\n",
    ")\n",
    "high_ind, _ = nnd.neighbor_graph\n",
    "nnd = NNDescent(\n",
    "    low_fitting,\n",
    "    n_neighbors=10,\n",
    "    metric=metric,\n",
    "    n_trees=n_trees,\n",
    "    n_iters=n_iters,\n",
    "    max_candidates=60,\n",
    "    verbose=True\n",
    ")\n",
    "low_ind, _ = nnd.neighbor_graph\n",
    "\n",
    "border_pres = np.zeros(len(test_data))\n",
    "train_num = len(train_data)\n",
    "test_num = len(fitting_data)\n",
    "for i in range(train_num,test_num,1):\n",
    "    border_pres[i-train_num] = len(np.intersect1d(high_ind[i],low_ind[i]))\n",
    "# tptp K=20\n",
    "border_pres.mean(), border_pres.max(),border_pres.min()"
   ]
  },
  {
   "cell_type": "code",
   "execution_count": 54,
   "metadata": {},
   "outputs": [
    {
     "name": "stdout",
     "output_type": "stream",
     "text": [
      "Fri Jan 29 19:08:55 2021 Building RP forest with 17 trees\n",
      "Fri Jan 29 19:08:58 2021 NN descent for 16 iterations\n",
      "\t 1  /  16\n",
      "\t 2  /  16\n",
      "\tStopping threshold met -- exiting after 2 iterations\n",
      "Fri Jan 29 19:09:01 2021 Building RP forest with 17 trees\n",
      "Fri Jan 29 19:09:01 2021 NN descent for 16 iterations\n",
      "\t 1  /  16\n",
      "\t 2  /  16\n",
      "\tStopping threshold met -- exiting after 2 iterations\n"
     ]
    },
    {
     "data": {
      "text/plain": [
       "(3.1722, 17.0, 1.0)"
      ]
     },
     "execution_count": 54,
     "metadata": {},
     "output_type": "execute_result"
    }
   ],
   "source": [
    "from pynndescent import NNDescent\n",
    "# get nearest neighbors\n",
    "nnd = NNDescent(\n",
    "    fitting_data,\n",
    "    n_neighbors=20,\n",
    "    metric=metric,\n",
    "    n_trees=n_trees,\n",
    "    n_iters=n_iters,\n",
    "    max_candidates=60,\n",
    "    verbose=True\n",
    ")\n",
    "high_ind, _ = nnd.neighbor_graph\n",
    "nnd = NNDescent(\n",
    "    low_fitting,\n",
    "    n_neighbors=20,\n",
    "    metric=metric,\n",
    "    n_trees=n_trees,\n",
    "    n_iters=n_iters,\n",
    "    max_candidates=60,\n",
    "    verbose=True\n",
    ")\n",
    "low_ind, _ = nnd.neighbor_graph\n",
    "\n",
    "border_pres = np.zeros(len(test_data))\n",
    "train_num = len(train_data)\n",
    "test_num = len(fitting_data)\n",
    "for i in range(train_num,test_num,1):\n",
    "    border_pres[i-train_num] = len(np.intersect1d(high_ind[i],low_ind[i]))\n",
    "# tptp K=20\n",
    "border_pres.mean(), border_pres.max(),border_pres.min()"
   ]
  },
  {
   "cell_type": "code",
   "execution_count": 55,
   "metadata": {},
   "outputs": [
    {
     "name": "stdout",
     "output_type": "stream",
     "text": [
      "Fri Jan 29 19:09:03 2021 Building RP forest with 17 trees\n",
      "Fri Jan 29 19:09:06 2021 NN descent for 16 iterations\n",
      "\t 1  /  16\n",
      "\t 2  /  16\n",
      "\tStopping threshold met -- exiting after 2 iterations\n",
      "Fri Jan 29 19:09:11 2021 Building RP forest with 17 trees\n",
      "Fri Jan 29 19:09:11 2021 NN descent for 16 iterations\n",
      "\t 1  /  16\n",
      "\t 2  /  16\n",
      "\tStopping threshold met -- exiting after 2 iterations\n"
     ]
    },
    {
     "data": {
      "text/plain": [
       "(4.982, 27.0, 1.0)"
      ]
     },
     "execution_count": 55,
     "metadata": {},
     "output_type": "execute_result"
    }
   ],
   "source": [
    "from pynndescent import NNDescent\n",
    "# get nearest neighbors\n",
    "nnd = NNDescent(\n",
    "    fitting_data,\n",
    "    n_neighbors=30,\n",
    "    metric=metric,\n",
    "    n_trees=n_trees,\n",
    "    n_iters=n_iters,\n",
    "    max_candidates=60,\n",
    "    verbose=True\n",
    ")\n",
    "high_ind, _ = nnd.neighbor_graph\n",
    "nnd = NNDescent(\n",
    "    low_fitting,\n",
    "    n_neighbors=30,\n",
    "    metric=metric,\n",
    "    n_trees=n_trees,\n",
    "    n_iters=n_iters,\n",
    "    max_candidates=60,\n",
    "    verbose=True\n",
    ")\n",
    "low_ind, _ = nnd.neighbor_graph\n",
    "\n",
    "border_pres = np.zeros(len(test_data))\n",
    "train_num = len(train_data)\n",
    "test_num = len(fitting_data)\n",
    "for i in range(train_num,test_num,1):\n",
    "    border_pres[i-train_num] = len(np.intersect1d(high_ind[i],low_ind[i]))\n",
    "# tptp K=30\n",
    "border_pres.mean(), border_pres.max(),border_pres.min()"
   ]
  },
  {
   "cell_type": "code",
   "execution_count": 56,
   "metadata": {
    "scrolled": false
   },
   "outputs": [
    {
     "name": "stdout",
     "output_type": "stream",
     "text": [
      "Fri Jan 29 19:09:13 2021 Building RP forest with 17 trees\n",
      "Fri Jan 29 19:09:17 2021 NN descent for 16 iterations\n",
      "\t 1  /  16\n",
      "\t 2  /  16\n",
      "\tStopping threshold met -- exiting after 2 iterations\n",
      "Fri Jan 29 19:09:31 2021 Building RP forest with 17 trees\n",
      "Fri Jan 29 19:09:31 2021 NN descent for 16 iterations\n",
      "\t 1  /  16\n",
      "\t 2  /  16\n",
      "\tStopping threshold met -- exiting after 2 iterations\n"
     ]
    },
    {
     "data": {
      "text/plain": [
       "(9.4251, 46.0, 1.0)"
      ]
     },
     "execution_count": 56,
     "metadata": {},
     "output_type": "execute_result"
    }
   ],
   "source": [
    "from pynndescent import NNDescent\n",
    "# get nearest neighbors\n",
    "nnd = NNDescent(\n",
    "    fitting_data,\n",
    "    n_neighbors=50,\n",
    "    metric=metric,\n",
    "    n_trees=n_trees,\n",
    "    n_iters=n_iters,\n",
    "    max_candidates=60,\n",
    "    verbose=True\n",
    ")\n",
    "high_ind, _ = nnd.neighbor_graph\n",
    "nnd = NNDescent(\n",
    "    low_fitting,\n",
    "    n_neighbors=50,\n",
    "    metric=metric,\n",
    "    n_trees=n_trees,\n",
    "    n_iters=n_iters,\n",
    "    max_candidates=60,\n",
    "    verbose=True\n",
    ")\n",
    "low_ind, _ = nnd.neighbor_graph\n",
    "\n",
    "border_pres = np.zeros(len(test_data))\n",
    "train_num = len(train_data)\n",
    "test_num = len(fitting_data)\n",
    "for i in range(train_num,test_num,1):\n",
    "    border_pres[i-train_num] = len(np.intersect1d(high_ind[i],low_ind[i]))\n",
    "# tptp K=50\n",
    "border_pres.mean(), border_pres.max(),border_pres.min()"
   ]
  },
  {
   "cell_type": "markdown",
   "metadata": {},
   "source": [
    "### M_<mixed_complex, k=15> (core) 4 hidden layers,symmetric"
   ]
  },
  {
   "cell_type": "code",
   "execution_count": 57,
   "metadata": {},
   "outputs": [
    {
     "name": "stdout",
     "output_type": "stream",
     "text": [
      "WARNING:tensorflow:No training configuration found in save file, so the model was *not* compiled. Compile it manually.\n",
      "Keras encoder model loaded from parametric_umap_models\\dbp_exp\\encoder_mixed_complex_symmetric_15_4h\n"
     ]
    }
   ],
   "source": [
    "import os\n",
    "save_location = \"parametric_umap_models\\dbp_exp\"\n",
    "# load model\n",
    "# load encoder\n",
    "encoder_output = os.path.join(save_location, \"encoder_mixed_complex_symmetric_15_4h\")\n",
    "if os.path.exists(encoder_output):\n",
    "    load_encoder = tf.keras.models.load_model(encoder_output)\n",
    "    print(\"Keras encoder model loaded from {}\".format(encoder_output))"
   ]
  },
  {
   "cell_type": "markdown",
   "metadata": {},
   "source": [
    "#### train"
   ]
  },
  {
   "cell_type": "code",
   "execution_count": 58,
   "metadata": {},
   "outputs": [],
   "source": [
    "# number of trees in random projection forest\n",
    "n_trees = 5 + int(round((train_data.shape[0]) ** 0.5 / 20.0))\n",
    "# max number of nearest neighbor iters to perform\n",
    "n_iters = max(5, int(round(np.log2(train_data.shape[0]))))\n",
    "# distance metric\n",
    "metric = \"euclidean\""
   ]
  },
  {
   "cell_type": "code",
   "execution_count": 59,
   "metadata": {},
   "outputs": [],
   "source": [
    "low_train = load_encoder(train_data).cpu().numpy()"
   ]
  },
  {
   "cell_type": "code",
   "execution_count": null,
   "metadata": {},
   "outputs": [],
   "source": [
    "from sklearn.manifold import trustworthiness\n",
    "knns = [10,20,30,50]\n",
    "for k in knns:\n",
    "    t = trustworthiness(train_data, low_train, n_neighbors=int(k), metric='euclidean')\n",
    "    print(k,t)"
   ]
  },
  {
   "cell_type": "code",
   "execution_count": 60,
   "metadata": {},
   "outputs": [
    {
     "name": "stdout",
     "output_type": "stream",
     "text": [
      "Fri Jan 29 19:11:50 2021 Building RP forest with 16 trees\n",
      "Fri Jan 29 19:11:52 2021 NN descent for 16 iterations\n",
      "\t 1  /  16\n",
      "\t 2  /  16\n",
      "\t 3  /  16\n",
      "\tStopping threshold met -- exiting after 3 iterations\n",
      "Fri Jan 29 19:11:54 2021 Building RP forest with 16 trees\n",
      "Fri Jan 29 19:11:54 2021 NN descent for 16 iterations\n",
      "\t 1  /  16\n",
      "\t 2  /  16\n",
      "\tStopping threshold met -- exiting after 2 iterations\n"
     ]
    },
    {
     "data": {
      "text/plain": [
       "(1.90072, 9.0, 1.0)"
      ]
     },
     "execution_count": 60,
     "metadata": {},
     "output_type": "execute_result"
    }
   ],
   "source": [
    "from pynndescent import NNDescent\n",
    "# get nearest neighbors\n",
    "nnd = NNDescent(\n",
    "    train_data,\n",
    "    n_neighbors=10,\n",
    "    metric=metric,\n",
    "    n_trees=n_trees,\n",
    "    n_iters=n_iters,\n",
    "    max_candidates=60,\n",
    "    verbose=True\n",
    ")\n",
    "high_ind, _ = nnd.neighbor_graph\n",
    "nnd = NNDescent(\n",
    "    low_train,\n",
    "    n_neighbors=10,\n",
    "    metric=metric,\n",
    "    n_trees=n_trees,\n",
    "    n_iters=n_iters,\n",
    "    max_candidates=60,\n",
    "    verbose=True\n",
    ")\n",
    "low_ind, _ = nnd.neighbor_graph\n",
    "\n",
    "border_pres = np.zeros(len(train_data))\n",
    "for i in range(len(train_data)):\n",
    "    border_pres[i] = len(np.intersect1d(high_ind[i],low_ind[i]))\n",
    "# tptp K=10\n",
    "border_pres.mean(), border_pres.max(),border_pres.min()"
   ]
  },
  {
   "cell_type": "code",
   "execution_count": 61,
   "metadata": {},
   "outputs": [
    {
     "name": "stdout",
     "output_type": "stream",
     "text": [
      "Fri Jan 29 19:11:56 2021 Building RP forest with 16 trees\n",
      "Fri Jan 29 19:11:58 2021 NN descent for 16 iterations\n",
      "\t 1  /  16\n",
      "\t 2  /  16\n",
      "\tStopping threshold met -- exiting after 2 iterations\n",
      "Fri Jan 29 19:12:00 2021 Building RP forest with 16 trees\n",
      "Fri Jan 29 19:12:01 2021 NN descent for 16 iterations\n",
      "\t 1  /  16\n",
      "\t 2  /  16\n",
      "\tStopping threshold met -- exiting after 2 iterations\n"
     ]
    },
    {
     "data": {
      "text/plain": [
       "(3.8022, 19.0, 1.0)"
      ]
     },
     "execution_count": 61,
     "metadata": {},
     "output_type": "execute_result"
    }
   ],
   "source": [
    "from pynndescent import NNDescent\n",
    "# get nearest neighbors\n",
    "nnd = NNDescent(\n",
    "    train_data,\n",
    "    n_neighbors=20,\n",
    "    metric=metric,\n",
    "    n_trees=n_trees,\n",
    "    n_iters=n_iters,\n",
    "    max_candidates=60,\n",
    "    verbose=True\n",
    ")\n",
    "high_ind, _ = nnd.neighbor_graph\n",
    "nnd = NNDescent(\n",
    "    low_train,\n",
    "    n_neighbors=20,\n",
    "    metric=metric,\n",
    "    n_trees=n_trees,\n",
    "    n_iters=n_iters,\n",
    "    max_candidates=60,\n",
    "    verbose=True\n",
    ")\n",
    "low_ind, _ = nnd.neighbor_graph\n",
    "border_pres = np.zeros(len(train_data))\n",
    "for i in range(len(train_data)):\n",
    "    border_pres[i] = len(np.intersect1d(high_ind[i],low_ind[i]))\n",
    "# tptp K=20\n",
    "border_pres.mean(), border_pres.max(),border_pres.min()"
   ]
  },
  {
   "cell_type": "code",
   "execution_count": 62,
   "metadata": {},
   "outputs": [
    {
     "name": "stdout",
     "output_type": "stream",
     "text": [
      "Fri Jan 29 19:12:03 2021 Building RP forest with 16 trees\n",
      "Fri Jan 29 19:12:05 2021 NN descent for 16 iterations\n",
      "\t 1  /  16\n",
      "\t 2  /  16\n",
      "\tStopping threshold met -- exiting after 2 iterations\n",
      "Fri Jan 29 19:12:10 2021 Building RP forest with 16 trees\n",
      "Fri Jan 29 19:12:10 2021 NN descent for 16 iterations\n",
      "\t 1  /  16\n",
      "\t 2  /  16\n",
      "\tStopping threshold met -- exiting after 2 iterations\n"
     ]
    },
    {
     "data": {
      "text/plain": [
       "(6.23442, 29.0, 1.0)"
      ]
     },
     "execution_count": 62,
     "metadata": {},
     "output_type": "execute_result"
    }
   ],
   "source": [
    "from pynndescent import NNDescent\n",
    "# get nearest neighbors\n",
    "nnd = NNDescent(\n",
    "    train_data,\n",
    "    n_neighbors=30,\n",
    "    metric=metric,\n",
    "    n_trees=n_trees,\n",
    "    n_iters=n_iters,\n",
    "    max_candidates=60,\n",
    "    verbose=True\n",
    ")\n",
    "high_ind, _ = nnd.neighbor_graph\n",
    "low_train = load_encoder(train_data).cpu().numpy()\n",
    "nnd = NNDescent(\n",
    "    low_train,\n",
    "    n_neighbors=30,\n",
    "    metric=metric,\n",
    "    n_trees=n_trees,\n",
    "    n_iters=n_iters,\n",
    "    max_candidates=60,\n",
    "    verbose=True\n",
    ")\n",
    "low_ind, _ = nnd.neighbor_graph\n",
    "border_pres = np.zeros(len(train_data))\n",
    "for i in range(len(train_data)):\n",
    "    border_pres[i] = len(np.intersect1d(high_ind[i],low_ind[i]))\n",
    "# tptp K=30\n",
    "border_pres.mean(), border_pres.max(),border_pres.min()"
   ]
  },
  {
   "cell_type": "code",
   "execution_count": 63,
   "metadata": {},
   "outputs": [
    {
     "name": "stdout",
     "output_type": "stream",
     "text": [
      "Fri Jan 29 19:12:12 2021 Building RP forest with 16 trees\n",
      "Fri Jan 29 19:12:15 2021 NN descent for 16 iterations\n",
      "\t 1  /  16\n",
      "\t 2  /  16\n",
      "\tStopping threshold met -- exiting after 2 iterations\n",
      "Fri Jan 29 19:12:27 2021 Building RP forest with 16 trees\n",
      "Fri Jan 29 19:12:27 2021 NN descent for 16 iterations\n",
      "\t 1  /  16\n",
      "\t 2  /  16\n",
      "\tStopping threshold met -- exiting after 2 iterations\n"
     ]
    },
    {
     "data": {
      "text/plain": [
       "(12.2154, 46.0, 1.0)"
      ]
     },
     "execution_count": 63,
     "metadata": {},
     "output_type": "execute_result"
    }
   ],
   "source": [
    "from pynndescent import NNDescent\n",
    "# get nearest neighbors\n",
    "nnd = NNDescent(\n",
    "    train_data,\n",
    "    n_neighbors=50,\n",
    "    metric=metric,\n",
    "    n_trees=n_trees,\n",
    "    n_iters=n_iters,\n",
    "    max_candidates=60,\n",
    "    verbose=True\n",
    ")\n",
    "high_ind, _ = nnd.neighbor_graph\n",
    "low_train = load_encoder(train_data).cpu().numpy()\n",
    "nnd = NNDescent(\n",
    "    low_train,\n",
    "    n_neighbors=50,\n",
    "    metric=metric,\n",
    "    n_trees=n_trees,\n",
    "    n_iters=n_iters,\n",
    "    max_candidates=60,\n",
    "    verbose=True\n",
    ")\n",
    "low_ind, _ = nnd.neighbor_graph\n",
    "border_pres = np.zeros(len(train_data))\n",
    "for i in range(len(train_data)):\n",
    "    border_pres[i] = len(np.intersect1d(high_ind[i],low_ind[i]))\n",
    "# tptp K=50\n",
    "border_pres.mean(), border_pres.max(),border_pres.min()"
   ]
  },
  {
   "cell_type": "markdown",
   "metadata": {},
   "source": [
    "#### test"
   ]
  },
  {
   "cell_type": "code",
   "execution_count": 64,
   "metadata": {},
   "outputs": [],
   "source": [
    "fitting_data =  np.concatenate((train_data, test_data), axis=0)"
   ]
  },
  {
   "cell_type": "code",
   "execution_count": 65,
   "metadata": {},
   "outputs": [],
   "source": [
    "# number of trees in random projection forest\n",
    "n_trees = 5 + int(round((fitting_data.shape[0]) ** 0.5 / 20.0))\n",
    "# max number of nearest neighbor iters to perform\n",
    "n_iters = max(5, int(round(np.log2(fitting_data.shape[0]))))\n",
    "# distance metric\n",
    "metric = \"euclidean\""
   ]
  },
  {
   "cell_type": "code",
   "execution_count": 66,
   "metadata": {},
   "outputs": [],
   "source": [
    "low_fitting = load_encoder(fitting_data).cpu().numpy()"
   ]
  },
  {
   "cell_type": "code",
   "execution_count": null,
   "metadata": {},
   "outputs": [],
   "source": [
    "from sklearn.manifold import trustworthiness\n",
    "knns = [10,20,30,50]\n",
    "for k in knns:\n",
    "    trustworthiness = trustworthiness(fitting_data, low_fitting, n_neighbors=k, metric='euclidean')\n",
    "    print(k,trustworthiness)"
   ]
  },
  {
   "cell_type": "code",
   "execution_count": 67,
   "metadata": {},
   "outputs": [
    {
     "name": "stdout",
     "output_type": "stream",
     "text": [
      "Fri Jan 29 19:12:36 2021 Building RP forest with 17 trees\n",
      "Fri Jan 29 19:12:40 2021 NN descent for 16 iterations\n",
      "\t 1  /  16\n",
      "\t 2  /  16\n",
      "\t 3  /  16\n",
      "\tStopping threshold met -- exiting after 3 iterations\n",
      "Fri Jan 29 19:12:41 2021 Building RP forest with 17 trees\n",
      "Fri Jan 29 19:12:41 2021 NN descent for 16 iterations\n",
      "\t 1  /  16\n",
      "\t 2  /  16\n",
      "\tStopping threshold met -- exiting after 2 iterations\n"
     ]
    },
    {
     "data": {
      "text/plain": [
       "(1.8732, 9.0, 1.0)"
      ]
     },
     "execution_count": 67,
     "metadata": {},
     "output_type": "execute_result"
    }
   ],
   "source": [
    "from pynndescent import NNDescent\n",
    "# get nearest neighbors\n",
    "nnd = NNDescent(\n",
    "    fitting_data,\n",
    "    n_neighbors=10,\n",
    "    metric=metric,\n",
    "    n_trees=n_trees,\n",
    "    n_iters=n_iters,\n",
    "    max_candidates=60,\n",
    "    verbose=True\n",
    ")\n",
    "high_ind, _ = nnd.neighbor_graph\n",
    "nnd = NNDescent(\n",
    "    low_fitting,\n",
    "    n_neighbors=10,\n",
    "    metric=metric,\n",
    "    n_trees=n_trees,\n",
    "    n_iters=n_iters,\n",
    "    max_candidates=60,\n",
    "    verbose=True\n",
    ")\n",
    "low_ind, _ = nnd.neighbor_graph\n",
    "\n",
    "border_pres = np.zeros(len(test_data))\n",
    "train_num = len(train_data)\n",
    "test_num = len(fitting_data)\n",
    "for i in range(train_num,test_num,1):\n",
    "    border_pres[i-train_num] = len(np.intersect1d(high_ind[i],low_ind[i]))\n",
    "# tptp K=20\n",
    "border_pres.mean(), border_pres.max(),border_pres.min()"
   ]
  },
  {
   "cell_type": "code",
   "execution_count": 68,
   "metadata": {},
   "outputs": [
    {
     "name": "stdout",
     "output_type": "stream",
     "text": [
      "Fri Jan 29 19:12:43 2021 Building RP forest with 17 trees\n",
      "Fri Jan 29 19:12:46 2021 NN descent for 16 iterations\n",
      "\t 1  /  16\n",
      "\t 2  /  16\n",
      "\tStopping threshold met -- exiting after 2 iterations\n",
      "Fri Jan 29 19:12:49 2021 Building RP forest with 17 trees\n",
      "Fri Jan 29 19:12:49 2021 NN descent for 16 iterations\n",
      "\t 1  /  16\n",
      "\t 2  /  16\n",
      "\tStopping threshold met -- exiting after 2 iterations\n"
     ]
    },
    {
     "data": {
      "text/plain": [
       "(3.6665, 19.0, 1.0)"
      ]
     },
     "execution_count": 68,
     "metadata": {},
     "output_type": "execute_result"
    }
   ],
   "source": [
    "from pynndescent import NNDescent\n",
    "# get nearest neighbors\n",
    "nnd = NNDescent(\n",
    "    fitting_data,\n",
    "    n_neighbors=20,\n",
    "    metric=metric,\n",
    "    n_trees=n_trees,\n",
    "    n_iters=n_iters,\n",
    "    max_candidates=60,\n",
    "    verbose=True\n",
    ")\n",
    "high_ind, _ = nnd.neighbor_graph\n",
    "nnd = NNDescent(\n",
    "    low_fitting,\n",
    "    n_neighbors=20,\n",
    "    metric=metric,\n",
    "    n_trees=n_trees,\n",
    "    n_iters=n_iters,\n",
    "    max_candidates=60,\n",
    "    verbose=True\n",
    ")\n",
    "low_ind, _ = nnd.neighbor_graph\n",
    "\n",
    "border_pres = np.zeros(len(test_data))\n",
    "train_num = len(train_data)\n",
    "test_num = len(fitting_data)\n",
    "for i in range(train_num,test_num,1):\n",
    "    border_pres[i-train_num] = len(np.intersect1d(high_ind[i],low_ind[i]))\n",
    "# tptp K=20\n",
    "border_pres.mean(), border_pres.max(),border_pres.min()"
   ]
  },
  {
   "cell_type": "code",
   "execution_count": 69,
   "metadata": {},
   "outputs": [
    {
     "name": "stdout",
     "output_type": "stream",
     "text": [
      "Fri Jan 29 19:12:51 2021 Building RP forest with 17 trees\n",
      "Fri Jan 29 19:12:54 2021 NN descent for 16 iterations\n",
      "\t 1  /  16\n",
      "\t 2  /  16\n",
      "\tStopping threshold met -- exiting after 2 iterations\n",
      "Fri Jan 29 19:12:59 2021 Building RP forest with 17 trees\n",
      "Fri Jan 29 19:12:59 2021 NN descent for 16 iterations\n",
      "\t 1  /  16\n",
      "\t 2  /  16\n",
      "\tStopping threshold met -- exiting after 2 iterations\n"
     ]
    },
    {
     "data": {
      "text/plain": [
       "(5.9582, 27.0, 1.0)"
      ]
     },
     "execution_count": 69,
     "metadata": {},
     "output_type": "execute_result"
    }
   ],
   "source": [
    "from pynndescent import NNDescent\n",
    "# get nearest neighbors\n",
    "nnd = NNDescent(\n",
    "    fitting_data,\n",
    "    n_neighbors=30,\n",
    "    metric=metric,\n",
    "    n_trees=n_trees,\n",
    "    n_iters=n_iters,\n",
    "    max_candidates=60,\n",
    "    verbose=True\n",
    ")\n",
    "high_ind, _ = nnd.neighbor_graph\n",
    "nnd = NNDescent(\n",
    "    low_fitting,\n",
    "    n_neighbors=30,\n",
    "    metric=metric,\n",
    "    n_trees=n_trees,\n",
    "    n_iters=n_iters,\n",
    "    max_candidates=60,\n",
    "    verbose=True\n",
    ")\n",
    "low_ind, _ = nnd.neighbor_graph\n",
    "\n",
    "border_pres = np.zeros(len(test_data))\n",
    "train_num = len(train_data)\n",
    "test_num = len(fitting_data)\n",
    "for i in range(train_num,test_num,1):\n",
    "    border_pres[i-train_num] = len(np.intersect1d(high_ind[i],low_ind[i]))\n",
    "# tptp K=30\n",
    "border_pres.mean(), border_pres.max(),border_pres.min()"
   ]
  },
  {
   "cell_type": "code",
   "execution_count": 70,
   "metadata": {
    "scrolled": false
   },
   "outputs": [
    {
     "name": "stdout",
     "output_type": "stream",
     "text": [
      "Fri Jan 29 19:13:02 2021 Building RP forest with 17 trees\n",
      "Fri Jan 29 19:13:05 2021 NN descent for 16 iterations\n",
      "\t 1  /  16\n",
      "\t 2  /  16\n",
      "\tStopping threshold met -- exiting after 2 iterations\n",
      "Fri Jan 29 19:13:19 2021 Building RP forest with 17 trees\n",
      "Fri Jan 29 19:13:19 2021 NN descent for 16 iterations\n",
      "\t 1  /  16\n",
      "\t 2  /  16\n",
      "\tStopping threshold met -- exiting after 2 iterations\n"
     ]
    },
    {
     "data": {
      "text/plain": [
       "(11.5973, 45.0, 1.0)"
      ]
     },
     "execution_count": 70,
     "metadata": {},
     "output_type": "execute_result"
    }
   ],
   "source": [
    "from pynndescent import NNDescent\n",
    "# get nearest neighbors\n",
    "nnd = NNDescent(\n",
    "    fitting_data,\n",
    "    n_neighbors=50,\n",
    "    metric=metric,\n",
    "    n_trees=n_trees,\n",
    "    n_iters=n_iters,\n",
    "    max_candidates=60,\n",
    "    verbose=True\n",
    ")\n",
    "high_ind, _ = nnd.neighbor_graph\n",
    "nnd = NNDescent(\n",
    "    low_fitting,\n",
    "    n_neighbors=50,\n",
    "    metric=metric,\n",
    "    n_trees=n_trees,\n",
    "    n_iters=n_iters,\n",
    "    max_candidates=60,\n",
    "    verbose=True\n",
    ")\n",
    "low_ind, _ = nnd.neighbor_graph\n",
    "\n",
    "border_pres = np.zeros(len(test_data))\n",
    "train_num = len(train_data)\n",
    "test_num = len(fitting_data)\n",
    "for i in range(train_num,test_num,1):\n",
    "    border_pres[i-train_num] = len(np.intersect1d(high_ind[i],low_ind[i]))\n",
    "# tptp K=50\n",
    "border_pres.mean(), border_pres.max(),border_pres.min()"
   ]
  }
 ],
 "metadata": {
  "kernelspec": {
   "display_name": "Python xianglinDR2",
   "language": "python",
   "name": "dr2"
  },
  "language_info": {
   "codemirror_mode": {
    "name": "ipython",
    "version": 3
   },
   "file_extension": ".py",
   "mimetype": "text/x-python",
   "name": "python",
   "nbconvert_exporter": "python",
   "pygments_lexer": "ipython3",
   "version": "3.6.12"
  }
 },
 "nbformat": 4,
 "nbformat_minor": 4
}
