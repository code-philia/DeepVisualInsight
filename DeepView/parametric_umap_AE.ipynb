{
 "cells": [
  {
   "cell_type": "markdown",
   "metadata": {},
   "source": [
    "# Parametric umap autoencoder to visualize GAP layer data"
   ]
  },
  {
   "cell_type": "markdown",
   "metadata": {},
   "source": [
    "## load GAP data"
   ]
  },
  {
   "cell_type": "code",
   "execution_count": 1,
   "metadata": {},
   "outputs": [],
   "source": [
    "import torch\n",
    "import math\n",
    "\n",
    "import numpy as np\n",
    "import torchvision\n",
    "import torchvision.transforms as transforms\n",
    "# from torch.utils.tensorboard import SummaryWriter\n",
    "from tensorboardX import SummaryWriter\n",
    "from cifar10_models import *"
   ]
  },
  {
   "cell_type": "code",
   "execution_count": 2,
   "metadata": {},
   "outputs": [
    {
     "name": "stdout",
     "output_type": "stream",
     "text": [
      "cuda:0\n"
     ]
    }
   ],
   "source": [
    "INPUT_SIZE = 2048\n",
    "device = torch.device('cuda:0' if torch.cuda.is_available() else 'cpu')\n",
    "print(device)"
   ]
  },
  {
   "cell_type": "code",
   "execution_count": 3,
   "metadata": {},
   "outputs": [
    {
     "name": "stdout",
     "output_type": "stream",
     "text": [
      "Load Model successfully...\n"
     ]
    }
   ],
   "source": [
    "# load model\n",
    "model = resnet50(pretrained=True)\n",
    "model.eval()\n",
    "model.to(device)\n",
    "print(\"Load Model successfully...\")"
   ]
  },
  {
   "cell_type": "code",
   "execution_count": 4,
   "metadata": {},
   "outputs": [],
   "source": [
    "# hyperparameters\n",
    "data_shape = (2048,)\n",
    "\n",
    "ADD_NOISE = False\n",
    "n_hidden = 500\n",
    "dim_img = INPUT_SIZE  # number of pixels for a MNIST image\n",
    "dim_z = 2\n",
    "\n",
    "# train\n",
    "n_epochs = 500\n",
    "batch_size = 200\n",
    "learn_rate = 0.001"
   ]
  },
  {
   "cell_type": "code",
   "execution_count": 5,
   "metadata": {},
   "outputs": [
    {
     "name": "stdout",
     "output_type": "stream",
     "text": [
      "Files already downloaded and verified\n"
     ]
    },
    {
     "data": {
      "text/plain": [
       "(50000, 2048)"
      ]
     },
     "execution_count": 5,
     "metadata": {},
     "output_type": "execute_result"
    }
   ],
   "source": [
    "# CIFAR10 Test dataset and dataloader declaration\n",
    "CIFAR_NORM = ((0.4914, 0.4822, 0.4465), (0.2023, 0.1994, 0.2010))\n",
    "transform = transforms.Compose(\n",
    "    [transforms.ToTensor(),\n",
    "     transforms.Normalize(*CIFAR_NORM)])\n",
    "\n",
    "trainset = torchvision.datasets.CIFAR10(root='data', train=True,\n",
    "                                        download=True, transform=transform)\n",
    "trainloader = torch.utils.data.DataLoader(trainset, batch_size=2000,\n",
    "                                          shuffle=True, num_workers=2)\n",
    "training_data = np.zeros((50000, 3, 32, 32))\n",
    "for i, (data, target) in enumerate(trainloader, 0):\n",
    "    r1, r2 = i * 2000, (i + 1) * 2000\n",
    "    training_data[r1:r2] = data\n",
    "\n",
    "raw_input_X = torch.from_numpy(training_data).to(device, dtype=torch.float)\n",
    "input_X = np.zeros([len(raw_input_X), data_shape[0]])\n",
    "n_batches = max(math.ceil(len(raw_input_X) / batch_size), 1)\n",
    "for b in range(n_batches):\n",
    "    r1, r2 = b * batch_size, (b + 1) * batch_size\n",
    "    inputs = raw_input_X[r1:r2]\n",
    "    with torch.no_grad():\n",
    "        pred = model.gap(inputs).cpu().numpy()\n",
    "        input_X[r1:r2] = pred\n",
    "train_data = input_X    # (50000,2048)\n",
    "\n",
    "train_data.shape"
   ]
  },
  {
   "cell_type": "code",
   "execution_count": 8,
   "metadata": {},
   "outputs": [
    {
     "name": "stdout",
     "output_type": "stream",
     "text": [
      "Files already downloaded and verified\n"
     ]
    },
    {
     "data": {
      "text/plain": [
       "(10000, 2048)"
      ]
     },
     "execution_count": 8,
     "metadata": {},
     "output_type": "execute_result"
    }
   ],
   "source": [
    "testset = torchvision.datasets.CIFAR10(root='data', train=False,\n",
    "                                        download=True, transform=transform)\n",
    "testloader = torch.utils.data.DataLoader(testset, batch_size=2000,\n",
    "                                          shuffle=True, num_workers=2)\n",
    "testing_data = np.zeros((10000, 3, 32, 32))\n",
    "for i, (data, target) in enumerate(testloader, 0):\n",
    "    r1, r2 = i * 2000, (i + 1) * 2000\n",
    "    testing_data[r1:r2] = data\n",
    "\n",
    "raw_input_X = torch.from_numpy(testing_data).to(device, dtype=torch.float)\n",
    "input_X = np.zeros([len(raw_input_X), data_shape[0]])\n",
    "n_batches = max(math.ceil(len(raw_input_X) / batch_size), 1)\n",
    "for b in range(n_batches):\n",
    "    r1, r2 = b * batch_size, (b + 1) * batch_size\n",
    "    inputs = raw_input_X[r1:r2]\n",
    "    with torch.no_grad():\n",
    "        pred = model.gap(inputs).cpu().numpy()\n",
    "        input_X[r1:r2] = pred\n",
    "test_data = input_X    # (10000,2048)\n",
    "\n",
    "test_data.shape"
   ]
  },
  {
   "cell_type": "markdown",
   "metadata": {},
   "source": [
    "## load parametric umap"
   ]
  },
  {
   "cell_type": "code",
   "execution_count": 9,
   "metadata": {},
   "outputs": [],
   "source": [
    "from umap.parametric_umap import ParametricUMAP"
   ]
  },
  {
   "cell_type": "code",
   "execution_count": 10,
   "metadata": {},
   "outputs": [
    {
     "name": "stdout",
     "output_type": "stream",
     "text": [
      "Model: \"sequential\"\n",
      "_________________________________________________________________\n",
      "Layer (type)                 Output Shape              Param #   \n",
      "=================================================================\n",
      "flatten (Flatten)            (None, 2048)              0         \n",
      "_________________________________________________________________\n",
      "dense (Dense)                (None, 1024)              2098176   \n",
      "_________________________________________________________________\n",
      "dense_1 (Dense)              (None, 512)               524800    \n",
      "_________________________________________________________________\n",
      "dense_2 (Dense)              (None, 512)               262656    \n",
      "_________________________________________________________________\n",
      "dense_3 (Dense)              (None, 256)               131328    \n",
      "_________________________________________________________________\n",
      "dense_4 (Dense)              (None, 2)                 514       \n",
      "=================================================================\n",
      "Total params: 3,017,474\n",
      "Trainable params: 3,017,474\n",
      "Non-trainable params: 0\n",
      "_________________________________________________________________\n"
     ]
    }
   ],
   "source": [
    "# define encoder\n",
    "import tensorflow as tf\n",
    "dims = (2048,)\n",
    "n_components = 2\n",
    "encoder = tf.keras.Sequential([\n",
    "    tf.keras.layers.InputLayer(input_shape=dims),\n",
    "    tf.keras.layers.Flatten(),\n",
    "    tf.keras.layers.Dense(units=1024, activation=\"relu\"),\n",
    "    tf.keras.layers.Dense(units=512, activation=\"relu\"),\n",
    "    tf.keras.layers.Dense(units=512, activation=\"relu\"),\n",
    "    tf.keras.layers.Dense(units=256, activation=\"relu\"),\n",
    "    tf.keras.layers.Dense(units=n_components),\n",
    "])\n",
    "encoder.summary()"
   ]
  },
  {
   "cell_type": "code",
   "execution_count": 11,
   "metadata": {},
   "outputs": [
    {
     "name": "stdout",
     "output_type": "stream",
     "text": [
      "Model: \"sequential_1\"\n",
      "_________________________________________________________________\n",
      "Layer (type)                 Output Shape              Param #   \n",
      "=================================================================\n",
      "dense_5 (Dense)              (None, 256)               768       \n",
      "_________________________________________________________________\n",
      "dense_6 (Dense)              (None, 512)               131584    \n",
      "_________________________________________________________________\n",
      "dense_7 (Dense)              (None, 512)               262656    \n",
      "_________________________________________________________________\n",
      "dense_8 (Dense)              (None, 1024)              525312    \n",
      "_________________________________________________________________\n",
      "recon (Dense)                (None, 2048)              2099200   \n",
      "_________________________________________________________________\n",
      "reshape (Reshape)            (None, 2048)              0         \n",
      "=================================================================\n",
      "Total params: 3,019,520\n",
      "Trainable params: 3,019,520\n",
      "Non-trainable params: 0\n",
      "_________________________________________________________________\n"
     ]
    }
   ],
   "source": [
    "# define the decoder\n",
    "decoder = tf.keras.Sequential([\n",
    "    tf.keras.layers.InputLayer(input_shape=(n_components)),\n",
    "    tf.keras.layers.Dense(units=256, activation=\"relu\"),\n",
    "    tf.keras.layers.Dense(units=512, activation=\"relu\"),\n",
    "    tf.keras.layers.Dense(units=512, activation=\"relu\"),\n",
    "    tf.keras.layers.Dense(units=1024, activation=\"relu\"),\n",
    "    tf.keras.layers.Dense(units=np.product(dims), name=\"recon\", activation=None),\n",
    "    tf.keras.layers.Reshape(dims),\n",
    "\n",
    "])\n",
    "decoder.summary()"
   ]
  },
  {
   "cell_type": "code",
   "execution_count": 13,
   "metadata": {},
   "outputs": [
    {
     "data": {
      "text/plain": [
       "(50000, 2048)"
      ]
     },
     "execution_count": 13,
     "metadata": {},
     "output_type": "execute_result"
    }
   ],
   "source": [
    "# optimizer = tf.keras.optimizers.Adam(1e-3)\n",
    "batch_size = 1000\n",
    "# validation_data = train_data[-10000:]\n",
    "train_data = train_data\n",
    "\n",
    "keras_fit_kwargs = {\"callbacks\": [\n",
    "    tf.keras.callbacks.EarlyStopping(\n",
    "        monitor='loss',\n",
    "        min_delta=10**-2,\n",
    "        patience=10,\n",
    "        verbose=1,\n",
    "    )\n",
    "]}\n",
    "\n",
    "train_data.shape"
   ]
  },
  {
   "cell_type": "code",
   "execution_count": 14,
   "metadata": {},
   "outputs": [],
   "source": [
    "embedder = ParametricUMAP(\n",
    "    encoder=encoder,\n",
    "    decoder=decoder,\n",
    "    dims=dims,\n",
    "    parametric_reconstruction=True,\n",
    "#     reconstruction_validation=validation_data,\n",
    "    autoencoder_loss=True,\n",
    "    n_training_epochs=100,\n",
    "    keras_fit_kwargs = keras_fit_kwargs,\n",
    "    verbose=True,\n",
    ")"
   ]
  },
  {
   "cell_type": "markdown",
   "metadata": {},
   "source": [
    "## fit model"
   ]
  },
  {
   "cell_type": "code",
   "execution_count": 15,
   "metadata": {},
   "outputs": [
    {
     "name": "stdout",
     "output_type": "stream",
     "text": [
      "ParametricUMAP(autoencoder_loss=True,\n",
      "               decoder=<tensorflow.python.keras.engine.sequential.Sequential object at 0x000001F3E5C6A3C8>,\n",
      "               dims=(2048,),\n",
      "               encoder=<tensorflow.python.keras.engine.sequential.Sequential object at 0x000001F3E5C1F320>,\n",
      "               keras_fit_kwargs={'callbacks': [<tensorflow.python.keras.callbacks.EarlyStopping object at 0x000001F3E5C488D0>]},\n",
      "               n_training_epochs=100,\n",
      "               optimizer=<tensorflow.python.keras.optimizer_v2.adam.Adam object at 0x000001F3E5C48D30>,\n",
      "               parametric_reconstruction=True)\n",
      "Construct fuzzy simplicial set\n",
      "Mon Nov 30 11:44:42 2020 Finding Nearest Neighbors\n",
      "Mon Nov 30 11:44:42 2020 Building RP forest with 16 trees\n",
      "Mon Nov 30 11:44:45 2020 NN descent for 16 iterations\n",
      "\t 1  /  16\n",
      "\t 2  /  16\n",
      "\t 3  /  16\n",
      "\tStopping threshold met -- exiting after 3 iterations\n",
      "Mon Nov 30 11:44:58 2020 Finished Nearest Neighbor Search\n",
      "Mon Nov 30 11:45:00 2020 Construct embedding\n"
     ]
    },
    {
     "name": "stderr",
     "output_type": "stream",
     "text": [
      "D:\\Downloads\\anaconda\\envs\\DR2\\lib\\site-packages\\umap\\parametric_umap.py:270: UserWarning: Data should be scaled to the range 0-1 for cross-entropy reconstruction loss.\n",
      "  \"Data should be scaled to the range 0-1 for cross-entropy reconstruction loss.\"\n"
     ]
    },
    {
     "name": "stdout",
     "output_type": "stream",
     "text": [
      "Epoch 1/1000\n",
      "644/644 [==============================] - 83s 127ms/step - loss: 0.3369 - reconstruction_loss: 0.1553 - umap_loss: 0.1817\n",
      "Epoch 2/1000\n",
      "644/644 [==============================] - 82s 127ms/step - loss: 0.1918 - reconstruction_loss: 0.0971 - umap_loss: 0.0947\n",
      "Epoch 3/1000\n",
      "644/644 [==============================] - 85s 131ms/step - loss: 0.1849 - reconstruction_loss: 0.0955 - umap_loss: 0.0894\n",
      "Epoch 4/1000\n",
      "644/644 [==============================] - 85s 132ms/step - loss: 0.1812 - reconstruction_loss: 0.0942 - umap_loss: 0.0870\n",
      "Epoch 5/1000\n",
      "644/644 [==============================] - 85s 133ms/step - loss: 0.1808 - reconstruction_loss: 0.0939 - umap_loss: 0.0868\n",
      "Epoch 6/1000\n",
      "644/644 [==============================] - 85s 132ms/step - loss: 0.1794 - reconstruction_loss: 0.0937 - umap_loss: 0.0857\n",
      "Epoch 7/1000\n",
      "644/644 [==============================] - 86s 133ms/step - loss: 0.1788 - reconstruction_loss: 0.0937 - umap_loss: 0.0851\n",
      "Epoch 8/1000\n",
      "644/644 [==============================] - 86s 133ms/step - loss: 0.1776 - reconstruction_loss: 0.0936 - umap_loss: 0.0841\n",
      "Epoch 9/1000\n",
      "644/644 [==============================] - 85s 132ms/step - loss: 0.1777 - reconstruction_loss: 0.0938 - umap_loss: 0.0839\n",
      "Epoch 10/1000\n",
      "644/644 [==============================] - 85s 132ms/step - loss: 0.1765 - reconstruction_loss: 0.0937 - umap_loss: 0.0828\n",
      "Epoch 11/1000\n",
      "644/644 [==============================] - 85s 132ms/step - loss: 0.1757 - reconstruction_loss: 0.0935 - umap_loss: 0.0822\n",
      "Epoch 12/1000\n",
      "644/644 [==============================] - 84s 131ms/step - loss: 0.1767 - reconstruction_loss: 0.0937 - umap_loss: 0.0830\n",
      "Epoch 13/1000\n",
      "644/644 [==============================] - 85s 132ms/step - loss: 0.1780 - reconstruction_loss: 0.0937 - umap_loss: 0.0843\n",
      "Epoch 14/1000\n",
      "644/644 [==============================] - 83s 130ms/step - loss: 0.1763 - reconstruction_loss: 0.0936 - umap_loss: 0.0827\n",
      "Epoch 15/1000\n",
      "644/644 [==============================] - 84s 131ms/step - loss: 0.1753 - reconstruction_loss: 0.0935 - umap_loss: 0.0818\n",
      "Epoch 16/1000\n",
      "644/644 [==============================] - 85s 132ms/step - loss: 0.1751 - reconstruction_loss: 0.0934 - umap_loss: 0.0817\n",
      "Epoch 00016: early stopping\n",
      "1563/1563 [==============================] - 3s 2ms/step\n",
      "Mon Nov 30 12:08:44 2020 Finished embedding\n"
     ]
    }
   ],
   "source": [
    "embedding = embedder.fit_transform(train_data)"
   ]
  },
  {
   "cell_type": "code",
   "execution_count": 14,
   "metadata": {},
   "outputs": [
    {
     "name": "stdout",
     "output_type": "stream",
     "text": [
      "WARNING:tensorflow:FOR KERAS USERS: The object that you are saving contains one or more Keras models or layers. If you are loading the SavedModel with `tf.keras.models.load_model`, continue reading (otherwise, you may ignore the following instructions). Please change your code to save with `tf.keras.models.save_model` or `model.save`, and confirm that the file \"keras.metadata\" exists in the export directory. In the future, Keras will only load the SavedModels that have this file. In other words, `tf.saved_model.save` will no longer write SavedModels that can be recovered as Keras models (this will apply in TF 2.5).\n",
      "\n",
      "FOR DEVS: If you are overwriting _tracking_metadata in your class, this property has been used to save metadata in the SavedModel. The metadta field will be deprecated soon, so please move the metadata to a different file.\n",
      "INFO:tensorflow:Assets written to: ./parametric_umap_models/parametric_umap_autoencoder\\encoder\\assets\n",
      "Keras encoder model saved to ./parametric_umap_models/parametric_umap_autoencoder\\encoder\n",
      "WARNING:tensorflow:FOR KERAS USERS: The object that you are saving contains one or more Keras models or layers. If you are loading the SavedModel with `tf.keras.models.load_model`, continue reading (otherwise, you may ignore the following instructions). Please change your code to save with `tf.keras.models.save_model` or `model.save`, and confirm that the file \"keras.metadata\" exists in the export directory. In the future, Keras will only load the SavedModels that have this file. In other words, `tf.saved_model.save` will no longer write SavedModels that can be recovered as Keras models (this will apply in TF 2.5).\n",
      "\n",
      "FOR DEVS: If you are overwriting _tracking_metadata in your class, this property has been used to save metadata in the SavedModel. The metadta field will be deprecated soon, so please move the metadata to a different file.\n",
      "INFO:tensorflow:Assets written to: ./parametric_umap_models/parametric_umap_autoencoder\\decoder\\assets\n",
      "Keras decoder model saved to ./parametric_umap_models/parametric_umap_autoencoder\\decoder\n",
      "WARNING:tensorflow:FOR KERAS USERS: The object that you are saving contains one or more Keras models or layers. If you are loading the SavedModel with `tf.keras.models.load_model`, continue reading (otherwise, you may ignore the following instructions). Please change your code to save with `tf.keras.models.save_model` or `model.save`, and confirm that the file \"keras.metadata\" exists in the export directory. In the future, Keras will only load the SavedModels that have this file. In other words, `tf.saved_model.save` will no longer write SavedModels that can be recovered as Keras models (this will apply in TF 2.5).\n",
      "\n",
      "FOR DEVS: If you are overwriting _tracking_metadata in your class, this property has been used to save metadata in the SavedModel. The metadta field will be deprecated soon, so please move the metadata to a different file.\n",
      "INFO:tensorflow:Assets written to: ./parametric_umap_models/parametric_umap_autoencoder\\parametric_model\\assets\n",
      "Keras full model saved to ./parametric_umap_models/parametric_umap_autoencoder\\parametric_model\n"
     ]
    },
    {
     "ename": "AttributeError",
     "evalue": "Can't pickle local object 'ParametricUMAP._define_model.<locals>.<lambda>'",
     "output_type": "error",
     "traceback": [
      "\u001b[1;31m---------------------------------------------------------------------------\u001b[0m",
      "\u001b[1;31mAttributeError\u001b[0m                            Traceback (most recent call last)",
      "\u001b[1;32m<ipython-input-14-68635b87329b>\u001b[0m in \u001b[0;36m<module>\u001b[1;34m\u001b[0m\n\u001b[1;32m----> 1\u001b[1;33m \u001b[0membedder\u001b[0m\u001b[1;33m.\u001b[0m\u001b[0msave\u001b[0m\u001b[1;33m(\u001b[0m\u001b[1;34m'./parametric_umap_models/parametric_umap_autoencoder'\u001b[0m\u001b[1;33m)\u001b[0m\u001b[1;33m\u001b[0m\u001b[1;33m\u001b[0m\u001b[0m\n\u001b[0m",
      "\u001b[1;32mD:\\Downloads\\anaconda\\envs\\DR2\\lib\\site-packages\\umap\\parametric_umap.py\u001b[0m in \u001b[0;36msave\u001b[1;34m(self, save_location, verbose)\u001b[0m\n\u001b[0;32m    407\u001b[0m             \u001b[0mmodel_output\u001b[0m \u001b[1;33m=\u001b[0m \u001b[0mos\u001b[0m\u001b[1;33m.\u001b[0m\u001b[0mpath\u001b[0m\u001b[1;33m.\u001b[0m\u001b[0mjoin\u001b[0m\u001b[1;33m(\u001b[0m\u001b[0msave_location\u001b[0m\u001b[1;33m,\u001b[0m \u001b[1;34m\"model.pkl\"\u001b[0m\u001b[1;33m)\u001b[0m\u001b[1;33m\u001b[0m\u001b[1;33m\u001b[0m\u001b[0m\n\u001b[0;32m    408\u001b[0m             \u001b[1;32mwith\u001b[0m \u001b[0mopen\u001b[0m\u001b[1;33m(\u001b[0m\u001b[0mmodel_output\u001b[0m\u001b[1;33m,\u001b[0m \u001b[1;34m\"wb\"\u001b[0m\u001b[1;33m)\u001b[0m \u001b[1;32mas\u001b[0m \u001b[0moutput\u001b[0m\u001b[1;33m:\u001b[0m\u001b[1;33m\u001b[0m\u001b[1;33m\u001b[0m\u001b[0m\n\u001b[1;32m--> 409\u001b[1;33m                 \u001b[0mpickle\u001b[0m\u001b[1;33m.\u001b[0m\u001b[0mdump\u001b[0m\u001b[1;33m(\u001b[0m\u001b[0mself\u001b[0m\u001b[1;33m,\u001b[0m \u001b[0moutput\u001b[0m\u001b[1;33m,\u001b[0m \u001b[0mpickle\u001b[0m\u001b[1;33m.\u001b[0m\u001b[0mHIGHEST_PROTOCOL\u001b[0m\u001b[1;33m)\u001b[0m\u001b[1;33m\u001b[0m\u001b[1;33m\u001b[0m\u001b[0m\n\u001b[0m\u001b[0;32m    410\u001b[0m             \u001b[1;32mif\u001b[0m \u001b[0mverbose\u001b[0m\u001b[1;33m:\u001b[0m\u001b[1;33m\u001b[0m\u001b[1;33m\u001b[0m\u001b[0m\n\u001b[0;32m    411\u001b[0m                 \u001b[0mprint\u001b[0m\u001b[1;33m(\u001b[0m\u001b[1;34m\"Pickle of ParametricUMAP model saved to {}\"\u001b[0m\u001b[1;33m.\u001b[0m\u001b[0mformat\u001b[0m\u001b[1;33m(\u001b[0m\u001b[0mmodel_output\u001b[0m\u001b[1;33m)\u001b[0m\u001b[1;33m)\u001b[0m\u001b[1;33m\u001b[0m\u001b[1;33m\u001b[0m\u001b[0m\n",
      "\u001b[1;32mD:\\Downloads\\anaconda\\envs\\DR2\\lib\\site-packages\\umap\\parametric_umap.py\u001b[0m in \u001b[0;36m__getstate__\u001b[1;34m(self)\u001b[0m\n\u001b[0;32m    377\u001b[0m     \u001b[1;32mdef\u001b[0m \u001b[0m__getstate__\u001b[0m\u001b[1;33m(\u001b[0m\u001b[0mself\u001b[0m\u001b[1;33m)\u001b[0m\u001b[1;33m:\u001b[0m\u001b[1;33m\u001b[0m\u001b[1;33m\u001b[0m\u001b[0m\n\u001b[0;32m    378\u001b[0m         \u001b[1;31m# this function supports pickling, making sure that objects can be pickled\u001b[0m\u001b[1;33m\u001b[0m\u001b[1;33m\u001b[0m\u001b[1;33m\u001b[0m\u001b[0m\n\u001b[1;32m--> 379\u001b[1;33m         \u001b[1;32mreturn\u001b[0m \u001b[0mdict\u001b[0m\u001b[1;33m(\u001b[0m\u001b[1;33m(\u001b[0m\u001b[0mk\u001b[0m\u001b[1;33m,\u001b[0m \u001b[0mv\u001b[0m\u001b[1;33m)\u001b[0m \u001b[1;32mfor\u001b[0m \u001b[1;33m(\u001b[0m\u001b[0mk\u001b[0m\u001b[1;33m,\u001b[0m \u001b[0mv\u001b[0m\u001b[1;33m)\u001b[0m \u001b[1;32min\u001b[0m \u001b[0mself\u001b[0m\u001b[1;33m.\u001b[0m\u001b[0m__dict__\u001b[0m\u001b[1;33m.\u001b[0m\u001b[0mitems\u001b[0m\u001b[1;33m(\u001b[0m\u001b[1;33m)\u001b[0m \u001b[1;32mif\u001b[0m \u001b[0mshould_pickle\u001b[0m\u001b[1;33m(\u001b[0m\u001b[0mk\u001b[0m\u001b[1;33m,\u001b[0m \u001b[0mv\u001b[0m\u001b[1;33m)\u001b[0m\u001b[1;33m)\u001b[0m\u001b[1;33m\u001b[0m\u001b[1;33m\u001b[0m\u001b[0m\n\u001b[0m\u001b[0;32m    380\u001b[0m \u001b[1;33m\u001b[0m\u001b[0m\n\u001b[0;32m    381\u001b[0m     \u001b[1;32mdef\u001b[0m \u001b[0msave\u001b[0m\u001b[1;33m(\u001b[0m\u001b[0mself\u001b[0m\u001b[1;33m,\u001b[0m \u001b[0msave_location\u001b[0m\u001b[1;33m,\u001b[0m \u001b[0mverbose\u001b[0m\u001b[1;33m=\u001b[0m\u001b[1;32mTrue\u001b[0m\u001b[1;33m)\u001b[0m\u001b[1;33m:\u001b[0m\u001b[1;33m\u001b[0m\u001b[1;33m\u001b[0m\u001b[0m\n",
      "\u001b[1;32mD:\\Downloads\\anaconda\\envs\\DR2\\lib\\site-packages\\umap\\parametric_umap.py\u001b[0m in \u001b[0;36m<genexpr>\u001b[1;34m(.0)\u001b[0m\n\u001b[0;32m    377\u001b[0m     \u001b[1;32mdef\u001b[0m \u001b[0m__getstate__\u001b[0m\u001b[1;33m(\u001b[0m\u001b[0mself\u001b[0m\u001b[1;33m)\u001b[0m\u001b[1;33m:\u001b[0m\u001b[1;33m\u001b[0m\u001b[1;33m\u001b[0m\u001b[0m\n\u001b[0;32m    378\u001b[0m         \u001b[1;31m# this function supports pickling, making sure that objects can be pickled\u001b[0m\u001b[1;33m\u001b[0m\u001b[1;33m\u001b[0m\u001b[1;33m\u001b[0m\u001b[0m\n\u001b[1;32m--> 379\u001b[1;33m         \u001b[1;32mreturn\u001b[0m \u001b[0mdict\u001b[0m\u001b[1;33m(\u001b[0m\u001b[1;33m(\u001b[0m\u001b[0mk\u001b[0m\u001b[1;33m,\u001b[0m \u001b[0mv\u001b[0m\u001b[1;33m)\u001b[0m \u001b[1;32mfor\u001b[0m \u001b[1;33m(\u001b[0m\u001b[0mk\u001b[0m\u001b[1;33m,\u001b[0m \u001b[0mv\u001b[0m\u001b[1;33m)\u001b[0m \u001b[1;32min\u001b[0m \u001b[0mself\u001b[0m\u001b[1;33m.\u001b[0m\u001b[0m__dict__\u001b[0m\u001b[1;33m.\u001b[0m\u001b[0mitems\u001b[0m\u001b[1;33m(\u001b[0m\u001b[1;33m)\u001b[0m \u001b[1;32mif\u001b[0m \u001b[0mshould_pickle\u001b[0m\u001b[1;33m(\u001b[0m\u001b[0mk\u001b[0m\u001b[1;33m,\u001b[0m \u001b[0mv\u001b[0m\u001b[1;33m)\u001b[0m\u001b[1;33m)\u001b[0m\u001b[1;33m\u001b[0m\u001b[1;33m\u001b[0m\u001b[0m\n\u001b[0m\u001b[0;32m    380\u001b[0m \u001b[1;33m\u001b[0m\u001b[0m\n\u001b[0;32m    381\u001b[0m     \u001b[1;32mdef\u001b[0m \u001b[0msave\u001b[0m\u001b[1;33m(\u001b[0m\u001b[0mself\u001b[0m\u001b[1;33m,\u001b[0m \u001b[0msave_location\u001b[0m\u001b[1;33m,\u001b[0m \u001b[0mverbose\u001b[0m\u001b[1;33m=\u001b[0m\u001b[1;32mTrue\u001b[0m\u001b[1;33m)\u001b[0m\u001b[1;33m:\u001b[0m\u001b[1;33m\u001b[0m\u001b[1;33m\u001b[0m\u001b[0m\n",
      "\u001b[1;32mD:\\Downloads\\anaconda\\envs\\DR2\\lib\\site-packages\\umap\\parametric_umap.py\u001b[0m in \u001b[0;36mshould_pickle\u001b[1;34m(key, val)\u001b[0m\n\u001b[0;32m    863\u001b[0m         \u001b[1;31m## make sure object can be pickled and then re-read\u001b[0m\u001b[1;33m\u001b[0m\u001b[1;33m\u001b[0m\u001b[1;33m\u001b[0m\u001b[0m\n\u001b[0;32m    864\u001b[0m         \u001b[1;31m# pickle object\u001b[0m\u001b[1;33m\u001b[0m\u001b[1;33m\u001b[0m\u001b[1;33m\u001b[0m\u001b[0m\n\u001b[1;32m--> 865\u001b[1;33m         \u001b[0mpickled\u001b[0m \u001b[1;33m=\u001b[0m \u001b[0mcodecs\u001b[0m\u001b[1;33m.\u001b[0m\u001b[0mencode\u001b[0m\u001b[1;33m(\u001b[0m\u001b[0mpickle\u001b[0m\u001b[1;33m.\u001b[0m\u001b[0mdumps\u001b[0m\u001b[1;33m(\u001b[0m\u001b[0mval\u001b[0m\u001b[1;33m)\u001b[0m\u001b[1;33m,\u001b[0m \u001b[1;34m\"base64\"\u001b[0m\u001b[1;33m)\u001b[0m\u001b[1;33m.\u001b[0m\u001b[0mdecode\u001b[0m\u001b[1;33m(\u001b[0m\u001b[1;33m)\u001b[0m\u001b[1;33m\u001b[0m\u001b[1;33m\u001b[0m\u001b[0m\n\u001b[0m\u001b[0;32m    866\u001b[0m         \u001b[1;31m# unpickle object\u001b[0m\u001b[1;33m\u001b[0m\u001b[1;33m\u001b[0m\u001b[1;33m\u001b[0m\u001b[0m\n\u001b[0;32m    867\u001b[0m         \u001b[0munpickled\u001b[0m \u001b[1;33m=\u001b[0m \u001b[0mpickle\u001b[0m\u001b[1;33m.\u001b[0m\u001b[0mloads\u001b[0m\u001b[1;33m(\u001b[0m\u001b[0mcodecs\u001b[0m\u001b[1;33m.\u001b[0m\u001b[0mdecode\u001b[0m\u001b[1;33m(\u001b[0m\u001b[0mpickled\u001b[0m\u001b[1;33m.\u001b[0m\u001b[0mencode\u001b[0m\u001b[1;33m(\u001b[0m\u001b[1;33m)\u001b[0m\u001b[1;33m,\u001b[0m \u001b[1;34m\"base64\"\u001b[0m\u001b[1;33m)\u001b[0m\u001b[1;33m)\u001b[0m\u001b[1;33m\u001b[0m\u001b[1;33m\u001b[0m\u001b[0m\n",
      "\u001b[1;31mAttributeError\u001b[0m: Can't pickle local object 'ParametricUMAP._define_model.<locals>.<lambda>'"
     ]
    }
   ],
   "source": [
    "# embedder.save('./parametric_umap_models/parametric_umap_autoencoder',verbose=True)"
   ]
  },
  {
   "cell_type": "markdown",
   "metadata": {},
   "source": [
    "## eval local structure preserving"
   ]
  },
  {
   "cell_type": "markdown",
   "metadata": {},
   "source": [
    "### trustworthiness"
   ]
  },
  {
   "cell_type": "code",
   "execution_count": 16,
   "metadata": {},
   "outputs": [
    {
     "data": {
      "text/plain": [
       "((50000, 2048), (10000, 2048))"
      ]
     },
     "execution_count": 16,
     "metadata": {},
     "output_type": "execute_result"
    }
   ],
   "source": [
    "train_data.shape, test_data.shape"
   ]
  },
  {
   "cell_type": "code",
   "execution_count": 17,
   "metadata": {},
   "outputs": [],
   "source": [
    "from sklearn.manifold import trustworthiness"
   ]
  },
  {
   "cell_type": "code",
   "execution_count": 18,
   "metadata": {},
   "outputs": [
    {
     "name": "stdout",
     "output_type": "stream",
     "text": [
      "50/50 [==============================] - 1s 14ms/step\n"
     ]
    },
    {
     "data": {
      "text/plain": [
       "0.9848552585301443"
      ]
     },
     "execution_count": 18,
     "metadata": {},
     "output_type": "execute_result"
    }
   ],
   "source": [
    "train_embedded = embedder.transform(train_data)\n",
    "t = trustworthiness(train_data, train_embedded, n_neighbors=10, metric='euclidean')\n",
    "t"
   ]
  },
  {
   "cell_type": "code",
   "execution_count": 19,
   "metadata": {},
   "outputs": [
    {
     "name": "stdout",
     "output_type": "stream",
     "text": [
      "10/10 [==============================] - 8s 43ms/step\n"
     ]
    },
    {
     "data": {
      "text/plain": [
       "0.9828336862136311"
      ]
     },
     "execution_count": 19,
     "metadata": {},
     "output_type": "execute_result"
    }
   ],
   "source": [
    "test_embedded = embedder.transform(test_data)\n",
    "embedded_t = trustworthiness(test_data, test_embedded, n_neighbors=10, metric='euclidean')\n",
    "embedded_t"
   ]
  },
  {
   "cell_type": "code",
   "execution_count": null,
   "metadata": {},
   "outputs": [
    {
     "name": "stdout",
     "output_type": "stream",
     "text": [
      "60/60 [==============================] - 1s 19ms/step\n"
     ]
    }
   ],
   "source": [
    "total_data = np.concatenate((train_data, test_data),axis=0)\n",
    "total_embedded = embedder.transform(total_data)\n",
    "total_t = trustworthiness(total_data, total_embedded, n_neighbors=10, metric='euclidean')\n",
    "total_t"
   ]
  },
  {
   "cell_type": "code",
   "execution_count": null,
   "metadata": {},
   "outputs": [],
   "source": [
    "import matplotlib.pyplot as plt\n",
    "# Project data\n",
    "z = embedder.transform(train_data)\n",
    "\n",
    "fig, ax = plt.subplots(ncols=1, figsize=(10, 8))\n",
    "sc = ax.scatter(\n",
    "    z[:, 0],\n",
    "    z[:, 1],\n",
    "#     c=train_labels,\n",
    "    cmap=\"tab10\",\n",
    "    s=0.1,\n",
    "    alpha=0.5,\n",
    "    rasterized=True,\n",
    ")\n",
    "ax.axis('equal')\n",
    "ax.set_title(\"parametric UMAP autoencoder embeddings-training data\", fontsize=20)"
   ]
  },
  {
   "cell_type": "code",
   "execution_count": null,
   "metadata": {},
   "outputs": [],
   "source": [
    "# Project data\n",
    "z = embedder.transform(test_data)\n",
    "\n",
    "fig, ax = plt.subplots(ncols=1, figsize=(10, 8))\n",
    "sc = ax.scatter(\n",
    "    z[:, 0],\n",
    "    z[:, 1],\n",
    "#     c=train_labels,\n",
    "    cmap=\"tab10\",\n",
    "    s=0.1,\n",
    "    alpha=0.5,\n",
    "    rasterized=True,\n",
    ")\n",
    "ax.axis('equal')\n",
    "ax.set_title(\"parametric UMAP autoencoder embeddings-testing data\", fontsize=20)"
   ]
  },
  {
   "cell_type": "code",
   "execution_count": null,
   "metadata": {},
   "outputs": [],
   "source": [
    "# Project data\n",
    "z = embedder.transform(np.concatenate((train_data, test_data),axis=0))\n",
    "\n",
    "fig, ax = plt.subplots(ncols=1, figsize=(10, 8))\n",
    "sc = ax.scatter(\n",
    "    z[:, 0],\n",
    "    z[:, 1],\n",
    "#     c=train_labels,\n",
    "    cmap=\"tab10\",\n",
    "    s=0.1,\n",
    "    alpha=0.5,\n",
    "    rasterized=True,\n",
    ")\n",
    "ax.axis('equal')\n",
    "ax.set_title(\"parametric UMAP autoencoder embeddings-total data\", fontsize=20)"
   ]
  },
  {
   "cell_type": "markdown",
   "metadata": {},
   "source": [
    "## inverse"
   ]
  },
  {
   "cell_type": "code",
   "execution_count": null,
   "metadata": {},
   "outputs": [],
   "source": [
    "test_num = 50000\n",
    "adv_succ_num = 4000 # max \n",
    "adv_fail_num = 4000 # max\n",
    "true_num = 10000\n",
    "softmax = torch.nn.Softmax(dim=-1)\n",
    "\n",
    "def pred_wrapper(x):\n",
    "    with torch.no_grad():\n",
    "        # tensor = torch.from_numpy(x).to(device, dtype=torch.float)\n",
    "        logits = model.fc(x)\n",
    "        probabilities = softmax(logits).cpu().numpy()\n",
    "    return probabilities\n",
    "\n",
    "# ---------------------load data------------------------------\n",
    "test_samples = training_data[:test_num]\n",
    "true_samples = testing_data[:true_num]\n",
    "\n",
    "Adv_succ = np.load(\"adv_testset\\\\succ.npy\")\n",
    "Adv_fail = np.load(\"adv_testset\\\\fail.npy\")\n",
    "\n",
    "adv_succ = torch.from_numpy(Adv_succ[-adv_succ_num:]).to(device, dtype=torch.float)\n",
    "adv_fail = torch.from_numpy(Adv_fail[-adv_fail_num:]).to(device, dtype=torch.float)\n",
    "\n",
    "raw_input_X = torch.from_numpy(test_samples).to(device, dtype=torch.float)\n",
    "raw_input_X = torch.cat((raw_input_X, adv_succ), axis=0)\n",
    "raw_input_X = torch.cat((raw_input_X, adv_fail), axis=0)\n",
    "raw_input_X = torch.cat((raw_input_X, true_samples), axis=0)\n",
    "\n",
    "input_X = np.zeros([len(raw_input_X), data_shape[0]])\n",
    "output_Y = np.zeros(len(raw_input_X))\n",
    "n_batches = max(math.ceil(len(raw_input_X) / batch_size), 1)\n",
    "for b in range(n_batches):\n",
    "    r1, r2 = b * batch_size, (b + 1) * batch_size\n",
    "    inputs = raw_input_X[r1:r2]\n",
    "    with torch.no_grad():\n",
    "        pred = model.gap(inputs).cpu().numpy()\n",
    "        input_X[r1:r2] = pred\n",
    "        pred = pred_wrapper(torch.from_numpy(pred).to(device, dtype=torch.float)).argmax(axis=1)\n",
    "        output_Y[r1:r2] = pred\n",
    "\n",
    "embedded = embedder.transform(input_X)\n",
    "y_PRR = embedder.inverse_transform(embedded)\n",
    "# y_PRR, embedded = ae.get_ae(encoder, decoder, torch.from_numpy(input_X).float().to(device), batch_size)\n",
    "# y_PRR = y_PRR.detach().numpy()\n",
    "\n",
    "# pick samples for training and testing\n",
    "train_samples = input_X[:test_num]\n",
    "train_labels = output_Y[:test_num]\n",
    "test_adv_succ = input_X[test_num:test_num + adv_succ_num]\n",
    "test_adv_succ_labels = output_Y[test_num:test_num + adv_succ_num]\n",
    "test_adv_fail = input_X[test_num + adv_succ_num:test_num + adv_succ_num + adv_fail_num]\n",
    "test_adv_fail_labels = output_Y[test_num + adv_succ_num:test_num + adv_succ_num + adv_fail_num]\n",
    "test_true = input_X[-true_num:]\n",
    "test_true_labels = output_Y[-true_num:]\n",
    "# apply inverse mapping to embedded samples and\n",
    "# predict the reconstructions\n",
    "train_recon = y_PRR[:test_num]\n",
    "train_recon_preds = pred_wrapper(torch.from_numpy(train_recon).to(device, dtype=torch.float)).argmax(axis=1)\n",
    "train_confidence = pred_wrapper(torch.from_numpy(train_samples).to(device, dtype=torch.float)).max(axis=1)\n",
    "train_new_confidence = pred_wrapper(torch.from_numpy(train_recon).to(device, dtype=torch.float)).max(axis=1)\n",
    "\n",
    "adv_succ_recon = y_PRR[test_num:test_num + adv_succ_num]\n",
    "adv_succ_recon_preds = pred_wrapper(torch.from_numpy(adv_succ_recon).to(device, dtype=torch.float)).argmax(\n",
    "    axis=1)\n",
    "adv_succ_confidence = pred_wrapper(torch.from_numpy(test_adv_succ).to(device, dtype=torch.float)).max(\n",
    "    axis=1)\n",
    "adv_succ_new_confidence = pred_wrapper(torch.from_numpy(adv_succ_recon).to(device, dtype=torch.float)).max(\n",
    "    axis=1)\n",
    "\n",
    "adv_fail_recon = y_PRR[test_num + adv_succ_num:test_num + adv_succ_num + adv_fail_num]\n",
    "adv_fail_recon_preds = pred_wrapper(torch.from_numpy(adv_fail_recon).to(device, dtype=torch.float)).argmax(\n",
    "    axis=1)\n",
    "adv_fail_confidence = pred_wrapper(torch.from_numpy(test_adv_fail).to(device, dtype=torch.float)).max(\n",
    "    axis=1)\n",
    "adv_fail_new_confidence = pred_wrapper(torch.from_numpy(adv_fail_recon).to(device, dtype=torch.float)).max(\n",
    "    axis=1)\n",
    "\n",
    "true_recon = y_PRR[-true_num:]\n",
    "true_recon_preds = pred_wrapper(torch.from_numpy(true_recon).to(device, dtype=torch.float)).argmax(axis=1)\n",
    "true_confidence = pred_wrapper(torch.from_numpy(test_true).to(device, dtype=torch.float)).max(axis=1)\n",
    "true_new_confidence = pred_wrapper(torch.from_numpy(true_recon).to(device, dtype=torch.float)).max(axis=1)\n",
    "\n",
    "# calculate pred accuracy\n",
    "n_correct = np.sum(train_labels == train_recon_preds)\n",
    "train_acc = 100 * n_correct / test_num\n",
    "\n",
    "n_correct = np.sum(test_adv_succ_labels == adv_succ_recon_preds)\n",
    "test_adv_succ_acc = 100 * n_correct / float(adv_succ_num)\n",
    "\n",
    "n_correct = np.sum(test_adv_fail_labels == adv_fail_recon_preds)\n",
    "test_adv_fail_acc = 100 * n_correct / float(adv_fail_num)\n",
    "\n",
    "n_correct = np.sum(test_true_labels == true_recon_preds)\n",
    "test_true_acc = 100 * n_correct / float(true_num)\n",
    "\n",
    "# calculate distance\n",
    "train_distance = np.mean(np.sqrt(np.sum(np.square(train_samples - train_recon), axis=1)))\n",
    "adv_succ_distance = np.mean(np.sqrt(np.sum(np.square(test_adv_succ - adv_succ_recon), axis=1)))\n",
    "adv_fail_distance = np.mean(np.sqrt(np.sum(np.square(test_adv_fail - adv_fail_recon), axis=1)))\n",
    "true_distance = np.mean(np.sqrt(np.sum(np.square(test_true - true_recon), axis=1)))\n",
    "\n",
    "# calculate confidence difference\n",
    "train_conf_diff = np.mean(np.abs(train_confidence - train_new_confidence))\n",
    "adv_succ_conf_diff = np.mean(np.abs(adv_succ_confidence - adv_succ_new_confidence))\n",
    "adv_fail_conf_diff = np.mean(np.abs(adv_fail_confidence - adv_fail_new_confidence))\n",
    "true_conf_diff = np.mean(np.abs(true_confidence - true_new_confidence))\n",
    "\n",
    "print(\"train acc:{:.2f}%, test_succ acc:{:.2f}%, test_fail acc:{:.2f}%, test_true acc:{:.2f}%\".format(\n",
    "    train_acc,\n",
    "    test_adv_succ_acc,\n",
    "    test_adv_fail_acc,\n",
    "    test_true_acc))\n",
    "\n",
    "print(\"train distance:{:.2f}, test_succ dis:{:.2f}, test_fail dis:{:.2f}, test_true dis:{:.2f}\".format(\n",
    "    train_distance,\n",
    "    adv_succ_distance,\n",
    "    adv_fail_distance,\n",
    "    true_distance))\n",
    "print(\n",
    "    \"train con diff:{:.2f}, test_succ con dif:{:.2f}, test_fail con diff:{:.2f}, test_true con diff:{:.2f}\".format(\n",
    "        train_conf_diff,\n",
    "        adv_succ_conf_diff,\n",
    "        adv_fail_conf_diff,\n",
    "        true_conf_diff))"
   ]
  },
  {
   "cell_type": "code",
   "execution_count": 16,
   "metadata": {},
   "outputs": [
    {
     "data": {
      "text/plain": [
       "(array([[2.24464457e-05, 1.18806839e-01, 1.91824138e-02, ...,\n",
       "         7.12189749e-02, 0.00000000e+00, 5.84107824e-04],\n",
       "        [4.93609114e-04, 6.57476438e-03, 7.72310561e-03, ...,\n",
       "         1.51221373e-03, 0.00000000e+00, 1.09400717e-05],\n",
       "        [1.18356664e-02, 5.96838910e-03, 3.03422183e-01, ...,\n",
       "         4.49039554e-03, 3.07281408e-03, 1.70014165e-02],\n",
       "        ...,\n",
       "        [3.79591226e-03, 2.61280060e-01, 1.68406207e-03, ...,\n",
       "         5.30657433e-02, 0.00000000e+00, 0.00000000e+00],\n",
       "        [9.02255252e-03, 5.92675619e-03, 3.36675823e-01, ...,\n",
       "         1.21193682e-03, 3.69105255e-03, 1.50678279e-02],\n",
       "        [0.00000000e+00, 9.76955444e-02, 0.00000000e+00, ...,\n",
       "         4.82328273e-02, 0.00000000e+00, 5.50889410e-02]]),\n",
       " array([[-5.9763203, -2.5881884, -5.224879 , ..., -2.5188477, -4.730977 ,\n",
       "         -5.0103736],\n",
       "        [-6.8242946, -5.548279 , -7.0154877, ..., -6.782976 , -6.996356 ,\n",
       "         -7.970709 ],\n",
       "        [-4.75567  , -5.3914866, -0.8326197, ..., -5.792511 , -4.7953076,\n",
       "         -4.0542755],\n",
       "        ...,\n",
       "        [-6.4172707, -0.8665272, -6.078951 , ..., -2.7482605, -5.657724 ,\n",
       "         -5.09402  ],\n",
       "        [-4.827131 , -5.5655255, -0.7911216, ..., -5.9795427, -4.919854 ,\n",
       "         -4.1672215],\n",
       "        [-7.334951 , -2.831545 , -5.275039 , ..., -3.688819 , -7.739397 ,\n",
       "         -3.9230673]], dtype=float32),\n",
       " array([0.90377975, 0.98292786, 0.96952844, ..., 0.9024353 , 0.9847586 ,\n",
       "        0.8525023 ], dtype=float32),\n",
       " array([0.9999982, 1.       , 1.       , ..., 1.       , 1.       ,\n",
       "        1.       ], dtype=float32))"
      ]
     },
     "execution_count": 16,
     "metadata": {},
     "output_type": "execute_result"
    }
   ],
   "source": [
    "true_confidence = pred_wrapper(torch.from_numpy(test_true).to(device, dtype=torch.float)).max(axis=1)\n",
    "true_new_confidence = pred_wrapper(torch.from_numpy(true_recon).to(device, dtype=torch.float)).max(axis=1)\n",
    "test_true,true_recon,true_confidence, true_new_confidence"
   ]
  },
  {
   "cell_type": "markdown",
   "metadata": {},
   "source": [
    "## Plot metric"
   ]
  },
  {
   "cell_type": "markdown",
   "metadata": {},
   "source": [
    "### training loss"
   ]
  },
  {
   "cell_type": "code",
   "execution_count": 17,
   "metadata": {},
   "outputs": [
    {
     "name": "stdout",
     "output_type": "stream",
     "text": [
      "{'loss': [0.23149721324443817, 0.19227854907512665, 0.18922977149486542, 0.18519651889801025, 0.18418648838996887, 0.18199673295021057, 0.18077556788921356, 0.18097063899040222, 0.18086418509483337, 0.1812390387058258, 0.18028536438941956, 0.1795811504125595, 0.17900389432907104, 0.17854735255241394, 0.17918893694877625, 0.17731943726539612], 'reconstruction_loss': [0.10992393642663956, 0.09523361176252365, 0.0958896055817604, 0.09429077059030533, 0.09416545927524567, 0.09398489445447922, 0.0938488319516182, 0.09391828626394272, 0.09372079372406006, 0.09435935318470001, 0.0937972217798233, 0.09366452693939209, 0.09362693876028061, 0.09360148757696152, 0.09357178956270218, 0.09343650937080383], 'umap_loss': [0.12157342582941055, 0.09704484045505524, 0.09334011375904083, 0.09090562164783478, 0.09002089500427246, 0.08801175653934479, 0.08692678809165955, 0.08705238252878189, 0.08714330196380615, 0.08687962591648102, 0.08648820966482162, 0.08591663837432861, 0.08537700027227402, 0.0849459320306778, 0.08561716228723526, 0.08388294279575348]}\n"
     ]
    },
    {
     "data": {
      "text/plain": [
       "Text(0.5, 0, 'Epoch')"
      ]
     },
     "execution_count": 17,
     "metadata": {},
     "output_type": "execute_result"
    },
    {
     "data": {
      "image/png": "[encoded data removed]",
      "text/plain": [
       "<Figure size 432x288 with 3 Axes>"
      ]
     },
     "metadata": {
      "needs_background": "light"
     },
     "output_type": "display_data"
    }
   ],
   "source": [
    "# plotting loss\n",
    "import matplotlib.pyplot as plt\n",
    "print(embedder._history)\n",
    "\n",
    "# loss\n",
    "ax1 = plt.subplot(212)\n",
    "ax1.plot(embedder._history['loss'])\n",
    "ax1.set_ylabel('Loss')\n",
    "ax1.set_xlabel('Epoch')\n",
    "\n",
    "#umap_loss\n",
    "ax2 = plt.subplot(221)\n",
    "ax2.plot(embedder._history['umap_loss'])\n",
    "ax2.set_ylabel('umap_loss')\n",
    "ax2.set_xlabel('Epoch')\n",
    "\n",
    "# reconstruction loss\n",
    "ax3 = plt.subplot(222)\n",
    "ax3.plot(embedder._history['reconstruction_loss'])\n",
    "ax3.set_ylabel('reconstruction_loss')\n",
    "ax3.set_xlabel('Epoch')"
   ]
  },
  {
   "cell_type": "markdown",
   "metadata": {},
   "source": [
    "### validation loss"
   ]
  },
  {
   "cell_type": "code",
   "execution_count": 18,
   "metadata": {},
   "outputs": [
    {
     "ename": "KeyError",
     "evalue": "'val_loss'",
     "output_type": "error",
     "traceback": [
      "\u001b[1;31m---------------------------------------------------------------------------\u001b[0m",
      "\u001b[1;31mKeyError\u001b[0m                                  Traceback (most recent call last)",
      "\u001b[1;32m<ipython-input-18-533091b8c696>\u001b[0m in \u001b[0;36m<module>\u001b[1;34m\u001b[0m\n\u001b[0;32m      2\u001b[0m \u001b[1;31m# loss\u001b[0m\u001b[1;33m\u001b[0m\u001b[1;33m\u001b[0m\u001b[1;33m\u001b[0m\u001b[0m\n\u001b[0;32m      3\u001b[0m \u001b[0max1\u001b[0m \u001b[1;33m=\u001b[0m \u001b[0mplt\u001b[0m\u001b[1;33m.\u001b[0m\u001b[0msubplot\u001b[0m\u001b[1;33m(\u001b[0m\u001b[1;36m212\u001b[0m\u001b[1;33m)\u001b[0m\u001b[1;33m\u001b[0m\u001b[1;33m\u001b[0m\u001b[0m\n\u001b[1;32m----> 4\u001b[1;33m \u001b[0max1\u001b[0m\u001b[1;33m.\u001b[0m\u001b[0mplot\u001b[0m\u001b[1;33m(\u001b[0m\u001b[0membedder\u001b[0m\u001b[1;33m.\u001b[0m\u001b[0m_history\u001b[0m\u001b[1;33m[\u001b[0m\u001b[1;34m'val_loss'\u001b[0m\u001b[1;33m]\u001b[0m\u001b[1;33m)\u001b[0m\u001b[1;33m\u001b[0m\u001b[1;33m\u001b[0m\u001b[0m\n\u001b[0m\u001b[0;32m      5\u001b[0m \u001b[0max1\u001b[0m\u001b[1;33m.\u001b[0m\u001b[0mset_ylabel\u001b[0m\u001b[1;33m(\u001b[0m\u001b[1;34m'Loss'\u001b[0m\u001b[1;33m)\u001b[0m\u001b[1;33m\u001b[0m\u001b[1;33m\u001b[0m\u001b[0m\n\u001b[0;32m      6\u001b[0m \u001b[0max1\u001b[0m\u001b[1;33m.\u001b[0m\u001b[0mset_xlabel\u001b[0m\u001b[1;33m(\u001b[0m\u001b[1;34m'Epoch'\u001b[0m\u001b[1;33m)\u001b[0m\u001b[1;33m\u001b[0m\u001b[1;33m\u001b[0m\u001b[0m\n",
      "\u001b[1;31mKeyError\u001b[0m: 'val_loss'"
     ]
    },
    {
     "data": {
      "image/png": "[encoded data removed]",
      "text/plain": [
       "<Figure size 432x288 with 1 Axes>"
      ]
     },
     "metadata": {
      "needs_background": "light"
     },
     "output_type": "display_data"
    }
   ],
   "source": [
    "plt.cla()\n",
    "# loss\n",
    "ax1 = plt.subplot(212)\n",
    "ax1.plot(embedder._history['val_loss'])\n",
    "ax1.set_ylabel('Loss')\n",
    "ax1.set_xlabel('Epoch')\n",
    "\n",
    "\n",
    "# reconstruction loss\n",
    "ax3 = plt.subplot(211)\n",
    "ax3.plot(embedder._history['val_reconstruction_loss'])\n",
    "ax3.set_ylabel('val_reconstruction_loss')\n",
    "ax3.set_xlabel('Epoch')"
   ]
  },
  {
   "cell_type": "markdown",
   "metadata": {},
   "source": [
    "# load parametric umap"
   ]
  },
  {
   "cell_type": "code",
   "execution_count": 31,
   "metadata": {},
   "outputs": [
    {
     "ename": "EOFError",
     "evalue": "Ran out of input",
     "output_type": "error",
     "traceback": [
      "\u001b[1;31m---------------------------------------------------------------------------\u001b[0m",
      "\u001b[1;31mEOFError\u001b[0m                                  Traceback (most recent call last)",
      "\u001b[1;32m<ipython-input-31-d4c1c124c4ff>\u001b[0m in \u001b[0;36m<module>\u001b[1;34m\u001b[0m\n\u001b[0;32m      1\u001b[0m \u001b[1;32mfrom\u001b[0m \u001b[0mumap\u001b[0m\u001b[1;33m.\u001b[0m\u001b[0mparametric_umap\u001b[0m \u001b[1;32mimport\u001b[0m \u001b[0mload_ParametricUMAP\u001b[0m\u001b[1;33m\u001b[0m\u001b[1;33m\u001b[0m\u001b[0m\n\u001b[1;32m----> 2\u001b[1;33m \u001b[0mnew_embedder\u001b[0m \u001b[1;33m=\u001b[0m \u001b[0mload_ParametricUMAP\u001b[0m\u001b[1;33m(\u001b[0m\u001b[1;34m'./parametric_umap_models/parametric_umap_autoencoder'\u001b[0m\u001b[1;33m)\u001b[0m\u001b[1;33m\u001b[0m\u001b[1;33m\u001b[0m\u001b[0m\n\u001b[0m",
      "\u001b[1;32mD:\\Downloads\\anaconda\\envs\\DR2\\lib\\site-packages\\umap\\parametric_umap.py\u001b[0m in \u001b[0;36mload_ParametricUMAP\u001b[1;34m(save_location, verbose)\u001b[0m\n\u001b[0;32m    900\u001b[0m \u001b[1;33m\u001b[0m\u001b[0m\n\u001b[0;32m    901\u001b[0m     \u001b[0mmodel_output\u001b[0m \u001b[1;33m=\u001b[0m \u001b[0mos\u001b[0m\u001b[1;33m.\u001b[0m\u001b[0mpath\u001b[0m\u001b[1;33m.\u001b[0m\u001b[0mjoin\u001b[0m\u001b[1;33m(\u001b[0m\u001b[0msave_location\u001b[0m\u001b[1;33m,\u001b[0m \u001b[1;34m\"model.pkl\"\u001b[0m\u001b[1;33m)\u001b[0m\u001b[1;33m\u001b[0m\u001b[1;33m\u001b[0m\u001b[0m\n\u001b[1;32m--> 902\u001b[1;33m     \u001b[0mmodel\u001b[0m \u001b[1;33m=\u001b[0m \u001b[0mpickle\u001b[0m\u001b[1;33m.\u001b[0m\u001b[0mload\u001b[0m\u001b[1;33m(\u001b[0m\u001b[1;33m(\u001b[0m\u001b[0mopen\u001b[0m\u001b[1;33m(\u001b[0m\u001b[0mmodel_output\u001b[0m\u001b[1;33m,\u001b[0m \u001b[1;34m\"rb\"\u001b[0m\u001b[1;33m)\u001b[0m\u001b[1;33m)\u001b[0m\u001b[1;33m)\u001b[0m\u001b[1;33m\u001b[0m\u001b[1;33m\u001b[0m\u001b[0m\n\u001b[0m\u001b[0;32m    903\u001b[0m     \u001b[1;32mif\u001b[0m \u001b[0mverbose\u001b[0m\u001b[1;33m:\u001b[0m\u001b[1;33m\u001b[0m\u001b[1;33m\u001b[0m\u001b[0m\n\u001b[0;32m    904\u001b[0m         \u001b[0mprint\u001b[0m\u001b[1;33m(\u001b[0m\u001b[1;34m\"Pickle of ParametricUMAP model loaded from {}\"\u001b[0m\u001b[1;33m.\u001b[0m\u001b[0mformat\u001b[0m\u001b[1;33m(\u001b[0m\u001b[0mmodel_output\u001b[0m\u001b[1;33m)\u001b[0m\u001b[1;33m)\u001b[0m\u001b[1;33m\u001b[0m\u001b[1;33m\u001b[0m\u001b[0m\n",
      "\u001b[1;31mEOFError\u001b[0m: Ran out of input"
     ]
    }
   ],
   "source": [
    "from umap.parametric_umap import load_ParametricUMAP\n",
    "new_embedder = load_ParametricUMAP('./parametric_umap_models/parametric_umap_autoencoder',verbose=True)"
   ]
  }
 ],
 "metadata": {
  "kernelspec": {
   "display_name": "Python xianglinDR2",
   "language": "python",
   "name": "dr2"
  },
  "language_info": {
   "codemirror_mode": {
    "name": "ipython",
    "version": 3
   },
   "file_extension": ".py",
   "mimetype": "text/x-python",
   "name": "python",
   "nbconvert_exporter": "python",
   "pygments_lexer": "ipython3",
   "version": "3.6.12"
  }
 },
 "nbformat": 4,
 "nbformat_minor": 2
}
