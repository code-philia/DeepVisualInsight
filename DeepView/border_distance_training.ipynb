{
 "cells": [
  {
   "cell_type": "markdown",
   "metadata": {},
   "source": [
    "# border distance training\n",
    "add DBP for training the autoencoder\n",
    "- train_data, ifgsm_augmentation_data, DBP with modified parametric_umap_DBP -> encoder_DBP"
   ]
  },
  {
   "cell_type": "markdown",
   "metadata": {},
   "source": [
    "## import modules"
   ]
  },
  {
   "cell_type": "code",
   "execution_count": 1,
   "metadata": {},
   "outputs": [],
   "source": [
    "import torch\n",
    "import math\n",
    "\n",
    "import numpy as np\n",
    "import torchvision\n",
    "import torchvision.transforms as transforms\n",
    "# from torch.utils.tensorboard import SummaryWriter\n",
    "from tensorboardX import SummaryWriter\n",
    "from cifar10_models import *"
   ]
  },
  {
   "cell_type": "code",
   "execution_count": 2,
   "metadata": {},
   "outputs": [
    {
     "name": "stdout",
     "output_type": "stream",
     "text": [
      "cuda:0\n"
     ]
    }
   ],
   "source": [
    "INPUT_SIZE = 2048\n",
    "device = torch.device('cuda:0' if torch.cuda.is_available() else 'cpu')\n",
    "print(device)"
   ]
  },
  {
   "cell_type": "code",
   "execution_count": 3,
   "metadata": {},
   "outputs": [
    {
     "name": "stdout",
     "output_type": "stream",
     "text": [
      "Load Model successfully...\n"
     ]
    }
   ],
   "source": [
    "# load model\n",
    "model = resnet50(pretrained=True)\n",
    "model.eval()\n",
    "model.to(device)\n",
    "print(\"Load Model successfully...\")"
   ]
  },
  {
   "cell_type": "code",
   "execution_count": 3,
   "metadata": {},
   "outputs": [],
   "source": [
    "# hyperparameters\n",
    "data_shape = (2048,)\n",
    "\n",
    "ADD_NOISE = False\n",
    "n_hidden = 500\n",
    "dim_img = INPUT_SIZE  # number of pixels for a MNIST image\n",
    "dim_z = 2\n",
    "\n",
    "# train\n",
    "n_epochs = 500\n",
    "batch_size = 200\n",
    "learn_rate = 0.001"
   ]
  },
  {
   "cell_type": "code",
   "execution_count": null,
   "metadata": {},
   "outputs": [
    {
     "name": "stdout",
     "output_type": "stream",
     "text": [
      "Files already downloaded and verified\n"
     ]
    }
   ],
   "source": [
    "# CIFAR10 Test dataset and dataloader declaration\n",
    "CIFAR_NORM = ((0.4914, 0.4822, 0.4465), (0.2023, 0.1994, 0.2010))\n",
    "transform = transforms.Compose(\n",
    "    [transforms.ToTensor(),\n",
    "     transforms.Normalize(*CIFAR_NORM)])\n",
    "\n",
    "trainset = torchvision.datasets.CIFAR10(root='data', train=True,\n",
    "                                        download=True, transform=transform)\n",
    "trainloader = torch.utils.data.DataLoader(trainset, batch_size=200,\n",
    "                                          shuffle=True, num_workers=0)\n",
    "training_data = np.zeros((50000, 3, 32, 32))\n",
    "\n",
    "for i, (data, target) in enumerate(trainloader, 0):\n",
    "    r1, r2 = i * 200, (i + 1) * 200\n",
    "    training_data[r1:r2] = data\n",
    "training_data.shape"
   ]
  },
  {
   "cell_type": "code",
   "execution_count": 4,
   "metadata": {},
   "outputs": [
    {
     "ename": "NameError",
     "evalue": "name 'training_data' is not defined",
     "output_type": "error",
     "traceback": [
      "\u001b[1;31m---------------------------------------------------------------------------\u001b[0m",
      "\u001b[1;31mNameError\u001b[0m                                 Traceback (most recent call last)",
      "\u001b[1;32m<ipython-input-4-c6d66729d33b>\u001b[0m in \u001b[0;36m<module>\u001b[1;34m\u001b[0m\n\u001b[0;32m      1\u001b[0m \u001b[0mtrain_pred_labels\u001b[0m \u001b[1;33m=\u001b[0m \u001b[0mnp\u001b[0m\u001b[1;33m.\u001b[0m\u001b[0mzeros\u001b[0m\u001b[1;33m(\u001b[0m\u001b[1;36m50000\u001b[0m\u001b[1;33m)\u001b[0m\u001b[1;33m\u001b[0m\u001b[1;33m\u001b[0m\u001b[0m\n\u001b[1;32m----> 2\u001b[1;33m \u001b[0mraw_input_X\u001b[0m \u001b[1;33m=\u001b[0m \u001b[0mtorch\u001b[0m\u001b[1;33m.\u001b[0m\u001b[0mfrom_numpy\u001b[0m\u001b[1;33m(\u001b[0m\u001b[0mtraining_data\u001b[0m\u001b[1;33m)\u001b[0m\u001b[1;33m.\u001b[0m\u001b[0mto\u001b[0m\u001b[1;33m(\u001b[0m\u001b[0mdevice\u001b[0m\u001b[1;33m,\u001b[0m \u001b[0mdtype\u001b[0m\u001b[1;33m=\u001b[0m\u001b[0mtorch\u001b[0m\u001b[1;33m.\u001b[0m\u001b[0mfloat\u001b[0m\u001b[1;33m)\u001b[0m\u001b[1;33m\u001b[0m\u001b[1;33m\u001b[0m\u001b[0m\n\u001b[0m\u001b[0;32m      3\u001b[0m \u001b[0minput_X\u001b[0m \u001b[1;33m=\u001b[0m \u001b[0mnp\u001b[0m\u001b[1;33m.\u001b[0m\u001b[0mzeros\u001b[0m\u001b[1;33m(\u001b[0m\u001b[1;33m[\u001b[0m\u001b[0mlen\u001b[0m\u001b[1;33m(\u001b[0m\u001b[0mraw_input_X\u001b[0m\u001b[1;33m)\u001b[0m\u001b[1;33m,\u001b[0m \u001b[0mdata_shape\u001b[0m\u001b[1;33m[\u001b[0m\u001b[1;36m0\u001b[0m\u001b[1;33m]\u001b[0m\u001b[1;33m]\u001b[0m\u001b[1;33m)\u001b[0m\u001b[1;33m\u001b[0m\u001b[1;33m\u001b[0m\u001b[0m\n\u001b[0;32m      4\u001b[0m \u001b[0moutput_Y\u001b[0m \u001b[1;33m=\u001b[0m \u001b[0mnp\u001b[0m\u001b[1;33m.\u001b[0m\u001b[0mzeros\u001b[0m\u001b[1;33m(\u001b[0m\u001b[0mlen\u001b[0m\u001b[1;33m(\u001b[0m\u001b[0mraw_input_X\u001b[0m\u001b[1;33m)\u001b[0m\u001b[1;33m)\u001b[0m\u001b[1;33m\u001b[0m\u001b[1;33m\u001b[0m\u001b[0m\n\u001b[0;32m      5\u001b[0m \u001b[0mn_batches\u001b[0m \u001b[1;33m=\u001b[0m \u001b[0mmax\u001b[0m\u001b[1;33m(\u001b[0m\u001b[0mmath\u001b[0m\u001b[1;33m.\u001b[0m\u001b[0mceil\u001b[0m\u001b[1;33m(\u001b[0m\u001b[0mlen\u001b[0m\u001b[1;33m(\u001b[0m\u001b[0mraw_input_X\u001b[0m\u001b[1;33m)\u001b[0m \u001b[1;33m/\u001b[0m \u001b[0mbatch_size\u001b[0m\u001b[1;33m)\u001b[0m\u001b[1;33m,\u001b[0m \u001b[1;36m1\u001b[0m\u001b[1;33m)\u001b[0m\u001b[1;33m\u001b[0m\u001b[1;33m\u001b[0m\u001b[0m\n",
      "\u001b[1;31mNameError\u001b[0m: name 'training_data' is not defined"
     ]
    }
   ],
   "source": [
    "train_pred_labels = np.zeros(50000)\n",
    "raw_input_X = torch.from_numpy(training_data).to(device, dtype=torch.float)\n",
    "input_X = np.zeros([len(raw_input_X), data_shape[0]])\n",
    "output_Y = np.zeros(len(raw_input_X))\n",
    "n_batches = max(math.ceil(len(raw_input_X) / batch_size), 1)\n",
    "for b in range(n_batches):\n",
    "    r1, r2 = b * batch_size, (b + 1) * batch_size\n",
    "    inputs = raw_input_X[r1:r2]\n",
    "    with torch.no_grad():\n",
    "        pred = model.gap(inputs).cpu().numpy()\n",
    "        input_X[r1:r2] = pred\n",
    "        pred = model(inputs).cpu().numpy().argmax(axis=1)\n",
    "        output_Y[r1:r2] = pred\n",
    "train_data = input_X    # (50000,2048)\n",
    "train_pred_labels = output_Y\n",
    "train_data.shape, train_pred_labels.shape"
   ]
  },
  {
   "cell_type": "code",
   "execution_count": 4,
   "metadata": {},
   "outputs": [
    {
     "ename": "NameError",
     "evalue": "name 'train_data' is not defined",
     "output_type": "error",
     "traceback": [
      "\u001b[1;31m---------------------------------------------------------------------------\u001b[0m",
      "\u001b[1;31mNameError\u001b[0m                                 Traceback (most recent call last)",
      "\u001b[1;32m<ipython-input-4-e0cd47ce32f4>\u001b[0m in \u001b[0;36m<module>\u001b[1;34m\u001b[0m\n\u001b[1;32m----> 1\u001b[1;33m \u001b[0mnp\u001b[0m\u001b[1;33m.\u001b[0m\u001b[0msave\u001b[0m\u001b[1;33m(\u001b[0m\u001b[1;34m\"train_data.npy\"\u001b[0m\u001b[1;33m,\u001b[0m\u001b[0mtrain_data\u001b[0m\u001b[1;33m)\u001b[0m\u001b[1;33m\u001b[0m\u001b[1;33m\u001b[0m\u001b[0m\n\u001b[0m\u001b[0;32m      2\u001b[0m \u001b[0mnp\u001b[0m\u001b[1;33m.\u001b[0m\u001b[0msave\u001b[0m\u001b[1;33m(\u001b[0m\u001b[1;34m\"train_pred_labels.npy\"\u001b[0m\u001b[1;33m,\u001b[0m\u001b[0mtrain_pred_labels\u001b[0m\u001b[1;33m)\u001b[0m\u001b[1;33m\u001b[0m\u001b[1;33m\u001b[0m\u001b[0m\n",
      "\u001b[1;31mNameError\u001b[0m: name 'train_data' is not defined"
     ]
    }
   ],
   "source": [
    "np.save(\"train_data.npy\",train_data)\n",
    "np.save(\"train_pred_labels.npy\",train_pred_labels)"
   ]
  },
  {
   "cell_type": "code",
   "execution_count": 4,
   "metadata": {},
   "outputs": [],
   "source": [
    "train_data = np.load(\"train_data.npy\")\n",
    "train_pred_labels = np.load(\"train_pred_labels.npy\")"
   ]
  },
  {
   "cell_type": "code",
   "execution_count": 5,
   "metadata": {},
   "outputs": [],
   "source": [
    "test_data = np.load(\"test_data.npy\")\n",
    "test_pred_labels = np.load(\"test_pred_labels.npy\")"
   ]
  },
  {
   "cell_type": "code",
   "execution_count": 6,
   "metadata": {},
   "outputs": [
    {
     "data": {
      "text/plain": [
       "((5000, 2048), (5000,), (50000, 2048))"
      ]
     },
     "execution_count": 6,
     "metadata": {},
     "output_type": "execute_result"
    }
   ],
   "source": [
    "border_center = np.load(\"border_center.npy\")\n",
    "border_center_labels= np.load(\"border_center_labels.npy\")\n",
    "augmentation_data = np.load(\"augmentation_data.npy\")\n",
    "border_center.shape, border_center_labels.shape, augmentation_data.shape"
   ]
  },
  {
   "cell_type": "code",
   "execution_count": 5,
   "metadata": {},
   "outputs": [
    {
     "data": {
      "text/plain": [
       "((4497, 2048), (4497,))"
      ]
     },
     "execution_count": 5,
     "metadata": {},
     "output_type": "execute_result"
    }
   ],
   "source": [
    "BP_bs = np.load(\"BP_bs.npy\")\n",
    "BP_bs_labels = np.load(\"BP_bs_labels.npy\")\n",
    "BP_bs.shape, BP_bs_labels.shape"
   ]
  },
  {
   "cell_type": "code",
   "execution_count": 7,
   "metadata": {},
   "outputs": [
    {
     "data": {
      "text/plain": [
       "((55000, 2048), (15000, 2048))"
      ]
     },
     "execution_count": 7,
     "metadata": {},
     "output_type": "execute_result"
    }
   ],
   "source": [
    "batch_size = 200\n",
    "\n",
    "train_num = 50000\n",
    "augmentation_num = 10000\n",
    "border_num = 5000\n",
    "# BP_num = \n",
    "val_num = 10000\n",
    "\n",
    "fitting_data = np.concatenate((train_data[-train_num:],\n",
    "#                                augmentation_data[:augmentation_num],\n",
    "                               border_center[:border_num],\n",
    "#                                BP_bs,\n",
    "                              ), axis=0)\n",
    "\n",
    "val_data = np.concatenate((test_data[-val_num:],\n",
    "#                                augmentation_data[:augmentation_num],\n",
    "#                            BP_bs,\n",
    "                           border_center[:border_num]\n",
    "                          ), axis=0)\n",
    "fitting_data.shape, val_data.shape"
   ]
  },
  {
   "cell_type": "code",
   "execution_count": 7,
   "metadata": {},
   "outputs": [],
   "source": [
    "# define encoder\n",
    "import tensorflow as tf\n",
    "physical_devices = tf.config.list_physical_devices('GPU')\n",
    "tf.config.experimental.set_memory_growth(physical_devices[0], True)"
   ]
  },
  {
   "cell_type": "code",
   "execution_count": 8,
   "metadata": {},
   "outputs": [],
   "source": [
    "fitting_data=train_data\n",
    "batch_size=200"
   ]
  },
  {
   "cell_type": "markdown",
   "metadata": {},
   "source": [
    "## define training process"
   ]
  },
  {
   "cell_type": "code",
   "execution_count": 9,
   "metadata": {},
   "outputs": [],
   "source": [
    "# number of trees in random projection forest\n",
    "n_trees = min(64, 5 + int(round((fitting_data.shape[0]) ** 0.5 / 20.0)))\n",
    "# max number of nearest neighbor iters to perform\n",
    "n_iters = max(5, int(round(np.log2(fitting_data.shape[0]))))\n",
    "# distance metric\n",
    "metric = \"euclidean\"\n",
    "# number of neighbors for computing k-neighbor graph\n",
    "n_neighbors = 15"
   ]
  },
  {
   "cell_type": "code",
   "execution_count": 10,
   "metadata": {},
   "outputs": [
    {
     "name": "stdout",
     "output_type": "stream",
     "text": [
      "Fri Jan 29 16:18:56 2021 Building RP forest with 16 trees\n",
      "Fri Jan 29 16:18:59 2021 NN descent for 16 iterations\n",
      "\t 1  /  16\n",
      "\t 2  /  16\n",
      "\t 3  /  16\n",
      "\tStopping threshold met -- exiting after 3 iterations\n"
     ]
    }
   ],
   "source": [
    "from pynndescent import NNDescent\n",
    "# get nearest neighbors\n",
    "nnd = NNDescent(\n",
    "    fitting_data.reshape((len(fitting_data), np.product(np.shape(fitting_data)[1:]))),\n",
    "    n_neighbors=n_neighbors,\n",
    "    metric=metric,\n",
    "    n_trees=n_trees,\n",
    "    n_iters=n_iters,\n",
    "    max_candidates=60,\n",
    "    verbose=True\n",
    ")"
   ]
  },
  {
   "cell_type": "code",
   "execution_count": 11,
   "metadata": {},
   "outputs": [],
   "source": [
    "from sklearn.utils import check_random_state\n",
    "from umap.umap_ import fuzzy_simplicial_set\n",
    "knn_indices, knn_dists = nnd.neighbor_graph\n",
    "random_state = check_random_state(None)"
   ]
  },
  {
   "cell_type": "code",
   "execution_count": 12,
   "metadata": {},
   "outputs": [],
   "source": [
    "umap_graph, sigmas, rhos = fuzzy_simplicial_set(\n",
    "    X=fitting_data,\n",
    "    n_neighbors=n_neighbors,\n",
    "    metric=metric,\n",
    "    random_state=random_state,\n",
    "    knn_indices=knn_indices,\n",
    "    knn_dists=knn_dists,\n",
    ")"
   ]
  },
  {
   "cell_type": "markdown",
   "metadata": {},
   "source": [
    "## define autoencoder"
   ]
  },
  {
   "cell_type": "code",
   "execution_count": 13,
   "metadata": {},
   "outputs": [],
   "source": [
    "# from parametric_umap_DBP import construct_edge_dataset\n",
    "# from parametric_umap_DBP import umap_loss\n",
    "from parametric_umap_DBP import construct_edge_dataset\n",
    "from parametric_umap_DBP import umap_loss\n",
    "# from parametric_umap_DBP import tpdbp_loss"
   ]
  },
  {
   "cell_type": "code",
   "execution_count": 14,
   "metadata": {},
   "outputs": [],
   "source": [
    "dims = (2048,)\n",
    "n_components = 2\n",
    "\n",
    "n_epochs = 200 "
   ]
  },
  {
   "cell_type": "code",
   "execution_count": 15,
   "metadata": {},
   "outputs": [
    {
     "name": "stdout",
     "output_type": "stream",
     "text": [
      "Model: \"sequential\"\n",
      "_________________________________________________________________\n",
      "Layer (type)                 Output Shape              Param #   \n",
      "=================================================================\n",
      "flatten (Flatten)            (None, 2048)              0         \n",
      "_________________________________________________________________\n",
      "dense (Dense)                (None, 1024)              2098176   \n",
      "_________________________________________________________________\n",
      "dense_1 (Dense)              (None, 1024)              1049600   \n",
      "_________________________________________________________________\n",
      "dense_2 (Dense)              (None, 1024)              1049600   \n",
      "_________________________________________________________________\n",
      "dense_3 (Dense)              (None, 1024)              1049600   \n",
      "_________________________________________________________________\n",
      "dense_4 (Dense)              (None, 2)                 2050      \n",
      "=================================================================\n",
      "Total params: 5,249,026\n",
      "Trainable params: 5,249,026\n",
      "Non-trainable params: 0\n",
      "_________________________________________________________________\n"
     ]
    }
   ],
   "source": [
    "encoder = tf.keras.Sequential([\n",
    "    tf.keras.layers.InputLayer(input_shape=dims),\n",
    "    tf.keras.layers.Flatten(),\n",
    "    tf.keras.layers.Dense(units=1024, activation=\"relu\"),\n",
    "    tf.keras.layers.Dense(units=1024, activation=\"relu\"),\n",
    "    tf.keras.layers.Dense(units=1024, activation=\"relu\"),\n",
    "    tf.keras.layers.Dense(units=1024, activation=\"relu\"),\n",
    "    tf.keras.layers.Dense(units=n_components),\n",
    "])\n",
    "encoder.summary()"
   ]
  },
  {
   "cell_type": "code",
   "execution_count": 16,
   "metadata": {},
   "outputs": [
    {
     "name": "stdout",
     "output_type": "stream",
     "text": [
      "Model: \"sequential_1\"\n",
      "_________________________________________________________________\n",
      "Layer (type)                 Output Shape              Param #   \n",
      "=================================================================\n",
      "dense_5 (Dense)              (None, 1024)              3072      \n",
      "_________________________________________________________________\n",
      "dense_6 (Dense)              (None, 1024)              1049600   \n",
      "_________________________________________________________________\n",
      "dense_7 (Dense)              (None, 1024)              1049600   \n",
      "_________________________________________________________________\n",
      "dense_8 (Dense)              (None, 1024)              1049600   \n",
      "_________________________________________________________________\n",
      "recon (Dense)                (None, 2048)              2099200   \n",
      "_________________________________________________________________\n",
      "reshape (Reshape)            (None, 2048)              0         \n",
      "=================================================================\n",
      "Total params: 5,251,072\n",
      "Trainable params: 5,251,072\n",
      "Non-trainable params: 0\n",
      "_________________________________________________________________\n"
     ]
    }
   ],
   "source": [
    "# define the decoder\n",
    "decoder = tf.keras.Sequential([\n",
    "    tf.keras.layers.InputLayer(input_shape=(n_components)),\n",
    "    tf.keras.layers.Dense(units=1024, activation=\"relu\"),\n",
    "    tf.keras.layers.Dense(units=1024, activation=\"relu\"),\n",
    "    tf.keras.layers.Dense(units=1024, activation=\"relu\"),\n",
    "    tf.keras.layers.Dense(units=1024, activation=\"relu\"),\n",
    "    tf.keras.layers.Dense(units=np.product(dims), name=\"recon\", activation=None),\n",
    "    tf.keras.layers.Reshape(dims),\n",
    "\n",
    "])\n",
    "decoder.summary()"
   ]
  },
  {
   "cell_type": "code",
   "execution_count": 17,
   "metadata": {},
   "outputs": [],
   "source": [
    "(\n",
    "    edge_dataset,\n",
    "    batch_size,\n",
    "    n_edges,\n",
    "    head,\n",
    "    tail,\n",
    "    edge_weight,\n",
    ") = construct_edge_dataset(\n",
    "    (train_data, train_data[:10]),\n",
    "    umap_graph,\n",
    "    n_epochs,\n",
    "    batch_size,\n",
    "    parametric_embedding = True,\n",
    "    parametric_reconstruction = True,\n",
    ")"
   ]
  },
  {
   "cell_type": "code",
   "execution_count": 18,
   "metadata": {},
   "outputs": [],
   "source": [
    "# define model\n",
    "# network outputs\n",
    "outputs = {}\n",
    "\n",
    "# inputs\n",
    "to_x = tf.keras.layers.Input(shape=dims, name=\"to_x\")\n",
    "from_x = tf.keras.layers.Input(shape=dims, name=\"from_x\")\n",
    "weight = tf.keras.layers.Input(shape=(1, ), name=\"weight\")\n",
    "inputs = (to_x, from_x, weight)\n",
    "\n",
    "# parametric embedding\n",
    "embedding_to = encoder(to_x)\n",
    "embedding_from = encoder(from_x)\n",
    "\n",
    "# parametric reconstruction\n",
    "embedding_to_recon = decoder(embedding_to)\n",
    "\n",
    "embedding_to_recon = tf.keras.layers.Lambda(\n",
    "    lambda x: x, name=\"reconstruction\"\n",
    ")(embedding_to_recon)\n",
    "\n",
    "outputs[\"reconstruction\"] = embedding_to_recon\n",
    "\n",
    "# concatenate to/from projections for loss computation\n",
    "embedding_to_from = tf.concat((embedding_to, embedding_from, weight), axis=1)\n",
    "embedding_to_from = tf.keras.layers.Lambda(lambda x: x, name=\"umap\")(\n",
    "    embedding_to_from\n",
    ")\n",
    "\n",
    "# weights = tf.keras.layers.Lambda(lambda x: x, name=\"weights\")(\n",
    "#     weight\n",
    "# )\n",
    "\n",
    "\n",
    "outputs[\"umap\"] = embedding_to_from\n",
    "\n",
    "# outputs[\"weights\"] = weights\n",
    "\n",
    "# create model\n",
    "parametric_model = tf.keras.Model(inputs=inputs, outputs=outputs,)"
   ]
  },
  {
   "cell_type": "code",
   "execution_count": 19,
   "metadata": {},
   "outputs": [],
   "source": [
    "from umap.umap_ import find_ab_params\n",
    "min_dist = 0.1\n",
    "_a, _b = find_ab_params(1.0, min_dist)"
   ]
  },
  {
   "cell_type": "code",
   "execution_count": 20,
   "metadata": {},
   "outputs": [],
   "source": [
    "negative_sample_rate = 5\n",
    "optimizer = tf.keras.optimizers.Adam(1e-3)"
   ]
  },
  {
   "cell_type": "code",
   "execution_count": 21,
   "metadata": {},
   "outputs": [],
   "source": [
    "def lr_schedule(epoch):\n",
    "    \"\"\"Learning Rate Schedule\n",
    "\n",
    "    Learning rate is scheduled to be reduced after 80, 120, 160, 180 epochs.\n",
    "    Called automatically every epoch as part of callbacks during training.\n",
    "\n",
    "    # Arguments\n",
    "        epoch (int): The number of epochs\n",
    "\n",
    "    # Returns\n",
    "        lr (float32): learning rate\n",
    "    \"\"\"\n",
    "    lr = 1e-3\n",
    "    if epoch > 5:\n",
    "        lr *= 1e-1\n",
    "    elif epoch > 15:\n",
    "        lr *= 1e-1\n",
    "    print('Learning rate: ', lr)\n",
    "    return lr\n",
    "\n",
    "callbacks = [\n",
    "    tf.keras.callbacks.EarlyStopping(\n",
    "        monitor='loss',\n",
    "        min_delta=10**-2,\n",
    "        patience=10,\n",
    "        verbose=1,\n",
    "    ),\n",
    "    tf.keras.callbacks.TensorBoard(log_dir='logs/mse/',histogram_freq=1),\n",
    "    tf.keras.callbacks.LearningRateScheduler(lr_schedule),\n",
    "#     tf.keras.callbacks.ReduceLROnPlateau(factor=np.sqrt(0.1),\n",
    "#                                cooldown=0,\n",
    "#                                patience=5,\n",
    "#                                min_lr=0.5e-6)\n",
    "]"
   ]
  },
  {
   "cell_type": "code",
   "execution_count": 22,
   "metadata": {},
   "outputs": [],
   "source": [
    "#compile models\n",
    "losses = {}\n",
    "loss_weights = {}\n",
    "\n",
    "umap_loss_fn = umap_loss(\n",
    "    batch_size,\n",
    "    negative_sample_rate,\n",
    "    _a,\n",
    "    _b,\n",
    "    edge_weight,\n",
    "    True,\n",
    ")\n",
    "\n",
    "losses[\"umap\"] = umap_loss_fn\n",
    "loss_weights[\"umap\"] = 1.0\n",
    "\n",
    "# losses[\"weights\"] = tpdbp_loss_fn\n",
    "# loss_weights[\"weights\"] = 0.1\n",
    "\n",
    "losses[\"reconstruction\"] = tf.keras.losses.MeanSquaredError()\n",
    "loss_weights[\"reconstruction\"] = 1.0\n",
    "\n",
    "parametric_model.compile(\n",
    "    optimizer=optimizer, loss=losses, loss_weights=loss_weights,\n",
    ")"
   ]
  },
  {
   "cell_type": "markdown",
   "metadata": {},
   "source": [
    "## fitting model"
   ]
  },
  {
   "cell_type": "code",
   "execution_count": 23,
   "metadata": {},
   "outputs": [],
   "source": [
    "steps_per_epoch = int(\n",
    "    n_edges / batch_size / 10\n",
    ")\n",
    "# val_steps_per_epoch = int(\n",
    "#     val_n_edges / batch_size / 5\n",
    "# )"
   ]
  },
  {
   "cell_type": "code",
   "execution_count": 24,
   "metadata": {
    "scrolled": true
   },
   "outputs": [
    {
     "name": "stdout",
     "output_type": "stream",
     "text": [
      "Epoch 1/20\n",
      "Learning rate:  0.001\n",
      "3221/3221 [==============================] - 65s 20ms/step - loss: 0.1330 - reconstruction_loss: 0.0015 - umap_loss: 0.1316\n",
      "Epoch 2/20\n",
      "Learning rate:  0.001\n",
      "3221/3221 [==============================] - 59s 18ms/step - loss: 0.1046 - reconstruction_loss: 3.7446e-04 - umap_loss: 0.1042\n",
      "Epoch 3/20\n",
      "Learning rate:  0.001\n",
      "3221/3221 [==============================] - 56s 17ms/step - loss: 0.1024 - reconstruction_loss: 2.6980e-04 - umap_loss: 0.1021\n",
      "Epoch 4/20\n",
      "Learning rate:  0.001\n",
      "3221/3221 [==============================] - 57s 18ms/step - loss: 0.1003 - reconstruction_loss: 2.2426e-04 - umap_loss: 0.1000\n",
      "Epoch 5/20\n",
      "Learning rate:  0.001\n",
      "3221/3221 [==============================] - 57s 18ms/step - loss: 0.0998 - reconstruction_loss: 1.9252e-04 - umap_loss: 0.0996\n",
      "Epoch 6/20\n",
      "Learning rate:  0.001\n",
      "3221/3221 [==============================] - 57s 18ms/step - loss: 0.0972 - reconstruction_loss: 1.7034e-04 - umap_loss: 0.0971\n",
      "Epoch 7/20\n",
      "Learning rate:  0.0001\n",
      "3221/3221 [==============================] - 57s 18ms/step - loss: 0.0941 - reconstruction_loss: 1.1254e-04 - umap_loss: 0.0940\n",
      "Epoch 8/20\n",
      "Learning rate:  0.0001\n",
      "3221/3221 [==============================] - 57s 18ms/step - loss: 0.0918 - reconstruction_loss: 9.3536e-05 - umap_loss: 0.0918\n",
      "Epoch 9/20\n",
      "Learning rate:  0.0001\n",
      "3221/3221 [==============================] - 57s 18ms/step - loss: 0.0901 - reconstruction_loss: 8.5832e-05 - umap_loss: 0.0900\n",
      "Epoch 10/20\n",
      "Learning rate:  0.0001\n",
      "3221/3221 [==============================] - 58s 18ms/step - loss: 0.0889 - reconstruction_loss: 8.2848e-05 - umap_loss: 0.0888\n",
      "Epoch 11/20\n",
      "Learning rate:  0.0001\n",
      "3221/3221 [==============================] - 57s 18ms/step - loss: 0.0884 - reconstruction_loss: 8.0071e-05 - umap_loss: 0.0883\n",
      "Epoch 12/20\n",
      "Learning rate:  0.0001\n",
      "3221/3221 [==============================] - 57s 18ms/step - loss: 0.0881 - reconstruction_loss: 8.1017e-05 - umap_loss: 0.0880\n",
      "Epoch 13/20\n",
      "Learning rate:  0.0001\n",
      "3221/3221 [==============================] - 57s 18ms/step - loss: 0.0874 - reconstruction_loss: 7.9243e-05 - umap_loss: 0.0873\n",
      "Epoch 14/20\n",
      "Learning rate:  0.0001\n",
      "3221/3221 [==============================] - 57s 18ms/step - loss: 0.0873 - reconstruction_loss: 7.7960e-05 - umap_loss: 0.0872\n",
      "Epoch 15/20\n",
      "Learning rate:  0.0001\n",
      "3221/3221 [==============================] - 57s 18ms/step - loss: 0.0865 - reconstruction_loss: 7.7537e-05 - umap_loss: 0.0864\n",
      "Epoch 16/20\n",
      "Learning rate:  0.0001\n",
      "3221/3221 [==============================] - 57s 18ms/step - loss: 0.0861 - reconstruction_loss: 7.7995e-05 - umap_loss: 0.0860\n",
      "Epoch 17/20\n",
      "Learning rate:  0.0001\n",
      "3221/3221 [==============================] - 57s 18ms/step - loss: 0.0857 - reconstruction_loss: 7.6640e-05 - umap_loss: 0.0856\n",
      "Epoch 18/20\n",
      "Learning rate:  0.0001\n",
      "3221/3221 [==============================] - 57s 18ms/step - loss: 0.0860 - reconstruction_loss: 7.7204e-05 - umap_loss: 0.0859\n",
      "Epoch 00018: early stopping\n"
     ]
    }
   ],
   "source": [
    "# create embedding\n",
    "history = parametric_model.fit(\n",
    "    edge_dataset,\n",
    "    epochs=20,\n",
    "    steps_per_epoch=steps_per_epoch,\n",
    "    callbacks=callbacks,\n",
    "    max_queue_size=100,\n",
    "#     validation_data=val_edge_dataset,\n",
    "#     validation_steps=val_steps_per_epoch,\n",
    "    \n",
    ")"
   ]
  },
  {
   "cell_type": "code",
   "execution_count": 25,
   "metadata": {},
   "outputs": [],
   "source": [
    "import matplotlib.pyplot as plt"
   ]
  },
  {
   "cell_type": "code",
   "execution_count": 26,
   "metadata": {},
   "outputs": [
    {
     "data": {
      "text/plain": [
       "dict_keys(['loss', 'reconstruction_loss', 'umap_loss', 'lr'])"
      ]
     },
     "execution_count": 26,
     "metadata": {},
     "output_type": "execute_result"
    }
   ],
   "source": [
    "history.history.keys()"
   ]
  },
  {
   "cell_type": "code",
   "execution_count": 27,
   "metadata": {},
   "outputs": [
    {
     "data": {
      "text/plain": [
       "[<matplotlib.lines.Line2D at 0x1e3043a4278>]"
      ]
     },
     "execution_count": 27,
     "metadata": {},
     "output_type": "execute_result"
    },
    {
     "data": {
      "image/png": "[encoded data removed]",
      "text/plain": [
       "<Figure size 432x288 with 3 Axes>"
      ]
     },
     "metadata": {
      "needs_background": "light"
     },
     "output_type": "display_data"
    }
   ],
   "source": [
    "plt.figure(1)\n",
    "plt.subplot(411)\n",
    "plt.plot(history.history['loss'])\n",
    "plt.subplot(423)\n",
    "plt.plot(history.history['umap_loss'])\n",
    "plt.subplot(424)\n",
    "plt.plot(history.history['reconstruction_loss'])\n",
    "# plt.subplot(413)\n",
    "# plt.plot(history.history['val_loss'])\n",
    "# plt.subplot(427)\n",
    "# plt.plot(history.history['val_umap_loss'])\n",
    "# plt.subplot(428)\n",
    "# plt.plot(history.history['val_reconstruction_loss'])"
   ]
  },
  {
   "cell_type": "code",
   "execution_count": 28,
   "metadata": {},
   "outputs": [],
   "source": [
    "z = encoder.predict(train_data)"
   ]
  },
  {
   "cell_type": "code",
   "execution_count": 31,
   "metadata": {},
   "outputs": [
    {
     "data": {
      "text/plain": [
       "Text(0.5, 1.0, 'UMAP embeddings')"
      ]
     },
     "execution_count": 31,
     "metadata": {},
     "output_type": "execute_result"
    },
    {
     "data": {
      "image/png": "[encoded data removed]",
      "text/plain": [
       "<Figure size 720x576 with 1 Axes>"
      ]
     },
     "metadata": {
      "needs_background": "light"
     },
     "output_type": "display_data"
    }
   ],
   "source": [
    "fig, ax = plt.subplots(ncols=1, figsize=(10, 8))\n",
    "sc = ax.scatter(\n",
    "    z[:, 0],\n",
    "    z[:, 1],\n",
    "    c=train_pred_labels,\n",
    "    cmap=\"tab10\",\n",
    "    s=0.1,\n",
    "    alpha=0.5,\n",
    "    rasterized=True,\n",
    ")\n",
    "ax.axis('equal')\n",
    "ax.set_title(\"UMAP embeddings\", fontsize=20)"
   ]
  },
  {
   "cell_type": "code",
   "execution_count": 32,
   "metadata": {},
   "outputs": [
    {
     "name": "stdout",
     "output_type": "stream",
     "text": [
      "WARNING:tensorflow:FOR KERAS USERS: The object that you are saving contains one or more Keras models or layers. If you are loading the SavedModel with `tf.keras.models.load_model`, continue reading (otherwise, you may ignore the following instructions). Please change your code to save with `tf.keras.models.save_model` or `model.save`, and confirm that the file \"keras.metadata\" exists in the export directory. In the future, Keras will only load the SavedModels that have this file. In other words, `tf.saved_model.save` will no longer write SavedModels that can be recovered as Keras models (this will apply in TF 2.5).\n",
      "\n",
      "FOR DEVS: If you are overwriting _tracking_metadata in your class, this property has been used to save metadata in the SavedModel. The metadta field will be deprecated soon, so please move the metadata to a different file.\n",
      "INFO:tensorflow:Assets written to: parametric_umap_models\\dbp_exp\\encoder_core_tptp_4h\\assets\n",
      "Keras encoder model saved to parametric_umap_models\\dbp_exp\\encoder_core_tptp_4h\n",
      "WARNING:tensorflow:FOR KERAS USERS: The object that you are saving contains one or more Keras models or layers. If you are loading the SavedModel with `tf.keras.models.load_model`, continue reading (otherwise, you may ignore the following instructions). Please change your code to save with `tf.keras.models.save_model` or `model.save`, and confirm that the file \"keras.metadata\" exists in the export directory. In the future, Keras will only load the SavedModels that have this file. In other words, `tf.saved_model.save` will no longer write SavedModels that can be recovered as Keras models (this will apply in TF 2.5).\n",
      "\n",
      "FOR DEVS: If you are overwriting _tracking_metadata in your class, this property has been used to save metadata in the SavedModel. The metadta field will be deprecated soon, so please move the metadata to a different file.\n",
      "INFO:tensorflow:Assets written to: parametric_umap_models\\dbp_exp\\decoder_core_tptp_4h\\assets\n",
      "Keras decoder model saved to parametric_umap_models\\dbp_exp\\decoder_core_tptp_4h\n"
     ]
    }
   ],
   "source": [
    "# save\n",
    "import os\n",
    "\n",
    "save_location = \"parametric_umap_models\\dbp_exp\"\n",
    "# # save encoder\n",
    "encoder_output = os.path.join(save_location, \"encoder_core_tptp_4h\")\n",
    "encoder.save(encoder_output)\n",
    "print(\"Keras encoder model saved to {}\".format(encoder_output))\n",
    "\n",
    "# # save decoder\n",
    "decoder_output = os.path.join(save_location, \"decoder_core_tptp_4h\")\n",
    "decoder.save(decoder_output)\n",
    "print(\"Keras decoder model saved to {}\".format(decoder_output))"
   ]
  },
  {
   "cell_type": "code",
   "execution_count": 54,
   "metadata": {},
   "outputs": [
    {
     "name": "stdout",
     "output_type": "stream",
     "text": [
      "WARNING:tensorflow:No training configuration found in save file, so the model was *not* compiled. Compile it manually.\n",
      "Keras encoder model loaded from parametric_umap_models\\parametric_umap_autoencoder\\encoder_original\n",
      "WARNING:tensorflow:No training configuration found in save file, so the model was *not* compiled. Compile it manually.\n",
      "Keras encoder model loaded from parametric_umap_models\\parametric_umap_autoencoder\\decoder_original\n"
     ]
    }
   ],
   "source": [
    "import os\n",
    "save_location = \"parametric_umap_models\\parametric_umap_autoencoder\"\n",
    "# load model\n",
    "# load encoder\n",
    "encoder_output = os.path.join(save_location, \"encoder_original\")\n",
    "if os.path.exists(encoder_output):\n",
    "    encoder = tf.keras.models.load_model(encoder_output)\n",
    "    print(\"Keras encoder model loaded from {}\".format(encoder_output))\n",
    "    \n",
    "decoder_output = os.path.join(save_location, \"decoder_original\")\n",
    "if os.path.exists(decoder_output):\n",
    "    decoder = tf.keras.models.load_model(decoder_output)\n",
    "    print(\"Keras encoder model loaded from {}\".format(decoder_output))"
   ]
  },
  {
   "cell_type": "code",
   "execution_count": 29,
   "metadata": {},
   "outputs": [
    {
     "name": "stdout",
     "output_type": "stream",
     "text": [
      "WARNING:tensorflow:From <ipython-input-29-6022a8510912>:1: _EagerTensorBase.cpu (from tensorflow.python.framework.ops) is deprecated and will be removed in a future version.\n",
      "Instructions for updating:\n",
      "Use tf.identity instead.\n"
     ]
    }
   ],
   "source": [
    "low_train = encoder(train_data).cpu().numpy()\n",
    "from sklearn.neighbors import KDTree\n",
    "high_tree = KDTree(train_data) \n",
    "low_tree = KDTree(low_train)"
   ]
  },
  {
   "cell_type": "code",
   "execution_count": null,
   "metadata": {},
   "outputs": [],
   "source": [
    "# k=15\n",
    "_, high_ind = high_tree.query(train_data, k=10) \n",
    "_, low_ind = low_tree.query(low_train, k=10)\n",
    "border_pres = np.zeros(len(train_data))\n",
    "for i in range(len(train_data)):\n",
    "    border_pres[i] = len(np.intersect1d(high_ind[i],low_ind[i]))\n",
    "# new complex core K=10\n",
    "border_pres.mean(), border_pres.max(),border_pres.min()"
   ]
  },
  {
   "cell_type": "code",
   "execution_count": null,
   "metadata": {},
   "outputs": [],
   "source": [
    "# k=15\n",
    "_, high_ind = high_tree.query(train_data, k=20) \n",
    "_, low_ind = low_tree.query(low_train, k=20)\n",
    "border_pres = np.zeros(len(train_data))\n",
    "for i in range(len(train_data)):\n",
    "    border_pres[i] = len(np.intersect1d(high_ind[i],low_ind[i]))\n",
    "# new complex core K=10\n",
    "border_pres.mean(), border_pres.max(),border_pres.min()"
   ]
  }
 ],
 "metadata": {
  "kernelspec": {
   "display_name": "Python xianglinDR2",
   "language": "python",
   "name": "dr2"
  },
  "language_info": {
   "codemirror_mode": {
    "name": "ipython",
    "version": 3
   },
   "file_extension": ".py",
   "mimetype": "text/x-python",
   "name": "python",
   "nbconvert_exporter": "python",
   "pygments_lexer": "ipython3",
   "version": "3.6.12"
  }
 },
 "nbformat": 4,
 "nbformat_minor": 4
}
