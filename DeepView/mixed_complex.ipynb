{
 "cells": [
  {
   "cell_type": "markdown",
   "metadata": {},
   "source": [
    "# build a new complex to increase border preserving property\n",
    "1. clustering training dataset(minhash)\n",
    "2. connect CP to the K nearest DPs\n",
    "3. use those edges to train a dimension reduction autoencoder"
   ]
  },
  {
   "cell_type": "markdown",
   "metadata": {},
   "source": [
    "## import modules"
   ]
  },
  {
   "cell_type": "code",
   "execution_count": 1,
   "metadata": {},
   "outputs": [],
   "source": [
    "import torch\n",
    "import math\n",
    "import time\n",
    "import numpy as np\n",
    "from sklearn.cluster import DBSCAN"
   ]
  },
  {
   "cell_type": "code",
   "execution_count": 2,
   "metadata": {},
   "outputs": [],
   "source": [
    "# hyperparameters\n",
    "data_shape = (2048,)\n",
    "n_hidden = 500\n",
    "dim_z = 2\n",
    "\n",
    "# train\n",
    "n_epochs = 500\n",
    "batch_size = 200\n",
    "learn_rate = 0.001"
   ]
  },
  {
   "cell_type": "code",
   "execution_count": 3,
   "metadata": {},
   "outputs": [],
   "source": [
    "train_data = np.load(\"train_data.npy\")\n",
    "train_pred_labels = np.load(\"train_pred_labels.npy\")"
   ]
  },
  {
   "cell_type": "code",
   "execution_count": 4,
   "metadata": {},
   "outputs": [],
   "source": [
    "test_data = np.load(\"test_data.npy\")\n",
    "test_pred_labels = np.load(\"test_pred_labels.npy\")"
   ]
  },
  {
   "cell_type": "code",
   "execution_count": 5,
   "metadata": {},
   "outputs": [
    {
     "data": {
      "text/plain": [
       "((5000, 2048), (5000,), (50000, 2048))"
      ]
     },
     "execution_count": 5,
     "metadata": {},
     "output_type": "execute_result"
    }
   ],
   "source": [
    "border_center = np.load(\"border_center.npy\")\n",
    "border_center_labels= np.load(\"border_center_labels.npy\")\n",
    "augmentation_data = np.load(\"augmentation_data.npy\")\n",
    "border_center.shape, border_center_labels.shape, augmentation_data.shape"
   ]
  },
  {
   "cell_type": "code",
   "execution_count": 6,
   "metadata": {},
   "outputs": [],
   "source": [
    "# define encoder\n",
    "import tensorflow as tf\n",
    "physical_devices = tf.config.list_physical_devices('GPU')\n",
    "tf.config.experimental.set_memory_growth(physical_devices[0], True)"
   ]
  },
  {
   "cell_type": "markdown",
   "metadata": {},
   "source": [
    "## Clustering\n",
    "LSH not suitable\n",
    "because lsh has the property that similar points would fall into the same bucket AB BC is close don't mean that AC is close"
   ]
  },
  {
   "cell_type": "code",
   "execution_count": 7,
   "metadata": {},
   "outputs": [],
   "source": [
    "centers = np.load(\"centers.npy\")"
   ]
  },
  {
   "cell_type": "markdown",
   "metadata": {},
   "source": [
    "# build a new complex\n",
    "- nndescent is can find the nearest neighbors inside the dataset\n",
    "- here I choose random projection forest\n",
    "(KDTree may be alternative solution?)"
   ]
  },
  {
   "cell_type": "code",
   "execution_count": 8,
   "metadata": {},
   "outputs": [],
   "source": [
    "## nndescent?\n",
    "from sklearn.neighbors import KDTree\n",
    "high_tree = KDTree(border_center) "
   ]
  },
  {
   "cell_type": "code",
   "execution_count": 9,
   "metadata": {},
   "outputs": [],
   "source": [
    "from sklearn.utils import check_random_state\n",
    "random_state = check_random_state(None)"
   ]
  },
  {
   "cell_type": "code",
   "execution_count": 10,
   "metadata": {},
   "outputs": [],
   "source": [
    "fitting_data = np.concatenate((centers, border_center),axis=0)"
   ]
  },
  {
   "cell_type": "code",
   "execution_count": 11,
   "metadata": {},
   "outputs": [],
   "source": [
    "# fuzzy simplicial set\n",
    "knn_dists, knn_indices = high_tree.query(fitting_data, k=15) "
   ]
  },
  {
   "cell_type": "code",
   "execution_count": 12,
   "metadata": {},
   "outputs": [],
   "source": [
    "knn_indices = knn_indices+len(centers)"
   ]
  },
  {
   "cell_type": "code",
   "execution_count": 13,
   "metadata": {},
   "outputs": [],
   "source": [
    "from umap.umap_ import smooth_knn_dist,compute_membership_strengths\n",
    "import scipy\n",
    "def fuzzy_simplicial_set(X,random_state,n_neighbors,knn_indices,knn_dists):\n",
    "    \n",
    "    knn_dists = knn_dists.astype(np.float32)\n",
    "\n",
    "    sigmas, rhos = smooth_knn_dist(\n",
    "        knn_dists, float(n_neighbors), local_connectivity=float(1),\n",
    "    )\n",
    "\n",
    "    rows, cols, vals, dists = compute_membership_strengths(\n",
    "        knn_indices, knn_dists, sigmas, rhos, return_dists=False\n",
    "    )\n",
    "\n",
    "    result = scipy.sparse.coo_matrix(\n",
    "        (vals, (rows, cols)), shape=(X.shape[0], X.shape[0])\n",
    "    )\n",
    "    result.eliminate_zeros()\n",
    "    return result"
   ]
  },
  {
   "cell_type": "code",
   "execution_count": 14,
   "metadata": {},
   "outputs": [],
   "source": [
    "new_complex = fuzzy_simplicial_set(\n",
    "    X=fitting_data,\n",
    "    random_state=random_state,\n",
    "    n_neighbors=30,\n",
    "    knn_indices=knn_indices,\n",
    "    knn_dists=knn_dists,\n",
    ")"
   ]
  },
  {
   "cell_type": "code",
   "execution_count": 15,
   "metadata": {},
   "outputs": [
    {
     "name": "stdout",
     "output_type": "stream",
     "text": [
      "Mon Jan 25 21:40:33 2021 Building RP forest with 10 trees\n",
      "Mon Jan 25 21:40:34 2021 NN descent for 13 iterations\n",
      "\t 1  /  13\n",
      "\t 2  /  13\n",
      "\t 3  /  13\n",
      "\tStopping threshold met -- exiting after 3 iterations\n"
     ]
    }
   ],
   "source": [
    "# number of trees in random projection forest\n",
    "n_trees = min(64, 5 + int(round((fitting_data.shape[0]) ** 0.5 / 20.0)))\n",
    "# max number of nearest neighbor iters to perform\n",
    "n_iters = max(5, int(round(np.log2(fitting_data.shape[0]))))\n",
    "# distance metric\n",
    "metric = \"euclidean\"\n",
    "# number of neighbors for computing k-neighbor graph\n",
    "n_neighbors = 15\n",
    "\n",
    "from pynndescent import NNDescent\n",
    "# get nearest neighbors\n",
    "nnd = NNDescent(\n",
    "    fitting_data.reshape((len(fitting_data), np.product(np.shape(fitting_data)[1:]))),\n",
    "    n_neighbors=n_neighbors,\n",
    "    metric=metric,\n",
    "    n_trees=n_trees,\n",
    "    n_iters=n_iters,\n",
    "    max_candidates=60,\n",
    "    verbose=True\n",
    ")"
   ]
  },
  {
   "cell_type": "code",
   "execution_count": 16,
   "metadata": {},
   "outputs": [],
   "source": [
    "from sklearn.utils import check_random_state\n",
    "from umap.umap_ import fuzzy_simplicial_set\n",
    "knn_indices, knn_dists = nnd.neighbor_graph\n",
    "random_state = check_random_state(None)\n",
    "old_complex, sigmas, rhos = fuzzy_simplicial_set(\n",
    "    X=fitting_data,\n",
    "    n_neighbors=n_neighbors,\n",
    "    metric=metric,\n",
    "    random_state=random_state,\n",
    "    knn_indices=knn_indices,\n",
    "    knn_dists=knn_dists,\n",
    ")"
   ]
  },
  {
   "cell_type": "markdown",
   "metadata": {},
   "source": [
    "## define autoencoder"
   ]
  },
  {
   "cell_type": "code",
   "execution_count": 17,
   "metadata": {},
   "outputs": [],
   "source": [
    "# from parametric_umap_DBP import construct_edge_dataset\n",
    "# from parametric_umap_DBP import umap_loss\n",
    "from parametric_umap_DBP import construct_edge_dataset\n",
    "from parametric_umap_DBP import umap_loss\n",
    "# from parametric_umap_DBP import tpdbp_loss"
   ]
  },
  {
   "cell_type": "code",
   "execution_count": 18,
   "metadata": {},
   "outputs": [],
   "source": [
    "dims = (2048,)\n",
    "n_components = 2\n",
    "\n",
    "n_epochs = 200 "
   ]
  },
  {
   "cell_type": "code",
   "execution_count": 19,
   "metadata": {},
   "outputs": [
    {
     "name": "stdout",
     "output_type": "stream",
     "text": [
      "Model: \"sequential\"\n",
      "_________________________________________________________________\n",
      "Layer (type)                 Output Shape              Param #   \n",
      "=================================================================\n",
      "flatten (Flatten)            (None, 2048)              0         \n",
      "_________________________________________________________________\n",
      "dense (Dense)                (None, 1024)              2098176   \n",
      "_________________________________________________________________\n",
      "dense_1 (Dense)              (None, 2)                 2050      \n",
      "=================================================================\n",
      "Total params: 2,100,226\n",
      "Trainable params: 2,100,226\n",
      "Non-trainable params: 0\n",
      "_________________________________________________________________\n"
     ]
    }
   ],
   "source": [
    "encoder = tf.keras.Sequential([\n",
    "    tf.keras.layers.InputLayer(input_shape=dims),\n",
    "    tf.keras.layers.Flatten(),\n",
    "    tf.keras.layers.Dense(units=1024, activation=\"relu\"),\n",
    "    tf.keras.layers.Dense(units=n_components),\n",
    "])\n",
    "encoder.summary()"
   ]
  },
  {
   "cell_type": "code",
   "execution_count": 20,
   "metadata": {},
   "outputs": [
    {
     "name": "stdout",
     "output_type": "stream",
     "text": [
      "Model: \"sequential_1\"\n",
      "_________________________________________________________________\n",
      "Layer (type)                 Output Shape              Param #   \n",
      "=================================================================\n",
      "dense_2 (Dense)              (None, 1024)              3072      \n",
      "_________________________________________________________________\n",
      "recon (Dense)                (None, 2048)              2099200   \n",
      "_________________________________________________________________\n",
      "reshape (Reshape)            (None, 2048)              0         \n",
      "=================================================================\n",
      "Total params: 2,102,272\n",
      "Trainable params: 2,102,272\n",
      "Non-trainable params: 0\n",
      "_________________________________________________________________\n"
     ]
    }
   ],
   "source": [
    "# define the decoder\n",
    "decoder = tf.keras.Sequential([\n",
    "    tf.keras.layers.InputLayer(input_shape=(n_components)),\n",
    "    tf.keras.layers.Dense(units=1024, activation=\"relu\"),\n",
    "    tf.keras.layers.Dense(units=np.product(dims), name=\"recon\", activation=None),\n",
    "    tf.keras.layers.Reshape(dims),\n",
    "\n",
    "])\n",
    "decoder.summary()"
   ]
  },
  {
   "cell_type": "code",
   "execution_count": null,
   "metadata": {},
   "outputs": [],
   "source": [
    "## TODO\n",
    "# change construct_edge_dataset, so that the mixed complex can be construct"
   ]
  },
  {
   "cell_type": "code",
   "execution_count": 21,
   "metadata": {},
   "outputs": [],
   "source": [
    "(\n",
    "    new_edge_dataset,\n",
    "    batch_size,\n",
    "    n_edges,\n",
    "    head,\n",
    "    tail,\n",
    "    edge_weight,\n",
    ") = construct_edge_dataset(\n",
    "    (centers, border_center),\n",
    "    new_complex,\n",
    "    n_epochs,\n",
    "    batch_size,\n",
    "    parametric_embedding = True,\n",
    "    parametric_reconstruction = True,\n",
    ")"
   ]
  },
  {
   "cell_type": "code",
   "execution_count": 22,
   "metadata": {},
   "outputs": [],
   "source": [
    "from parametric_umap import construct_edge_dataset\n",
    "(\n",
    "    old_edge_dataset,\n",
    "    batch_size,\n",
    "    n_edges,\n",
    "    head,\n",
    "    tail,\n",
    "    edge_weight,\n",
    ") = construct_edge_dataset(\n",
    "    train_data,\n",
    "    old_complex,\n",
    "    n_epochs,\n",
    "    batch_size,\n",
    "    parametric_embedding = True,\n",
    "    parametric_reconstruction = True,\n",
    ")"
   ]
  },
  {
   "cell_type": "code",
   "execution_count": null,
   "metadata": {},
   "outputs": [],
   "source": []
  },
  {
   "cell_type": "code",
   "execution_count": null,
   "metadata": {},
   "outputs": [],
   "source": [
    "r1 = len()\n",
    "\n",
    "b1 = d1.batch(r1)\n",
    "b2 = d2.batch(r2)\n",
    "\n",
    "zipped = tf.data.Dataset.zip((b1, b2)).map(lambda x, y: tf.concat((x, y), axis=0))\n",
    "result = zipped.batch(batch_size)"
   ]
  },
  {
   "cell_type": "code",
   "execution_count": 22,
   "metadata": {},
   "outputs": [],
   "source": [
    "# define model\n",
    "# network outputs\n",
    "outputs = {}\n",
    "\n",
    "# inputs\n",
    "to_x = tf.keras.layers.Input(shape=dims, name=\"to_x\")\n",
    "from_x = tf.keras.layers.Input(shape=dims, name=\"from_x\")\n",
    "weight = tf.keras.layers.Input(shape=(1, ), name=\"weight\")\n",
    "inputs = (to_x, from_x, weight)\n",
    "\n",
    "# parametric embedding\n",
    "embedding_to = encoder(to_x)\n",
    "embedding_from = encoder(from_x)\n",
    "\n",
    "# parametric reconstruction\n",
    "embedding_to_recon = decoder(embedding_to)\n",
    "\n",
    "embedding_to_recon = tf.keras.layers.Lambda(\n",
    "    lambda x: x, name=\"reconstruction\"\n",
    ")(embedding_to_recon)\n",
    "\n",
    "outputs[\"reconstruction\"] = embedding_to_recon\n",
    "\n",
    "# concatenate to/from projections for loss computation\n",
    "embedding_to_from = tf.concat((embedding_to, embedding_from, weight), axis=1)\n",
    "embedding_to_from = tf.keras.layers.Lambda(lambda x: x, name=\"umap\")(\n",
    "    embedding_to_from\n",
    ")\n",
    "\n",
    "# weights = tf.keras.layers.Lambda(lambda x: x, name=\"weights\")(\n",
    "#     weight\n",
    "# )\n",
    "\n",
    "\n",
    "outputs[\"umap\"] = embedding_to_from\n",
    "\n",
    "# outputs[\"weights\"] = weights\n",
    "\n",
    "# create model\n",
    "parametric_model = tf.keras.Model(inputs=inputs, outputs=outputs,)"
   ]
  },
  {
   "cell_type": "code",
   "execution_count": 23,
   "metadata": {},
   "outputs": [],
   "source": [
    "from umap.umap_ import find_ab_params\n",
    "min_dist = 0.1\n",
    "_a, _b = find_ab_params(1.0, min_dist)"
   ]
  },
  {
   "cell_type": "code",
   "execution_count": 24,
   "metadata": {},
   "outputs": [],
   "source": [
    "negative_sample_rate = 5\n",
    "optimizer = tf.keras.optimizers.Adam(1e-3)"
   ]
  },
  {
   "cell_type": "code",
   "execution_count": 25,
   "metadata": {},
   "outputs": [],
   "source": [
    "def lr_schedule(epoch):\n",
    "    \"\"\"Learning Rate Schedule\n",
    "\n",
    "    Learning rate is scheduled to be reduced after 80, 120, 160, 180 epochs.\n",
    "    Called automatically every epoch as part of callbacks during training.\n",
    "\n",
    "    # Arguments\n",
    "        epoch (int): The number of epochs\n",
    "\n",
    "    # Returns\n",
    "        lr (float32): learning rate\n",
    "    \"\"\"\n",
    "    lr = 1e-3\n",
    "    if epoch > 5:\n",
    "        lr *= 1e-1\n",
    "    elif epoch > 15:\n",
    "        lr *= 1e-1\n",
    "    print('Learning rate: ', lr)\n",
    "    return lr\n",
    "\n",
    "callbacks = [\n",
    "    tf.keras.callbacks.EarlyStopping(\n",
    "        monitor='loss',\n",
    "        min_delta=10**-2,\n",
    "        patience=10,\n",
    "        verbose=1,\n",
    "    ),\n",
    "    tf.keras.callbacks.TensorBoard(log_dir='logs/mse/',histogram_freq=1),\n",
    "    tf.keras.callbacks.LearningRateScheduler(lr_schedule),\n",
    "#     tf.keras.callbacks.ReduceLROnPlateau(factor=np.sqrt(0.1),\n",
    "#                                cooldown=0,\n",
    "#                                patience=5,\n",
    "#                                min_lr=0.5e-6)\n",
    "]"
   ]
  },
  {
   "cell_type": "code",
   "execution_count": 26,
   "metadata": {},
   "outputs": [],
   "source": [
    "#compile models\n",
    "losses = {}\n",
    "loss_weights = {}\n",
    "\n",
    "umap_loss_fn = umap_loss(\n",
    "    batch_size,\n",
    "    negative_sample_rate,\n",
    "    _a,\n",
    "    _b,\n",
    "    edge_weight,\n",
    "    True,\n",
    ")\n",
    "\n",
    "losses[\"umap\"] = umap_loss_fn\n",
    "loss_weights[\"umap\"] = 1.0\n",
    "\n",
    "# losses[\"weights\"] = tpdbp_loss_fn\n",
    "# loss_weights[\"weights\"] = 0.1\n",
    "\n",
    "losses[\"reconstruction\"] = tf.keras.losses.MeanSquaredError()\n",
    "loss_weights[\"reconstruction\"] = 1.0\n",
    "\n",
    "parametric_model.compile(\n",
    "    optimizer=optimizer, loss=losses, loss_weights=loss_weights,\n",
    ")"
   ]
  },
  {
   "cell_type": "markdown",
   "metadata": {},
   "source": [
    "## fitting model"
   ]
  },
  {
   "cell_type": "code",
   "execution_count": 27,
   "metadata": {},
   "outputs": [],
   "source": [
    "steps_per_epoch = int(\n",
    "    n_edges / batch_size / 10\n",
    ")\n",
    "# val_steps_per_epoch = int(\n",
    "#     val_n_edges / batch_size / 5\n",
    "# )"
   ]
  },
  {
   "cell_type": "code",
   "execution_count": 28,
   "metadata": {
    "scrolled": true
   },
   "outputs": [
    {
     "name": "stdout",
     "output_type": "stream",
     "text": [
      "Epoch 1/20\n",
      "Learning rate:  0.001\n",
      "473/473 [==============================] - 5s 9ms/step - loss: 0.3331 - reconstruction_loss: 0.0057 - umap_loss: 0.3275\n",
      "Epoch 2/20\n",
      "Learning rate:  0.001\n",
      "473/473 [==============================] - 4s 8ms/step - loss: 0.2368 - reconstruction_loss: 0.0034 - umap_loss: 0.2334\n",
      "Epoch 3/20\n",
      "Learning rate:  0.001\n",
      "473/473 [==============================] - 4s 8ms/step - loss: 0.2287 - reconstruction_loss: 0.0030 - umap_loss: 0.2257\n",
      "Epoch 4/20\n",
      "Learning rate:  0.001\n",
      "473/473 [==============================] - 4s 8ms/step - loss: 0.2358 - reconstruction_loss: 0.0037 - umap_loss: 0.2321\n",
      "Epoch 5/20\n",
      "Learning rate:  0.001\n",
      "473/473 [==============================] - 4s 8ms/step - loss: 0.2252 - reconstruction_loss: 0.0029 - umap_loss: 0.2224\n",
      "Epoch 6/20\n",
      "Learning rate:  0.001\n",
      "473/473 [==============================] - 4s 8ms/step - loss: 0.2264 - reconstruction_loss: 0.0031 - umap_loss: 0.2234\n",
      "Epoch 7/20\n",
      "Learning rate:  0.0001\n",
      "473/473 [==============================] - 4s 8ms/step - loss: 0.2237 - reconstruction_loss: 0.0027 - umap_loss: 0.2210\n",
      "Epoch 8/20\n",
      "Learning rate:  0.0001\n",
      "473/473 [==============================] - 4s 8ms/step - loss: 0.2126 - reconstruction_loss: 0.0021 - umap_loss: 0.2105\n",
      "Epoch 9/20\n",
      "Learning rate:  0.0001\n",
      "473/473 [==============================] - 4s 8ms/step - loss: 0.2086 - reconstruction_loss: 0.0020 - umap_loss: 0.2067\n",
      "Epoch 10/20\n",
      "Learning rate:  0.0001\n",
      "473/473 [==============================] - 4s 8ms/step - loss: 0.2074 - reconstruction_loss: 0.0020 - umap_loss: 0.2055\n",
      "Epoch 11/20\n",
      "Learning rate:  0.0001\n",
      "473/473 [==============================] - 4s 8ms/step - loss: 0.2061 - reconstruction_loss: 0.0019 - umap_loss: 0.2042\n",
      "Epoch 12/20\n",
      "Learning rate:  0.0001\n",
      "473/473 [==============================] - 4s 8ms/step - loss: 0.2064 - reconstruction_loss: 0.0019 - umap_loss: 0.2045\n",
      "Epoch 13/20\n",
      "Learning rate:  0.0001\n",
      "473/473 [==============================] - 4s 8ms/step - loss: 0.2051 - reconstruction_loss: 0.0019 - umap_loss: 0.2032\n",
      "Epoch 14/20\n",
      "Learning rate:  0.0001\n",
      "473/473 [==============================] - 4s 8ms/step - loss: 0.2042 - reconstruction_loss: 0.0018 - umap_loss: 0.2024\n",
      "Epoch 15/20\n",
      "Learning rate:  0.0001\n",
      "473/473 [==============================] - 4s 8ms/step - loss: 0.2028 - reconstruction_loss: 0.0018 - umap_loss: 0.2010A: 1s - loss: 0.2024 - reconstruction_los\n",
      "Epoch 16/20\n",
      "Learning rate:  0.0001\n",
      "473/473 [==============================] - 4s 8ms/step - loss: 0.2021 - reconstruction_loss: 0.0018 - umap_loss: 0.2002\n",
      "Epoch 17/20\n",
      "Learning rate:  0.0001\n",
      "473/473 [==============================] - 4s 8ms/step - loss: 0.2030 - reconstruction_loss: 0.0019 - umap_loss: 0.2012\n",
      "Epoch 18/20\n",
      "Learning rate:  0.0001\n",
      "473/473 [==============================] - 4s 8ms/step - loss: 0.2022 - reconstruction_loss: 0.0018 - umap_loss: 0.2004\n",
      "Epoch 19/20\n",
      "Learning rate:  0.0001\n",
      "473/473 [==============================] - 4s 8ms/step - loss: 0.2013 - reconstruction_loss: 0.0018 - umap_loss: 0.1995\n",
      "Epoch 20/20\n",
      "Learning rate:  0.0001\n",
      "473/473 [==============================] - 4s 8ms/step - loss: 0.2020 - reconstruction_loss: 0.0018 - umap_loss: 0.2002\n",
      "Epoch 00020: early stopping\n"
     ]
    }
   ],
   "source": [
    "# create embedding\n",
    "history = parametric_model.fit(\n",
    "    edge_dataset,\n",
    "    epochs=20,\n",
    "    steps_per_epoch=steps_per_epoch,\n",
    "    callbacks=callbacks,\n",
    "    max_queue_size=100,\n",
    "#     validation_data=val_edge_dataset,\n",
    "#     validation_steps=val_steps_per_epoch,\n",
    "    \n",
    ")"
   ]
  },
  {
   "cell_type": "code",
   "execution_count": 29,
   "metadata": {},
   "outputs": [],
   "source": [
    "import matplotlib.pyplot as plt"
   ]
  },
  {
   "cell_type": "code",
   "execution_count": 34,
   "metadata": {},
   "outputs": [
    {
     "data": {
      "text/plain": [
       "dict_keys(['loss', 'reconstruction_loss', 'umap_loss', 'lr'])"
      ]
     },
     "execution_count": 34,
     "metadata": {},
     "output_type": "execute_result"
    }
   ],
   "source": [
    "history.history.keys()"
   ]
  },
  {
   "cell_type": "code",
   "execution_count": 35,
   "metadata": {},
   "outputs": [
    {
     "data": {
      "text/plain": [
       "[<matplotlib.lines.Line2D at 0x1905b6e3f60>]"
      ]
     },
     "execution_count": 35,
     "metadata": {},
     "output_type": "execute_result"
    },
    {
     "data": {
      "image/png": "[encoded data removed]",
      "text/plain": [
       "<Figure size 432x288 with 3 Axes>"
      ]
     },
     "metadata": {
      "needs_background": "light"
     },
     "output_type": "display_data"
    }
   ],
   "source": [
    "plt.figure(1)\n",
    "plt.subplot(411)\n",
    "plt.plot(history.history['loss'])\n",
    "plt.subplot(423)\n",
    "plt.plot(history.history['umap_loss'])\n",
    "plt.subplot(424)\n",
    "plt.plot(history.history['reconstruction_loss'])\n",
    "# plt.subplot(413)\n",
    "# plt.plot(history.history['val_loss'])\n",
    "# plt.subplot(427)\n",
    "# plt.plot(history.history['val_umap_loss'])\n",
    "# plt.subplot(428)\n",
    "# plt.plot(history.history['val_reconstruction_loss'])"
   ]
  },
  {
   "cell_type": "code",
   "execution_count": 30,
   "metadata": {},
   "outputs": [],
   "source": [
    "z = encoder.predict(train_data)"
   ]
  },
  {
   "cell_type": "code",
   "execution_count": 31,
   "metadata": {},
   "outputs": [
    {
     "data": {
      "text/plain": [
       "Text(0.5, 1.0, 'UMAP embeddings')"
      ]
     },
     "execution_count": 31,
     "metadata": {},
     "output_type": "execute_result"
    },
    {
     "data": {
      "image/png": "[encoded data removed]",
      "text/plain": [
       "<Figure size 720x576 with 1 Axes>"
      ]
     },
     "metadata": {
      "needs_background": "light"
     },
     "output_type": "display_data"
    }
   ],
   "source": [
    "fig, ax = plt.subplots(ncols=1, figsize=(10, 8))\n",
    "sc = ax.scatter(\n",
    "    z[:, 0],\n",
    "    z[:, 1],\n",
    "    c=train_pred_labels,\n",
    "    cmap=\"tab10\",\n",
    "    s=0.1,\n",
    "    alpha=0.5,\n",
    "    rasterized=True,\n",
    ")\n",
    "ax.axis('equal')\n",
    "ax.set_title(\"UMAP embeddings\", fontsize=20)"
   ]
  },
  {
   "cell_type": "code",
   "execution_count": 32,
   "metadata": {},
   "outputs": [
    {
     "name": "stdout",
     "output_type": "stream",
     "text": [
      "WARNING:tensorflow:FOR KERAS USERS: The object that you are saving contains one or more Keras models or layers. If you are loading the SavedModel with `tf.keras.models.load_model`, continue reading (otherwise, you may ignore the following instructions). Please change your code to save with `tf.keras.models.save_model` or `model.save`, and confirm that the file \"keras.metadata\" exists in the export directory. In the future, Keras will only load the SavedModels that have this file. In other words, `tf.saved_model.save` will no longer write SavedModels that can be recovered as Keras models (this will apply in TF 2.5).\n",
      "\n",
      "FOR DEVS: If you are overwriting _tracking_metadata in your class, this property has been used to save metadata in the SavedModel. The metadta field will be deprecated soon, so please move the metadata to a different file.\n",
      "INFO:tensorflow:Assets written to: parametric_umap_models\\dbp_exp\\encoder_core_complex2\\assets\n",
      "Keras encoder model saved to parametric_umap_models\\dbp_exp\\encoder_core_complex2\n",
      "WARNING:tensorflow:FOR KERAS USERS: The object that you are saving contains one or more Keras models or layers. If you are loading the SavedModel with `tf.keras.models.load_model`, continue reading (otherwise, you may ignore the following instructions). Please change your code to save with `tf.keras.models.save_model` or `model.save`, and confirm that the file \"keras.metadata\" exists in the export directory. In the future, Keras will only load the SavedModels that have this file. In other words, `tf.saved_model.save` will no longer write SavedModels that can be recovered as Keras models (this will apply in TF 2.5).\n",
      "\n",
      "FOR DEVS: If you are overwriting _tracking_metadata in your class, this property has been used to save metadata in the SavedModel. The metadta field will be deprecated soon, so please move the metadata to a different file.\n",
      "INFO:tensorflow:Assets written to: parametric_umap_models\\dbp_exp\\decoder_core_complex2\\assets\n",
      "Keras decoder model saved to parametric_umap_models\\dbp_exp\\decoder_core_complex2\n"
     ]
    }
   ],
   "source": [
    "# save\n",
    "import os\n",
    "\n",
    "save_location = \"parametric_umap_models\\dbp_exp\"\n",
    "# # save encoder\n",
    "encoder_output = os.path.join(save_location, \"encoder_core_complex2\")\n",
    "encoder.save(encoder_output)\n",
    "print(\"Keras encoder model saved to {}\".format(encoder_output))\n",
    "\n",
    "# # save decoder\n",
    "decoder_output = os.path.join(save_location, \"decoder_core_complex2\")\n",
    "decoder.save(decoder_output)\n",
    "print(\"Keras decoder model saved to {}\".format(decoder_output))"
   ]
  },
  {
   "cell_type": "code",
   "execution_count": 15,
   "metadata": {},
   "outputs": [
    {
     "name": "stdout",
     "output_type": "stream",
     "text": [
      "WARNING:tensorflow:No training configuration found in save file, so the model was *not* compiled. Compile it manually.\n",
      "Keras encoder model loaded from parametric_umap_models\\dbp_exp\\encoder_core_complex_15\n",
      "WARNING:tensorflow:No training configuration found in save file, so the model was *not* compiled. Compile it manually.\n",
      "Keras encoder model loaded from parametric_umap_models\\dbp_exp\\decoder_core_complex_15\n"
     ]
    }
   ],
   "source": [
    "import os\n",
    "save_location = \"parametric_umap_models\\dbp_exp\"\n",
    "# load model\n",
    "# load encoder\n",
    "encoder_output = os.path.join(save_location, \"encoder_core_complex_15\")\n",
    "if os.path.exists(encoder_output):\n",
    "    encoder = tf.keras.models.load_model(encoder_output)\n",
    "    print(\"Keras encoder model loaded from {}\".format(encoder_output))\n",
    "    \n",
    "decoder_output = os.path.join(save_location, \"decoder_core_complex_15\")\n",
    "if os.path.exists(decoder_output):\n",
    "    decoder = tf.keras.models.load_model(decoder_output)\n",
    "    print(\"Keras encoder model loaded from {}\".format(decoder_output))"
   ]
  },
  {
   "cell_type": "markdown",
   "metadata": {},
   "source": [
    "# Investigate 2 research questions:\n",
    "1. knn = 0, those points are a part of center?\n",
    "2. If is true, then training has a problem,if false, then further training"
   ]
  },
  {
   "cell_type": "code",
   "execution_count": 16,
   "metadata": {},
   "outputs": [
    {
     "name": "stdout",
     "output_type": "stream",
     "text": [
      "WARNING:tensorflow:From <ipython-input-16-18796e969218>:1: _EagerTensorBase.cpu (from tensorflow.python.framework.ops) is deprecated and will be removed in a future version.\n",
      "Instructions for updating:\n",
      "Use tf.identity instead.\n"
     ]
    }
   ],
   "source": [
    "low_center = encoder(border_center).cpu().numpy()\n",
    "low_train = encoder(train_data).cpu().numpy()\n",
    "from sklearn.neighbors import KDTree\n",
    "high_tree = KDTree(border_center) \n",
    "low_tree = KDTree(low_center)"
   ]
  },
  {
   "cell_type": "code",
   "execution_count": 17,
   "metadata": {},
   "outputs": [
    {
     "data": {
      "text/plain": [
       "(2.8041, 10.0, 0.0)"
      ]
     },
     "execution_count": 17,
     "metadata": {},
     "output_type": "execute_result"
    }
   ],
   "source": [
    "# k=15\n",
    "_, high_ind = high_tree.query(train_data, k=10) \n",
    "_, low_ind = low_tree.query(low_train, k=10)\n",
    "border_pres = np.zeros(len(train_data))\n",
    "for i in range(len(train_data)):\n",
    "    border_pres[i] = len(np.intersect1d(high_ind[i],low_ind[i]))\n",
    "# new complex core K=10\n",
    "border_pres.mean(), border_pres.max(),border_pres.min()"
   ]
  },
  {
   "cell_type": "code",
   "execution_count": 19,
   "metadata": {},
   "outputs": [
    {
     "data": {
      "image/png": "[encoded data removed]",
      "text/plain": [
       "<Figure size 432x288 with 1 Axes>"
      ]
     },
     "metadata": {
      "needs_background": "light"
     },
     "output_type": "display_data"
    }
   ],
   "source": [
    "# diagram of positive samples\n",
    "import matplotlib.pyplot as plt\n",
    "import numpy as np\n",
    "import matplotlib\n",
    "\n",
    "\"\"\"\n",
    "绘制直方图\n",
    "data:必选参数，绘图数据\n",
    "bins:直方图的长条形数目，可选项，默认为10\n",
    "normed:是否将得到的直方图向量归一化，可选项，默认为0，代表不归一化，显示频数。normed=1，表示归一化，显示频率。\n",
    "facecolor:长条形的颜色\n",
    "edgecolor:长条形边框的颜色\n",
    "alpha:透明度\n",
    "\"\"\"\n",
    "plt.hist(border_pres, bins=10, density=0, stacked=True, facecolor=\"blue\", edgecolor=\"black\", alpha=0.7)\n",
    "# 显示横轴标签\n",
    "plt.xlabel(\"intervals\")\n",
    "# 显示纵轴标签\n",
    "plt.ylabel(\"frequency\")\n",
    "# 显示图标题\n",
    "plt.title(\"frequency/interval histogram\")\n",
    "plt.show()"
   ]
  },
  {
   "cell_type": "code",
   "execution_count": 21,
   "metadata": {},
   "outputs": [
    {
     "data": {
      "text/plain": [
       "(2.8694, 10.0, 0.0)"
      ]
     },
     "execution_count": 21,
     "metadata": {},
     "output_type": "execute_result"
    }
   ],
   "source": [
    "# k=15\n",
    "low_centers = encoder(centers).cpu().numpy()\n",
    "_, high_ind = high_tree.query(centers, k=10) \n",
    "_, low_ind = low_tree.query(low_centers, k=10)\n",
    "border_pres = np.zeros(len(centers))\n",
    "for i in range(len(centers)):\n",
    "    border_pres[i] = len(np.intersect1d(high_ind[i],low_ind[i]))\n",
    "# new complex core K=10\n",
    "border_pres.mean(), border_pres.max(),border_pres.min()"
   ]
  },
  {
   "cell_type": "code",
   "execution_count": 22,
   "metadata": {},
   "outputs": [
    {
     "data": {
      "image/png": "[encoded data removed]",
      "text/plain": [
       "<Figure size 432x288 with 1 Axes>"
      ]
     },
     "metadata": {
      "needs_background": "light"
     },
     "output_type": "display_data"
    }
   ],
   "source": [
    "plt.hist(border_pres, bins=10, density=0, stacked=True, facecolor=\"blue\", edgecolor=\"black\", alpha=0.7)\n",
    "# 显示横轴标签\n",
    "plt.xlabel(\"intervals\")\n",
    "# 显示纵轴标签\n",
    "plt.ylabel(\"frequency\")\n",
    "# 显示图标题\n",
    "plt.title(\"frequency/interval histogram\")\n",
    "plt.show()"
   ]
  }
 ],
 "metadata": {
  "kernelspec": {
   "display_name": "Python xianglinDR2",
   "language": "python",
   "name": "dr2"
  },
  "language_info": {
   "codemirror_mode": {
    "name": "ipython",
    "version": 3
   },
   "file_extension": ".py",
   "mimetype": "text/x-python",
   "name": "python",
   "nbconvert_exporter": "python",
   "pygments_lexer": "ipython3",
   "version": "3.6.12"
  }
 },
 "nbformat": 4,
 "nbformat_minor": 4
}
