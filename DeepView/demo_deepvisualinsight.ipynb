{
 "cells": [
  {
   "cell_type": "markdown",
   "metadata": {},
   "source": [
    "# multiple images to generate a video"
   ]
  },
  {
   "cell_type": "code",
   "execution_count": 2,
   "metadata": {},
   "outputs": [],
   "source": [
    "import os\n",
    "import cv2 \n",
    "import numpy as np"
   ]
  },
  {
   "cell_type": "code",
   "execution_count": 3,
   "metadata": {},
   "outputs": [],
   "source": [
    "# train data fps (720,576)\n",
    "file_dir = os.path.join(os.getcwd(),\"result\",\"evaluation\",\"parametricUmap\")\n",
    "output_demo_path = os.path.join(file_dir,\"demo_train.avi\")\n",
    "size = (720,576)\n",
    "fps=6 # how many imgs to show in one second\n",
    "\n",
    "videowriter = cv2.VideoWriter(output_demo_path,cv2.VideoWriter_fourcc('M','J','P','G'), fps, size)\n",
    "imgs = np.arange(10,210,10)\n",
    "for i in imgs:\n",
    "    file_name = os.path.join(file_dir,\"train_{:03d}.png\".format(i))\n",
    "    img = cv2.imread(file_name)\n",
    "    videowriter.write(img)\n",
    "videowriter.release()"
   ]
  },
  {
   "cell_type": "code",
   "execution_count": 5,
   "metadata": {},
   "outputs": [],
   "source": [
    "# train deepview data fps (800,800)\n",
    "file_dir = os.path.join(os.getcwd(),\"result\",\"evaluation\",\"parametricUmap\")\n",
    "output_demo_path = os.path.join(file_dir,\"demo_deepview_train.avi\")\n",
    "size = (800,800)\n",
    "fps=6 # how many imgs to show in one second\n",
    "\n",
    "videowriter = cv2.VideoWriter(output_demo_path,cv2.VideoWriter_fourcc('M','J','P','G'), fps, size)\n",
    "imgs = np.arange(10,210,10)\n",
    "for i in imgs:\n",
    "    file_name = os.path.join(file_dir,\"deepview_train_{:03d}.png\".format(i))\n",
    "    img = cv2.imread(file_name)\n",
    "    videowriter.write(img)\n",
    "videowriter.release()"
   ]
  }
 ],
 "metadata": {
  "kernelspec": {
   "display_name": "Python xianglinDR2",
   "language": "python",
   "name": "dr2"
  },
  "language_info": {
   "codemirror_mode": {
    "name": "ipython",
    "version": 3
   },
   "file_extension": ".py",
   "mimetype": "text/x-python",
   "name": "python",
   "nbconvert_exporter": "python",
   "pygments_lexer": "ipython3",
   "version": "3.6.12"
  }
 },
 "nbformat": 4,
 "nbformat_minor": 2
}
