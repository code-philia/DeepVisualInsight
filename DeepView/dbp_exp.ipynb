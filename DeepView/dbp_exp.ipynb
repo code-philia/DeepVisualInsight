{
 "cells": [
  {
   "cell_type": "markdown",
   "metadata": {},
   "source": [
    "# DBP experiment\n",
    "1. run tp-tp model and tp-dbp model\n",
    "2. set k to a smaller number and verify my guess\n",
    "3. use edge dataset to evaluate the knn property"
   ]
  },
  {
   "cell_type": "markdown",
   "metadata": {},
   "source": [
    "* parametric_umap, tp-tp -> encoder_original\n",
    "* parametric_umap_DBP,tp-tp -> encoder_core\n",
    "* parametric_umap_DBP, tp-dbp -> encoder_dbp"
   ]
  },
  {
   "cell_type": "markdown",
   "metadata": {},
   "source": [
    "## create edges"
   ]
  },
  {
   "cell_type": "code",
   "execution_count": 1,
   "metadata": {},
   "outputs": [],
   "source": [
    "import numpy as np\n",
    "train_data = np.load(\"train_data.npy\")\n",
    "train_pred_labels = np.load(\"train_pred_labels.npy\")\n",
    "test_data = np.load(\"test_data.npy\")\n",
    "test_pred_labels = np.load(\"test_pred_labels.npy\")\n",
    "border_center = np.load(\"border_center.npy\")\n",
    "border_center_labels= np.load(\"border_center_labels.npy\")"
   ]
  },
  {
   "cell_type": "code",
   "execution_count": 2,
   "metadata": {},
   "outputs": [
    {
     "data": {
      "text/plain": [
       "(55000, 2048)"
      ]
     },
     "execution_count": 2,
     "metadata": {},
     "output_type": "execute_result"
    }
   ],
   "source": [
    "batch_size = 20\n",
    "\n",
    "train_num = 50000\n",
    "augmentation_num = 10000\n",
    "border_num = 5000\n",
    "\n",
    "fitting_data = np.concatenate((train_data[-train_num:],\n",
    "#                                augmentation_data[:augmentation_num],\n",
    "                               border_center[:border_num]), axis=0)\n",
    "fitting_data.shape"
   ]
  },
  {
   "cell_type": "code",
   "execution_count": 3,
   "metadata": {},
   "outputs": [],
   "source": [
    "# number of trees in random projection forest\n",
    "n_trees = 5 + int(round((fitting_data.shape[0]) ** 0.5 / 20.0))\n",
    "# max number of nearest neighbor iters to perform\n",
    "n_iters = max(5, int(round(np.log2(fitting_data.shape[0]))))\n",
    "# distance metric\n",
    "metric = \"euclidean\"\n",
    "# number of neighbors for computing k-neighbor graph\n",
    "n_neighbors = 15"
   ]
  },
  {
   "cell_type": "code",
   "execution_count": 4,
   "metadata": {},
   "outputs": [
    {
     "name": "stdout",
     "output_type": "stream",
     "text": [
      "Wed Jan 20 21:09:17 2021 Building RP forest with 17 trees\n",
      "Wed Jan 20 21:09:21 2021 NN descent for 16 iterations\n",
      "\t 1  /  16\n",
      "\t 2  /  16\n",
      "\t 3  /  16\n",
      "\tStopping threshold met -- exiting after 3 iterations\n"
     ]
    }
   ],
   "source": [
    "from pynndescent import NNDescent\n",
    "# get nearest neighbors\n",
    "nnd = NNDescent(\n",
    "    fitting_data.reshape((len(fitting_data), np.product(np.shape(fitting_data)[1:]))),\n",
    "    n_neighbors=n_neighbors,\n",
    "    metric=metric,\n",
    "    n_trees=n_trees,\n",
    "    n_iters=n_iters,\n",
    "    max_candidates=60,\n",
    "    verbose=True\n",
    ")"
   ]
  },
  {
   "cell_type": "code",
   "execution_count": 5,
   "metadata": {},
   "outputs": [],
   "source": [
    "from sklearn.utils import check_random_state\n",
    "from umap.umap_ import fuzzy_simplicial_set\n",
    "knn_indices, knn_dists = nnd.neighbor_graph\n",
    "random_state = check_random_state(None)"
   ]
  },
  {
   "cell_type": "code",
   "execution_count": 6,
   "metadata": {},
   "outputs": [],
   "source": [
    "umap_graph, sigmas, rhos, dists = fuzzy_simplicial_set(\n",
    "    X=fitting_data,\n",
    "    n_neighbors=n_neighbors,\n",
    "    metric=metric,\n",
    "    random_state=random_state,\n",
    "    knn_indices=knn_indices,\n",
    "    knn_dists=knn_dists,\n",
    "    return_dists=True,\n",
    ")"
   ]
  },
  {
   "cell_type": "code",
   "execution_count": 7,
   "metadata": {},
   "outputs": [
    {
     "data": {
      "text/plain": [
       "<55000x55000 sparse matrix of type '<class 'numpy.float32'>'\n",
       "\twith 1099774 stored elements in COOrdinate format>"
      ]
     },
     "execution_count": 7,
     "metadata": {},
     "output_type": "execute_result"
    }
   ],
   "source": [
    "graph = umap_graph.tocoo()\n",
    "graph.sum_duplicates()\n",
    "graph.eliminate_zeros()\n",
    "graph.data[graph.data < (graph.data.max() / float(500))] = 0.0\n",
    "graph.eliminate_zeros()\n",
    "graph"
   ]
  },
  {
   "cell_type": "code",
   "execution_count": 8,
   "metadata": {},
   "outputs": [
    {
     "data": {
      "text/plain": [
       "(1099774, 1099774)"
      ]
     },
     "execution_count": 8,
     "metadata": {},
     "output_type": "execute_result"
    }
   ],
   "source": [
    "head,tail,weight= graph.row,graph.col,graph.data\n",
    "len(head),len(tail)"
   ]
  },
  {
   "cell_type": "code",
   "execution_count": 9,
   "metadata": {},
   "outputs": [
    {
     "data": {
      "text/plain": [
       "1003630"
      ]
     },
     "execution_count": 9,
     "metadata": {},
     "output_type": "execute_result"
    }
   ],
   "source": [
    "tp_head = (head<50000)\n",
    "tp_tail = (tail<50000)\n",
    "tp_tp = (tp_head & tp_tail)\n",
    "np.sum(tp_tp)"
   ]
  },
  {
   "cell_type": "code",
   "execution_count": 82,
   "metadata": {},
   "outputs": [
    {
     "data": {
      "text/plain": [
       "(501815.0, 42559.0)"
      ]
     },
     "execution_count": 82,
     "metadata": {},
     "output_type": "execute_result"
    }
   ],
   "source": [
    "1003630/2,85118/2"
   ]
  },
  {
   "cell_type": "code",
   "execution_count": 10,
   "metadata": {},
   "outputs": [
    {
     "data": {
      "text/plain": [
       "85116"
      ]
     },
     "execution_count": 10,
     "metadata": {},
     "output_type": "execute_result"
    }
   ],
   "source": [
    "dbp_head = (head>=50000)\n",
    "dbp_tail = (tail>=50000)\n",
    "dbp_dbp = (dbp_head & dbp_tail)\n",
    "np.sum(dbp_dbp)"
   ]
  },
  {
   "cell_type": "code",
   "execution_count": 11,
   "metadata": {},
   "outputs": [
    {
     "data": {
      "text/plain": [
       "11028"
      ]
     },
     "execution_count": 11,
     "metadata": {},
     "output_type": "execute_result"
    }
   ],
   "source": [
    "tp_dbp = ((tp_head & dbp_tail) | (dbp_head & tp_tail))\n",
    "np.sum(tp_dbp)"
   ]
  },
  {
   "cell_type": "code",
   "execution_count": 12,
   "metadata": {},
   "outputs": [
    {
     "data": {
      "text/plain": [
       "5514"
      ]
     },
     "execution_count": 12,
     "metadata": {},
     "output_type": "execute_result"
    }
   ],
   "source": [
    "tp_dbp = (tp_head & dbp_tail)\n",
    "np.sum(tp_dbp)"
   ]
  },
  {
   "cell_type": "code",
   "execution_count": 13,
   "metadata": {},
   "outputs": [
    {
     "data": {
      "text/plain": [
       "array([1009144, 1009145, 1009146, ..., 1099657, 1099658, 1099674],\n",
       "      dtype=int64)"
      ]
     },
     "execution_count": 13,
     "metadata": {},
     "output_type": "execute_result"
    }
   ],
   "source": [
    "edges = np.argwhere(tp_dbp==True)\n",
    "edges = np.squeeze(edges)\n",
    "edges"
   ]
  },
  {
   "cell_type": "code",
   "execution_count": 14,
   "metadata": {},
   "outputs": [
    {
     "data": {
      "text/plain": [
       "(710, 2213, 5514)"
      ]
     },
     "execution_count": 14,
     "metadata": {},
     "output_type": "execute_result"
    }
   ],
   "source": [
    "heads = head[edges]\n",
    "tails = tail[edges]\n",
    "heads = set(heads)\n",
    "tails=set(tails)\n",
    "len(heads), len(tails),len(edges)"
   ]
  },
  {
   "cell_type": "markdown",
   "metadata": {},
   "source": [
    "## load different autoencoder"
   ]
  },
  {
   "cell_type": "code",
   "execution_count": 15,
   "metadata": {},
   "outputs": [],
   "source": [
    "# define encoder\n",
    "import tensorflow as tf\n",
    "physical_devices = tf.config.list_physical_devices('GPU')\n",
    "tf.config.experimental.set_memory_growth(physical_devices[0], True)"
   ]
  },
  {
   "cell_type": "code",
   "execution_count": 23,
   "metadata": {},
   "outputs": [
    {
     "name": "stdout",
     "output_type": "stream",
     "text": [
      "WARNING:tensorflow:No training configuration found in save file, so the model was *not* compiled. Compile it manually.\n",
      "Keras encoder model loaded from parametric_umap_models\\dbp_exp\\encoder_core_tpdp\n"
     ]
    }
   ],
   "source": [
    "import os\n",
    "save_location = \"parametric_umap_models\\dbp_exp\"\n",
    "# load model\n",
    "# load encoder\n",
    "encoder_output = os.path.join(save_location, \"encoder_core_tpdp\")\n",
    "if os.path.exists(encoder_output):\n",
    "    load_encoder = tf.keras.models.load_model(encoder_output)\n",
    "    print(\"Keras encoder model loaded from {}\".format(encoder_output))\n",
    "\n",
    "# # load decoder\n",
    "# decoder_output = os.path.join(save_location, \"decoder_original\")\n",
    "# if os.path.exists(decoder_output):\n",
    "#     load_decoder = tf.keras.models.load_model(decoder_output)\n",
    "#     print(\"Keras decoder model loaded from {}\".format(decoder_output))"
   ]
  },
  {
   "cell_type": "code",
   "execution_count": 17,
   "metadata": {},
   "outputs": [
    {
     "name": "stdout",
     "output_type": "stream",
     "text": [
      "WARNING:tensorflow:From <ipython-input-17-7a447566bb7c>:1: _EagerTensorBase.cpu (from tensorflow.python.framework.ops) is deprecated and will be removed in a future version.\n",
      "Instructions for updating:\n",
      "Use tf.identity instead.\n"
     ]
    }
   ],
   "source": [
    "low_center = load_encoder(border_center).cpu().numpy()\n",
    "low_train = load_encoder(train_data).cpu().numpy()"
   ]
  },
  {
   "cell_type": "code",
   "execution_count": 6,
   "metadata": {},
   "outputs": [],
   "source": [
    "## nndescent?\n",
    "from sklearn.neighbors import KDTree\n",
    "high_tree = KDTree(border_center) \n",
    "low_tree = KDTree(low_center)"
   ]
  },
  {
   "cell_type": "code",
   "execution_count": 7,
   "metadata": {},
   "outputs": [],
   "source": [
    "_, high_ind = high_tree.query(train_data, k=N) \n",
    "_, low_ind = low_tree.query(low_train, k=N) "
   ]
  },
  {
   "cell_type": "code",
   "execution_count": 8,
   "metadata": {},
   "outputs": [],
   "source": [
    "border_pres = np.zeros(len(train_data))\n",
    "for i in range(len(train_data)):\n",
    "    border_pres[i] = len(np.intersect1d(high_ind[i],low_ind[i]))"
   ]
  },
  {
   "cell_type": "code",
   "execution_count": 13,
   "metadata": {},
   "outputs": [
    {
     "data": {
      "text/plain": [
       "array([32185,  9015,  2494,  1806,  3116,  1093,   162,    66,    49,\n",
       "          13,     1], dtype=int64)"
      ]
     },
     "execution_count": 13,
     "metadata": {},
     "output_type": "execute_result"
    }
   ],
   "source": [
    "np.bincount(border_pres.astype(\"int64\"))"
   ]
  },
  {
   "cell_type": "markdown",
   "metadata": {},
   "source": [
    "for training edges evaluation only"
   ]
  },
  {
   "cell_type": "code",
   "execution_count": 24,
   "metadata": {},
   "outputs": [],
   "source": [
    "# core tpdp\n",
    "tp = head[edges]\n",
    "dbp = tail[edges]\n",
    "tp = fitting_data[tp]\n",
    "dbp = fitting_data[dbp]\n",
    "low_center = load_encoder(dbp).cpu().numpy()\n",
    "low_train = load_encoder(tp).cpu().numpy()\n",
    "## nndescent?\n",
    "from sklearn.neighbors import KDTree\n",
    "high_tree = KDTree(dbp) \n",
    "low_tree = KDTree(low_center)"
   ]
  },
  {
   "cell_type": "code",
   "execution_count": 19,
   "metadata": {},
   "outputs": [
    {
     "data": {
      "text/plain": [
       "(2.044811320754717, 10.0, 0.0)"
      ]
     },
     "execution_count": 19,
     "metadata": {},
     "output_type": "execute_result"
    }
   ],
   "source": [
    "_, high_ind = high_tree.query(tp, k=10) \n",
    "_, low_ind = low_tree.query(low_train, k=10) \n",
    "# N=10\n",
    "border_pres = np.zeros(len(tp))\n",
    "for i in range(len(tp)):\n",
    "    border_pres[i] = len(np.intersect1d(high_ind[i],low_ind[i]))\n",
    "border_pres.mean(),border_pres.max(),border_pres.min()"
   ]
  },
  {
   "cell_type": "code",
   "execution_count": 20,
   "metadata": {},
   "outputs": [
    {
     "data": {
      "text/plain": [
       "(5.7338534107402035, 20.0, 0.0)"
      ]
     },
     "execution_count": 20,
     "metadata": {},
     "output_type": "execute_result"
    }
   ],
   "source": [
    "_, high_ind = high_tree.query(tp, k=20) \n",
    "_, low_ind = low_tree.query(low_train, k=20) \n",
    "# N=20\n",
    "border_pres = np.zeros(len(tp))\n",
    "for i in range(len(tp)):\n",
    "    border_pres[i] = len(np.intersect1d(high_ind[i],low_ind[i]))\n",
    "border_pres.mean(),border_pres.max(),border_pres.min()"
   ]
  },
  {
   "cell_type": "code",
   "execution_count": 21,
   "metadata": {},
   "outputs": [
    {
     "data": {
      "text/plain": [
       "(9.789550072568941, 30.0, 0.0)"
      ]
     },
     "execution_count": 21,
     "metadata": {},
     "output_type": "execute_result"
    }
   ],
   "source": [
    "_, high_ind = high_tree.query(tp, k=30) \n",
    "_, low_ind = low_tree.query(low_train, k=30) \n",
    "# N=30\n",
    "border_pres = np.zeros(len(tp))\n",
    "for i in range(len(tp)):\n",
    "    border_pres[i] = len(np.intersect1d(high_ind[i],low_ind[i]))\n",
    "border_pres.mean(),border_pres.max(),border_pres.min()"
   ]
  },
  {
   "cell_type": "code",
   "execution_count": 22,
   "metadata": {},
   "outputs": [
    {
     "data": {
      "text/plain": [
       "(19.642960812772134, 50.0, 0.0)"
      ]
     },
     "execution_count": 22,
     "metadata": {},
     "output_type": "execute_result"
    }
   ],
   "source": [
    "_, high_ind = high_tree.query(tp, k=50) \n",
    "_, low_ind = low_tree.query(low_train, k=50) \n",
    "# N=50\n",
    "border_pres = np.zeros(len(tp))\n",
    "for i in range(len(tp)):\n",
    "    border_pres[i] = len(np.intersect1d(high_ind[i],low_ind[i]))\n",
    "border_pres.mean(),border_pres.max(),border_pres.min()"
   ]
  },
  {
   "cell_type": "code",
   "execution_count": 22,
   "metadata": {},
   "outputs": [
    {
     "data": {
      "text/plain": [
       "(19.642960812772134, 50.0, 0.0)"
      ]
     },
     "execution_count": 22,
     "metadata": {},
     "output_type": "execute_result"
    }
   ],
   "source": [
    "_, high_ind = high_tree.query(tp, k=100) \n",
    "_, low_ind = low_tree.query(low_train, k=100) \n",
    "# N=50\n",
    "border_pres = np.zeros(len(tp))\n",
    "for i in range(len(tp)):\n",
    "    border_pres[i] = len(np.intersect1d(high_ind[i],low_ind[i]))\n",
    "border_pres.mean(),border_pres.max(),border_pres.min()"
   ]
  },
  {
   "cell_type": "code",
   "execution_count": 19,
   "metadata": {},
   "outputs": [
    {
     "data": {
      "text/plain": [
       "(1.327348567283279, 10.0, 0.0)"
      ]
     },
     "execution_count": 19,
     "metadata": {},
     "output_type": "execute_result"
    }
   ],
   "source": [
    "# core tptp tpdp\n",
    "_, high_ind = high_tree.query(tp, k=10) \n",
    "_, low_ind = low_tree.query(low_train, k=10) \n",
    "# N=10\n",
    "border_pres = np.zeros(len(tp))\n",
    "for i in range(len(tp)):\n",
    "    border_pres[i] = len(np.intersect1d(high_ind[i],low_ind[i]))\n",
    "border_pres.mean(),border_pres.max(),border_pres.min()"
   ]
  },
  {
   "cell_type": "code",
   "execution_count": 20,
   "metadata": {},
   "outputs": [
    {
     "data": {
      "text/plain": [
       "(3.6824446862531737, 19.0, 0.0)"
      ]
     },
     "execution_count": 20,
     "metadata": {},
     "output_type": "execute_result"
    }
   ],
   "source": [
    "_, high_ind = high_tree.query(tp, k=20) \n",
    "_, low_ind = low_tree.query(low_train, k=20) \n",
    "# N=20\n",
    "border_pres = np.zeros(len(tp))\n",
    "for i in range(len(tp)):64\n",
    "    border_pres[i] = len(np.intersect1d(high_ind[i],low_ind[i]))\n",
    "border_pres.mean(),border_pres.max(),border_pres.min()"
   ]
  },
  {
   "cell_type": "code",
   "execution_count": 21,
   "metadata": {},
   "outputs": [
    {
     "data": {
      "text/plain": [
       "(6.708741385564019, 30.0, 0.0)"
      ]
     },
     "execution_count": 21,
     "metadata": {},
     "output_type": "execute_result"
    }
   ],
   "source": [
    "_, high_ind = high_tree.query(tp, k=30) \n",
    "_, low_ind = low_tree.query(low_train, k=30) \n",
    "# N=30\n",
    "border_pres = np.zeros(len(tp))\n",
    "for i in range(len(tp)):\n",
    "    border_pres[i] = len(np.intersect1d(high_ind[i],low_ind[i]))\n",
    "border_pres.mean(),border_pres.max(),border_pres.min()"
   ]
  },
  {
   "cell_type": "code",
   "execution_count": 22,
   "metadata": {},
   "outputs": [
    {
     "data": {
      "text/plain": [
       "(19.642960812772134, 50.0, 0.0)"
      ]
     },
     "execution_count": 22,
     "metadata": {},
     "output_type": "execute_result"
    }
   ],
   "source": [
    "_, high_ind = high_tree.query(tp, k=50) \n",
    "_, low_ind = low_tree.query(low_train, k=50) \n",
    "# N=50\n",
    "border_pres = np.zeros(len(tp))\n",
    "for i in range(len(tp)):\n",
    "    border_pres[i] = len(np.intersect1d(high_ind[i],low_ind[i]))\n",
    "border_pres.mean(),border_pres.max(),border_pres.min()"
   ]
  },
  {
   "cell_type": "code",
   "execution_count": 22,
   "metadata": {},
   "outputs": [
    {
     "data": {
      "text/plain": [
       "(32.050961189698945, 86.0, 0.0)"
      ]
     },
     "execution_count": 22,
     "metadata": {},
     "output_type": "execute_result"
    }
   ],
   "source": [
    "_, high_ind = high_tree.query(tp, k=100) \n",
    "_, low_ind = low_tree.query(low_train, k=100) \n",
    "# N=100\n",
    "border_pres = np.zeros(len(tp))\n",
    "for i in range(len(tp)):\n",
    "    border_pres[i] = len(np.intersect1d(high_ind[i],low_ind[i]))\n",
    "border_pres.mean(),border_pres.max(),border_pres.min()"
   ]
  },
  {
   "cell_type": "code",
   "execution_count": 51,
   "metadata": {},
   "outputs": [
    {
     "data": {
      "text/plain": [
       "(array([ 94,   8, 110,  35,  80,  29,  54,   8,  46, 147,  91,  66,  75,\n",
       "         68, 135,  54,  84, 142, 102,  95, 110, 133,  38, 132, 185, 184,\n",
       "        119, 122, 163,  75,  79,  72,  72,  69,  32,  28,  54,  40, 162,\n",
       "         75,  83, 159, 108,  98,  81,  31,  53, 177, 113,  21,  88,  23,\n",
       "         57,  68,  20,   6,  44,  48,  51, 102,  48,  74,  76,   6,  34,\n",
       "         78,  85,   1,  25,  30,  39,  21,  13,   0,  12,  14,   2,   0,\n",
       "          1,   0,  23,   0,   0,   0,   0,  12,   2,  15], dtype=int64),\n",
       " 32.7645670720639)"
      ]
     },
     "execution_count": 51,
     "metadata": {},
     "output_type": "execute_result"
    }
   ],
   "source": [
    "# N=100\n",
    "border_pres = np.zeros(len(tp))\n",
    "for i in range(len(tp)):\n",
    "    border_pres[i] = len(np.intersect1d(high_ind[i],low_ind[i]))\n",
    "np.bincount(border_pres.astype(\"int64\")), border_pres.mean()"
   ]
  },
  {
   "cell_type": "code",
   "execution_count": 66,
   "metadata": {},
   "outputs": [
    {
     "name": "stdout",
     "output_type": "stream",
     "text": [
      "WARNING:tensorflow:No training configuration found in save file, so the model was *not* compiled. Compile it manually.\n",
      "Keras encoder model loaded from parametric_umap_models\\dbp_exp\\encoder_core\n"
     ]
    }
   ],
   "source": [
    "import os\n",
    "save_location = \"parametric_umap_models\\dbp_exp\"\n",
    "# load model\n",
    "# load encoder\n",
    "encoder_output = os.path.join(save_location, \"encoder_core\")\n",
    "if os.path.exists(encoder_output):\n",
    "    load_encoder = tf.keras.models.load_model(encoder_output)\n",
    "    print(\"Keras encoder model loaded from {}\".format(encoder_output))\n",
    "\n",
    "# # load decoder\n",
    "# decoder_output = os.path.join(save_location, \"decoder_core\")\n",
    "# if os.path.exists(decoder_output):\n",
    "#     load_decoder = tf.keras.models.load_model(decoder_output)\n",
    "#     print(\"Keras decoder model loaded from {}\".format(decoder_output))"
   ]
  },
  {
   "cell_type": "code",
   "execution_count": 15,
   "metadata": {},
   "outputs": [],
   "source": [
    "low_center = load_encoder(border_center).cpu().numpy()\n",
    "low_train = load_encoder(train_data).cpu().numpy()"
   ]
  },
  {
   "cell_type": "code",
   "execution_count": 16,
   "metadata": {},
   "outputs": [],
   "source": [
    "## nndescent?\n",
    "from sklearn.neighbors import KDTree\n",
    "high_tree = KDTree(border_center) \n",
    "low_tree = KDTree(low_center)"
   ]
  },
  {
   "cell_type": "code",
   "execution_count": 17,
   "metadata": {},
   "outputs": [],
   "source": [
    "_, high_ind = high_tree.query(train_data, k=N) \n",
    "_, low_ind = low_tree.query(low_train, k=N) "
   ]
  },
  {
   "cell_type": "code",
   "execution_count": 18,
   "metadata": {},
   "outputs": [],
   "source": [
    "border_pres = np.zeros(len(train_data))\n",
    "for i in range(len(train_data)):\n",
    "    border_pres[i] = len(np.intersect1d(high_ind[i],low_ind[i]))"
   ]
  },
  {
   "cell_type": "code",
   "execution_count": 19,
   "metadata": {},
   "outputs": [
    {
     "data": {
      "text/plain": [
       "array([22767, 10797,  6282,  5752,  2907,  1162,   306,    15,    12],\n",
       "      dtype=int64)"
      ]
     },
     "execution_count": 19,
     "metadata": {},
     "output_type": "execute_result"
    }
   ],
   "source": [
    "np.bincount(border_pres.astype(\"int64\"))"
   ]
  },
  {
   "cell_type": "code",
   "execution_count": 67,
   "metadata": {},
   "outputs": [],
   "source": [
    "tp = head[edges]\n",
    "dbp = tail[edges]\n",
    "tp = fitting_data[tp]\n",
    "dbp = fitting_data[dbp]\n",
    "low_center = load_encoder(dbp).cpu().numpy()\n",
    "low_train = load_encoder(tp).cpu().numpy()\n",
    "## nndescent?\n",
    "from sklearn.neighbors import KDTree\n",
    "high_tree = KDTree(dbp) \n",
    "low_tree = KDTree(low_center)\n",
    "_, high_ind = high_tree.query(tp, k=N) \n",
    "_, low_ind = low_tree.query(low_train, k=N) "
   ]
  },
  {
   "cell_type": "code",
   "execution_count": 68,
   "metadata": {},
   "outputs": [
    {
     "data": {
      "text/plain": [
       "(array([3612,  424,  395,  289,  231,   72,  180,  118,   99,   65,   24],\n",
       "       dtype=int64),\n",
       " 1.250317662007624)"
      ]
     },
     "execution_count": 68,
     "metadata": {},
     "output_type": "execute_result"
    }
   ],
   "source": [
    "# N=10\n",
    "border_pres = np.zeros(len(tp))\n",
    "for i in range(len(tp)):\n",
    "    border_pres[i] = len(np.intersect1d(high_ind[i],low_ind[i]))\n",
    "np.bincount(border_pres.astype(\"int64\")),border_pres.mean()"
   ]
  },
  {
   "cell_type": "code",
   "execution_count": 54,
   "metadata": {},
   "outputs": [
    {
     "data": {
      "text/plain": [
       "(array([ 75,  55,  31,  62,  55, 103, 108,  64, 139,  86,  72, 138,  60,\n",
       "         69, 129,  34, 146,  81, 120,  89,  78, 157, 118, 158,  95,  36,\n",
       "        150, 123, 161,  79, 116, 106, 107,  77,  46,  72, 129, 134,  52,\n",
       "        113, 167,  70, 114,  41,  66,  71,  77,  69,  99,  73,  79,  60,\n",
       "         61,  41,  61,  45,  44,  48,  60,  13,  75,  10,  13,  37,  28,\n",
       "         23,  37,   1,  19,  12,   3,  10,   0,   0,  30,   0,   0,   2,\n",
       "          6,   0,  21], dtype=int64),\n",
       " 30.011254311127246)"
      ]
     },
     "execution_count": 54,
     "metadata": {},
     "output_type": "execute_result"
    }
   ],
   "source": [
    "# N=100\n",
    "border_pres = np.zeros(len(tp))\n",
    "for i in range(len(tp)):\n",
    "    border_pres[i] = len(np.intersect1d(high_ind[i],low_ind[i]))\n",
    "np.bincount(border_pres.astype(\"int64\")), border_pres.mean()"
   ]
  },
  {
   "cell_type": "code",
   "execution_count": 77,
   "metadata": {},
   "outputs": [
    {
     "name": "stdout",
     "output_type": "stream",
     "text": [
      "WARNING:tensorflow:No training configuration found in save file, so the model was *not* compiled. Compile it manually.\n",
      "Keras encoder model loaded from parametric_umap_models\\dbp_exp\\encoder_dbp\n"
     ]
    }
   ],
   "source": [
    "import os\n",
    "save_location = \"parametric_umap_models\\dbp_exp\"\n",
    "# load model\n",
    "# load encoder\n",
    "encoder_output = os.path.join(save_location, \"encoder_dbp\")\n",
    "if os.path.exists(encoder_output):\n",
    "    load_encoder = tf.keras.models.load_model(encoder_output)\n",
    "    print(\"Keras encoder model loaded from {}\".format(encoder_output))\n",
    "\n",
    "# # load decoder\n",
    "# decoder_output = os.path.join(save_location, \"decoder_dbp\")\n",
    "# if os.path.exists(decoder_output):\n",
    "#     load_decoder = tf.keras.models.load_model(decoder_output)\n",
    "#     print(\"Keras decoder model loaded from {}\".format(decoder_output))"
   ]
  },
  {
   "cell_type": "code",
   "execution_count": 21,
   "metadata": {},
   "outputs": [],
   "source": [
    "low_center = load_encoder(border_center).cpu().numpy()\n",
    "low_train = load_encoder(train_data).cpu().numpy()"
   ]
  },
  {
   "cell_type": "code",
   "execution_count": 22,
   "metadata": {},
   "outputs": [],
   "source": [
    "## nndescent?\n",
    "from sklearn.neighbors import KDTree\n",
    "high_tree = KDTree(border_center) \n",
    "low_tree = KDTree(low_center)"
   ]
  },
  {
   "cell_type": "code",
   "execution_count": 23,
   "metadata": {},
   "outputs": [],
   "source": [
    "_, high_ind = high_tree.query(train_data, k=N) \n",
    "_, low_ind = low_tree.query(low_train, k=N) "
   ]
  },
  {
   "cell_type": "code",
   "execution_count": 24,
   "metadata": {},
   "outputs": [],
   "source": [
    "border_pres = np.zeros(len(train_data))\n",
    "for i in range(len(train_data)):\n",
    "    border_pres[i] = len(np.intersect1d(high_ind[i],low_ind[i]))"
   ]
  },
  {
   "cell_type": "code",
   "execution_count": 25,
   "metadata": {
    "scrolled": true
   },
   "outputs": [
    {
     "data": {
      "text/plain": [
       "array([33452,  9499,  5792,   465,   302,   184,   117,    94,    66,\n",
       "          28,     1], dtype=int64)"
      ]
     },
     "execution_count": 25,
     "metadata": {},
     "output_type": "execute_result"
    }
   ],
   "source": [
    "np.bincount(border_pres.astype(\"int64\"))"
   ]
  },
  {
   "cell_type": "code",
   "execution_count": 78,
   "metadata": {},
   "outputs": [],
   "source": [
    "tp = head[edges]\n",
    "dbp = tail[edges]\n",
    "tp = fitting_data[tp]\n",
    "dbp = fitting_data[dbp]\n",
    "low_center = load_encoder(dbp).cpu().numpy()\n",
    "low_train = load_encoder(tp).cpu().numpy()\n",
    "## nndescent?\n",
    "from sklearn.neighbors import KDTree\n",
    "high_tree = KDTree(dbp) \n",
    "low_tree = KDTree(low_center)\n",
    "_, high_ind = high_tree.query(tp, k=N) \n",
    "_, low_ind = low_tree.query(low_train, k=N) "
   ]
  },
  {
   "cell_type": "code",
   "execution_count": 79,
   "metadata": {},
   "outputs": [
    {
     "data": {
      "text/plain": [
       "(array([2925,  455,  521,  313,  313,  228,  236,  146,   65,  227,   80],\n",
       "       dtype=int64),\n",
       " 1.92938827373389)"
      ]
     },
     "execution_count": 79,
     "metadata": {},
     "output_type": "execute_result"
    }
   ],
   "source": [
    "# N=10\n",
    "border_pres = np.zeros(len(tp))\n",
    "for i in range(len(tp)):\n",
    "    border_pres[i] = len(np.intersect1d(high_ind[i],low_ind[i]))\n",
    "np.bincount(border_pres.astype(\"int64\")), border_pres.mean()"
   ]
  },
  {
   "cell_type": "code",
   "execution_count": 57,
   "metadata": {},
   "outputs": [
    {
     "data": {
      "text/plain": [
       "(array([ 88,  27,  39,  63,  60,  90,  67,  63,  19,  86,  42, 121,  56,\n",
       "         48,  14,  47,  17,  61,  84,  88,  75,  87,   9,  62, 108,  55,\n",
       "        118,  34,  61,  82,  59,  82, 133, 110,  15,  71,  82,  25,  87,\n",
       "         68,  27, 110,  83,  74,  76, 108,  28,  49,  42,   5,  16,  73,\n",
       "         37,  88,  74,  57,  23,  36,  46,  75,  64,  96,  72,  36,  90,\n",
       "         41, 116, 108,  73,  57,  77,  98,  39,  71,  68,  61,  41,  84,\n",
       "         28,  44,  29,  47,  27,  60,  46,  14,  30,  13,  33,  20,  14,\n",
       "         19,  17,   0,   0,  17,   0,  21,   5,   3], dtype=int64),\n",
       " 43.164821201669994)"
      ]
     },
     "execution_count": 57,
     "metadata": {},
     "output_type": "execute_result"
    }
   ],
   "source": [
    "# N=100\n",
    "border_pres = np.zeros(len(tp))\n",
    "for i in range(len(tp)):\n",
    "    border_pres[i] = len(np.intersect1d(high_ind[i],low_ind[i]))\n",
    "np.bincount(border_pres.astype(\"int64\")),border_pres.mean()"
   ]
  },
  {
   "cell_type": "code",
   "execution_count": 73,
   "metadata": {},
   "outputs": [
    {
     "name": "stdout",
     "output_type": "stream",
     "text": [
      "WARNING:tensorflow:No training configuration found in save file, so the model was *not* compiled. Compile it manually.\n",
      "Keras encoder model loaded from parametric_umap_models\\dbp_exp\\encoder_withouttp\n"
     ]
    }
   ],
   "source": [
    "import os\n",
    "save_location = \"parametric_umap_models\\dbp_exp\"\n",
    "# load model\n",
    "# load encoder\n",
    "encoder_output = os.path.join(save_location, \"encoder_withouttp\")\n",
    "if os.path.exists(encoder_output):\n",
    "    load_encoder = tf.keras.models.load_model(encoder_output)\n",
    "    print(\"Keras encoder model loaded from {}\".format(encoder_output))\n",
    "\n",
    "# # load decoder\n",
    "# decoder_output = os.path.join(save_location, \"decoder_dbp\")\n",
    "# if os.path.exists(decoder_output):\n",
    "#     load_decoder = tf.keras.models.load_model(decoder_output)\n",
    "#     print(\"Keras decoder model loaded from {}\".format(decoder_output))"
   ]
  },
  {
   "cell_type": "code",
   "execution_count": 30,
   "metadata": {},
   "outputs": [],
   "source": [
    "low_center = load_encoder(border_center).cpu().numpy()\n",
    "low_train = load_encoder(train_data).cpu().numpy()"
   ]
  },
  {
   "cell_type": "code",
   "execution_count": 31,
   "metadata": {},
   "outputs": [],
   "source": [
    "## nndescent?\n",
    "from sklearn.neighbors import KDTree\n",
    "high_tree = KDTree(border_center) \n",
    "low_tree = KDTree(low_center)"
   ]
  },
  {
   "cell_type": "code",
   "execution_count": 32,
   "metadata": {},
   "outputs": [],
   "source": [
    "_, high_ind = high_tree.query(train_data, k=N) \n",
    "_, low_ind = low_tree.query(low_train, k=N) "
   ]
  },
  {
   "cell_type": "code",
   "execution_count": 33,
   "metadata": {},
   "outputs": [],
   "source": [
    "border_pres = np.zeros(len(train_data))\n",
    "for i in range(len(train_data)):\n",
    "    border_pres[i] = len(np.intersect1d(high_ind[i],low_ind[i]))"
   ]
  },
  {
   "cell_type": "code",
   "execution_count": 34,
   "metadata": {
    "scrolled": true
   },
   "outputs": [
    {
     "data": {
      "text/plain": [
       "array([42618,  6516,   237,   148,   140,   118,    89,    93,    39,\n",
       "           2], dtype=int64)"
      ]
     },
     "execution_count": 34,
     "metadata": {},
     "output_type": "execute_result"
    }
   ],
   "source": [
    "np.bincount(border_pres.astype(\"int64\"))"
   ]
  },
  {
   "cell_type": "code",
   "execution_count": 37,
   "metadata": {},
   "outputs": [
    {
     "data": {
      "text/plain": [
       "42618"
      ]
     },
     "execution_count": 37,
     "metadata": {},
     "output_type": "execute_result"
    }
   ],
   "source": [
    "len(border_pres)-np.count_nonzero(border_pres)"
   ]
  },
  {
   "cell_type": "code",
   "execution_count": 74,
   "metadata": {},
   "outputs": [],
   "source": [
    "tp = head[edges]\n",
    "dbp = tail[edges]\n",
    "tp = fitting_data[tp]\n",
    "dbp = fitting_data[dbp]\n",
    "low_center = load_encoder(dbp).cpu().numpy()\n",
    "low_train = load_encoder(tp).cpu().numpy()\n",
    "## nndescent?\n",
    "from sklearn.neighbors import KDTree\n",
    "high_tree = KDTree(dbp) \n",
    "low_tree = KDTree(low_center)\n",
    "_, high_ind = high_tree.query(tp, k=N) \n",
    "_, low_ind = low_tree.query(low_train, k=N) "
   ]
  },
  {
   "cell_type": "code",
   "execution_count": 75,
   "metadata": {},
   "outputs": [
    {
     "data": {
      "text/plain": [
       "(array([2385,  368,  479,  450,  433,  339,  403,  158,  249,  181,   64],\n",
       "       dtype=int64),\n",
       " 2.5209656925031765)"
      ]
     },
     "execution_count": 75,
     "metadata": {},
     "output_type": "execute_result"
    }
   ],
   "source": [
    "# N=10\n",
    "border_pres = np.zeros(len(tp))\n",
    "for i in range(len(tp)):\n",
    "    border_pres[i] = len(np.intersect1d(high_ind[i],low_ind[i]))\n",
    "np.bincount(border_pres.astype(\"int64\")),border_pres.mean()"
   ]
  },
  {
   "cell_type": "code",
   "execution_count": 61,
   "metadata": {},
   "outputs": [
    {
     "data": {
      "text/plain": [
       "(array([ 68,  82,  57,  63,  16,  36,  47,   1,  25,  21,  42,  23,  32,\n",
       "         24,  34,   8,   7,  32,  58,  11,  50,  18,  80,  44,   9,  41,\n",
       "         16,  31,  32,  32,  54,  40,  72,  81,  64,  37,  51,  46,  43,\n",
       "         46,  64,  63,  65,  66,  44,  51,  44,  78,  54,  29,   9,  78,\n",
       "        108,  15,  55,  60,  24,  35,  71,  55,  63, 126, 148,  82, 129,\n",
       "        117,  42, 108, 106,  59, 110,  78,  73,  27, 101, 100,  53,  86,\n",
       "         70,  70,  74,  86,  95,  77, 107,  93,  63, 176,  71, 143,  58,\n",
       "         24,  22,  30], dtype=int64),\n",
       " 54.51025594481757)"
      ]
     },
     "execution_count": 61,
     "metadata": {},
     "output_type": "execute_result"
    }
   ],
   "source": [
    "# N=100\n",
    "border_pres = np.zeros(len(tp))\n",
    "for i in range(len(tp)):\n",
    "    border_pres[i] = len(np.intersect1d(high_ind[i],low_ind[i]))\n",
    "np.bincount(border_pres.astype(\"int64\")),border_pres.mean()"
   ]
  },
  {
   "cell_type": "markdown",
   "metadata": {},
   "source": [
    "# create the edge dataset"
   ]
  },
  {
   "cell_type": "code",
   "execution_count": 111,
   "metadata": {},
   "outputs": [
    {
     "data": {
      "text/plain": [
       "(5.379653172588765, 2.761048049037231)"
      ]
     },
     "execution_count": 111,
     "metadata": {},
     "output_type": "execute_result"
    }
   ],
   "source": [
    "neg = np.random.permutation(len(edges))\n",
    "neg = edges[neg]"
   ]
  },
  {
   "cell_type": "code",
   "execution_count": 124,
   "metadata": {},
   "outputs": [],
   "source": [
    "# tp-tp\n",
    "low_fitting_data = load_encoder(fitting_data).cpu().numpy()"
   ]
  },
  {
   "cell_type": "code",
   "execution_count": 125,
   "metadata": {},
   "outputs": [
    {
     "data": {
      "text/plain": [
       "(2.6621539374880987, 2.76190855788689)"
      ]
     },
     "execution_count": 125,
     "metadata": {},
     "output_type": "execute_result"
    }
   ],
   "source": [
    "dists = np.zeros(len(edges))\n",
    "for i in range(len(edges)):\n",
    "    h = low_fitting_data[head[edges[i]]]\n",
    "    t = low_fitting_data[tail[edges[i]]]\n",
    "    dists[i] = np.linalg.norm(h-t)\n",
    "dists.mean(), np.std(dists,axis=0)"
   ]
  },
  {
   "cell_type": "code",
   "execution_count": 126,
   "metadata": {},
   "outputs": [
    {
     "data": {
      "text/plain": [
       "(11.881431530302024, 8.13159089576581)"
      ]
     },
     "execution_count": 126,
     "metadata": {},
     "output_type": "execute_result"
    }
   ],
   "source": [
    "dists = np.zeros(len(edges))\n",
    "for i in range(len(edges)):\n",
    "    h = low_fitting_data[head[edges[i]]]\n",
    "    t = low_fitting_data[tail[neg[i]]]\n",
    "    dists[i] = np.linalg.norm(h-t)\n",
    "dists.mean(), np.std(dists,axis=0)"
   ]
  },
  {
   "cell_type": "code",
   "execution_count": 128,
   "metadata": {},
   "outputs": [],
   "source": [
    "# tp-tp core\n",
    "low_fitting_data = load_encoder(fitting_data).cpu().numpy()"
   ]
  },
  {
   "cell_type": "code",
   "execution_count": 129,
   "metadata": {},
   "outputs": [
    {
     "data": {
      "text/plain": [
       "(3.240253884779291, 3.6968340137081337)"
      ]
     },
     "execution_count": 129,
     "metadata": {},
     "output_type": "execute_result"
    }
   ],
   "source": [
    "dists = np.zeros(len(edges))\n",
    "for i in range(len(edges)):\n",
    "    h = low_fitting_data[head[edges[i]]]\n",
    "    t = low_fitting_data[tail[edges[i]]]\n",
    "    dists[i] = np.linalg.norm(h-t)\n",
    "dists.mean(), np.std(dists,axis=0)"
   ]
  },
  {
   "cell_type": "code",
   "execution_count": 130,
   "metadata": {},
   "outputs": [
    {
     "data": {
      "text/plain": [
       "(15.441977167531428, 10.332535596078399)"
      ]
     },
     "execution_count": 130,
     "metadata": {},
     "output_type": "execute_result"
    }
   ],
   "source": [
    "dists = np.zeros(len(edges))\n",
    "for i in range(len(edges)):\n",
    "    h = low_fitting_data[head[edges[i]]]\n",
    "    t = low_fitting_data[tail[neg[i]]]\n",
    "    dists[i] = np.linalg.norm(h-t)\n",
    "dists.mean(), np.std(dists,axis=0)"
   ]
  },
  {
   "cell_type": "code",
   "execution_count": 132,
   "metadata": {},
   "outputs": [],
   "source": [
    "# tp-dbp\n",
    "low_fitting_data = load_encoder(fitting_data).cpu().numpy()"
   ]
  },
  {
   "cell_type": "code",
   "execution_count": 133,
   "metadata": {},
   "outputs": [
    {
     "data": {
      "text/plain": [
       "(0.6543270221647088, 0.41393987605949595)"
      ]
     },
     "execution_count": 133,
     "metadata": {},
     "output_type": "execute_result"
    }
   ],
   "source": [
    "dists = np.zeros(len(edges))\n",
    "for i in range(len(edges)):\n",
    "    h = low_fitting_data[head[edges[i]]]\n",
    "    t = low_fitting_data[tail[edges[i]]]\n",
    "    dists[i] = np.linalg.norm(h-t)\n",
    "dists.mean(), np.std(dists,axis=0)"
   ]
  },
  {
   "cell_type": "code",
   "execution_count": 134,
   "metadata": {},
   "outputs": [
    {
     "data": {
      "text/plain": [
       "(4.838728493410867, 2.3704286107589785)"
      ]
     },
     "execution_count": 134,
     "metadata": {},
     "output_type": "execute_result"
    }
   ],
   "source": [
    "dists = np.zeros(len(edges))\n",
    "for i in range(len(edges)):\n",
    "    h = low_fitting_data[head[edges[i]]]\n",
    "    t = low_fitting_data[tail[neg[i]]]\n",
    "    dists[i] = np.linalg.norm(h-t)\n",
    "dists.mean(), np.std(dists,axis=0)"
   ]
  },
  {
   "cell_type": "code",
   "execution_count": 136,
   "metadata": {},
   "outputs": [],
   "source": [
    "# tp-dbp+dbp-dbp\n",
    "low_fitting_data = load_encoder(fitting_data).cpu().numpy()"
   ]
  },
  {
   "cell_type": "code",
   "execution_count": 137,
   "metadata": {},
   "outputs": [
    {
     "data": {
      "text/plain": [
       "(0.5080731251336978, 0.5900279612300334)"
      ]
     },
     "execution_count": 137,
     "metadata": {},
     "output_type": "execute_result"
    }
   ],
   "source": [
    "dists = np.zeros(len(edges))\n",
    "for i in range(len(edges)):\n",
    "    h = low_fitting_data[head[edges[i]]]\n",
    "    t = low_fitting_data[tail[edges[i]]]\n",
    "    dists[i] = np.linalg.norm(h-t)\n",
    "dists.mean(), np.std(dists,axis=0)"
   ]
  },
  {
   "cell_type": "code",
   "execution_count": 138,
   "metadata": {},
   "outputs": [
    {
     "data": {
      "text/plain": [
       "(5.379653172588765, 2.761048049037231)"
      ]
     },
     "execution_count": 138,
     "metadata": {},
     "output_type": "execute_result"
    }
   ],
   "source": [
    "dists = np.zeros(len(edges))\n",
    "for i in range(len(edges)):\n",
    "    h = low_fitting_data[head[edges[i]]]\n",
    "    t = low_fitting_data[tail[neg[i]]]\n",
    "    dists[i] = np.linalg.norm(h-t)\n",
    "dists.mean(), np.std(dists,axis=0)"
   ]
  }
 ],
 "metadata": {
  "kernelspec": {
   "display_name": "Python xianglinDR2",
   "language": "python",
   "name": "dr2"
  },
  "language_info": {
   "codemirror_mode": {
    "name": "ipython",
    "version": 3
   },
   "file_extension": ".py",
   "mimetype": "text/x-python",
   "name": "python",
   "nbconvert_exporter": "python",
   "pygments_lexer": "ipython3",
   "version": "3.6.12"
  }
 },
 "nbformat": 4,
 "nbformat_minor": 4
}
