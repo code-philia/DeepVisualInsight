{
 "cells": [
  {
   "cell_type": "code",
   "execution_count": 3,
   "metadata": {
    "collapsed": true
   },
   "outputs": [],
   "source": [
    "# preprocessing data to fit in DVI's format\n",
    "# import modules\n",
    "import sys\n",
    "import os\n",
    "import torch\n",
    "import json\n",
    "import collections\n",
    "from torchvision.datasets.utils import makedir_exist_ok"
   ]
  },
  {
   "cell_type": "code",
   "execution_count": 4,
   "outputs": [],
   "source": [
    "# CONTENT_PATH = \"E:\\\\DVI_exp_data\\\\noisy_model\\\\resnet10_cifar10_5\"\n",
    "CONTENT_PATH = \"E:\\\\DVI_exp_data\\\\TemporalExp\\\\resnet18_emnist\"\n",
    "EPOCH_START = 1\n",
    "EPOCH_END = 23\n",
    "EPOCH_PERIOD = 2\n",
    "TRAIN_NUM = 240000"
   ],
   "metadata": {
    "collapsed": false,
    "pycharm": {
     "name": "#%%\n"
    }
   }
  },
  {
   "cell_type": "code",
   "execution_count": 5,
   "outputs": [],
   "source": [
    "sys.path.append(CONTENT_PATH)\n",
    "from Model.model import resnet18\n",
    "net = resnet18()\n",
    "model_path = os.path.join(CONTENT_PATH, \"Model\")"
   ],
   "metadata": {
    "collapsed": false,
    "pycharm": {
     "name": "#%%\n"
    }
   }
  },
  {
   "cell_type": "code",
   "execution_count": 6,
   "outputs": [],
   "source": [
    "index = list(range(TRAIN_NUM))\n",
    "for n_epoch in range(EPOCH_START,EPOCH_END + EPOCH_PERIOD, EPOCH_PERIOD):\n",
    "\n",
    "    state_dict =  torch.load(os.path.join(model_path, \"epoch={:03d}.ckpt\".format(n_epoch)))\n",
    "\n",
    "\n",
    "    save_dir = os.path.join(model_path, \"Epoch_{}\".format((n_epoch) // EPOCH_PERIOD)) # TODO\n",
    "    makedir_exist_ok(save_dir)\n",
    "    torch.save(state_dict, os.path.join(save_dir, \"subject_model.pth\"))\n",
    "    with open(os.path.join(save_dir, \"index.json\"),\"w\") as f:\n",
    "        json.dump(index, f)\n"
   ],
   "metadata": {
    "collapsed": false,
    "pycharm": {
     "name": "#%%\n"
    }
   }
  },
  {
   "cell_type": "code",
   "execution_count": 7,
   "outputs": [],
   "source": [
    "index = list(range(TRAIN_NUM))\n",
    "for n_epoch in range(EPOCH_START,EPOCH_END + EPOCH_PERIOD, EPOCH_PERIOD):\n",
    "\n",
    "    state_dict =  torch.load(os.path.join(model_path, \"epoch={:03d}.ckpt\".format(n_epoch)))[\"state_dict\"]\n",
    "\n",
    "    order_dict =  collections.OrderedDict()\n",
    "    for key in state_dict.keys():\n",
    "        new_key = key.replace(\"model.\",\"\")\n",
    "        order_dict[new_key] = state_dict[key]\n",
    "\n",
    "    save_dir = os.path.join(model_path, \"Epoch_{}\".format((n_epoch) // EPOCH_PERIOD)) # TODO\n",
    "    makedir_exist_ok(save_dir)\n",
    "    torch.save(order_dict, os.path.join(save_dir, \"subject_model.pth\"))\n",
    "    with open(os.path.join(save_dir, \"index.json\"),\"w\") as f:\n",
    "        json.dump(index, f)\n"
   ],
   "metadata": {
    "collapsed": false,
    "pycharm": {
     "name": "#%%\n"
    }
   }
  }
 ],
 "metadata": {
  "kernelspec": {
   "name": "dr2",
   "language": "python",
   "display_name": "Python xianglinDR2"
  },
  "language_info": {
   "codemirror_mode": {
    "name": "ipython",
    "version": 2
   },
   "file_extension": ".py",
   "mimetype": "text/x-python",
   "name": "python",
   "nbconvert_exporter": "python",
   "pygments_lexer": "ipython2",
   "version": "2.7.6"
  }
 },
 "nbformat": 4,
 "nbformat_minor": 0
}