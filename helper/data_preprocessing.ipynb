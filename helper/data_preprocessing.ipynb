{
 "cells": [
  {
   "cell_type": "code",
   "execution_count": 3,
   "metadata": {
    "collapsed": true
   },
   "outputs": [],
   "source": [
    "# preprocessing data to fit in DVI's format\n",
    "# import modules\n",
    "import sys\n",
    "import os\n",
    "import numpy as np\n",
    "import torch\n",
    "import json\n",
    "import collections"
   ]
  },
  {
   "cell_type": "code",
   "execution_count": 4,
   "metadata": {
    "collapsed": false,
    "pycharm": {
     "name": "#%%\n"
    }
   },
   "outputs": [],
   "source": [
    "# CONTENT_PATH = \"E:\\\\DVI_exp_data\\\\noisy_model\\\\resnet10_cifar10_5\"\n",
    "CONTENT_PATH = \"/home/xianglin/projects/DVI_data/mlp_mnist\"\n",
    "EPOCH_START = 1\n",
    "EPOCH_END = 15\n",
    "EPOCH_PERIOD = 1\n",
    "TRAIN_NUM = 60000"
   ]
  },
  {
   "cell_type": "code",
   "execution_count": 5,
   "metadata": {
    "collapsed": false,
    "pycharm": {
     "name": "#%%\n"
    }
   },
   "outputs": [],
   "source": [
    "sys.path.append(CONTENT_PATH)\n",
    "import Model.model as subject_model\n",
    "net = eval(\"subject_model.mlp3()\")\n",
    "model_path = os.path.join(CONTENT_PATH, \"Model\")"
   ]
  },
  {
   "cell_type": "code",
   "execution_count": 7,
   "metadata": {
    "collapsed": false,
    "pycharm": {
     "name": "#%%\n"
    }
   },
   "outputs": [],
   "source": [
    "index = list(range(TRAIN_NUM))\n",
    "for n_epoch in range(EPOCH_START,EPOCH_END + EPOCH_PERIOD, EPOCH_PERIOD):\n",
    "\n",
    "    state_dict =  torch.load(os.path.join(model_path, \"epoch={:03d}.ckpt\".format(n_epoch-1)))\n",
    "\n",
    "    save_dir = os.path.join(model_path, \"Epoch_{}\".format((n_epoch) // EPOCH_PERIOD)) \n",
    "    if not os.path.exists(save_dir):\n",
    "        os.mkdir(save_dir)\n",
    "    torch.save(state_dict, os.path.join(save_dir, \"subject_model.pth\"))\n",
    "    with open(os.path.join(save_dir, \"index.json\"),\"w\") as f:\n",
    "        json.dump(index, f)\n"
   ]
  },
  {
   "cell_type": "code",
   "execution_count": 5,
   "metadata": {
    "collapsed": false,
    "pycharm": {
     "name": "#%%\n"
    }
   },
   "outputs": [],
   "source": [
    "index = np.random.choice(list(range(TRAIN_NUM)), size=select_num, replace=False).tolist()\n",
    "test_idxs = np.random.choice(list(range(40000)), size=10000, replace=False).tolist()\n",
    "for n_epoch in range(EPOCH_START,EPOCH_END + EPOCH_PERIOD, EPOCH_PERIOD):\n",
    "\n",
    "    # state_dict =  torch.load(os.path.join(model_path, \"epoch={:03d}.ckpt\".format(n_epoch)))[\"state_dict\"]\n",
    "    #\n",
    "    # order_dict =  collections.OrderedDict()\n",
    "    # for key in state_dict.keys():\n",
    "    #     new_key = key.replace(\"model.\",\"\")\n",
    "    #     order_dict[new_key] = state_dict[key]\n",
    "\n",
    "    save_dir = os.path.join(model_path, \"Epoch_{}\".format((n_epoch) // EPOCH_PERIOD)) # TODO\n",
    "    makedir_exist_ok(save_dir)\n",
    "    # torch.save(order_dict, os.path.join(save_dir, \"subject_model.pth\"))\n",
    "    with open(os.path.join(save_dir, \"index.json\"),\"w\") as f:\n",
    "        json.dump(index, f)\n",
    "    with open(os.path.join(save_dir, \"test_index.json\"),\"w\") as f:\n",
    "        json.dump(test_idxs, f)\n"
   ]
  }
 ],
 "metadata": {
  "interpreter": {
   "hash": "aa7a9f36e1a1e240450dbe9cc8f6d8df1d5301f36681fb271c44fdd883236b60"
  },
  "kernelspec": {
   "display_name": "Python xianglinDR2",
   "language": "python",
   "name": "python3"
  },
  "language_info": {
   "codemirror_mode": {
    "name": "ipython",
    "version": 3
   },
   "file_extension": ".py",
   "mimetype": "text/x-python",
   "name": "python",
   "nbconvert_exporter": "python",
   "pygments_lexer": "ipython3",
   "version": "3.7.11"
  }
 },
 "nbformat": 4,
 "nbformat_minor": 0
}
