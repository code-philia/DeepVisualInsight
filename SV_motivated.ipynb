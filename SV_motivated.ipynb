{
 "cells": [
  {
   "cell_type": "code",
   "execution_count": 1,
   "metadata": {},
   "outputs": [
    {
     "name": "stderr",
     "output_type": "stream",
     "text": [
      "2022-08-11 22:18:09.491786: I tensorflow/stream_executor/cuda/cuda_gpu_executor.cc:937] successful NUMA node read from SysFS had negative value (-1), but there must be at least one NUMA node, so returning NUMA node zero\n",
      "2022-08-11 22:18:09.492095: I tensorflow/stream_executor/cuda/cuda_gpu_executor.cc:937] successful NUMA node read from SysFS had negative value (-1), but there must be at least one NUMA node, so returning NUMA node zero\n",
      "2022-08-11 22:18:09.492350: I tensorflow/stream_executor/cuda/cuda_gpu_executor.cc:937] successful NUMA node read from SysFS had negative value (-1), but there must be at least one NUMA node, so returning NUMA node zero\n",
      "2022-08-11 22:18:09.492602: I tensorflow/stream_executor/cuda/cuda_gpu_executor.cc:937] successful NUMA node read from SysFS had negative value (-1), but there must be at least one NUMA node, so returning NUMA node zero\n",
      "2022-08-11 22:18:09.496832: I tensorflow/stream_executor/cuda/cuda_gpu_executor.cc:937] successful NUMA node read from SysFS had negative value (-1), but there must be at least one NUMA node, so returning NUMA node zero\n",
      "2022-08-11 22:18:09.497135: I tensorflow/stream_executor/cuda/cuda_gpu_executor.cc:937] successful NUMA node read from SysFS had negative value (-1), but there must be at least one NUMA node, so returning NUMA node zero\n",
      "2022-08-11 22:18:09.497392: I tensorflow/stream_executor/cuda/cuda_gpu_executor.cc:937] successful NUMA node read from SysFS had negative value (-1), but there must be at least one NUMA node, so returning NUMA node zero\n",
      "2022-08-11 22:18:09.497644: I tensorflow/stream_executor/cuda/cuda_gpu_executor.cc:937] successful NUMA node read from SysFS had negative value (-1), but there must be at least one NUMA node, so returning NUMA node zero\n",
      "2022-08-11 22:18:09.497892: I tensorflow/stream_executor/cuda/cuda_gpu_executor.cc:937] successful NUMA node read from SysFS had negative value (-1), but there must be at least one NUMA node, so returning NUMA node zero\n",
      "2022-08-11 22:18:09.498138: I tensorflow/stream_executor/cuda/cuda_gpu_executor.cc:937] successful NUMA node read from SysFS had negative value (-1), but there must be at least one NUMA node, so returning NUMA node zero\n",
      "2022-08-11 22:18:09.498382: I tensorflow/stream_executor/cuda/cuda_gpu_executor.cc:937] successful NUMA node read from SysFS had negative value (-1), but there must be at least one NUMA node, so returning NUMA node zero\n",
      "2022-08-11 22:18:09.498626: I tensorflow/stream_executor/cuda/cuda_gpu_executor.cc:937] successful NUMA node read from SysFS had negative value (-1), but there must be at least one NUMA node, so returning NUMA node zero\n"
     ]
    },
    {
     "name": "stdout",
     "output_type": "stream",
     "text": [
      "Finish loading content!\n"
     ]
    }
   ],
   "source": [
    "from deepvisualinsight.MMS import MMS\n",
    "import deepvisualinsight.utils as utils\n",
    "import sys\n",
    "import os\n",
    "import numpy as np\n",
    "import time\n",
    "import matplotlib.pyplot as plt\n",
    "import torch\n",
    "import json\n",
    "import tensorflow as tf\n",
    "\n",
    "DATASET = \"cifar10\"\n",
    "content_path = \"/home/xianglin/projects/DVI_data/resnet18_{}\".format(DATASET)\n",
    "\n",
    "sys.path.append(content_path)\n",
    "from Model.model import *\n",
    "net = resnet18()\n",
    "\n",
    "classes = (\"airplane\", \"car\", \"bird\", \"cat\", \"deer\", \"dog\", \"frog\", \"horse\", \"ship\", \"truck\")\n",
    "\n",
    "mms = MMS(content_path, net, 1, 7, 1, 512, 10, classes, temperature=.3, batch_size=500, cmap=\"tab10\", resolution=100, verbose=1, \n",
    "transfer_learning=True, attention=True, temporal=True, step3=False, split=-1,  alpha=0.3, withoutB=False, attack_device=\"cuda:2\");\n",
    "\n"
   ]
  },
  {
   "cell_type": "markdown",
   "metadata": {},
   "source": [
    "# test invariants functions"
   ]
  },
  {
   "cell_type": "code",
   "execution_count": 16,
   "metadata": {},
   "outputs": [
    {
     "name": "stderr",
     "output_type": "stream",
     "text": [
      "100%|██████████| 250/250 [00:00<00:00, 17341.29it/s]\n",
      "100%|██████████| 250/250 [00:00<00:00, 17356.22it/s]\n"
     ]
    },
    {
     "name": "stdout",
     "output_type": "stream",
     "text": [
      "WARNING:tensorflow:No training configuration found in save file, so the model was *not* compiled. Compile it manually.\n",
      "Keras encoder model loaded from <keras.engine.sequential.Sequential object at 0x7f757c17e990>\n",
      "WARNING:tensorflow:No training configuration found in save file, so the model was *not* compiled. Compile it manually.\n",
      "Keras encoder model loaded from <keras.engine.sequential.Sequential object at 0x7f750c0b0e90>\n"
     ]
    },
    {
     "data": {
      "text/plain": [
       "(45, 1627)"
      ]
     },
     "execution_count": 16,
     "metadata": {},
     "output_type": "execute_result"
    }
   ],
   "source": [
    "mms.fixing_invariants_train(180,200,0.5)"
   ]
  },
  {
   "cell_type": "code",
   "execution_count": 19,
   "metadata": {},
   "outputs": [
    {
     "name": "stdout",
     "output_type": "stream",
     "text": [
      "WARNING:tensorflow:No training configuration found in save file, so the model was *not* compiled. Compile it manually.\n",
      "Keras encoder model loaded from <keras.engine.sequential.Sequential object at 0x7f750c7b3fd0>\n",
      "Thu Aug 11 22:25:30 2022 Building RP forest with 16 trees\n",
      "Thu Aug 11 22:25:31 2022 NN descent for 16 iterations\n",
      "\t 1  /  16\n",
      "\t 2  /  16\n",
      "\t 3  /  16\n",
      "\t 4  /  16\n",
      "\tStopping threshold met -- exiting after 4 iterations\n",
      "Thu Aug 11 22:25:33 2022 Building RP forest with 16 trees\n",
      "Thu Aug 11 22:25:33 2022 NN descent for 16 iterations\n",
      "\t 1  /  16\n",
      "\t 2  /  16\n",
      "\tStopping threshold met -- exiting after 2 iterations\n",
      "WARNING:tensorflow:No training configuration found in save file, so the model was *not* compiled. Compile it manually.\n",
      "Keras encoder model loaded from <keras.engine.sequential.Sequential object at 0x7f7589912ed0>\n",
      "Thu Aug 11 22:25:36 2022 Building RP forest with 17 trees\n",
      "Thu Aug 11 22:25:37 2022 NN descent for 16 iterations\n",
      "\t 1  /  16\n",
      "\t 2  /  16\n",
      "\t 3  /  16\n",
      "\t 4  /  16\n",
      "\tStopping threshold met -- exiting after 4 iterations\n",
      "Thu Aug 11 22:25:39 2022 Building RP forest with 17 trees\n",
      "Thu Aug 11 22:25:39 2022 NN descent for 16 iterations\n",
      "\t 1  /  16\n",
      "\t 2  /  16\n",
      "\tStopping threshold met -- exiting after 2 iterations\n",
      "WARNING:tensorflow:No training configuration found in save file, so the model was *not* compiled. Compile it manually.\n",
      "Keras encoder model loaded from <keras.engine.sequential.Sequential object at 0x7f751a32e690>\n",
      "WARNING:tensorflow:No training configuration found in save file, so the model was *not* compiled. Compile it manually.\n",
      "Keras encoder model loaded from <keras.engine.sequential.Sequential object at 0x7f7589912ed0>\n"
     ]
    },
    {
     "name": "stderr",
     "output_type": "stream",
     "text": [
      "100%|██████████| 250/250 [00:00<00:00, 17109.27it/s]\n",
      "100%|██████████| 250/250 [00:00<00:00, 17045.30it/s]"
     ]
    },
    {
     "name": "stdout",
     "output_type": "stream",
     "text": [
      "WARNING:tensorflow:No training configuration found in save file, so the model was *not* compiled. Compile it manually.\n"
     ]
    },
    {
     "name": "stderr",
     "output_type": "stream",
     "text": [
      "\n"
     ]
    },
    {
     "name": "stdout",
     "output_type": "stream",
     "text": [
      "Keras encoder model loaded from <keras.engine.sequential.Sequential object at 0x7f750c328950>\n",
      "WARNING:tensorflow:No training configuration found in save file, so the model was *not* compiled. Compile it manually.\n",
      "Keras encoder model loaded from <keras.engine.sequential.Sequential object at 0x7f75894cd290>\n"
     ]
    },
    {
     "name": "stderr",
     "output_type": "stream",
     "text": [
      "100%|██████████| 50/50 [00:00<00:00, 15900.77it/s]\n",
      "100%|██████████| 50/50 [00:00<00:00, 15963.71it/s]\n"
     ]
    }
   ],
   "source": [
    "i=20\n",
    "nn_train = mms.proj_nn_perseverance_knn_train(i, 15)\n",
    "nn_test = mms.proj_nn_perseverance_knn_test(i, 15)\n",
    "ppr_train = mms.inv_accu_train(i)\n",
    "ppr_test = mms.inv_accu_test(i)"
   ]
  },
  {
   "cell_type": "code",
   "execution_count": 20,
   "metadata": {},
   "outputs": [
    {
     "data": {
      "text/plain": [
       "(1.28718, 1.2479166666666666, 0.34744, 0.3431)"
      ]
     },
     "execution_count": 20,
     "metadata": {},
     "output_type": "execute_result"
    }
   ],
   "source": [
    "nn_train, nn_test, ppr_train, ppr_test"
   ]
  },
  {
   "cell_type": "code",
   "execution_count": null,
   "metadata": {},
   "outputs": [],
   "source": [
    "prev_data = mms.get_epoch_train_repr_data(1)\n",
    "curr_data = mms.get_epoch_train_repr_data(2)\n",
    "dists = np.linalg.norm(prev_data - curr_data, axis=1)\n",
    "dists.shape"
   ]
  },
  {
   "cell_type": "code",
   "execution_count": null,
   "metadata": {},
   "outputs": [],
   "source": [
    "encoder = mms.get_proj_model(1)\n",
    "prev_embedding = encoder(prev_data).cpu().numpy()\n",
    "\n",
    "encoder = mms.get_proj_model(2)\n",
    "curr_embedding = encoder(curr_data).cpu().numpy()\n",
    "\n",
    "embedding_dists = np.linalg.norm(prev_embedding-curr_embedding, axis=1)"
   ]
  },
  {
   "cell_type": "code",
   "execution_count": null,
   "metadata": {},
   "outputs": [],
   "source": [
    "high_change = np.argsort(dists)\n",
    "low_change= np.argsort(embedding_dists)\n",
    "targets = np.intersect1d(high_change[49000:],low_change[49000:])\n",
    "targets.shape"
   ]
  },
  {
   "cell_type": "code",
   "execution_count": null,
   "metadata": {},
   "outputs": [],
   "source": [
    "targets = np.load(\"/home/xianglin/projects/git_space/SingleVisualization/wrong_pred.npy\")"
   ]
  },
  {
   "cell_type": "code",
   "execution_count": null,
   "metadata": {},
   "outputs": [],
   "source": [
    "save_dir = \"./result\"\n",
    "if not os.path.exists(save_dir):\n",
    "    os.mkdir(save_dir)\n",
    "for i in range(5, 8, 1):\n",
    "    curr_data = mms.get_epoch_train_repr_data(i)\n",
    "    curr_data = curr_data[targets]\n",
    "    pred = mms.get_pred(i, curr_data)\n",
    "    pred = np.argmax(pred, axis=1)\n",
    "    labels = mms.get_epoch_train_labels(i)\n",
    "    labels = labels[targets]\n",
    "    mms.savefig_cus(i, curr_data, pred, labels, path=os.path.join(save_dir,\"motivated_{}_{}.png\".format(DATASET, i)))"
   ]
  },
  {
   "cell_type": "code",
   "execution_count": null,
   "metadata": {},
   "outputs": [],
   "source": [
    "from scipy.stats.stats import pearsonr\n",
    "corr = pearsonr(dists, embedding_dists)\n",
    "corr"
   ]
  },
  {
   "cell_type": "markdown",
   "metadata": {},
   "source": [
    "# temporal ranking"
   ]
  },
  {
   "cell_type": "code",
   "execution_count": 2,
   "metadata": {},
   "outputs": [],
   "source": [
    "EPOCH = 50\n",
    "LEN = 60000"
   ]
  },
  {
   "cell_type": "code",
   "execution_count": 3,
   "metadata": {},
   "outputs": [
    {
     "name": "stdout",
     "output_type": "stream",
     "text": [
      "WARNING:tensorflow:No training configuration found in save file, so the model was *not* compiled. Compile it manually.\n"
     ]
    },
    {
     "name": "stderr",
     "output_type": "stream",
     "text": [
      "2022-04-12 22:25:33.956850: I tensorflow/core/platform/cpu_feature_guard.cc:151] This TensorFlow binary is optimized with oneAPI Deep Neural Network Library (oneDNN) to use the following CPU instructions in performance-critical operations:  AVX2 FMA\n",
      "To enable them in other operations, rebuild TensorFlow with the appropriate compiler flags.\n",
      "2022-04-12 22:25:34.138532: I tensorflow/stream_executor/cuda/cuda_gpu_executor.cc:939] successful NUMA node read from SysFS had negative value (-1), but there must be at least one NUMA node, so returning NUMA node zero\n",
      "2022-04-12 22:25:34.138820: I tensorflow/stream_executor/cuda/cuda_gpu_executor.cc:939] successful NUMA node read from SysFS had negative value (-1), but there must be at least one NUMA node, so returning NUMA node zero\n",
      "2022-04-12 22:25:34.139074: I tensorflow/stream_executor/cuda/cuda_gpu_executor.cc:939] successful NUMA node read from SysFS had negative value (-1), but there must be at least one NUMA node, so returning NUMA node zero\n",
      "2022-04-12 22:25:34.139324: I tensorflow/stream_executor/cuda/cuda_gpu_executor.cc:939] successful NUMA node read from SysFS had negative value (-1), but there must be at least one NUMA node, so returning NUMA node zero\n",
      "2022-04-12 22:25:34.139593: I tensorflow/stream_executor/cuda/cuda_gpu_executor.cc:939] successful NUMA node read from SysFS had negative value (-1), but there must be at least one NUMA node, so returning NUMA node zero\n",
      "2022-04-12 22:25:34.139840: I tensorflow/stream_executor/cuda/cuda_gpu_executor.cc:939] successful NUMA node read from SysFS had negative value (-1), but there must be at least one NUMA node, so returning NUMA node zero\n",
      "2022-04-12 22:25:34.140082: I tensorflow/stream_executor/cuda/cuda_gpu_executor.cc:939] successful NUMA node read from SysFS had negative value (-1), but there must be at least one NUMA node, so returning NUMA node zero\n",
      "2022-04-12 22:25:34.140322: I tensorflow/stream_executor/cuda/cuda_gpu_executor.cc:939] successful NUMA node read from SysFS had negative value (-1), but there must be at least one NUMA node, so returning NUMA node zero\n",
      "2022-04-12 22:25:34.140568: I tensorflow/stream_executor/cuda/cuda_gpu_executor.cc:939] successful NUMA node read from SysFS had negative value (-1), but there must be at least one NUMA node, so returning NUMA node zero\n",
      "2022-04-12 22:25:34.140810: I tensorflow/stream_executor/cuda/cuda_gpu_executor.cc:939] successful NUMA node read from SysFS had negative value (-1), but there must be at least one NUMA node, so returning NUMA node zero\n",
      "2022-04-12 22:25:34.141051: I tensorflow/stream_executor/cuda/cuda_gpu_executor.cc:939] successful NUMA node read from SysFS had negative value (-1), but there must be at least one NUMA node, so returning NUMA node zero\n",
      "2022-04-12 22:25:34.141291: I tensorflow/stream_executor/cuda/cuda_gpu_executor.cc:939] successful NUMA node read from SysFS had negative value (-1), but there must be at least one NUMA node, so returning NUMA node zero\n",
      "2022-04-12 22:25:35.071651: I tensorflow/stream_executor/cuda/cuda_gpu_executor.cc:939] successful NUMA node read from SysFS had negative value (-1), but there must be at least one NUMA node, so returning NUMA node zero\n",
      "2022-04-12 22:25:35.071963: I tensorflow/stream_executor/cuda/cuda_gpu_executor.cc:939] successful NUMA node read from SysFS had negative value (-1), but there must be at least one NUMA node, so returning NUMA node zero\n",
      "2022-04-12 22:25:35.072236: I tensorflow/stream_executor/cuda/cuda_gpu_executor.cc:939] successful NUMA node read from SysFS had negative value (-1), but there must be at least one NUMA node, so returning NUMA node zero\n",
      "2022-04-12 22:25:35.072499: I tensorflow/stream_executor/cuda/cuda_gpu_executor.cc:939] successful NUMA node read from SysFS had negative value (-1), but there must be at least one NUMA node, so returning NUMA node zero\n",
      "2022-04-12 22:25:35.072758: I tensorflow/stream_executor/cuda/cuda_gpu_executor.cc:939] successful NUMA node read from SysFS had negative value (-1), but there must be at least one NUMA node, so returning NUMA node zero\n",
      "2022-04-12 22:25:35.073014: I tensorflow/stream_executor/cuda/cuda_gpu_executor.cc:939] successful NUMA node read from SysFS had negative value (-1), but there must be at least one NUMA node, so returning NUMA node zero\n",
      "2022-04-12 22:25:35.073258: I tensorflow/stream_executor/cuda/cuda_gpu_executor.cc:939] successful NUMA node read from SysFS had negative value (-1), but there must be at least one NUMA node, so returning NUMA node zero\n",
      "2022-04-12 22:25:35.073502: I tensorflow/stream_executor/cuda/cuda_gpu_executor.cc:939] successful NUMA node read from SysFS had negative value (-1), but there must be at least one NUMA node, so returning NUMA node zero\n",
      "2022-04-12 22:25:35.073753: I tensorflow/stream_executor/cuda/cuda_gpu_executor.cc:939] successful NUMA node read from SysFS had negative value (-1), but there must be at least one NUMA node, so returning NUMA node zero\n",
      "2022-04-12 22:25:35.073996: I tensorflow/core/common_runtime/gpu/gpu_device.cc:1525] Created device /job:localhost/replica:0/task:0/device:GPU:0 with 8520 MB memory:  -> device: 0, name: NVIDIA RTX A4000, pci bus id: 0000:01:00.0, compute capability: 8.6\n",
      "2022-04-12 22:25:35.074298: I tensorflow/stream_executor/cuda/cuda_gpu_executor.cc:939] successful NUMA node read from SysFS had negative value (-1), but there must be at least one NUMA node, so returning NUMA node zero\n",
      "2022-04-12 22:25:35.074526: I tensorflow/core/common_runtime/gpu/gpu_device.cc:1525] Created device /job:localhost/replica:0/task:0/device:GPU:1 with 13229 MB memory:  -> device: 1, name: NVIDIA RTX A4000, pci bus id: 0000:21:00.0, compute capability: 8.6\n",
      "2022-04-12 22:25:35.074754: I tensorflow/stream_executor/cuda/cuda_gpu_executor.cc:939] successful NUMA node read from SysFS had negative value (-1), but there must be at least one NUMA node, so returning NUMA node zero\n",
      "2022-04-12 22:25:35.074981: I tensorflow/core/common_runtime/gpu/gpu_device.cc:1525] Created device /job:localhost/replica:0/task:0/device:GPU:2 with 13229 MB memory:  -> device: 2, name: NVIDIA RTX A4000, pci bus id: 0000:4d:00.0, compute capability: 8.6\n",
      "2022-04-12 22:25:35.075196: I tensorflow/stream_executor/cuda/cuda_gpu_executor.cc:939] successful NUMA node read from SysFS had negative value (-1), but there must be at least one NUMA node, so returning NUMA node zero\n",
      "2022-04-12 22:25:35.075426: I tensorflow/core/common_runtime/gpu/gpu_device.cc:1525] Created device /job:localhost/replica:0/task:0/device:GPU:3 with 6910 MB memory:  -> device: 3, name: Quadro M5000, pci bus id: 0000:4c:00.0, compute capability: 5.2\n"
     ]
    },
    {
     "name": "stdout",
     "output_type": "stream",
     "text": [
      "Keras encoder model loaded from <keras.engine.sequential.Sequential object at 0x7f6ff5de2350>\n",
      "WARNING:tensorflow:From /data/projects-xianglin/git_space/DeepVisualInsight/deepvisualinsight/MMS.py:701: _EagerTensorBase.cpu (from tensorflow.python.framework.ops) is deprecated and will be removed in a future version.\n",
      "Instructions for updating:\n",
      "Use tf.identity instead.\n"
     ]
    },
    {
     "name": "stderr",
     "output_type": "stream",
     "text": [
      "2022-04-12 22:25:35.696239: I tensorflow/stream_executor/cuda/cuda_blas.cc:1774] TensorFloat-32 will be used for the matrix multiplication. This will only be logged once.\n"
     ]
    },
    {
     "name": "stdout",
     "output_type": "stream",
     "text": [
      "WARNING:tensorflow:No training configuration found in save file, so the model was *not* compiled. Compile it manually.\n",
      "Keras encoder model loaded from <keras.engine.sequential.Sequential object at 0x7f6f122e96d0>\n",
      "WARNING:tensorflow:No training configuration found in save file, so the model was *not* compiled. Compile it manually.\n",
      "Keras encoder model loaded from <keras.engine.sequential.Sequential object at 0x7f6f12857790>\n",
      "WARNING:tensorflow:No training configuration found in save file, so the model was *not* compiled. Compile it manually.\n",
      "Keras encoder model loaded from <keras.engine.sequential.Sequential object at 0x7f6f11aba790>\n",
      "WARNING:tensorflow:No training configuration found in save file, so the model was *not* compiled. Compile it manually.\n",
      "Keras encoder model loaded from <keras.engine.sequential.Sequential object at 0x7f6f11744590>\n",
      "WARNING:tensorflow:No training configuration found in save file, so the model was *not* compiled. Compile it manually.\n",
      "Keras encoder model loaded from <keras.engine.sequential.Sequential object at 0x7f6f11bf5750>\n",
      "WARNING:tensorflow:No training configuration found in save file, so the model was *not* compiled. Compile it manually.\n",
      "Keras encoder model loaded from <keras.engine.sequential.Sequential object at 0x7f6f11072f10>\n",
      "WARNING:tensorflow:No training configuration found in save file, so the model was *not* compiled. Compile it manually.\n",
      "Keras encoder model loaded from <keras.engine.sequential.Sequential object at 0x7f6f110ff6d0>\n",
      "WARNING:tensorflow:No training configuration found in save file, so the model was *not* compiled. Compile it manually.\n",
      "Keras encoder model loaded from <keras.engine.sequential.Sequential object at 0x7f6f1256aad0>\n",
      "WARNING:tensorflow:No training configuration found in save file, so the model was *not* compiled. Compile it manually.\n",
      "Keras encoder model loaded from <keras.engine.sequential.Sequential object at 0x7f6f1127fed0>\n",
      "WARNING:tensorflow:No training configuration found in save file, so the model was *not* compiled. Compile it manually.\n",
      "Keras encoder model loaded from <keras.engine.sequential.Sequential object at 0x7f6f12c64850>\n",
      "WARNING:tensorflow:No training configuration found in save file, so the model was *not* compiled. Compile it manually.\n",
      "Keras encoder model loaded from <keras.engine.sequential.Sequential object at 0x7f6e8e157c50>\n",
      "WARNING:tensorflow:No training configuration found in save file, so the model was *not* compiled. Compile it manually.\n",
      "Keras encoder model loaded from <keras.engine.sequential.Sequential object at 0x7f6e887e1b90>\n",
      "WARNING:tensorflow:No training configuration found in save file, so the model was *not* compiled. Compile it manually.\n",
      "Keras encoder model loaded from <keras.engine.sequential.Sequential object at 0x7f6e887ca310>\n",
      "WARNING:tensorflow:No training configuration found in save file, so the model was *not* compiled. Compile it manually.\n",
      "Keras encoder model loaded from <keras.engine.sequential.Sequential object at 0x7f6f1264c050>\n",
      "WARNING:tensorflow:No training configuration found in save file, so the model was *not* compiled. Compile it manually.\n",
      "Keras encoder model loaded from <keras.engine.sequential.Sequential object at 0x7f6f1228ca10>\n",
      "WARNING:tensorflow:No training configuration found in save file, so the model was *not* compiled. Compile it manually.\n",
      "Keras encoder model loaded from <keras.engine.sequential.Sequential object at 0x7f6f11f5e5d0>\n",
      "WARNING:tensorflow:No training configuration found in save file, so the model was *not* compiled. Compile it manually.\n",
      "Keras encoder model loaded from <keras.engine.sequential.Sequential object at 0x7f6f110b0150>\n",
      "WARNING:tensorflow:No training configuration found in save file, so the model was *not* compiled. Compile it manually.\n",
      "Keras encoder model loaded from <keras.engine.sequential.Sequential object at 0x7f6f12cf7c90>\n",
      "WARNING:tensorflow:No training configuration found in save file, so the model was *not* compiled. Compile it manually.\n",
      "Keras encoder model loaded from <keras.engine.sequential.Sequential object at 0x7f6f114753d0>\n",
      "WARNING:tensorflow:No training configuration found in save file, so the model was *not* compiled. Compile it manually.\n",
      "Keras encoder model loaded from <keras.engine.sequential.Sequential object at 0x7f6f11df3f50>\n",
      "WARNING:tensorflow:No training configuration found in save file, so the model was *not* compiled. Compile it manually.\n",
      "Keras encoder model loaded from <keras.engine.sequential.Sequential object at 0x7f6f11412ed0>\n",
      "WARNING:tensorflow:No training configuration found in save file, so the model was *not* compiled. Compile it manually.\n",
      "Keras encoder model loaded from <keras.engine.sequential.Sequential object at 0x7f6f10f78710>\n",
      "WARNING:tensorflow:No training configuration found in save file, so the model was *not* compiled. Compile it manually.\n",
      "Keras encoder model loaded from <keras.engine.sequential.Sequential object at 0x7f6f10ed3dd0>\n",
      "WARNING:tensorflow:No training configuration found in save file, so the model was *not* compiled. Compile it manually.\n",
      "Keras encoder model loaded from <keras.engine.sequential.Sequential object at 0x7f6f1138fa50>\n",
      "WARNING:tensorflow:No training configuration found in save file, so the model was *not* compiled. Compile it manually.\n",
      "Keras encoder model loaded from <keras.engine.sequential.Sequential object at 0x7f6f10e28290>\n",
      "WARNING:tensorflow:No training configuration found in save file, so the model was *not* compiled. Compile it manually.\n",
      "Keras encoder model loaded from <keras.engine.sequential.Sequential object at 0x7f6f10d7ad90>\n",
      "WARNING:tensorflow:No training configuration found in save file, so the model was *not* compiled. Compile it manually.\n",
      "Keras encoder model loaded from <keras.engine.sequential.Sequential object at 0x7f6e884cc2d0>\n",
      "WARNING:tensorflow:No training configuration found in save file, so the model was *not* compiled. Compile it manually.\n",
      "Keras encoder model loaded from <keras.engine.sequential.Sequential object at 0x7f6f10db8190>\n",
      "WARNING:tensorflow:No training configuration found in save file, so the model was *not* compiled. Compile it manually.\n",
      "Keras encoder model loaded from <keras.engine.sequential.Sequential object at 0x7f6f111e3410>\n",
      "WARNING:tensorflow:No training configuration found in save file, so the model was *not* compiled. Compile it manually.\n",
      "Keras encoder model loaded from <keras.engine.sequential.Sequential object at 0x7f6f124bbe10>\n",
      "WARNING:tensorflow:No training configuration found in save file, so the model was *not* compiled. Compile it manually.\n",
      "Keras encoder model loaded from <keras.engine.sequential.Sequential object at 0x7f6f11ad7ed0>\n",
      "WARNING:tensorflow:No training configuration found in save file, so the model was *not* compiled. Compile it manually.\n",
      "Keras encoder model loaded from <keras.engine.sequential.Sequential object at 0x7f6f1226a190>\n",
      "WARNING:tensorflow:No training configuration found in save file, so the model was *not* compiled. Compile it manually.\n",
      "Keras encoder model loaded from <keras.engine.sequential.Sequential object at 0x7f6f125491d0>\n",
      "WARNING:tensorflow:No training configuration found in save file, so the model was *not* compiled. Compile it manually.\n",
      "Keras encoder model loaded from <keras.engine.sequential.Sequential object at 0x7f6f11934490>\n",
      "WARNING:tensorflow:No training configuration found in save file, so the model was *not* compiled. Compile it manually.\n",
      "Keras encoder model loaded from <keras.engine.sequential.Sequential object at 0x7f6f11c5e290>\n",
      "WARNING:tensorflow:No training configuration found in save file, so the model was *not* compiled. Compile it manually.\n",
      "Keras encoder model loaded from <keras.engine.sequential.Sequential object at 0x7f6f11a3aad0>\n",
      "WARNING:tensorflow:No training configuration found in save file, so the model was *not* compiled. Compile it manually.\n",
      "Keras encoder model loaded from <keras.engine.sequential.Sequential object at 0x7f6f11243e50>\n",
      "WARNING:tensorflow:No training configuration found in save file, so the model was *not* compiled. Compile it manually.\n",
      "Keras encoder model loaded from <keras.engine.sequential.Sequential object at 0x7f6f112ccc90>\n",
      "WARNING:tensorflow:No training configuration found in save file, so the model was *not* compiled. Compile it manually.\n",
      "Keras encoder model loaded from <keras.engine.sequential.Sequential object at 0x7f6f10cf8790>\n",
      "WARNING:tensorflow:No training configuration found in save file, so the model was *not* compiled. Compile it manually.\n",
      "Keras encoder model loaded from <keras.engine.sequential.Sequential object at 0x7f6f11607310>\n",
      "WARNING:tensorflow:No training configuration found in save file, so the model was *not* compiled. Compile it manually.\n",
      "Keras encoder model loaded from <keras.engine.sequential.Sequential object at 0x7f6f10ff21d0>\n",
      "WARNING:tensorflow:No training configuration found in save file, so the model was *not* compiled. Compile it manually.\n",
      "Keras encoder model loaded from <keras.engine.sequential.Sequential object at 0x7f6e886df850>\n",
      "WARNING:tensorflow:No training configuration found in save file, so the model was *not* compiled. Compile it manually.\n",
      "Keras encoder model loaded from <keras.engine.sequential.Sequential object at 0x7f6f110f2c50>\n",
      "WARNING:tensorflow:No training configuration found in save file, so the model was *not* compiled. Compile it manually.\n",
      "Keras encoder model loaded from <keras.engine.sequential.Sequential object at 0x7f6f11a86a90>\n",
      "WARNING:tensorflow:No training configuration found in save file, so the model was *not* compiled. Compile it manually.\n",
      "Keras encoder model loaded from <keras.engine.sequential.Sequential object at 0x7f6f1239a250>\n",
      "WARNING:tensorflow:No training configuration found in save file, so the model was *not* compiled. Compile it manually.\n",
      "Keras encoder model loaded from <keras.engine.sequential.Sequential object at 0x7f6f128f5b10>\n",
      "WARNING:tensorflow:No training configuration found in save file, so the model was *not* compiled. Compile it manually.\n",
      "Keras encoder model loaded from <keras.engine.sequential.Sequential object at 0x7f6f121879d0>\n",
      "WARNING:tensorflow:No training configuration found in save file, so the model was *not* compiled. Compile it manually.\n",
      "Keras encoder model loaded from <keras.engine.sequential.Sequential object at 0x7f6f11d1c350>\n",
      "WARNING:tensorflow:No training configuration found in save file, so the model was *not* compiled. Compile it manually.\n",
      "Keras encoder model loaded from <keras.engine.sequential.Sequential object at 0x7f6f11767610>\n"
     ]
    }
   ],
   "source": [
    "high_repr = np.zeros((EPOCH,LEN,512))\n",
    "low_repr = np.zeros((EPOCH,LEN,2))\n",
    "for i in range(EPOCH):\n",
    "    high_repr[i] = mms.get_epoch_train_repr_data(i+1)\n",
    "    low_repr[i] = mms.batch_project(high_repr[i], i+1)\n"
   ]
  },
  {
   "cell_type": "code",
   "execution_count": 4,
   "metadata": {},
   "outputs": [],
   "source": [
    "from scipy import stats\n",
    "epochs = [i for i in range(EPOCH)]\n",
    "corrs = np.zeros((EPOCH,500))\n",
    "ps = np.zeros((EPOCH,500))\n",
    "for i in range(500):\n",
    "    high_embeddings = high_repr[:,i,:].squeeze()\n",
    "    low_embeddings = low_repr[:,i,:].squeeze()\n",
    "    for e in epochs:\n",
    "        high_dists = np.linalg.norm(high_embeddings - high_embeddings[e], axis=1)\n",
    "        low_dists = np.linalg.norm(low_embeddings - low_embeddings[e], axis=1)\n",
    "        corr, p = stats.spearmanr(high_dists, low_dists)\n",
    "        corrs[e][i] = corr\n",
    "        ps[e][i] = p\n"
   ]
  },
  {
   "cell_type": "code",
   "execution_count": 7,
   "metadata": {},
   "outputs": [
    {
     "data": {
      "text/plain": [
       "<function matplotlib.pyplot.show(close=None, block=None)>"
      ]
     },
     "execution_count": 7,
     "metadata": {},
     "output_type": "execute_result"
    },
    {
     "data": {
      "image/png": "[encoded data removed]",
      "text/plain": [
       "<Figure size 432x288 with 1 Axes>"
      ]
     },
     "metadata": {
      "needs_background": "light"
     },
     "output_type": "display_data"
    }
   ],
   "source": [
    "import matplotlib.pyplot as plt\n",
    "mean_corr = np.mean(corrs, axis=1)\n",
    "var_corr = np.var(corrs, axis=1)\n",
    "\n",
    "mean_p = np.mean(ps, axis=1)\n",
    "var_p = np.var(ps, axis=1)\n",
    "\n",
    "\n",
    "p1 = plt.plot(epochs, mean_corr, \"b.-\", epochs, mean_p, \"r+-\")\n",
    "p2 = plt.fill_between(epochs, mean_corr-var_corr, mean_corr+var_corr)\n",
    "p3 = plt.fill_between(epochs, mean_p-var_p, mean_p+var_p)\n",
    "plt.show"
   ]
  },
  {
   "cell_type": "code",
   "execution_count": 5,
   "metadata": {},
   "outputs": [
    {
     "data": {
      "text/plain": [
       "<function matplotlib.pyplot.show(close=None, block=None)>"
      ]
     },
     "execution_count": 5,
     "metadata": {},
     "output_type": "execute_result"
    },
    {
     "data": {
      "image/png": "[encoded data removed]",
      "text/plain": [
       "<Figure size 432x288 with 1 Axes>"
      ]
     },
     "metadata": {
      "needs_background": "light"
     },
     "output_type": "display_data"
    }
   ],
   "source": [
    "import matplotlib.pyplot as plt\n",
    "mean_corr = np.mean(corrs, axis=1)\n",
    "var_corr = np.var(corrs, axis=1)\n",
    "\n",
    "mean_p = np.mean(ps, axis=1)\n",
    "var_p = np.var(ps, axis=1)\n",
    "\n",
    "\n",
    "p1 = plt.plot(epochs, mean_corr, \"b.-\", epochs, mean_p, \"r+-\")\n",
    "p2 = plt.fill_between(epochs, mean_corr-var_corr, mean_corr+var_corr)\n",
    "p3 = plt.fill_between(epochs, mean_p-var_p, mean_p+var_p)\n",
    "plt.show"
   ]
  },
  {
   "cell_type": "code",
   "execution_count": 5,
   "metadata": {},
   "outputs": [
    {
     "data": {
      "text/plain": [
       "<function matplotlib.pyplot.show(close=None, block=None)>"
      ]
     },
     "execution_count": 5,
     "metadata": {},
     "output_type": "execute_result"
    },
    {
     "data": {
      "image/png": "[encoded data removed]",
      "text/plain": [
       "<Figure size 432x288 with 1 Axes>"
      ]
     },
     "metadata": {
      "needs_background": "light"
     },
     "output_type": "display_data"
    }
   ],
   "source": [
    "import matplotlib.pyplot as plt\n",
    "mean_corr = np.mean(corrs, axis=1)\n",
    "var_corr = np.var(corrs, axis=1)\n",
    "\n",
    "mean_p = np.mean(ps, axis=1)\n",
    "var_p = np.var(ps, axis=1)\n",
    "\n",
    "\n",
    "p1 = plt.plot(epochs, mean_corr, \"b.-\", epochs, mean_p, \"r+-\")\n",
    "p2 = plt.fill_between(epochs, mean_corr-var_corr, mean_corr+var_corr)\n",
    "p3 = plt.fill_between(epochs, mean_p-var_p, mean_p+var_p)\n",
    "plt.show"
   ]
  },
  {
   "cell_type": "markdown",
   "metadata": {},
   "source": [
    "# fixing invarient"
   ]
  },
  {
   "cell_type": "code",
   "execution_count": 2,
   "metadata": {},
   "outputs": [],
   "source": [
    "from scipy.special import softmax\n",
    "from scipy import stats\n",
    "from scipy.spatial.distance import cosine"
   ]
  },
  {
   "cell_type": "code",
   "execution_count": 3,
   "metadata": {},
   "outputs": [],
   "source": [
    "e_s = 20\n",
    "e_t = 40"
   ]
  },
  {
   "cell_type": "code",
   "execution_count": 11,
   "metadata": {},
   "outputs": [
    {
     "name": "stderr",
     "output_type": "stream",
     "text": [
      "100%|██████████| 300/300 [00:00<00:00, 17041.93it/s]\n",
      "100%|██████████| 300/300 [00:00<00:00, 17094.49it/s]\n"
     ]
    },
    {
     "name": "stdout",
     "output_type": "stream",
     "text": [
      "WARNING:tensorflow:No training configuration found in save file, so the model was *not* compiled. Compile it manually.\n",
      "Keras encoder model loaded from <keras.engine.sequential.Sequential object at 0x7ff2a69fc8d0>\n",
      "WARNING:tensorflow:No training configuration found in save file, so the model was *not* compiled. Compile it manually.\n",
      "Keras encoder model loaded from <keras.engine.sequential.Sequential object at 0x7ff2a6590dd0>\n"
     ]
    }
   ],
   "source": [
    "train_data_s = mms.get_epoch_train_repr_data(e_s)\n",
    "train_data_t = mms.get_epoch_train_repr_data(e_t)\n",
    "\n",
    "pred_s = mms.get_pred(e_s, train_data_s)\n",
    "pred_t = mms.get_pred(e_t, train_data_t)\n",
    "\n",
    "low_s = mms.batch_project(train_data_s, e_s)\n",
    "low_t = mms.batch_project(train_data_t, e_t)\n",
    "\n",
    "labels = mms.training_labels.cpu().numpy()"
   ]
  },
  {
   "cell_type": "code",
   "execution_count": 5,
   "metadata": {},
   "outputs": [],
   "source": [
    "def kl_div(p, q):\n",
    "    return stats.entropy(p, q, base=2)\n",
    "\n",
    "\n",
    "def js_div(p, q):\n",
    "    M = (p+q)/2\n",
    "    return .5*kl_div(p, M)+.5*kl_div(q, M)"
   ]
  },
  {
   "cell_type": "code",
   "execution_count": 12,
   "metadata": {},
   "outputs": [
    {
     "data": {
      "text/plain": [
       "(0.33883432527188145, 0.0)"
      ]
     },
     "execution_count": 12,
     "metadata": {},
     "output_type": "execute_result"
    }
   ],
   "source": [
    "# kl\n",
    "softmax_s = softmax(pred_s, axis=1)\n",
    "softmax_t = softmax(pred_t, axis=1)\n",
    "kl_lists = [kl_div(softmax_s[i], softmax_t[i]) for i in range(len(softmax_t))]\n",
    "dists = [cosine(low_t[i], low_s[i]) for i in range(len(low_s))]\n",
    "corr, p = stats.spearmanr(kl_lists, dists)\n",
    "corr, p"
   ]
  },
  {
   "cell_type": "code",
   "execution_count": 7,
   "metadata": {},
   "outputs": [
    {
     "data": {
      "text/plain": [
       "(0.21084748506596782, 0.0)"
      ]
     },
     "execution_count": 7,
     "metadata": {},
     "output_type": "execute_result"
    }
   ],
   "source": [
    "# js\n",
    "js_lists = [js_div(softmax_s[i], softmax_t[i]) for i in range(len(softmax_t))]\n",
    "dists = [cosine(low_t[i], low_s[i]) for i in range(len(low_s))]\n",
    "corr, p = stats.spearmanr(js_lists, dists)\n",
    "corr, p"
   ]
  },
  {
   "cell_type": "code",
   "execution_count": 9,
   "metadata": {},
   "outputs": [
    {
     "data": {
      "text/plain": [
       "(0.21084748506596782, 0.0)"
      ]
     },
     "execution_count": 9,
     "metadata": {},
     "output_type": "execute_result"
    }
   ],
   "source": [
    "# loss\n",
    "loss_s = softmax_s[range(60000), labels]\n",
    "loss_t = softmax_t[range(60000), labels]\n",
    "loss_diff = np.abs(loss_s-loss_t)\n",
    "\n",
    "dists = [cosine(low_t[i], low_s[i]) for i in range(len(low_s))]\n",
    "corr, p = stats.spearmanr(js_lists, dists)\n",
    "corr, p"
   ]
  },
  {
   "cell_type": "code",
   "execution_count": 19,
   "metadata": {},
   "outputs": [],
   "source": [
    "# normalize low_t\n",
    "mean_x = np.mean(low_t[:, 0])\n",
    "mean_y = np.mean(low_t[:, 1])\n",
    "low_t = low_t - [mean_x, mean_y]\n",
    "low_s = low_s - [mean_x, mean_y]\n",
    "\n",
    "max_n = np.linalg.norm(low_t)\n",
    "low_t = low_t/max_n*100\n",
    "low_s = low_s/max_n*100"
   ]
  },
  {
   "cell_type": "code",
   "execution_count": 20,
   "metadata": {},
   "outputs": [
    {
     "data": {
      "text/plain": [
       "(16.255549191454307, 0.0552982)"
      ]
     },
     "execution_count": 20,
     "metadata": {},
     "output_type": "execute_result"
    }
   ],
   "source": [
    "np.linalg.norm((train_data_s-train_data_t),axis=1).mean(), np.linalg.norm((low_s-low_t),axis=1).mean()"
   ]
  },
  {
   "cell_type": "code",
   "execution_count": 21,
   "metadata": {},
   "outputs": [
    {
     "name": "stdout",
     "output_type": "stream",
     "text": [
      "kl div\n",
      "fixing\t 15.756667243889462 0.077104084\n",
      "moving\t 19.623843760000035 0.319233\n"
     ]
    }
   ],
   "source": [
    "selected = np.argsort(kl_lists)\n",
    "print(\"kl div\")\n",
    "print(\"fixing\\t\", np.linalg.norm((train_data_s-train_data_t)[selected[:100]],axis=1).mean(), np.linalg.norm((low_s-low_t)[selected[:100]],axis=1).mean())\n",
    "print(\"moving\\t\", np.linalg.norm((train_data_s-train_data_t)[selected[-100:]],axis=1).mean(), np.linalg.norm((low_s-low_t)[selected[-100:]],axis=1).mean())"
   ]
  },
  {
   "cell_type": "code",
   "execution_count": 15,
   "metadata": {},
   "outputs": [
    {
     "name": "stdout",
     "output_type": "stream",
     "text": [
      "js div\n",
      "fixing\t 16.99764944227114 0.07940464\n",
      "moving\t 19.265289316150064 0.3256613\n"
     ]
    }
   ],
   "source": [
    "selected = np.argsort(js_lists)\n",
    "print(\"js div\")\n",
    "print(\"fixing\\t\", np.linalg.norm((train_data_s-train_data_t)[selected[:100]],axis=1).mean(), np.linalg.norm((low_s-low_t)[selected[:100]],axis=1).mean())\n",
    "print(\"moving\\t\", np.linalg.norm((train_data_s-train_data_t)[selected[-100:]],axis=1).mean(), np.linalg.norm((low_s-low_t)[selected[-100:]],axis=1).mean())"
   ]
  },
  {
   "cell_type": "code",
   "execution_count": 34,
   "metadata": {},
   "outputs": [
    {
     "name": "stdout",
     "output_type": "stream",
     "text": [
      "loss diff\n",
      "fixing\t 0.46239914135667326 0.1325778\n",
      "moving\t 7.489972076625427 0.4731278\n"
     ]
    }
   ],
   "source": [
    "selected = np.argsort(loss_diff)\n",
    "print(\"loss diff\")\n",
    "print(\"fixing\\t\", np.linalg.norm((train_data_s-train_data_t)[selected[:100]],axis=1).mean(), np.linalg.norm((low_s-low_t)[selected[:100]],axis=1).mean())\n",
    "print(\"moving\\t\", np.linalg.norm((train_data_s-train_data_t)[selected[-100:]],axis=1).mean(), np.linalg.norm((low_s-low_t)[selected[-100:]],axis=1).mean())"
   ]
  },
  {
   "cell_type": "markdown",
   "metadata": {},
   "source": [
    "# fixing invariants and moving invarients"
   ]
  },
  {
   "cell_type": "markdown",
   "metadata": {},
   "source": [
    "## moving"
   ]
  },
  {
   "cell_type": "code",
   "execution_count": 44,
   "metadata": {},
   "outputs": [],
   "source": [
    "e_s = 49\n",
    "e_t = 50"
   ]
  },
  {
   "cell_type": "code",
   "execution_count": 45,
   "metadata": {},
   "outputs": [
    {
     "name": "stderr",
     "output_type": "stream",
     "text": [
      "100%|██████████| 300/300 [00:00<00:00, 17281.61it/s]\n",
      "100%|██████████| 300/300 [00:00<00:00, 17057.64it/s]\n"
     ]
    },
    {
     "name": "stdout",
     "output_type": "stream",
     "text": [
      "WARNING:tensorflow:No training configuration found in save file, so the model was *not* compiled. Compile it manually.\n",
      "Keras encoder model loaded from <keras.engine.sequential.Sequential object at 0x7fc8ee0d0b50>\n",
      "WARNING:tensorflow:No training configuration found in save file, so the model was *not* compiled. Compile it manually.\n",
      "Keras encoder model loaded from <keras.engine.sequential.Sequential object at 0x7fc8cc59ced0>\n"
     ]
    }
   ],
   "source": [
    "train_data_s = mms.get_epoch_train_repr_data(e_s)\n",
    "train_data_t = mms.get_epoch_train_repr_data(e_t)\n",
    "\n",
    "pred_s = mms.get_pred(e_s, train_data_s)\n",
    "pred_t = mms.get_pred(e_t, train_data_t)\n",
    "\n",
    "low_s = mms.batch_project(train_data_s, e_s)\n",
    "low_t = mms.batch_project(train_data_t, e_t)\n",
    "\n",
    "labels = mms.training_labels.cpu().numpy()"
   ]
  },
  {
   "cell_type": "code",
   "execution_count": 46,
   "metadata": {},
   "outputs": [
    {
     "name": "stdout",
     "output_type": "stream",
     "text": [
      "Computing decision regions ...\n",
      "WARNING:tensorflow:No training configuration found in save file, so the model was *not* compiled. Compile it manually.\n",
      "Keras encoder model loaded from <keras.engine.sequential.Sequential object at 0x7fc9d7b22050>\n",
      "WARNING:tensorflow:No training configuration found in save file, so the model was *not* compiled. Compile it manually.\n",
      "Keras encoder model loaded from <keras.engine.sequential.Sequential object at 0x7fc8cc56f650>\n"
     ]
    },
    {
     "name": "stderr",
     "output_type": "stream",
     "text": [
      "100%|██████████| 1250/1250 [00:00<00:00, 16981.48it/s]\n"
     ]
    },
    {
     "name": "stdout",
     "output_type": "stream",
     "text": [
      "Computing decision regions ...\n",
      "WARNING:tensorflow:No training configuration found in save file, so the model was *not* compiled. Compile it manually.\n",
      "Keras encoder model loaded from <keras.engine.sequential.Sequential object at 0x7fc8cc1fccd0>\n",
      "WARNING:tensorflow:No training configuration found in save file, so the model was *not* compiled. Compile it manually.\n",
      "Keras encoder model loaded from <keras.engine.sequential.Sequential object at 0x7fc8c0254950>\n"
     ]
    },
    {
     "name": "stderr",
     "output_type": "stream",
     "text": [
      "100%|██████████| 1250/1250 [00:00<00:00, 16916.01it/s]\n"
     ]
    },
    {
     "name": "stdout",
     "output_type": "stream",
     "text": [
      "WARNING:tensorflow:No training configuration found in save file, so the model was *not* compiled. Compile it manually.\n",
      "Keras encoder model loaded from <keras.engine.sequential.Sequential object at 0x7fc8c02b23d0>\n",
      "WARNING:tensorflow:No training configuration found in save file, so the model was *not* compiled. Compile it manually.\n",
      "Keras encoder model loaded from <keras.engine.sequential.Sequential object at 0x7fc9d6b18290>\n"
     ]
    },
    {
     "name": "stderr",
     "output_type": "stream",
     "text": [
      "100%|██████████| 1250/1250 [00:00<00:00, 16899.81it/s]\n",
      "100%|██████████| 1250/1250 [00:00<00:00, 16896.49it/s]\n"
     ]
    }
   ],
   "source": [
    "resolution=500\n",
    "\n",
    "grid_view_s, decision_view_s = mms.get_epoch_decision_view(e_s, resolution)\n",
    "grid_view_t, decision_view_t = mms.get_epoch_decision_view(e_t, resolution)\n",
    "\n",
    "grid_view_s = grid_view_s.reshape(resolution*resolution, -1)\n",
    "grid_view_t = grid_view_t.reshape(resolution*resolution, -1)\n",
    "\n",
    "s_inv_m = mms.get_inv_model(e_s)\n",
    "t_inv_m = mms.get_inv_model(e_s)\n",
    "\n",
    "\n",
    "grid_samples_s = s_inv_m(grid_view_s).cpu().numpy()\n",
    "grid_samples_t = t_inv_m(grid_view_t).cpu().numpy()\n",
    "\n",
    "\n",
    "grid_pred_s = mms.get_pred(e_s, grid_samples_s)+1e-8\n",
    "grid_pred_t = mms.get_pred(e_t, grid_samples_t)+1e-8"
   ]
  },
  {
   "cell_type": "code",
   "execution_count": 47,
   "metadata": {},
   "outputs": [],
   "source": [
    "from deepvisualinsight.backend import is_B\n",
    "s_B = is_B(pred_s)\n",
    "t_B = is_B(pred_t)\n",
    "\n",
    "predictions_s = pred_s.argmax(1)\n",
    "predictions_t = pred_t.argmax(1)\n",
    "\n",
    "confident_sample = np.logical_and(np.logical_not(s_B),np.logical_not(t_B))\n",
    "diff_pred = predictions_s!=predictions_t\n",
    "\n",
    "selected = np.logical_and(diff_pred, confident_sample)\n"
   ]
  },
  {
   "cell_type": "code",
   "execution_count": 48,
   "metadata": {},
   "outputs": [],
   "source": [
    "grid_s_B = is_B(grid_pred_s)\n",
    "grid_t_B = is_B(grid_pred_t)\n",
    "\n",
    "grid_predictions_s = grid_pred_s.argmax(1)\n",
    "grid_predictions_t = grid_pred_t.argmax(1)"
   ]
  },
  {
   "cell_type": "code",
   "execution_count": 49,
   "metadata": {},
   "outputs": [],
   "source": [
    "from sklearn.neighbors import NearestNeighbors"
   ]
  },
  {
   "cell_type": "code",
   "execution_count": 50,
   "metadata": {},
   "outputs": [],
   "source": [
    "high_neigh = NearestNeighbors(n_neighbors=1, radius=0.4)\n",
    "high_neigh.fit(grid_view_s)\n",
    "knn_dists, knn_indices = high_neigh.kneighbors(low_s, n_neighbors=1, return_distance=True)\n",
    "\n",
    "close_s_pred = grid_predictions_s[knn_indices].squeeze()\n",
    "close_s_B = grid_s_B[knn_indices].squeeze()"
   ]
  },
  {
   "cell_type": "code",
   "execution_count": 51,
   "metadata": {},
   "outputs": [
    {
     "data": {
      "text/plain": [
       "(0, 0)"
      ]
     },
     "execution_count": 51,
     "metadata": {},
     "output_type": "execute_result"
    }
   ],
   "source": [
    "s_true = np.logical_and(close_s_pred==predictions_s, close_s_B == s_B)\n",
    "np.sum(s_true[selected]), np.sum(selected)"
   ]
  },
  {
   "cell_type": "code",
   "execution_count": 52,
   "metadata": {},
   "outputs": [],
   "source": [
    "high_neigh = NearestNeighbors(n_neighbors=1, radius=0.4)\n",
    "high_neigh.fit(grid_view_t)\n",
    "knn_dists, knn_indices = high_neigh.kneighbors(low_t, n_neighbors=1, return_distance=True)\n",
    "\n",
    "close_t_pred = grid_predictions_t[knn_indices].squeeze()\n",
    "close_t_B = grid_t_B[knn_indices].squeeze()"
   ]
  },
  {
   "cell_type": "code",
   "execution_count": 53,
   "metadata": {},
   "outputs": [
    {
     "data": {
      "text/plain": [
       "(0, 0)"
      ]
     },
     "execution_count": 53,
     "metadata": {},
     "output_type": "execute_result"
    }
   ],
   "source": [
    "t_true = np.logical_and(close_t_pred==predictions_t, close_t_B == t_B)\n",
    "np.sum(t_true[selected]), np.sum(selected)"
   ]
  },
  {
   "cell_type": "code",
   "execution_count": 54,
   "metadata": {},
   "outputs": [
    {
     "data": {
      "text/plain": [
       "(0, 0)"
      ]
     },
     "execution_count": 54,
     "metadata": {},
     "output_type": "execute_result"
    }
   ],
   "source": [
    "np.sum(np.logical_and(s_true[selected], t_true[selected])), np.sum(selected)"
   ]
  },
  {
   "cell_type": "markdown",
   "metadata": {},
   "source": [
    "## fixing"
   ]
  },
  {
   "cell_type": "code",
   "execution_count": 93,
   "metadata": {},
   "outputs": [],
   "source": [
    "# moving invariants\n",
    "from scipy.special import softmax\n",
    "from scipy import stats\n",
    "from scipy.spatial.distance import cosine"
   ]
  },
  {
   "cell_type": "code",
   "execution_count": 94,
   "metadata": {},
   "outputs": [],
   "source": [
    "def kl_div(p, q):\n",
    "    return stats.entropy(p, q, base=2)\n",
    "\n",
    "\n",
    "def js_div(p, q):\n",
    "    M = (p+q)/2\n",
    "    return .5*kl_div(p, M)+.5*kl_div(q, M)"
   ]
  },
  {
   "cell_type": "code",
   "execution_count": 95,
   "metadata": {},
   "outputs": [],
   "source": [
    "e_s = 1\n",
    "e_t = 3"
   ]
  },
  {
   "cell_type": "code",
   "execution_count": 96,
   "metadata": {},
   "outputs": [
    {
     "name": "stderr",
     "output_type": "stream",
     "text": [
      "100%|██████████| 300/300 [00:00<00:00, 17358.85it/s]\n",
      "100%|██████████| 300/300 [00:00<00:00, 17190.71it/s]\n"
     ]
    },
    {
     "name": "stdout",
     "output_type": "stream",
     "text": [
      "WARNING:tensorflow:No training configuration found in save file, so the model was *not* compiled. Compile it manually.\n",
      "Keras encoder model loaded from <keras.engine.sequential.Sequential object at 0x7fc9d62dfcd0>\n",
      "WARNING:tensorflow:No training configuration found in save file, so the model was *not* compiled. Compile it manually.\n",
      "Keras encoder model loaded from <keras.engine.sequential.Sequential object at 0x7fc8ee1d3090>\n"
     ]
    }
   ],
   "source": [
    "train_data_s = mms.get_epoch_train_repr_data(e_s)\n",
    "train_data_t = mms.get_epoch_train_repr_data(e_t)\n",
    "\n",
    "pred_s = mms.get_pred(e_s, train_data_s)\n",
    "pred_t = mms.get_pred(e_t, train_data_t)\n",
    "\n",
    "softmax_s = softmax(pred_s, axis=1)\n",
    "softmax_t = softmax(pred_t, axis=1)\n",
    "\n",
    "low_s = mms.batch_project(train_data_s, e_s)\n",
    "low_t = mms.batch_project(train_data_t, e_t)\n",
    "\n",
    "labels = mms.training_labels.cpu().numpy();"
   ]
  },
  {
   "cell_type": "code",
   "execution_count": 97,
   "metadata": {},
   "outputs": [],
   "source": [
    "# normalize low_t\n",
    "y_max = max(low_s[:, 1].max(), low_t[:, 1].max())\n",
    "y_min = max(low_s[:, 1].min(), low_t[:, 1].min())\n",
    "x_max = max(low_s[:, 0].max(), low_t[:, 0].max())\n",
    "x_min = max(low_s[:, 0].min(), low_t[:, 0].min())\n",
    "scale =min(100/(x_max - x_min), 100/(y_max - y_min))\n",
    "low_t = low_t*scale\n",
    "low_s = low_s*scale"
   ]
  },
  {
   "cell_type": "code",
   "execution_count": 98,
   "metadata": {},
   "outputs": [],
   "source": [
    "high_dists = np.linalg.norm(train_data_s-train_data_t, axis=1)\n",
    "softmax_dists = np.array([js_div(softmax_s[i], softmax_t[i]) for i in range(len(softmax_t))])\n",
    "euclidean_dists = np.linalg.norm(low_s-low_t, axis=1)\n",
    "# cosine_dists = np.array([cosine(low_t[i], low_s[i]) for i in range(len(low_s))])"
   ]
  },
  {
   "cell_type": "code",
   "execution_count": 99,
   "metadata": {},
   "outputs": [],
   "source": [
    "# find the minimum distance\n",
    "from pynndescent import NNDescent\n",
    "# number of trees in random projection forest\n",
    "n_trees = min(64, 5 + int(round((train_data_t.shape[0]) ** 0.5 / 20.0)))\n",
    "# max number of nearest neighbor iters to perform\n",
    "n_iters = max(5, int(round(np.log2(train_data_t.shape[0]))))\n",
    "# distance metric\n",
    "metric = \"euclidean\"\n",
    "# metric = \"cosine\"\n",
    "# get nearest neighbors\n",
    "\n",
    "nnd = NNDescent(\n",
    "    train_data_t,\n",
    "    n_neighbors=2,\n",
    "    metric=metric,\n",
    "    n_trees=n_trees,\n",
    "    n_iters=n_iters,\n",
    "    max_candidates=60,\n",
    "    verbose=False\n",
    ")\n",
    "knn_indices, knn_dists = nnd.neighbor_graph"
   ]
  },
  {
   "cell_type": "code",
   "execution_count": 100,
   "metadata": {},
   "outputs": [],
   "source": [
    "nn_ind = knn_indices[:, 1]\n",
    "nn_dists = knn_dists[:, 1]"
   ]
  },
  {
   "cell_type": "code",
   "execution_count": 101,
   "metadata": {},
   "outputs": [
    {
     "name": "stdout",
     "output_type": "stream",
     "text": [
      "No fixing points!\n"
     ]
    }
   ],
   "source": [
    "threshold = nn_dists.max()\n",
    "threshold = 0.5\n",
    "selected = high_dists<=threshold\n",
    "low_threshold = 0.5\n",
    "if np.sum(selected) == 0:\n",
    "    print(\"No fixing points!\")\n",
    "else:\n",
    "    print(\"euclidean dists\")\n",
    "    print(np.sum(euclidean_dists[selected]<low_threshold), np.sum(selected))\n",
    "    print(euclidean_dists[selected].min(), euclidean_dists.min())\n",
    "    print(euclidean_dists[selected].mean(), euclidean_dists.mean())\n",
    "    print(euclidean_dists[selected].max(), euclidean_dists.max())"
   ]
  },
  {
   "cell_type": "code",
   "execution_count": 102,
   "metadata": {},
   "outputs": [
    {
     "name": "stdout",
     "output_type": "stream",
     "text": [
      "euclidean dists\n",
      "0.005369258 0.005369258\n",
      "3.7438955 3.7696345\n",
      "71.36824 71.36824\n"
     ]
    }
   ],
   "source": [
    "softmax_diff = np.array([js_div(softmax_s[i], softmax_s[j]) for (i,j) in knn_indices])\n",
    "threshold = softmax_diff.max()\n",
    "selected = softmax_dists<=threshold\n",
    "if np.sum(selected) == 0:\n",
    "    print(\"No fixing points!\")\n",
    "else:\n",
    "# selected = np.argsort(high_dists)[:100]\n",
    "    print(\"euclidean dists\")\n",
    "    print(euclidean_dists[selected].min(), euclidean_dists.min())\n",
    "    print(euclidean_dists[selected].mean(), euclidean_dists.mean())\n",
    "    print(euclidean_dists[selected].max(), euclidean_dists.max())"
   ]
  }
 ],
 "metadata": {
  "interpreter": {
   "hash": "aa7a9f36e1a1e240450dbe9cc8f6d8df1d5301f36681fb271c44fdd883236b60"
  },
  "kernelspec": {
   "display_name": "Python 3.7.11 64-bit ('SV': conda)",
   "language": "python",
   "name": "python3"
  },
  "language_info": {
   "codemirror_mode": {
    "name": "ipython",
    "version": 3
   },
   "file_extension": ".py",
   "mimetype": "text/x-python",
   "name": "python",
   "nbconvert_exporter": "python",
   "pygments_lexer": "ipython3",
   "version": "3.7.12"
  },
  "orig_nbformat": 4
 },
 "nbformat": 4,
 "nbformat_minor": 2
}
